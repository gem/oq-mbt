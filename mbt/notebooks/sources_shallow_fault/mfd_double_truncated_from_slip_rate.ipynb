{
 "cells": [
  {
   "cell_type": "code",
   "execution_count": null,
   "metadata": {
    "collapsed": false
   },
   "outputs": [],
   "source": [
    "# cleaner avoid to restart kernel for each code modification, use it just when alone\n",
    "from cleaner import modules_cleaner ; modules_cleaner()\n",
    "# load current project if secondary ipynb runned alone\n",
    "import metys; metys.Metys.secondary()"
   ]
  },
  {
   "cell_type": "code",
   "execution_count": null,
   "metadata": {
    "collapsed": false
   },
   "outputs": [],
   "source": [
    "%matplotlib inline\n",
    "\n",
    "import os\n",
    "import re\n",
    "import sys\n",
    "\n",
    "import cPickle as pickle\n",
    "\n",
    "from mbt.tools.faults import rates_for_double_truncated_mfd\n",
    "from openquake.hazardlib.geo.surface import SimpleFaultSurface\n",
    "from openquake.hazardlib.mfd import EvenlyDiscretizedMFD\n",
    "\n",
    "from openquake.hazardlib.scalerel.wc1994 import WC1994"
   ]
  },
  {
   "cell_type": "code",
   "execution_count": null,
   "metadata": {
    "collapsed": false
   },
   "outputs": [],
   "source": [
    "try:\n",
    "    plot_figures\n",
    "except: \n",
    "    plot_figures = False\n",
    "    \n",
    "try:\n",
    "    print_log\n",
    "except: \n",
    "    print_log = False\n",
    "    \n",
    "try:\n",
    "    len(shallow_fault_source_ids_list)\n",
    "except:\n",
    "    raise ValueError('List of source IDs badly defined: ')"
   ]
  },
  {
   "cell_type": "code",
   "execution_count": null,
   "metadata": {
    "collapsed": false
   },
   "outputs": [],
   "source": [
    "if print_log or plot_figures:\n",
    "    print '------------------------------------------------------'\n",
    "\n",
    "# Width of bins used to discretise the MFDs\n",
    "model_key = metys.g_prj.models.current \n",
    "binwidth = float(metys.g_prj.mod[model_key]['mfd_binwidth'])\n",
    "if print_log:\n",
    "    print 'MFD bin width    : %.2f' % (binwidth)\n",
    "\n",
    "# Load sources\n",
    "model_key = metys.g_prj.models.current \n",
    "data_path = os.path.join(metys.g_prj.folder, '%s_fault_sources.pkl' % model_key)\n",
    "\n",
    "fin = open(data_path,'rb') \n",
    "fsources = pickle.load(fin)\n",
    "fin.close()\n",
    "    \n",
    "if len(shallow_fault_source_ids_list) > 1:\n",
    "    raise ValueError('This notebook can handle just one source')\n",
    "    \n",
    "src = fsources[shallow_fault_source_ids_list[0]]"
   ]
  },
  {
   "cell_type": "markdown",
   "metadata": {},
   "source": [
    "## Parameters"
   ]
  },
  {
   "cell_type": "code",
   "execution_count": null,
   "metadata": {
    "collapsed": false
   },
   "outputs": [],
   "source": [
    "scalerel_name = metys.g_prj.mod[model_key]['sfs_default_scalerel']\n",
    "if hasattr(src, 'magnitude_scaling_relationship'):\n",
    "    scalerel_name = src.magnitude_scaling_relationship"
   ]
  },
  {
   "cell_type": "code",
   "execution_count": null,
   "metadata": {
    "collapsed": false
   },
   "outputs": [],
   "source": [
    "import importlib\n",
    "module = importlib.import_module('openquake.hazardlib.scalerel')\n",
    "my_class = getattr(module, scalerel_name)\n",
    "scalrel = my_class()"
   ]
  },
  {
   "cell_type": "markdown",
   "metadata": {},
   "source": [
    "## Computing the mfd"
   ]
  },
  {
   "cell_type": "code",
   "execution_count": null,
   "metadata": {
    "collapsed": false
   },
   "outputs": [],
   "source": [
    "bin_width = float(metys.g_prj.mod[model_key]['mfd_binwidth'])\n",
    "\n",
    "# Setting the minimum magnitude \n",
    "try:\n",
    "    m_low = src.min_mag\n",
    "except:\n",
    "    m_low = float(metys.g_prj.mod[model_key]['sfs_default_mmin'])"
   ]
  },
  {
   "cell_type": "code",
   "execution_count": null,
   "metadata": {
    "collapsed": false
   },
   "outputs": [],
   "source": [
    "if src.source_type == 'SimpleFaultSource':\n",
    "    \n",
    "    if src.__dict__.has_key('use_slip') and src.use_slip == 1:\n",
    "        print 'For this source we do not use slip' \n",
    "        \n",
    "    else:       \n",
    "        \n",
    "        # Fix upper seismogenic depth\n",
    "        if not src.__dict__.has_key('upper_seismogenic_depth'):\n",
    "            upper_seismogenic_depth = float(metys.g_prj.mod[model_key]['sfs_default_upper_seismogenic_depth'])\n",
    "        else:\n",
    "            upper_seismogenic_depth = src.upper_seismogenic_depth\n",
    "            \n",
    "        # Mesh spacing\n",
    "        if not src.__dict__.has_key('mesh_spacing'):\n",
    "            mesh_spacing = float(metys.g_prj.mod[model_key]['sfs_default_mesh_spacing'])\n",
    "        else:\n",
    "            mesh_spacing = src.mesh_spacing      \n",
    "            \n",
    "        # Fix lower seismogenic depth\n",
    "        if not src.__dict__.has_key('lower_seismogenic_depth'):\n",
    "            lower_seismogenic_depth = float(metys.g_prj.mod[model_key]['sfs_default_lower_seismogenic_depth'])\n",
    "        else:\n",
    "            lower_seismogenic_depth = src.lower_seismogenic_depth  \n",
    "            \n",
    "        # Compute area source\n",
    "        surf = SimpleFaultSurface.from_fault_data(\n",
    "                    fault_trace = src.trace, \n",
    "                    upper_seismogenic_depth = upper_seismogenic_depth, \n",
    "                    lower_seismogenic_depth = lower_seismogenic_depth, \n",
    "                    dip = src.dip, \n",
    "                    mesh_spacing = mesh_spacing)\n",
    "        flt_area = surf.get_area()\n",
    "\n",
    "        # Median magnitude\n",
    "        if 'mmax' in src.__dict__ and float(getattr(src, 'mmax')) > 0.0:\n",
    "            median_magnitude = float(getattr(src, 'mmax'))\n",
    "            print 'Maximum magnitude (from input)               : %.2f' % (median_magnitude)\n",
    "        else:\n",
    "            median_magnitude = scalrel.get_median_mag(flt_area, src.rake)\n",
    "            std = scalrel.get_std_dev_area(median_magnitude, src.rake)\n",
    "            mmax = median_magnitude + std * 2\n",
    "            print 'Maximum magnitude (from scaling relationship): %.2f' % (median_magnitude)\n",
    "         \n",
    "        print median_magnitude, m_low+bin_width, src.sliprate\n",
    "        if median_magnitude > m_low+bin_width and src.sliprate > 1e-10:\n",
    "        \n",
    "            # Get rates\n",
    "            if hasattr(src, 'id_intersecting_area'):\n",
    "                print 'Using parameters of area source ID           : %s' % (src.id_intersecting_area)\n",
    "                b_gr = model.sources[src.id_intersecting_area].b_gr\n",
    "            else:\n",
    "                b_gr = float(metys.g_prj.mod[model_key]['sfs_default_b_gr'])\n",
    "            \n",
    "            if 'creeping_coeff' in src.__dict__:\n",
    "                coeff = 1.-float(getattr(src, 'creeping_coeff'))\n",
    "                print 'Creeping Coefficient (from input)            : %.2f' % (1.-coeff)\n",
    "            else:\n",
    "                coeff = 1.-float(metys.g_prj.mod[model_key]['sfs_default_creeping_coefficient'])\n",
    "                print 'Creeping Coefficient (default)               : %.2f' % (1.-coeff)\n",
    "            \n",
    "            rates = rates_for_double_truncated_mfd(flt_area, \n",
    "                                                   src.sliprate*coeff, \n",
    "                                                   m_low, \n",
    "                                                   median_magnitude, \n",
    "                                                   b_gr=b_gr,\n",
    "                                                   bin_width=bin_width)\n",
    "            \n",
    "            if any(rates):\n",
    "                src.mfd = EvenlyDiscretizedMFD(m_low+bin_width/2, bin_width, rates)\n",
    "                src.scalerel = scalerel_name\n",
    "                print 'Computed MFD\\n',src.mfd.get_annual_occurrence_rates()\n",
    "            else:\n",
    "                print 'MFD not defined: rates not defined'\n",
    "                src.mfd = None\n",
    "                src.scalerel = None                \n",
    "        else:  \n",
    "            print 'MFD not defined: mag from scaling relationship < mmin + bin_width'\n",
    "            src.mfd = None\n",
    "            src.scalerel = None\n",
    "\n",
    "sources[shallow_fault_source_ids_list[0]] = src "
   ]
  }
 ],
 "metadata": {
  "kernelspec": {
   "display_name": "Python 2",
   "language": "python",
   "name": "python2"
  },
  "language_info": {
   "codemirror_mode": {
    "name": "ipython",
    "version": 2
   },
   "file_extension": ".py",
   "mimetype": "text/x-python",
   "name": "python",
   "nbconvert_exporter": "python",
   "pygments_lexer": "ipython2",
   "version": "2.7.6"
  }
 },
 "nbformat": 4,
 "nbformat_minor": 0
}
