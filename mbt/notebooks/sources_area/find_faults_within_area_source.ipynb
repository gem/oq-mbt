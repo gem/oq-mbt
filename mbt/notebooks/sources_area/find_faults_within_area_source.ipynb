{
 "cells": [
  {
   "cell_type": "markdown",
   "metadata": {},
   "source": [
    "# Faults sources within an area source\n",
    "Given an area source and a set of faults we find the faults whose trace intersects the polygon of the area source and computes the percentage of the fault trace inside the polygon."
   ]
  },
  {
   "cell_type": "code",
   "execution_count": null,
   "metadata": {
    "collapsed": false
   },
   "outputs": [],
   "source": [
    "# cleaner avoid to restart kernel for each code modification, use it just when alone\n",
    "from cleaner import modules_cleaner ; modules_cleaner()\n",
    "# load current project if secondary ipynb runned alone\n",
    "import metys; metys.Metys.secondary()"
   ]
  },
  {
   "cell_type": "code",
   "execution_count": null,
   "metadata": {
    "collapsed": false
   },
   "outputs": [],
   "source": [
    "%matplotlib notebook \n",
    "\n",
    "import os\n",
    "import re\n",
    "import sys\n",
    "import numpy\n",
    "from prettytable import PrettyTable\n",
    "import cPickle as pickle\n",
    "\n",
    "from mbt.tools.geo import get_idx_points_inside_polygon, get_line_inside_polygon"
   ]
  },
  {
   "cell_type": "code",
   "execution_count": null,
   "metadata": {
    "collapsed": true
   },
   "outputs": [],
   "source": [
    "try:\n",
    "    plot_figures\n",
    "except: \n",
    "    plot_figures = False\n",
    "    \n",
    "try:\n",
    "    print_log\n",
    "except: \n",
    "    print_log = False"
   ]
  },
  {
   "cell_type": "code",
   "execution_count": null,
   "metadata": {
    "collapsed": false
   },
   "outputs": [],
   "source": [
    "# Load source\n",
    "#model_key = metys.g_prj.models.current \n",
    "#data_path = os.path.join(metys.g_prj.folder, '%s_area_sources.pkl' % model_key)\n",
    "#fin = open(data_path,'rb') \n",
    "#sources = pickle.load(fin)\n",
    "#fin.close()\n",
    "\n",
    "# Check input variables\n",
    "#if area_source_ids_list is None:\n",
    "#    area_source_ids_list = ['10']\n",
    "# Check that the number of sources to process is equal to one\n",
    "if len(area_source_ids_list) > 1:\n",
    "    assert 0 == 1\n",
    "# Get source data\n",
    "src = sources[area_source_ids_list[0]]\n",
    "print 'Processing area source with ID:', area_source_ids_list[0]"
   ]
  },
  {
   "cell_type": "markdown",
   "metadata": {},
   "source": [
    "## Selected faults"
   ]
  },
  {
   "cell_type": "code",
   "execution_count": null,
   "metadata": {
    "collapsed": false
   },
   "outputs": [],
   "source": [
    "from prettytable import PrettyTable\n",
    "\n",
    "idx_faults_in_polygon = []\n",
    "frac_faults_in_polygon = {}\n",
    "\n",
    "# Setting table header\n",
    "p = PrettyTable([\"ID\",\"Name\",\"Fraction\",\"Slip rate\", \"RI\"])\n",
    "p.align[\"ID\"] = 'l'\n",
    "p.align[\"Name\"] = 'l'\n",
    "p.align[\"Fraction\"] = 'r'\n",
    "p.align[\"Slip rate\"] = 'r'\n",
    "p.align[\"RI\"] = 'r'\n",
    "p.padding_width = 1\n",
    "p.float_format = '.2'\n",
    "\n",
    "assert len(area_source_ids_list) == 1\n",
    "area_source = sources[area_source_ids_list[0]]\n",
    "area_source.ids_faults_inside = {}\n",
    "\n",
    "# Processing faults\n",
    "for key in sources:\n",
    "\n",
    "    fault = sources[key]\n",
    "    if fault.source_type == 'SimpleFaultSource':\n",
    "        plons = []\n",
    "        plats = []\n",
    "        pdeps = []\n",
    "        \n",
    "        # Create lists with the coordinates of the points defining the trace\n",
    "        for pnt in fault.trace.points:\n",
    "            plons.append(pnt.longitude)\n",
    "            plats.append(pnt.latitude)\n",
    "            pdeps.append(pnt.depth)\n",
    "\n",
    "        # Find points on the trace within the polygon\n",
    "        iii = get_idx_points_inside_polygon(plons, \n",
    "                                            plats, \n",
    "                                            area_source.polygon.lons, \n",
    "                                            area_source.polygon.lats, \n",
    "                                            numpy.arange(0, len(plons)+1))\n",
    "\n",
    "        frac = get_line_inside_polygon(plons, \n",
    "                                       plats, \n",
    "                                       area_source.polygon.lons, \n",
    "                                       area_source.polygon.lats)\n",
    "\n",
    "        if frac > 0.0 and fault.__dict__.has_key('slip_rate'):\n",
    "            \n",
    "            idx_faults_in_polygon.append(fault.source_id)\n",
    "            frac_faults_in_polygon[fault.source_id] = frac\n",
    "            recurrence = fault.recurrence if hasattr(fault, 'recurrence') else None\n",
    "            slip_rate = fault.slip_rate if hasattr(fault, 'slip_rate') else None\n",
    "            p.add_row([fault.source_id, fault.name, frac, slip_rate, recurrence])\n",
    "        \n",
    "            if hasattr(area_source, 'ids_faults_inside'):\n",
    "                area_source.ids_faults_inside[fault.source_id] = frac\n",
    "            else:\n",
    "                area_source.ids_faults_inside = {fault.source_id: frac} \n",
    "                \n",
    "        if frac > 0.5:\n",
    "            fault.id_intersecting_area = area_source_ids_list[0]\n",
    "            \n",
    "print 'Faults intersecting the area source %s\\n' % (area_source_ids_list[0])        \n",
    "print p\n",
    "\n",
    "sources[area_source_ids_list[0]] = area_source"
   ]
  },
  {
   "cell_type": "code",
   "execution_count": null,
   "metadata": {
    "collapsed": true
   },
   "outputs": [],
   "source": []
  }
 ],
 "metadata": {
  "kernelspec": {
   "display_name": "Python 2",
   "language": "python",
   "name": "python2"
  },
  "language_info": {
   "codemirror_mode": {
    "name": "ipython",
    "version": 2
   },
   "file_extension": ".py",
   "mimetype": "text/x-python",
   "name": "python",
   "nbconvert_exporter": "python",
   "pygments_lexer": "ipython2",
   "version": "2.7.6"
  },
  "widgets": {
   "state": {},
   "version": "1.1.2"
  }
 },
 "nbformat": 4,
 "nbformat_minor": 0
}
