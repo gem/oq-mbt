{
 "cells": [
  {
   "cell_type": "markdown",
   "metadata": {},
   "source": [
    "# Catalogue pre-processing"
   ]
  },
  {
   "cell_type": "code",
   "execution_count": null,
   "metadata": {
    "collapsed": false
   },
   "outputs": [],
   "source": [
    "# cleaner avoid to restart kernel for each code modification, use it just when alone\n",
    "from cleaner import modules_cleaner ; modules_cleaner()\n",
    "# load current project if secondary ipynb runned alone\n",
    "import metys; metys.Metys.secondary()"
   ]
  },
  {
   "cell_type": "code",
   "execution_count": null,
   "metadata": {
    "collapsed": false
   },
   "outputs": [],
   "source": [
    "%matplotlib inline\n",
    "import re\n",
    "import os\n",
    "import numpy\n",
    "import h5py\n",
    "import subprocess\n",
    "import cPickle as pickle\n",
    "\n",
    "from copy import deepcopy\n",
    "\n",
    "import matplotlib.pyplot as plt\n",
    "import matplotlib.patheffects as PathEffects\n",
    "from mpl_toolkits.basemap import Basemap\n",
    "\n",
    "from hmtk.seismicity.occurrence.weichert import Weichert\n",
    "from hmtk.plotting.seismicity.occurrence.recurrence_plot import plot_trunc_gr_model\n",
    "\n",
    "from hmtk.seismicity.completeness.comp_stepp_1971 import Stepp1971 \n",
    "from hmtk.plotting.seismicity.completeness.plot_stepp_1972 import create_stepp_plot\n",
    "from hmtk.plotting.seismicity.catalogue_plots import (plot_magnitude_time_scatter, \n",
    "                                                      plot_magnitude_time_density)\n",
    "\n",
    "from hmtk.seismicity.selector import CatalogueSelector\n",
    "from hmtk.seismicity.declusterer.dec_gardner_knopoff import GardnerKnopoffType1\n",
    "from hmtk.seismicity.declusterer.distance_time_windows import GardnerKnopoffWindow"
   ]
  },
  {
   "cell_type": "markdown",
   "metadata": {},
   "source": [
    "## Read current model and fix configuration parameters"
   ]
  },
  {
   "cell_type": "code",
   "execution_count": null,
   "metadata": {
    "collapsed": false
   },
   "outputs": [],
   "source": [
    "model_key = metys.g_prj.models.current \n",
    "cutoff_magnitude = float(metys.g_prj.mod[model_key]['catalogue_cutoff_magnitude'])\n",
    "cutoff_depth = float(metys.g_prj.mod[model_key]['catalogue_cutoff_depth'])\n",
    "binwidth = float(metys.g_prj.mod[model_key]['mfd_binwidth'])\n",
    "print 'MFD bin width    : %.2f' % (binwidth)\n",
    "print 'Magnitude cutoff : %.2f' % (cutoff_magnitude)"
   ]
  },
  {
   "cell_type": "markdown",
   "metadata": {},
   "source": [
    "## Read the catalogue"
   ]
  },
  {
   "cell_type": "code",
   "execution_count": null,
   "metadata": {
    "collapsed": false
   },
   "outputs": [],
   "source": [
    "catalogue = metys.g_prj.mod['Model01']['earthquake_catalogue']"
   ]
  },
  {
   "cell_type": "code",
   "execution_count": null,
   "metadata": {
    "collapsed": false
   },
   "outputs": [],
   "source": [
    "selector = CatalogueSelector(catalogue, create_copy=False)\n",
    "selector.within_magnitude_range(cutoff_magnitude, 10.)\n",
    "selector.within_depth_range(300, 0)\n",
    "#\n",
    "print 'Catalogue minimum depth [km]: %.2f ' % numpy.min(catalogue.data['depth'])\n",
    "print 'Catalogue maximum depth [km]: %.2f ' % numpy.max(catalogue.data['depth'])"
   ]
  },
  {
   "cell_type": "markdown",
   "metadata": {},
   "source": [
    "## Declustering"
   ]
  },
  {
   "cell_type": "code",
   "execution_count": null,
   "metadata": {
    "collapsed": false
   },
   "outputs": [],
   "source": [
    "distance_time_wind = GardnerKnopoffWindow()\n",
    "config = {'time_distance_window': distance_time_wind, 'fs_time_prop': .9}\n",
    "\n",
    "declusterer = GardnerKnopoffType1()\n",
    "vcl, flag = declusterer.decluster(catalogue, config)\n",
    "catalogue_original = deepcopy(catalogue)\n",
    "print 'Original number of events', catalogue_original.get_number_events()\n",
    "catalogue.select_catalogue_events(numpy.where(flag == 0)[0])\n",
    "print 'Number of mainshocks:', len(catalogue.data['magnitude'])"
   ]
  },
  {
   "cell_type": "markdown",
   "metadata": {},
   "source": [
    "## Plotting"
   ]
  },
  {
   "cell_type": "code",
   "execution_count": null,
   "metadata": {
    "collapsed": false
   },
   "outputs": [],
   "source": [
    "# Computing geograohic limits of the catalogue\n",
    "lomin = min(catalogue.data['longitude'])\n",
    "lomax = max(catalogue.data['longitude'])\n",
    "lamin = min(catalogue.data['latitude'])\n",
    "lamax = max(catalogue.data['latitude'])    \n",
    "lon_0 = sum([lomin,lomax])/2\n",
    "lat_0 = sum([lamin,lamax])/2\n",
    "\n",
    "if 1: \n",
    "    fig = plt.figure(figsize=(20,16))\n",
    "    m = Basemap(llcrnrlon=lomin,\n",
    "                llcrnrlat=lamin,\n",
    "                urcrnrlon=lomax,\n",
    "                urcrnrlat=lamax,\n",
    "                resolution='i',\n",
    "                projection='tmerc',\n",
    "                lon_0=lon_0,\n",
    "                lat_0=lat_0)\n",
    "\n",
    "    m.shadedrelief()\n",
    "    \n",
    "    parallels = numpy.arange(lamin, lamax, 5.)\n",
    "    m.drawparallels(parallels,labels=[False,True,True,False], fontsize=16)\n",
    "    meridians = numpy.arange(lomin, lomax, 5.)\n",
    "    m.drawmeridians(meridians,labels=[True,False,False,True], fontsize=16)\n",
    "    \n",
    "    # Coordinate conversion\n",
    "    idx = numpy.nonzero(flag!=0)[0]\n",
    "    x, y = m(catalogue.data['longitude'], catalogue.data['latitude'])\n",
    "    \n",
    "    print idx.shape\n",
    "    print x.shape\n",
    "\n",
    "    # catalogue    \n",
    "    x, y = m(catalogue.data['longitude'], catalogue.data['latitude'])\n",
    "    plt.plot(x, y, 'o', linewidth=6, alpha=0.4, color='blue')\n",
    "    #plt.scatter(x, y, catalogue.data['magnitude'], marker='o', linewidth=0.5, alpha=0.4, edgecolors='none')\n",
    "    \n",
    "    x, y = m(catalogue_original.data['longitude'], catalogue_original.data['latitude'])\n",
    "    plt.plot(x[idx], y[idx], 'x', linewidth=.5, alpha=0.8, color='red') \n",
    "    \n",
    "    "
   ]
  },
  {
   "cell_type": "markdown",
   "metadata": {
    "collapsed": true
   },
   "source": [
    "## Completeness analysis"
   ]
  },
  {
   "cell_type": "code",
   "execution_count": null,
   "metadata": {
    "collapsed": false
   },
   "outputs": [],
   "source": [
    "# Declustering configuration parameters\n",
    "config = {'magnitude_bin': .5, 'time_bin': 10., 'increment_lock': True}\n",
    "stepp = Stepp1971()\n",
    "compl_table = stepp.completeness(catalogue, config)          \n",
    "subprocess.call('rm aa', shell=True)\n",
    "# Info\n",
    "print 'Maximum magnitude is: ', max(catalogue.data['magnitude'])\n",
    "print 'The catalogue contains %d events' % (catalogue.get_number_events())\n",
    "print 'Completeness table: \\n'\n",
    "# Display html\n",
    "for line in compl_table:\n",
    "    print '%.2f, %.2f' % (line[0], line[1])\n",
    "# Plot completeness  \n",
    "ppp = plot_magnitude_time_density(catalogue, mag_int=0.1, time_int=10, normalisation=True, \n",
    "                                  bootstrap=0, completeness=compl_table)"
   ]
  },
  {
   "cell_type": "markdown",
   "metadata": {},
   "source": [
    "## GR Relationship"
   ]
  },
  {
   "cell_type": "code",
   "execution_count": null,
   "metadata": {
    "collapsed": false
   },
   "outputs": [],
   "source": [
    "idx = numpy.nonzero(compl_table[:,1] < numpy.max(catalogue.data['magnitude']))\n",
    "weichert_config = {'magnitude_interval': 0.1, \n",
    "                   'reference_magnitude': 0.0}\n",
    "weichert = Weichert()\n",
    "bval_wei, sigmab, aval_wei, sigmaa = weichert.calculate(catalogue, weichert_config, completeness=compl_table)\n",
    "print 'bval: %.3f (sigma=%.3f)' % (bval_wei, sigmab)\n",
    "print 'aval: %.3f (sigma=%.3f)' % (aval_wei, sigmaa)"
   ]
  },
  {
   "cell_type": "code",
   "execution_count": null,
   "metadata": {
    "collapsed": false,
    "scrolled": false
   },
   "outputs": [],
   "source": [
    "plot_trunc_gr_model(aval_wei, bval_wei, 5.0, 8.3, 0.1, catalogue=catalogue,\n",
    "        completeness=compl_table)"
   ]
  },
  {
   "cell_type": "markdown",
   "metadata": {},
   "source": [
    "## Saving the catalogue"
   ]
  },
  {
   "cell_type": "code",
   "execution_count": null,
   "metadata": {
    "collapsed": false
   },
   "outputs": [],
   "source": [
    "output_path = os.path.join(metys.g_prj.folder, '%s_catalogue_declustered.pkl' % model_key)\n",
    "fou = open(output_path,'wb') \n",
    "pickle.dump(catalogue, fou)\n",
    "fou.close()\n",
    "print 'Catalogue dataset saved into file: \\n%s' % (output_path)"
   ]
  },
  {
   "cell_type": "markdown",
   "metadata": {},
   "source": [
    "## Saving completeness data"
   ]
  },
  {
   "cell_type": "code",
   "execution_count": null,
   "metadata": {
    "collapsed": false
   },
   "outputs": [],
   "source": [
    "filename = os.path.join(metys.g_prj.folder, 'completeness.hdf5')\n",
    "fhdf5 = h5py.File(filename, 'a')\n",
    "print 'Saving data into %s' % (filename)\n",
    "dataset_name = 'whole_catalogue'\n",
    "# Update/create group\n",
    "if model_key in fhdf5.keys():\n",
    "    print 'Group exists %s ' % (model_key)\n",
    "    grp = fhdf5[model_key]\n",
    "else:\n",
    "    print 'Creating group: %s' % (model_key)\n",
    "    grp = fhdf5.create_group(model_key)\n",
    "# Update/create dataset\n",
    "if dataset_name in grp:\n",
    "    del fhdf5[model_key][dataset_name]\n",
    "    print 'Updating dataset: %s' % (dataset_name)\n",
    "    dataset = grp.create_dataset(dataset_name, data=compl_table)\n",
    "else:\n",
    "    print 'Creating dataset: %s' % (dataset_name)\n",
    "    dataset = grp.create_dataset(dataset_name, data=compl_table)\n",
    "fhdf5.close()"
   ]
  },
  {
   "cell_type": "code",
   "execution_count": null,
   "metadata": {
    "collapsed": true
   },
   "outputs": [],
   "source": []
  }
 ],
 "metadata": {
  "kernelspec": {
   "display_name": "Python 2",
   "language": "python",
   "name": "python2"
  },
  "language_info": {
   "codemirror_mode": {
    "name": "ipython",
    "version": 2
   },
   "file_extension": ".py",
   "mimetype": "text/x-python",
   "name": "python",
   "nbconvert_exporter": "python",
   "pygments_lexer": "ipython2",
   "version": "2.7.6"
  },
  "widgets": {
   "state": {
    "01bcbd2890d5411a9e346337a176b727": {
     "views": []
    },
    "02539faa90ff4795ac09b72383359f45": {
     "views": []
    },
    "061e641481da4d7eb58ae6745ecda9ac": {
     "views": []
    },
    "089d4f62b8444fc7bc37e42f39def80c": {
     "views": []
    },
    "08defc792d79452f934b7e77f219ce4b": {
     "views": []
    },
    "0ab09f6323ce40d4a2758b8e449a9a47": {
     "views": []
    },
    "0b97adf818fa4e6ead08c46503acee34": {
     "views": []
    },
    "0cac9a29c1924e7895609fea6f9fd234": {
     "views": []
    },
    "0d3cfe5828d048c393b9d49bf25b7f42": {
     "views": []
    },
    "0d5863a3a5f8467abb4c32ff5394f4bc": {
     "views": []
    },
    "0d670bb00ffb4afbb99d24811f8f7c4c": {
     "views": []
    },
    "100bfd3b09ae45b8ae507938d7ee98f5": {
     "views": []
    },
    "104979ba97fb4830aa1d2d1822a4ae5f": {
     "views": []
    },
    "10d1a1817e7b483f8db7fd161a297b36": {
     "views": []
    },
    "13ce49eaca0447a992ee6b1e3d849e94": {
     "views": []
    },
    "13dca1165f6d494289e35fac8eb32683": {
     "views": []
    },
    "159dae82e731478c8472044ea0a17627": {
     "views": []
    },
    "166fd0a5e97049ec9f90c1638082bae9": {
     "views": []
    },
    "16f198ff60b04fc2aa83c6c8a461b35b": {
     "views": []
    },
    "17dad74a2f574b7ca09576b4345b77af": {
     "views": []
    },
    "181e2777e395430b99707c27e72baed9": {
     "views": []
    },
    "187f0ba1643f41b687abe788a65ab110": {
     "views": []
    },
    "1908711d2e544ab39e9b5a5704e9f194": {
     "views": []
    },
    "192a98ffbcd44eeba69c46a4b4db0a3e": {
     "views": []
    },
    "19eead749e7b4ee7ac95b7b070d72edb": {
     "views": []
    },
    "1e26d5a6f7874fdcaee20dbb6e17f529": {
     "views": []
    },
    "23c53636769d45acb47aebe0c275feeb": {
     "views": []
    },
    "256401f9557349138ee6a45fb6ea373a": {
     "views": []
    },
    "28421c913d7e42ddbd2f6b3dc7e9b44c": {
     "views": []
    },
    "291cff7669a640ae971d0e6f7ccc7c07": {
     "views": []
    },
    "294b86600cbb47edb57483c96aa9cadd": {
     "views": []
    },
    "310c510c0ad143bda5785bcb5f72b48d": {
     "views": []
    },
    "3210176fb29e416a9c3ea93e32e2c547": {
     "views": []
    },
    "33fa0d3f50f34faca93a30d7b8126113": {
     "views": []
    },
    "34e9e44cd7ea4474a8c6e442e88df435": {
     "views": []
    },
    "35224cf47690447c808570ae3c26fae4": {
     "views": []
    },
    "36e33ba3392e4688af8518bb973a108c": {
     "views": []
    },
    "38e15ef37a354d50b55a1a8e6c0120ad": {
     "views": []
    },
    "39c762c2c1974ba09ace9196c81b3119": {
     "views": []
    },
    "3b212e27edac47b499f945c1cf7c0289": {
     "views": []
    },
    "3ba561ae513d4d0f95bb84b869a95780": {
     "views": []
    },
    "3dcf78e80dcc4f4a832c12ef3a6887cd": {
     "views": []
    },
    "3e9ea4ba5f2c4f40b59d582b6f773aa3": {
     "views": []
    },
    "3f63cbb0c67b49148698eedef429e76d": {
     "views": []
    },
    "3f71dfdbb57a436484c9c57e66a1960e": {
     "views": []
    },
    "40ac68d48df84cf094897d6c5d66408e": {
     "views": []
    },
    "41ed2dab804b4958b7ffef66c99e12a2": {
     "views": []
    },
    "42a32524ee7a43d3ac03be1ea2b80304": {
     "views": []
    },
    "451538018bb74942aba5e4f448702025": {
     "views": []
    },
    "473c9b409ff74aa48204dcaa313b9ddc": {
     "views": []
    },
    "4782ab4aa36842efbee310944fead6c5": {
     "views": []
    },
    "49a44ffe15ed4efc9ffc1e3b193e7955": {
     "views": []
    },
    "4b88fde57f3d441eb51ce678b93180bd": {
     "views": []
    },
    "4bd3391ce7584d1eb220c35709c8eb4d": {
     "views": []
    },
    "4ebb578003b2456c8629d23cb00ee472": {
     "views": []
    },
    "51b52a9a1f2742759efe30b05ac03197": {
     "views": []
    },
    "51ed351d842f413f8668fa15de0b45b6": {
     "views": []
    },
    "536d19a29e47411e8ba849c98bdeb265": {
     "views": []
    },
    "57cdebe0ca334d95a46cd1d0c1ac6ac9": {
     "views": []
    },
    "58a1dcbb7b85418caf33b38589698944": {
     "views": []
    },
    "5992057b3cb448e48cb283049d9e18b0": {
     "views": []
    },
    "5af60a2150d64fcd96df098152984b59": {
     "views": []
    },
    "5afe102004a04c9381d479161230f347": {
     "views": []
    },
    "5b7cbcf2266a45d7a75f16c797e43f29": {
     "views": []
    },
    "5ffb1c3758cd4bac927cb992c9572942": {
     "views": []
    },
    "6450b3eb81424cb6a4893fe30996393c": {
     "views": []
    },
    "65bcc194192d44eca22a5f365f3c3562": {
     "views": []
    },
    "66d2275bc6e5458899076ac2aaec19b9": {
     "views": []
    },
    "67d71b0594214c8f952e2c1681d19acc": {
     "views": []
    },
    "685db79c2bb04093ac1295a1267b97ea": {
     "views": []
    },
    "68bf6c85db4944c5a7f3180478b5b2cf": {
     "views": []
    },
    "69c5acdf7c5947c9bac876e5885e97ba": {
     "views": []
    },
    "6acc5ec146d740c3a0fdd3bd50f764a8": {
     "views": []
    },
    "6b6f4e5af4784d8a9d74038e6b4efa8d": {
     "views": []
    },
    "6bc4220eb04a43009d99349a635ad28b": {
     "views": []
    },
    "6bdce3094ca24bc0b72621fd0cea5c94": {
     "views": []
    },
    "6e154baa2528499babfa3b8ce8d20995": {
     "views": []
    },
    "6f1b1c6ff5ad42b684e63f7b54560477": {
     "views": []
    },
    "705921a904ae4ed3a7443da8d07aed8c": {
     "views": []
    },
    "705e3b3eace449648ceee72a5281297d": {
     "views": []
    },
    "70ff1a6e48ab42c68725858caf0ebc71": {
     "views": []
    },
    "7227d8dd39ee4bbe97f8e88f33d7f078": {
     "views": []
    },
    "72c9b8869da440489e82ce458ee1e44b": {
     "views": []
    },
    "7450abde2b2448c795ccc501eed53ec2": {
     "views": []
    },
    "768abcd5ef5041e399825794f155a58b": {
     "views": []
    },
    "76ce1559bcfe426f9fa6852055a3c520": {
     "views": []
    },
    "77f269d906f8410b92c3f79f64947f65": {
     "views": []
    },
    "788c0b5f2afa45759ab03f0e420a9090": {
     "views": []
    },
    "7aa349f698124c04bd4a9c11dc135f6b": {
     "views": []
    },
    "7d79a0b8cf4d45958fa195c8aa7f64ef": {
     "views": []
    },
    "7f2e9dab52104ebb944a2ee6432b4e48": {
     "views": []
    },
    "830c168af7c04b888c46e9c817744d80": {
     "views": []
    },
    "859c562ed142402d819f5713acb42f46": {
     "views": []
    },
    "85cab2ba8e884cb18a1c45c944e804bb": {
     "views": []
    },
    "86bd6ee9666b40398ecbe77c15c63661": {
     "views": []
    },
    "86e82d136ba24a2c9e058217e4f0830f": {
     "views": []
    },
    "8878f3abb5214552b332128d5b7b98ad": {
     "views": []
    },
    "888ffb6e4acc474fa4b32545e0eaa553": {
     "views": []
    },
    "8cbb0ffc00c74c7292425b66ede3791b": {
     "views": []
    },
    "9249713a6ee04d0ba22324738825041a": {
     "views": []
    },
    "92879e637d70465884da573bb9c0e5d3": {
     "views": []
    },
    "938510b5ee9649079787218226b8f097": {
     "views": []
    },
    "93dbbdda245d41b091e4a24b2876089a": {
     "views": []
    },
    "94068cf2320e4f25b6f1ed3acdf6b42b": {
     "views": []
    },
    "9a7e9e6a6b02428d8586a7a77396b978": {
     "views": []
    },
    "9bf91fbfe77d45c2baf1ecfe7f7a3409": {
     "views": []
    },
    "9cac7a555653422a9c5b104604bc77fd": {
     "views": []
    },
    "9cdb53d08d804d5194e32e87a97882a2": {
     "views": []
    },
    "9dbe12716cc54d8b8ca53707f99f2124": {
     "views": []
    },
    "9f1fdf922151483e88380a7054ca014c": {
     "views": []
    },
    "9fdda9e5ced141178229cefd06cd493e": {
     "views": []
    },
    "a28705f78d304bf4909fdb840f38c44e": {
     "views": []
    },
    "a4446575aa874d1c8d8f3e977cf783d7": {
     "views": []
    },
    "a44b4e91b2524f69836cb7a3d4348ffc": {
     "views": []
    },
    "a53b85dd8d2f4fa281a4286922870490": {
     "views": []
    },
    "a71929a66b1942d58286ecd7764481ae": {
     "views": []
    },
    "a85e01c9d0c6492b9bdcb38ac96a25c8": {
     "views": []
    },
    "a8b14bafd6f24c309648fd5b9ba4ac52": {
     "views": []
    },
    "aa3cccf834b344b6821574154668d09c": {
     "views": []
    },
    "ac14442d5cee4103b46a7e0682d1750a": {
     "views": []
    },
    "ac293d223a8d467e8c20c22e4e043deb": {
     "views": []
    },
    "b09b97a4289541268dcda8597e70a3da": {
     "views": []
    },
    "b34247df4ccb4121a66c1dd97b257636": {
     "views": []
    },
    "b900f0368f8346d1b24518986970deb8": {
     "views": []
    },
    "bc3d22439e1745cba86aefaa338273d8": {
     "views": []
    },
    "bcf9499990fd48f4af0ab26b9ed635bb": {
     "views": []
    },
    "bd91605a4d4e450fa9a3c0ab8f307e23": {
     "views": []
    },
    "bdb00225358442a2835f57488a97971a": {
     "views": []
    },
    "bdb5d96851154013b57d3ae090aeff3d": {
     "views": []
    },
    "c02ce404b52c4035a385b4f6823f152e": {
     "views": []
    },
    "c290689505c142be8fd0a2a6fe6bd676": {
     "views": []
    },
    "c2a5a5a8cb144713a28edf30edeb4d95": {
     "views": []
    },
    "c2bcd9e579f34acfba50aea2614ae9ff": {
     "views": []
    },
    "c71002f60003431e961b52c973197aba": {
     "views": []
    },
    "c837eecff34e4f6a8383011dbbd97261": {
     "views": []
    },
    "c8d5b4afec19402e9aedbb4a4d351895": {
     "views": []
    },
    "c9fe4d60e2b04f6b87913a9ac79da8cd": {
     "views": []
    },
    "ca1f5de8a9ec4fe78c2cece32240000d": {
     "views": []
    },
    "caa7f11702964160a848193f49ac3efd": {
     "views": []
    },
    "cc0a7f9d3a704ca99b2e7908a5ad8123": {
     "views": []
    },
    "cd2817e461654b1599f8fe8aba9f7caf": {
     "views": []
    },
    "cf74b4f0cb9b46f290c7fc00f494bc42": {
     "views": []
    },
    "d1b86193c6c2433fb96d14d6eba48b4f": {
     "views": []
    },
    "d2740f465a4444f2bee2c319955628d7": {
     "views": []
    },
    "d4672e86d8534e789dbc6a369d97a48f": {
     "views": []
    },
    "d490607f75b54e6888c9345fe827cadb": {
     "views": []
    },
    "d4bc05570eec4964bee9372c167cfb89": {
     "views": []
    },
    "d75b6fd92f234ff28da6891c4cd9b73b": {
     "views": []
    },
    "d83f089f89e34fe1872964a3804b7b12": {
     "views": []
    },
    "d898180292b54edfb4e8517f01c92044": {
     "views": []
    },
    "d94c34c28a8840dc919d427f401dc9c6": {
     "views": []
    },
    "da02ee151a71477fabced2106b90aa4a": {
     "views": []
    },
    "dcf47569c8c245de8121b32e5c35535f": {
     "views": []
    },
    "e0a9c8c8928f485285d93369ea302906": {
     "views": []
    },
    "e2ee185fed594be2bdb919afe06e6ff8": {
     "views": []
    },
    "e4bc36031296457481a767d6375053b6": {
     "views": []
    },
    "e5d19cef5b814e1fa72a017a7e203b41": {
     "views": []
    },
    "e6c7de8d6f584901a6d7bdd13fc1004b": {
     "views": []
    },
    "e726b70c778445678c78e770fe0bef31": {
     "views": []
    },
    "e89b98f4743247708ea2d119f69c26d3": {
     "views": []
    },
    "e8accfb26d3c4661a1ae9f130eb22bba": {
     "views": []
    },
    "e8b0e51c8e9944d48905ae313f3ddb21": {
     "views": []
    },
    "e913f651a7e148b99d681c69b808b9f8": {
     "views": []
    },
    "e9bea9b335a249f2bbbbfa78aeac5e15": {
     "views": []
    },
    "e9c415d011634a90ae0815decccc0f65": {
     "views": []
    },
    "ea1102320ba4400197be7b9d86b852d4": {
     "views": []
    },
    "ed94bff490f940dcba37b64bcd9c4cbb": {
     "views": []
    },
    "ee50b36c5b1a4a5e8a83f9ab2a161d33": {
     "views": []
    },
    "f009ff620c30496594febde386a95337": {
     "views": []
    },
    "f0c5d9c770c64ccdbd518316daa69b3b": {
     "views": []
    },
    "f3bbf71a0826449fa94da4f02300eef5": {
     "views": []
    },
    "f6107d44b7424f82abb3d65e04723d28": {
     "views": []
    },
    "f6cbcc7ae8cf4d32ac5635819efe2a8c": {
     "views": []
    },
    "f6cf372abb9f4db8bfcebeca2ea0d8a5": {
     "views": []
    },
    "f76f12175ed14527939be40818da44a7": {
     "views": []
    },
    "f92e5978c7644799b10c46a6a7e7aea2": {
     "views": []
    },
    "fa16c2187a5c4ff8a1f8ef73cd64fefb": {
     "views": []
    },
    "fa22afabb62b40d3b03ec7b587adc312": {
     "views": []
    },
    "fa8dd2b7dcbf41b5b4a8d1abbbf6042b": {
     "views": []
    },
    "ffe61057c2c54dd8864aa48e73ffb381": {
     "views": []
    }
   },
   "version": "1.1.2"
  }
 },
 "nbformat": 4,
 "nbformat_minor": 0
}
