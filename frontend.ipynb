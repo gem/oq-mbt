{
 "cells": [
  {
   "cell_type": "code",
   "execution_count": 1,
   "metadata": {
    "collapsed": false,
    "scrolled": false
   },
   "outputs": [
    {
     "data": {
      "text/html": [
       "<script>\n",
       "        code_show=true;\n",
       "        function code_toggle() {\n",
       "         if (code_show){\n",
       "         $('div.input').hide();\n",
       "         } else {\n",
       "         $('div.input').show();\n",
       "         }\n",
       "         code_show = !code_show\n",
       "        }\n",
       "        $( document ).ready(code_toggle);\n",
       "        </script>\n",
       "        <a href=\"javascript:code_toggle()\">Source toggle.</a>"
      ],
      "text/plain": [
       "<IPython.core.display.HTML object>"
      ]
     },
     "metadata": {},
     "output_type": "display_data"
    },
    {
     "name": "stdout",
     "output_type": "stream",
     "text": [
      "/home/nastasi/ch_faults.shp\n"
     ]
    },
    {
     "ename": "AttributeError",
     "evalue": "'NoneType' object has no attribute 'GetLayer'",
     "output_type": "error",
     "traceback": [
      "\u001b[1;31m---------------------------------------------------------------------------\u001b[0m",
      "\u001b[1;31mAttributeError\u001b[0m                            Traceback (most recent call last)",
      "\u001b[1;32m/home/nastasi/git/oq-mbt/resources.pyc\u001b[0m in \u001b[0;36mnew_cb\u001b[1;34m(btn)\u001b[0m\n\u001b[0;32m     93\u001b[0m                                         ctx.filename.value)\n\u001b[0;32m     94\u001b[0m             obj = importer(os.path.join(mbt_comm.OQ_MBT_DATA,\n\u001b[1;32m---> 95\u001b[1;33m                                         ctx.filename.value))\n\u001b[0m\u001b[0;32m     96\u001b[0m \u001b[1;33m\u001b[0m\u001b[0m\n\u001b[0;32m     97\u001b[0m             \u001b[1;32mprint\u001b[0m \u001b[0mobj\u001b[0m\u001b[1;33m\u001b[0m\u001b[0m\n",
      "\u001b[1;32m/home/nastasi/git/model_building_tools/oqmbt/china/china_tools.pyc\u001b[0m in \u001b[0;36mfaults_to_hmtk\u001b[1;34m(shapefile_filename, mapping, log)\u001b[0m\n\u001b[0;32m    196\u001b[0m     \u001b[0mdriver\u001b[0m \u001b[1;33m=\u001b[0m \u001b[0mogr\u001b[0m\u001b[1;33m.\u001b[0m\u001b[0mGetDriverByName\u001b[0m\u001b[1;33m(\u001b[0m\u001b[1;34m'ESRI Shapefile'\u001b[0m\u001b[1;33m)\u001b[0m\u001b[1;33m\u001b[0m\u001b[0m\n\u001b[0;32m    197\u001b[0m     \u001b[0mdataSource\u001b[0m \u001b[1;33m=\u001b[0m \u001b[0mdriver\u001b[0m\u001b[1;33m.\u001b[0m\u001b[0mOpen\u001b[0m\u001b[1;33m(\u001b[0m\u001b[0mshapefile_filename\u001b[0m\u001b[1;33m,\u001b[0m \u001b[1;36m0\u001b[0m\u001b[1;33m)\u001b[0m\u001b[1;33m\u001b[0m\u001b[0m\n\u001b[1;32m--> 198\u001b[1;33m     \u001b[0mlayer\u001b[0m \u001b[1;33m=\u001b[0m \u001b[0mdataSource\u001b[0m\u001b[1;33m.\u001b[0m\u001b[0mGetLayer\u001b[0m\u001b[1;33m(\u001b[0m\u001b[1;33m)\u001b[0m\u001b[1;33m\u001b[0m\u001b[0m\n\u001b[0m\u001b[0;32m    199\u001b[0m     \u001b[1;31m# reading sources geometry\u001b[0m\u001b[1;33m\u001b[0m\u001b[1;33m\u001b[0m\u001b[0m\n\u001b[0;32m    200\u001b[0m     \u001b[0msources\u001b[0m \u001b[1;33m=\u001b[0m \u001b[1;33m[\u001b[0m\u001b[1;33m]\u001b[0m\u001b[1;33m\u001b[0m\u001b[0m\n",
      "\u001b[1;31mAttributeError\u001b[0m: 'NoneType' object has no attribute 'GetLayer'"
     ]
    }
   ],
   "source": [
    "# %connect_info\n",
    "# %debug -b resources.py:158\n",
    "from cleaner import modules_cleaner ; modules_cleaner()\n",
    "from frontend import Frontend ; f = Frontend(); f.show()"
   ]
  },
  {
   "cell_type": "code",
   "execution_count": null,
   "metadata": {
    "collapsed": true
   },
   "outputs": [],
   "source": []
  }
 ],
 "metadata": {
  "kernelspec": {
   "display_name": "Python 2",
   "language": "python",
   "name": "python2"
  },
  "language_info": {
   "codemirror_mode": {
    "name": "ipython",
    "version": 2
   },
   "file_extension": ".py",
   "mimetype": "text/x-python",
   "name": "python",
   "nbconvert_exporter": "python",
   "pygments_lexer": "ipython2",
   "version": "2.7.11+"
  },
  "widgets": {
   "state": {
    "00b04b11159d498f8c6e14e9273c9733": {
     "views": []
    },
    "0208caaa194945c3ae52040ce7f190c6": {
     "views": []
    },
    "0395bff3d1d14e2b84a04d83a1bd98c7": {
     "views": []
    },
    "044d498793bd4d5bb644f957d879da30": {
     "views": []
    },
    "04e3c796de234a0bbe6baa6ce6d6008b": {
     "views": []
    },
    "052c346cde824636b026d2d8bab57b8a": {
     "views": []
    },
    "07886947a9d74354a5c918c0189abb7a": {
     "views": []
    },
    "0ef71299357345188aabe6c9baf64511": {
     "views": []
    },
    "13975e9da1b54ef88d83788ab5d624c5": {
     "views": []
    },
    "13de07da2eb74b6d99a376c91ed00a16": {
     "views": []
    },
    "14203da5de2b404aa0ecd43e86492f08": {
     "views": []
    },
    "16bad4116705435ea96acf472a3cfb82": {
     "views": []
    },
    "16d3279843fd458991320ac07953335d": {
     "views": []
    },
    "171e70bed0be44b886c0a19095a403a0": {
     "views": []
    },
    "18123894e2434d5484d5b221111677af": {
     "views": []
    },
    "1916cdd63fea4f4dabcaa506b7dda440": {
     "views": []
    },
    "1aa771e4c66e4d1396c6c1640655419c": {
     "views": []
    },
    "1b187eb032ee4da087e06123f9a023f0": {
     "views": []
    },
    "1b374751f177411d84eb38930261e45b": {
     "views": []
    },
    "1b51982d11144fcdbb5618012595b69a": {
     "views": []
    },
    "1b9a51553edf4446b26ab2e5639e946f": {
     "views": []
    },
    "1bedfbb3744f49b8abc31c52b36eab76": {
     "views": []
    },
    "1ca90fe894d74f3b88fd6dc490fa6f58": {
     "views": []
    },
    "1d20a6a893c544ee808898cb8a693fff": {
     "views": []
    },
    "1f0d1aa190324da7a9ed72338ff0c667": {
     "views": []
    },
    "201485396b73466380dd50a04ea4b09b": {
     "views": []
    },
    "235c00bfb3ca43c1899b89117b48f43c": {
     "views": []
    },
    "2445847c99c04df699f5a80f3e946a42": {
     "views": []
    },
    "250fab8bb3264db38004a0f91e46f830": {
     "views": []
    },
    "263a8911bfe443dcb8ee52aa0c36ee0a": {
     "views": []
    },
    "263b1b7f6b0a437bb6f6a78ae3c2f296": {
     "views": []
    },
    "28a3c417b21640bfa6b31d96af5bb45d": {
     "views": []
    },
    "2d3f0714c6da40f79c0ff8641a0482b8": {
     "views": []
    },
    "2f0ca195b1b04499a4a782eec5d837e1": {
     "views": []
    },
    "2f60e82cb6ef48848910d431946ff4b0": {
     "views": []
    },
    "2f9851997d544e4b9175824d0abe2cad": {
     "views": []
    },
    "2fe9ab6d7c104680aec8930b6d70427c": {
     "views": []
    },
    "302375b47d404ec2b508f2f4fd895277": {
     "views": []
    },
    "31e1f5f905554d1681f1305e8388e82a": {
     "views": []
    },
    "3551e3121d3042548b50eb46515fce1a": {
     "views": []
    },
    "3c41e3c4c4044b5fbc091510d5c7702c": {
     "views": []
    },
    "3c58cbb19f5443ddb16c1c44ae0b6424": {
     "views": []
    },
    "3c8470fd92e14cefa29ae6b68dbf1cb6": {
     "views": []
    },
    "3e29514c952f46c388569f527600d9f1": {
     "views": []
    },
    "3f7dbec8db2c43eeb71c52ee8728167e": {
     "views": []
    },
    "4017d841fe8b4202b1d1fae87ab4a304": {
     "views": []
    },
    "42c3977b7bb44bc093460edd799d798e": {
     "views": []
    },
    "4616ff0dc8734fbca03526c2ec54174d": {
     "views": []
    },
    "46b6da6d21694769b804b9bef74bfe51": {
     "views": []
    },
    "4a2381fd9158458f87f78407348bd389": {
     "views": []
    },
    "4c993279c9254e0ca399a03723e45c4b": {
     "views": [
      {
       "cell_index": 0
      }
     ]
    },
    "4d4ab827f5d84e2f9395a775b001215d": {
     "views": []
    },
    "4d7fdedc2fce41e29e3b7e364f78add8": {
     "views": []
    },
    "4ebc688ee22a496eae0012b02bdbd3fc": {
     "views": []
    },
    "526f6b6039a9487ea09f33b49a25aebb": {
     "views": []
    },
    "53b320a43cbe439bba80ac17cf6585c1": {
     "views": []
    },
    "54850a7f6c804374aead99abbe9e468f": {
     "views": []
    },
    "5485daa20ebe4d2b9b5337c65f2db8db": {
     "views": []
    },
    "5581d9882a3d4e02a1771b0f7bd43113": {
     "views": []
    },
    "55bd0f2b00334e32bab445a984ab7da6": {
     "views": []
    },
    "5a135413ac424a9d863adef3c41428e7": {
     "views": []
    },
    "5faa472340574977857f1cde80400562": {
     "views": []
    },
    "60bd2e356c9f4b0f86198ca375e6bf6d": {
     "views": []
    },
    "61069ea489db4096bfda6bae98b14024": {
     "views": []
    },
    "6149b234685e4d4aa357f8ac96ec3d7f": {
     "views": []
    },
    "633f2fccbab54f59a186e57597cb4bdb": {
     "views": []
    },
    "64525ca415b04f9fa6bc611abb9a72f2": {
     "views": []
    },
    "652a4a50fef14a8e8e61b93f77001612": {
     "views": []
    },
    "67d2ee6f32374fed9870b6580ff97ef9": {
     "views": []
    },
    "68cfd4ca42d34750abce8e9cd11cb863": {
     "views": []
    },
    "6ad3fedc4f7845f7bb9ed53589dc960e": {
     "views": []
    },
    "6d347b8cb1f845e38309f2c5d8261a93": {
     "views": []
    },
    "6d4be90acb56412084a49a9308852d44": {
     "views": []
    },
    "71b34340b6ef4393b68db140f3dbc582": {
     "views": []
    },
    "73ae6251733a4628b352a71a3cf491c1": {
     "views": []
    },
    "79ca5ecc65714dd3b1aac3507e77ee26": {
     "views": []
    },
    "7e8b83470444489994325b068eba66f1": {
     "views": []
    },
    "803e007cf2ce46379ebcdaff18e66fb7": {
     "views": []
    },
    "8465fea967004f2e985447b4392ac1b4": {
     "views": []
    },
    "84671f27cea140839d1c1be88644cb82": {
     "views": []
    },
    "857d55c2315342ffb5750cf42a121711": {
     "views": [
      {
       "cell_index": 0
      }
     ]
    },
    "890e450822fe498d94a9ced0844f08bd": {
     "views": []
    },
    "8932c75cc882400a9332f04c93f5b693": {
     "views": []
    },
    "8de724d6f53842a9a0b9b1f3f2fad6c7": {
     "views": []
    },
    "8f1e2321d4ea4a9c8811d7840c2f37ed": {
     "views": []
    },
    "90f2b26fc6a54d1d9cfe70a8c7226f09": {
     "views": []
    },
    "9113185e975746c4b4d817cfc02f572f": {
     "views": []
    },
    "91ac3bdbeb4a4758874d181a4336f81b": {
     "views": []
    },
    "97119a5b25794708ad909f68f9d12c54": {
     "views": []
    },
    "98014fb332d24c40bb8aefffa218ff44": {
     "views": []
    },
    "9a562822139046caae168995a39483fd": {
     "views": []
    },
    "9a8839a8fa824605a9c3112582693dba": {
     "views": []
    },
    "9b3f8cd7cac049d4812681d8047dd5f8": {
     "views": []
    },
    "9d190758a01047c3bb50766f9b495e23": {
     "views": []
    },
    "9df4be44c9594c89a75edae843c42c65": {
     "views": []
    },
    "a07ee86b1c5b425aa9887e25c945ee5e": {
     "views": []
    },
    "a3a8efd3b49548a087bec14c4d48a223": {
     "views": []
    },
    "a59fa79f5ac54245b297f52d37f31826": {
     "views": []
    },
    "a606cbfe562c467896696e66a108f4f0": {
     "views": []
    },
    "a6153b6715dd40ca8dcf140155697f94": {
     "views": []
    },
    "a64a05b676f74b90a9051603ce2ee297": {
     "views": []
    },
    "abe9faf319264c6088619a86b0d6ae4b": {
     "views": []
    },
    "af8435a34ab24e62935a1bd473e9ee35": {
     "views": []
    },
    "af89c4aa30424ffba29c56c8b0eb5408": {
     "views": []
    },
    "affa0102f8f64f73baae81e4b88c8659": {
     "views": []
    },
    "b0588027ed304bf4966885a7936b4f93": {
     "views": []
    },
    "b0aefe090c7a476db0e3ad88b2962b01": {
     "views": []
    },
    "b2c1c7080dc6408e8e48c41142939120": {
     "views": []
    },
    "b4f118c5dcf5401186e4b3ecd4c4c5db": {
     "views": []
    },
    "b69c73b808e04f98802e96aef0bc8d96": {
     "views": []
    },
    "b87fb364c6014f92a6d0e5ee593ca7ee": {
     "views": []
    },
    "bb10af36becd40699d98da9ff780f1bc": {
     "views": []
    },
    "bbfebb850b954d029228d9a344d7df2d": {
     "views": []
    },
    "bcbb8ca15eea41e29bc48d542bd0feee": {
     "views": []
    },
    "be3ce161c8f74d9885147209f3f85cfa": {
     "views": []
    },
    "be592ffec8a443e59c739d5b7f1aeea2": {
     "views": []
    },
    "becd3c83a8b74f74b4059d17e1d11c36": {
     "views": []
    },
    "bf401b9921b74981a8cf02274ca0f395": {
     "views": []
    },
    "c01e04f3a1724645868f5e950bbde2b5": {
     "views": []
    },
    "c0e8b919ea674c4bb680b2ae3d7bec24": {
     "views": []
    },
    "c1815284fdbf483890efff40a4837645": {
     "views": []
    },
    "c25c7c917a1240c5aa10d363d42f1869": {
     "views": []
    },
    "c4f19604709642cda0c2bef1ae323660": {
     "views": []
    },
    "c79562c6432f4e0189c194858d189080": {
     "views": []
    },
    "c95ae42b62b64641b30c73aa80e3e351": {
     "views": []
    },
    "cd0fc48b0c6946939c77bcaece919af7": {
     "views": []
    },
    "cece33cf4d2448d9ab79c923e75a3c14": {
     "views": []
    },
    "cfc0252e18f241969fb47543cab38944": {
     "views": []
    },
    "d048406ace8d4a72965618d71fa85741": {
     "views": []
    },
    "d48a2e36b4644555bc32b1fa0d44a5f4": {
     "views": []
    },
    "d666684f74bf4a34ba0ad8fed51b7984": {
     "views": []
    },
    "d6a7ce65314544818c2b7f00bcc37a81": {
     "views": []
    },
    "da18f4f7b8e14b4ea6d734ff433006a6": {
     "views": []
    },
    "daec9bab5ac74c72a2782e424490e96a": {
     "views": []
    },
    "dbe06a9e1922495ebd34316d4f2c40cf": {
     "views": []
    },
    "dbf4a6bab96148809a2f069e93810700": {
     "views": []
    },
    "dc8f1ed76b194681b02b7f58477add57": {
     "views": []
    },
    "de22199f42eb45559de2ad2863241fe1": {
     "views": []
    },
    "e066fd4ac26443c68f8f0f38c5c6ee56": {
     "views": []
    },
    "e3063ca6f4754a6ba6b71208b849fcbd": {
     "views": []
    },
    "e3204ccf0df448098f9e120255034cb7": {
     "views": []
    },
    "e35389228e0f4ec4a2517edc5f474e5a": {
     "views": []
    },
    "e368f115df754e4fb3194d57e6cbe65b": {
     "views": []
    },
    "e3b49bd55460442cab1281d60026fe81": {
     "views": []
    },
    "e491e98141ec4c03954c5595d72f3c5d": {
     "views": []
    },
    "e50f13ee8f9c40329432f1202d73d593": {
     "views": []
    },
    "e5f1a0699c4e4bd386083fd317500f01": {
     "views": [
      {
       "cell_index": 0
      }
     ]
    },
    "ecba9226fbe244daa42d8382adef4a2e": {
     "views": []
    },
    "ed2ab943ff614f94b9c8a591fd346f94": {
     "views": []
    },
    "ef0aa63a1c5b402c98acfec8d72cbac5": {
     "views": []
    },
    "f02c0bcd7b5a4a2594e34e8ee157e6bd": {
     "views": []
    },
    "f32d5460410f43b88cda9c3e9915fe98": {
     "views": []
    },
    "f5327607a16d49efb588d9babe30924b": {
     "views": []
    },
    "fb3ade0bbff24a2fa6aa089f8f3cd498": {
     "views": []
    },
    "fc7143ce04704e0ab18769dd2c848540": {
     "views": []
    },
    "fcdd6c325aa04c14afb68374400d54d4": {
     "views": []
    }
   },
   "version": "1.1.2"
  }
 },
 "nbformat": 4,
 "nbformat_minor": 1
}
