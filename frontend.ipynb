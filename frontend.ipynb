{
 "cells": [
  {
   "cell_type": "code",
   "execution_count": 1,
   "metadata": {
    "collapsed": false,
    "scrolled": true
   },
   "outputs": [
    {
     "data": {
      "text/html": [
       "<script>\n",
       "        code_show=true;\n",
       "        function code_toggle() {\n",
       "         if (code_show){\n",
       "         $('div.input').hide();\n",
       "         } else {\n",
       "         $('div.input').show();\n",
       "         }\n",
       "         code_show = !code_show\n",
       "        }\n",
       "        $( document ).ready(code_toggle);\n",
       "        </script>\n",
       "        <a href=\"javascript:code_toggle()\">Source toggle.</a>"
      ],
      "text/plain": [
       "<IPython.core.display.HTML object>"
      ]
     },
     "metadata": {},
     "output_type": "display_data"
    }
   ],
   "source": [
    "# %connect_info\n",
    "# %debug -b resources.py:158\n",
    "from cleaner import modules_cleaner ; modules_cleaner()\n",
    "from frontend import Frontend ; f = Frontend(); f.show()"
   ]
  },
  {
   "cell_type": "code",
   "execution_count": null,
   "metadata": {
    "collapsed": true
   },
   "outputs": [],
   "source": []
  }
 ],
 "metadata": {
  "kernelspec": {
   "display_name": "Python 2",
   "language": "python",
   "name": "python2"
  },
  "language_info": {
   "codemirror_mode": {
    "name": "ipython",
    "version": 2
   },
   "file_extension": ".py",
   "mimetype": "text/x-python",
   "name": "python",
   "nbconvert_exporter": "python",
   "pygments_lexer": "ipython2",
   "version": "2.7.6"
  },
  "widgets": {
   "state": {
    "2169cc50be514f6bbad344ed82075b14": {
     "views": []
    },
    "21e55b571a0e43f99e077f1a6e3a4e16": {
     "views": []
    },
    "3622c93e17fc413dbd52bb91b3c9e6e1": {
     "views": []
    },
    "36dd4c6a4d8b47848339e5f465f8d4c6": {
     "views": [
      {
       "cell_index": 0
      }
     ]
    },
    "3ed034ccd6954970989ebda75c91e6c9": {
     "views": []
    },
    "458883cfac4145f393900c20b0816333": {
     "views": []
    },
    "46b71296adfd4f93a0d127c561de0f85": {
     "views": []
    },
    "48d300966d71453789bd2602f41dc17a": {
     "views": []
    },
    "66079443d5fe4ee5bc9c998599f3be9c": {
     "views": []
    },
    "6b24d0751adf4420ae548d8d656c2981": {
     "views": []
    },
    "77b2010fb3534ee0a75fb0827fe24e6d": {
     "views": []
    },
    "7b6ec78378b14d82863467c723d0d70e": {
     "views": []
    },
    "871485d20c524faeb6761e41a571db3a": {
     "views": []
    },
    "89aeba6294b04bdfaea5159bf0746904": {
     "views": []
    },
    "9250b5b0d3cc44ed8b5b1b363f2aacbc": {
     "views": []
    },
    "a164d33168b945a2b3ff2f8982e1669b": {
     "views": []
    },
    "a35c72f6ef94444f83d29ef370ae27b6": {
     "views": [
      {
       "cell_index": 0
      }
     ]
    },
    "a6352fa6aa7b49898c039c3158c093ad": {
     "views": []
    },
    "aa948c68bd1c4d5ea3f01b41eaa7f1bf": {
     "views": []
    },
    "de6fbe728bdc4f708aa5a37eb64d03c1": {
     "views": []
    },
    "e19b206102cf4d4ba9d2289d618e508f": {
     "views": []
    },
    "e6068c992b504a17af894818f7be652a": {
     "views": []
    },
    "e89fc10cbc984b51a8ae695e0c0b5bbc": {
     "views": [
      {
       "cell_index": 0
      }
     ]
    },
    "edf6974220094c8e84420f135f102155": {
     "views": []
    }
   },
   "version": "1.1.2"
  }
 },
 "nbformat": 4,
 "nbformat_minor": 1
}
