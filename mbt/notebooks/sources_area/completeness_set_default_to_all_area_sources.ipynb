{
 "cells": [
  {
   "cell_type": "markdown",
   "metadata": {},
   "source": [
    "# Set the default completeness to all the area sources included in the model"
   ]
  },
  {
   "cell_type": "code",
   "execution_count": null,
   "metadata": {
    "collapsed": false
   },
   "outputs": [],
   "source": [
    "# cleaner avoid to restart kernel for each code modification, use it just when alone\n",
    "from cleaner import modules_cleaner ; modules_cleaner()\n",
    "# load current project if secondary ipynb runned alone\n",
    "import metys; metys.Metys.secondary()"
   ]
  },
  {
   "cell_type": "code",
   "execution_count": null,
   "metadata": {
    "collapsed": true
   },
   "outputs": [],
   "source": [
    "import os\n",
    "import h5py\n",
    "import cPickle as pickle"
   ]
  },
  {
   "cell_type": "code",
   "execution_count": null,
   "metadata": {
    "collapsed": true
   },
   "outputs": [],
   "source": [
    "try:\n",
    "    plot_figures\n",
    "except: \n",
    "    plot_figures = False\n",
    "    \n",
    "try:\n",
    "    print_log\n",
    "except: \n",
    "    print_log = False"
   ]
  },
  {
   "cell_type": "markdown",
   "metadata": {},
   "source": [
    "## Load sources "
   ]
  },
  {
   "cell_type": "code",
   "execution_count": null,
   "metadata": {
    "collapsed": false
   },
   "outputs": [],
   "source": [
    "model_key = metys.g_prj.models.current \n",
    "data_path = os.path.join(metys.g_prj.folder, '%s_area_sources.pkl' % model_key)\n",
    "fin = open(data_path,'rb') \n",
    "sources = pickle.load(fin)\n",
    "fin.close()"
   ]
  },
  {
   "cell_type": "code",
   "execution_count": null,
   "metadata": {
    "collapsed": false
   },
   "outputs": [],
   "source": [
    "filename = os.path.join(metys.g_prj.folder, 'completeness.hdf5')\n",
    "fhdf5 = h5py.File(filename, 'a')\n",
    "\n",
    "# Update/create group\n",
    "if model_key in fhdf5.keys():\n",
    "    if print_log:\n",
    "        print 'Group exists; selecting group: %s' % (model_key)\n",
    "    grp = fhdf5[model_key]\n",
    "else:\n",
    "    if print_log:\n",
    "        print 'Creating group: %s' % (model_key)\n",
    "    grp = fhdf5.create_group(model_key)\n",
    "\n",
    "# Read completeness \n",
    "comw = fhdf5[model_key]['whole_catalogue']\n",
    "\n",
    "# Update the completeness for all the area sources \n",
    "for key in sorted(sources):\n",
    "    if sources[key].source_type == 'AreaSource':\n",
    "        if key in grp:\n",
    "            del fhdf5[model_key][key]\n",
    "            if print_log:\n",
    "                print 'Updating source %s' % (key)\n",
    "            grp[key] = comw\n",
    "        else:\n",
    "            if print_log:\n",
    "                print 'Creating source %s' % (key)\n",
    "            dataset = grp.create_dataset(key, data=comw)\n",
    "fhdf5.close()"
   ]
  },
  {
   "cell_type": "code",
   "execution_count": null,
   "metadata": {
    "collapsed": true
   },
   "outputs": [],
   "source": []
  }
 ],
 "metadata": {
  "kernelspec": {
   "display_name": "Python 2",
   "language": "python",
   "name": "python2"
  },
  "language_info": {
   "codemirror_mode": {
    "name": "ipython",
    "version": 2
   },
   "file_extension": ".py",
   "mimetype": "text/x-python",
   "name": "python",
   "nbconvert_exporter": "python",
   "pygments_lexer": "ipython2",
   "version": "2.7.6"
  },
  "widgets": {
   "state": {},
   "version": "1.1.2"
  }
 },
 "nbformat": 4,
 "nbformat_minor": 0
}
