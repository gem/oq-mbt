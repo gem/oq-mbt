{
 "cells": [
  {
   "cell_type": "code",
   "execution_count": null,
   "metadata": {
    "collapsed": false
   },
   "outputs": [],
   "source": [
    "# cleaner avoid to restart kernel for each code modification, use it just when alone\n",
    "from cleaner import modules_cleaner ; modules_cleaner()\n",
    "# load current project if secondary ipynb runned alone\n",
    "import metys; metys.Metys.secondary()"
   ]
  },
  {
   "cell_type": "code",
   "execution_count": null,
   "metadata": {
    "collapsed": true
   },
   "outputs": [],
   "source": [
    "try:\n",
    "    print_log\n",
    "except: \n",
    "    print_log = False"
   ]
  },
  {
   "cell_type": "code",
   "execution_count": null,
   "metadata": {
    "collapsed": false
   },
   "outputs": [],
   "source": [
    "from openquake.hazardlib.source import AreaSource\n",
    "\n",
    "rupture_mesh_spacing = 2.0\n",
    "    \n",
    "nrml_source = AreaSource(    \n",
    "            source_id = src.source_id, \n",
    "            name = src.name, \n",
    "            tectonic_region_type = src.tectonic_region_type, \n",
    "            mfd = src.mfd, \n",
    "            rupture_mesh_spacing = rupture_mesh_spacing, \n",
    "            magnitude_scaling_relationship = src.magnitude_scaling_relationship, \n",
    "            rupture_aspect_ratio = src.rupture_aspect_ratio, \n",
    "            temporal_occurrence_model = src.temporal_occurrence_model, \n",
    "            nodal_plane_distribution = src.nodal_plane_distribution,\n",
    "            hypocenter_distribution = src.hypocenter_distribution,\n",
    "            upper_seismogenic_depth = src.upper_seismogenic_depth, \n",
    "            lower_seismogenic_depth = src.lower_seismogenic_depth,\n",
    "            polygon = src.polygon,\n",
    "            area_discretization = src.area_discretization)"
   ]
  }
 ],
 "metadata": {
  "kernelspec": {
   "display_name": "Python 2",
   "language": "python",
   "name": "python2"
  },
  "language_info": {
   "codemirror_mode": {
    "name": "ipython",
    "version": 2
   },
   "file_extension": ".py",
   "mimetype": "text/x-python",
   "name": "python",
   "nbconvert_exporter": "python",
   "pygments_lexer": "ipython2",
   "version": "2.7.6"
  },
  "widgets": {
   "state": {},
   "version": "1.1.2"
  }
 },
 "nbformat": 4,
 "nbformat_minor": 0
}
