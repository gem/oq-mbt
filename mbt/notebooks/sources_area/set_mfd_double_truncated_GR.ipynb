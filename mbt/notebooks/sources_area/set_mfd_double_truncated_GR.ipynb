{
 "cells": [
  {
   "cell_type": "code",
   "execution_count": null,
   "metadata": {
    "collapsed": false
   },
   "outputs": [],
   "source": [
    "# cleaner avoid to restart kernel for each code modification, use it just when alone\n",
    "from cleaner import modules_cleaner ; modules_cleaner()\n",
    "# load current project if secondary ipynb runned alone\n",
    "import metys; metys.Metys.secondary()"
   ]
  },
  {
   "cell_type": "code",
   "execution_count": null,
   "metadata": {
    "collapsed": false
   },
   "outputs": [],
   "source": [
    "import os\n",
    "import subprocess \n",
    "from openquake.hazardlib.tom import PoissonTOM\n",
    "from openquake.hazardlib.source import AreaSource\n",
    "from openquake.hazardlib.const import TRT\n",
    "from openquake.hazardlib.geo import NodalPlane\n",
    "from openquake.hazardlib.pmf import PMF\n",
    "from openquake.hazardlib.scalerel import WC1994\n",
    "from openquake.hazardlib.mfd import TruncatedGRMFD"
   ]
  },
  {
   "cell_type": "code",
   "execution_count": null,
   "metadata": {
    "collapsed": false
   },
   "outputs": [],
   "source": [
    "try:\n",
    "    print_log\n",
    "except: \n",
    "    print_log = False"
   ]
  },
  {
   "cell_type": "code",
   "execution_count": null,
   "metadata": {
    "collapsed": false
   },
   "outputs": [],
   "source": [
    "model_key = metys.g_prj.models.current \n",
    "data_path = os.path.join(metys.g_prj.folder, '%s_area_sources.pkl' % model_key)\n",
    "fin = open(data_path,'rb') \n",
    "sources = pickle.load(fin)\n",
    "fin.close()"
   ]
  },
  {
   "cell_type": "code",
   "execution_count": null,
   "metadata": {
    "collapsed": false
   },
   "outputs": [],
   "source": [
    "src = sources[area_source_ids_list[0]]"
   ]
  },
  {
   "cell_type": "code",
   "execution_count": null,
   "metadata": {
    "collapsed": false
   },
   "outputs": [],
   "source": [
    "nodal_plane_distribution = PMF(data=[(1.0, NodalPlane(strike=0, dip=90, rake=0))]) \n",
    "hypocenter_distribution = PMF([(1.0, 5.)])\n",
    "\n",
    "src.m_max = 7.0 \n",
    "src.tectonic_region_type = TRT.ACTIVE_SHALLOW_CRUST\n",
    "src.rupture_mesh_spacing = 5.\n",
    "src.magnitude_scaling_relationship = WC1994() \n",
    "src.rupture_aspect_ratio = 1.0 \n",
    "src.temporal_occurrence_model = PoissonTOM(1.0) \n",
    "src.nodal_plane_distribution = nodal_plane_distribution\n",
    "src.hypocenter_distribution = hypocenter_distribution\n",
    "src.upper_seismogenic_depth = 0. \n",
    "src.lower_seismogenic_depth = 20.\n",
    "src.area_discretization = 10."
   ]
  },
  {
   "cell_type": "code",
   "execution_count": null,
   "metadata": {
    "collapsed": false
   },
   "outputs": [],
   "source": [
    "bin_width = float(metys.g_prj.mod[model_key]['mfd_binwidth'])\n",
    "min_mag = float(metys.g_prj.mod[model_key]['mfd_min_magnitude'])\n",
    "\n",
    "src.mfd = TruncatedGRMFD(min_mag = min_mag,\n",
    "                         max_mag = src.m_max,\n",
    "                         bin_width = bin_width,\n",
    "                         a_val = src.a_gr,\n",
    "                         b_val = src.b_gr)"
   ]
  },
  {
   "cell_type": "code",
   "execution_count": null,
   "metadata": {
    "collapsed": false
   },
   "outputs": [],
   "source": [
    "sources[area_source_ids_list[0]] = src\n",
    "output_path = os.path.join(metys.g_prj.folder, '%s_area_sources.pkl' % model_key)  \n",
    "fou = open(output_path,'wb') \n",
    "pickle.dump(sources, fou)\n",
    "fou.close()"
   ]
  }
 ],
 "metadata": {
  "kernelspec": {
   "display_name": "Python 2",
   "language": "python",
   "name": "python2"
  },
  "language_info": {
   "codemirror_mode": {
    "name": "ipython",
    "version": 2
   },
   "file_extension": ".py",
   "mimetype": "text/x-python",
   "name": "python",
   "nbconvert_exporter": "python",
   "pygments_lexer": "ipython2",
   "version": "2.7.6"
  }
 },
 "nbformat": 4,
 "nbformat_minor": 0
}
