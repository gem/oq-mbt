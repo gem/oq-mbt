{
 "cells": [
  {
   "cell_type": "markdown",
   "metadata": {},
   "source": [
    "# Load data for area sources from shapefile"
   ]
  },
  {
   "cell_type": "code",
   "execution_count": 5,
   "metadata": {
    "collapsed": false
   },
   "outputs": [
    {
     "data": {
      "application/javascript": [
       "\n",
       "        define('oq_getcells_module', [], function() {\n",
       "            var oq_getcells_target = function (comm, msg) {\n",
       "                comm.on_msg(function(m) {\n",
       "                    var cells = IPython.notebook.get_cells();\n",
       "                    var ret = [];\n",
       "                    var ct = cells.length;\n",
       "                    for (var i = 1 ; i < ct ; i++) {\n",
       "                        ret.push({type: cells[i].cell_type, content: cells[i].get_text()});\n",
       "                    }\n",
       "                    comm.send(ret);\n",
       "                });\n",
       "            comm.on_close(function(m) {\n",
       "                ;\n",
       "                });\n",
       "            }\n",
       "            return {'oq_getcells_target': oq_getcells_target}\n",
       "        })\n",
       "    "
      ],
      "text/plain": [
       "<IPython.core.display.Javascript object>"
      ]
     },
     "metadata": {},
     "output_type": "display_data"
    }
   ],
   "source": [
    "# cleaner avoid to restart kernel for each code modification, use it just when alone\n",
    "from cleaner import modules_cleaner ; modules_cleaner()\n",
    "# load current project if secondary ipynb runned alone\n",
    "import metys; metys.Metys.secondary()"
   ]
  },
  {
   "cell_type": "code",
   "execution_count": 6,
   "metadata": {
    "collapsed": true
   },
   "outputs": [],
   "source": [
    "import os\n",
    "import cPickle as pickle"
   ]
  },
  {
   "cell_type": "code",
   "execution_count": null,
   "metadata": {
    "collapsed": true
   },
   "outputs": [],
   "source": [
    "try:\n",
    "    print_log\n",
    "except: \n",
    "    print_log = False"
   ]
  },
  {
   "cell_type": "markdown",
   "metadata": {},
   "source": [
    "## Loading the model"
   ]
  },
  {
   "cell_type": "code",
   "execution_count": 7,
   "metadata": {
    "collapsed": false
   },
   "outputs": [],
   "source": [
    "model_key = metys.g_prj.models.current"
   ]
  },
  {
   "cell_type": "markdown",
   "metadata": {},
   "source": [
    "## Read data from shapefile"
   ]
  },
  {
   "cell_type": "code",
   "execution_count": 8,
   "metadata": {
    "collapsed": false
   },
   "outputs": [
    {
     "name": "stdout",
     "output_type": "stream",
     "text": [
      "Number of sources loaded: 78\n"
     ]
    }
   ],
   "source": [
    "sources = metys.g_prj.mod['Model01']['area_source_shapefile']\n",
    "if print_log:\n",
    "    print 'Number of sources loaded: %d' % len(sources)"
   ]
  },
  {
   "cell_type": "markdown",
   "metadata": {},
   "source": [
    "## Saving sources into the model "
   ]
  },
  {
   "cell_type": "code",
   "execution_count": 9,
   "metadata": {
    "collapsed": false
   },
   "outputs": [
    {
     "name": "stdout",
     "output_type": "stream",
     "text": [
      "Area sources saved into file: \n",
      "/home/openquake/.oq_mbt/georgia_mbt/Model01_area_sources.pkl\n"
     ]
    }
   ],
   "source": [
    "output_path = os.path.join(metys.g_prj.folder, '%s_area_sources.pkl' % model_key)\n",
    "fou = open(output_path,'wb') \n",
    "pickle.dump(sources, fou)\n",
    "fou.close()\n",
    "# \n",
    "if print_log:\n",
    "    print 'Area sources saved into file: \\n%s' % (output_path)"
   ]
  },
  {
   "cell_type": "code",
   "execution_count": 10,
   "metadata": {
    "collapsed": false,
    "scrolled": false
   },
   "outputs": [
    {
     "ename": "TypeError",
     "evalue": "'Model' object does not support item assignment",
     "output_type": "error",
     "traceback": [
      "\u001b[1;31m---------------------------------------------------------------------------\u001b[0m",
      "\u001b[1;31mTypeError\u001b[0m                                 Traceback (most recent call last)",
      "\u001b[1;32m<ipython-input-10-9d17bb25ec1d>\u001b[0m in \u001b[0;36m<module>\u001b[1;34m()\u001b[0m\n\u001b[1;32m----> 1\u001b[1;33m \u001b[0mmetys\u001b[0m\u001b[1;33m.\u001b[0m\u001b[0mg_prj\u001b[0m\u001b[1;33m.\u001b[0m\u001b[0mmod\u001b[0m\u001b[1;33m[\u001b[0m\u001b[1;34m'Model01'\u001b[0m\u001b[1;33m]\u001b[0m\u001b[1;33m[\u001b[0m\u001b[1;34m'sources'\u001b[0m\u001b[1;33m]\u001b[0m \u001b[1;33m=\u001b[0m \u001b[0msources\u001b[0m\u001b[1;33m\u001b[0m\u001b[0m\n\u001b[0m",
      "\u001b[1;31mTypeError\u001b[0m: 'Model' object does not support item assignment"
     ]
    }
   ],
   "source": [
    "# metys.g_prj.mod['Model01']['sources'] = sources"
   ]
  },
  {
   "cell_type": "code",
   "execution_count": null,
   "metadata": {
    "collapsed": true
   },
   "outputs": [],
   "source": []
  }
 ],
 "metadata": {
  "kernelspec": {
   "display_name": "Python 2",
   "language": "python",
   "name": "python2"
  },
  "language_info": {
   "codemirror_mode": {
    "name": "ipython",
    "version": 2
   },
   "file_extension": ".py",
   "mimetype": "text/x-python",
   "name": "python",
   "nbconvert_exporter": "python",
   "pygments_lexer": "ipython2",
   "version": "2.7.6"
  },
  "widgets": {
   "state": {},
   "version": "1.1.2"
  }
 },
 "nbformat": 4,
 "nbformat_minor": 0
}
