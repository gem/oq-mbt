{
 "cells": [
  {
   "cell_type": "code",
   "execution_count": 8,
   "metadata": {
    "collapsed": false,
    "scrolled": false
   },
   "outputs": [
    {
     "name": "stdout",
     "output_type": "stream",
     "text": [
      "{\n",
      "  \"stdin_port\": 35960, \n",
      "  \"ip\": \"127.0.0.1\", \n",
      "  \"control_port\": 47767, \n",
      "  \"hb_port\": 51156, \n",
      "  \"signature_scheme\": \"hmac-sha256\", \n",
      "  \"key\": \"a5750916-82d2-4b61-ad9e-95bc8b8fea06\", \n",
      "  \"kernel_name\": \"\", \n",
      "  \"shell_port\": 34000, \n",
      "  \"transport\": \"tcp\", \n",
      "  \"iopub_port\": 48178\n",
      "}\n",
      "\n",
      "Paste the above JSON into a file, and connect with:\n",
      "    $> ipython <app> --existing <file>\n",
      "or, if you are local, you can connect with just:\n",
      "    $> ipython <app> --existing /run/user/1000/jupyter/kernel-4c7eba9c-bfc6-43c1-974c-9a0ad6cb3327.json \n",
      "or even just:\n",
      "    $> ipython <app> --existing \n",
      "if this is the most recent IPython session you have started.\n"
     ]
    },
    {
     "data": {
      "text/html": [
       "<script>\n",
       "        code_show=true;\n",
       "        function code_toggle() {\n",
       "         if (code_show){\n",
       "         $('div.input').hide();\n",
       "         } else {\n",
       "         $('div.input').show();\n",
       "         }\n",
       "         code_show = !code_show\n",
       "        }\n",
       "        $( document ).ready(code_toggle);\n",
       "        </script>\n",
       "        <a href=\"javascript:code_toggle()\">Source toggle.</a>"
      ],
      "text/plain": [
       "<IPython.core.display.HTML object>"
      ]
     },
     "metadata": {},
     "output_type": "display_data"
    },
    {
     "name": "stdout",
     "output_type": "stream",
     "text": [
      "UNO\n",
      "DUE\n",
      "TRE\n",
      "XX  <resources.Resources object at 0x7f9f8cb0e090>\n",
      "g_prj:  <resources.Resources object at 0x7f9f8cb0e090>\n"
     ]
    }
   ],
   "source": [
    "%connect_info\n",
    "from cleaner import modules_cleaner ; modules_cleaner()\n",
    "from frontend import Frontend ; Frontend().show()"
   ]
  },
  {
   "cell_type": "code",
   "execution_count": null,
   "metadata": {
    "collapsed": true
   },
   "outputs": [],
   "source": []
  },
  {
   "cell_type": "code",
   "execution_count": null,
   "metadata": {
    "collapsed": true
   },
   "outputs": [],
   "source": []
  }
 ],
 "metadata": {
  "kernelspec": {
   "display_name": "Python 2",
   "language": "python",
   "name": "python2"
  },
  "language_info": {
   "codemirror_mode": {
    "name": "ipython",
    "version": 2
   },
   "file_extension": ".py",
   "mimetype": "text/x-python",
   "name": "python",
   "nbconvert_exporter": "python",
   "pygments_lexer": "ipython2",
   "version": "2.7.11+"
  },
  "widgets": {
   "state": {
    "000f5a0887d2469b95af6c874ac81e67": {
     "views": []
    },
    "0066c352adcd43fa8b55e4189278822e": {
     "views": []
    },
    "00a1d7c0cf0e47c1b3becfa1184a2946": {
     "views": []
    },
    "00aa36cb011d4729a061ab5d866f4834": {
     "views": []
    },
    "00d1f7d0a07d4bbb9cce3dbd53ddf188": {
     "views": []
    },
    "00eef46607ac4c6b93b7d3c99df072c1": {
     "views": []
    },
    "00fef64c3f6b4391a037ab7abd3f0bf4": {
     "views": []
    },
    "01805e07f33d43c59a796f14ce53ea93": {
     "views": []
    },
    "03673437eba74477b731f8e0a03ee6cc": {
     "views": []
    },
    "03757e5c7ef3453880745ef378cae108": {
     "views": []
    },
    "03c1d098993244cb9e8762bc0858a0b8": {
     "views": []
    },
    "0418b839662e439ab4352aa4d87fe537": {
     "views": []
    },
    "0485b36f45be4c258afc8d695199725f": {
     "views": []
    },
    "05444a9f306a439fbad25d855712dff4": {
     "views": []
    },
    "0552dbb41c5145a4be2e8524958bdcc8": {
     "views": []
    },
    "064618e92e9848f0ba0e47b8e855401f": {
     "views": []
    },
    "064ceda4714b4e60833982478dae376a": {
     "views": []
    },
    "06a0987e82fb40549250d2b294e5a2e9": {
     "views": []
    },
    "0705cb56573b458fa59b6040106eeeb9": {
     "views": []
    },
    "070bccdd8d204fd98e314d9b963bd2f9": {
     "views": []
    },
    "078f385e4d0c42c18a79c8dcdd081c3c": {
     "views": []
    },
    "080b0730799a439db2f36de572707140": {
     "views": []
    },
    "087e1cddcd8f4da78f83ad41f276a58d": {
     "views": []
    },
    "087e7e6d68c94df9b105f790f4cead88": {
     "views": []
    },
    "08bcc3ed0a6546a082aa383f01e9643d": {
     "views": []
    },
    "08c4886f83664407b673649496a1fdea": {
     "views": []
    },
    "092e33ab781e47b7b456707eb6e97bdb": {
     "views": []
    },
    "09592ffa046f426dbc632bd9e9d658b8": {
     "views": []
    },
    "09ba409dd5824914878dc365e65ab012": {
     "views": []
    },
    "09bd394db80248cb8c533af0c89e12f9": {
     "views": []
    },
    "09ceefc098b144649e28a9549fb794a9": {
     "views": []
    },
    "0a86e24cf6d346adbc5b3aee940dfbba": {
     "views": []
    },
    "0a9544f61cd04a58b226b9ee6527c072": {
     "views": []
    },
    "0b0fc983e8894ff58323b239d26d8169": {
     "views": []
    },
    "0b52ca44adbc47da83e39bff887083ce": {
     "views": []
    },
    "0b59c823d3984e03906ccf0004470f7b": {
     "views": []
    },
    "0b9b9a7b11f945f5b35724207fe6d642": {
     "views": []
    },
    "0bfbfc1acd4845fda6a6234314128947": {
     "views": []
    },
    "0bfdcac8b8a847c3b382f8456ffafc1a": {
     "views": []
    },
    "0c629addb51e4d36a6f1df8fa728204a": {
     "views": []
    },
    "0d111b6ee23c4912ab32faa6ef296715": {
     "views": []
    },
    "0d3a164eae1141fcbe1a83afe0acdc19": {
     "views": []
    },
    "0d73ccd46f9045e4b001bac8b4ab596a": {
     "views": []
    },
    "0d9f90f0b9b54f9c8b7eebdbce702bb2": {
     "views": []
    },
    "0e0af67f8ace4a1e94a8d6515d401d0a": {
     "views": []
    },
    "0ea8863e9c5f417582975fbd98fcbc1e": {
     "views": []
    },
    "0f7b9aea9b7148e498e6f97efcb16d5e": {
     "views": []
    },
    "0f87cd056dd140118d3cefcbc3f6d077": {
     "views": []
    },
    "0f8a5f818a1141fcad20668ae4fa1204": {
     "views": []
    },
    "0fa8a1e815ee4f40944951e4bfe093b2": {
     "views": []
    },
    "0fc2d97f50f640e3b7be5f4f43f181cd": {
     "views": []
    },
    "0fd4a4f566fb48efb07b4c410e1dca69": {
     "views": []
    },
    "102366961314476a906cdf581bf2ce3e": {
     "views": []
    },
    "102824935fbb46f9a18758bc9f7b8a42": {
     "views": []
    },
    "10637640c2c24cabb353a17244c717ac": {
     "views": []
    },
    "10a55a6b9dbf4de0931224f520f47511": {
     "views": []
    },
    "10f2a74a0cbc42249506ad8636e2d7af": {
     "views": []
    },
    "10f90cd6774f4bd2ba393bd958810314": {
     "views": []
    },
    "1101dfd7be26402f98749e0de2cb39f1": {
     "views": []
    },
    "1102de012e2345c5b62c62afa1d22e18": {
     "views": []
    },
    "117c644aff2741b890b50deacb84a323": {
     "views": []
    },
    "1199f5e6225b473da43be7679097331f": {
     "views": []
    },
    "11d14a0be03e47aea5e39116f40d7c22": {
     "views": []
    },
    "11de594b7cc24e24974b688ae61a6c2e": {
     "views": []
    },
    "11df4b17759e42a7b465ec27295e50d1": {
     "views": []
    },
    "1204c1bca5704b44999a4ad2573319ed": {
     "views": []
    },
    "1224fc0a5b164a09ab84b089670c9d36": {
     "views": []
    },
    "123ef93f0fbe422282bb7db3dedf6050": {
     "views": []
    },
    "1247061783334450832919fab4e9d13a": {
     "views": []
    },
    "12a5be362c5f494882d65c17d11f5f16": {
     "views": []
    },
    "12aca6efca0e4cde9750b6158e163131": {
     "views": []
    },
    "1306cc374d21444db7f6a9fa5d9b898e": {
     "views": []
    },
    "1334de6fc8ff432fbe9c9a9852320f02": {
     "views": []
    },
    "135438036b15498b8cc1b9d7471aa4d5": {
     "views": []
    },
    "135b920fd533401298118ecf77fe3898": {
     "views": []
    },
    "1382a99a035a4f30a543775eeba004a6": {
     "views": []
    },
    "138ca03983ea4ca884b8147270d75b2a": {
     "views": []
    },
    "139464c7ae9b4382890b2201391c0250": {
     "views": []
    },
    "13db449873d640c1bbbecba4c63a94e0": {
     "views": []
    },
    "1426a9754ac440a59de7e2c31cecd384": {
     "views": []
    },
    "144fbc653e1046b49dcc17d4bad4bbb5": {
     "views": []
    },
    "1454c9e001a848de870fd103702c7bb7": {
     "views": []
    },
    "1482969d17e54a5293dc64824e5492f7": {
     "views": []
    },
    "149d35e67fbc44d5ae10ac5d10ce15aa": {
     "views": []
    },
    "14f7583b85e4498b8791dfa7846c3521": {
     "views": []
    },
    "1510dbda8aa8438b90df28cabb4f6e3f": {
     "views": []
    },
    "153dc61a6d5545249d5fcc58c251038c": {
     "views": []
    },
    "156691f456454a4ca631aa4a049173e9": {
     "views": []
    },
    "15b4251aff6c4258b87639cab08a5c17": {
     "views": []
    },
    "15d68059c17140349c137e92065c4163": {
     "views": []
    },
    "15e54cd456f141278ca84fa85988dd0f": {
     "views": []
    },
    "160f6b4f73fb4fbcbf9cf549b8d28324": {
     "views": []
    },
    "165b95e1d2e6489da1ceed1e1170c2be": {
     "views": []
    },
    "16e569a6ff3b4da29a6decd0808fdfc9": {
     "views": []
    },
    "16ef02da8c9c408faaa0725b27c6df95": {
     "views": []
    },
    "16f078e5cd2246ac9b7ad1634d07bb24": {
     "views": []
    },
    "16f149691634444c99f4809d8cff79a1": {
     "views": []
    },
    "17045c33472f4948af87242f9995ee18": {
     "views": []
    },
    "172a34cebd5645178e7c26c9ad6f6e89": {
     "views": []
    },
    "1730343b52b74dac8fd08af6926c6778": {
     "views": []
    },
    "17375908a3c8475c82e4be35b0d83aff": {
     "views": []
    },
    "1844580b03e148df88ae6c3533cfff07": {
     "views": []
    },
    "184d84a88a8e4077bb36396b46d9499c": {
     "views": []
    },
    "185cb6e65bc541bdbb69705421792f24": {
     "views": []
    },
    "1884539dca324bd48fb284f29129689f": {
     "views": []
    },
    "189684f569e94512a469ee121c288080": {
     "views": []
    },
    "195aed6c22f4491fb524d6475c4774fd": {
     "views": []
    },
    "198cc2d407f5410d99f4ee6fdae64177": {
     "views": []
    },
    "19b616228ed7458b83bd4e37553c3d6b": {
     "views": []
    },
    "19c4230d507e4257abc37c56fb01c851": {
     "views": []
    },
    "1a09906863ef45dcbccfc06824b86dc7": {
     "views": []
    },
    "1a1552adb601426c829ff56bee22cf6d": {
     "views": []
    },
    "1a1d279bba9346c2adb2cc221e4653f3": {
     "views": []
    },
    "1a6366a28d164d35891d53a5e15dcd9b": {
     "views": []
    },
    "1ab8bb4068084d45a6aaede9ac24f192": {
     "views": []
    },
    "1b0186503b18471196145fc2d1c298ea": {
     "views": []
    },
    "1b4ba240946d4f0a85368a793ae750f5": {
     "views": []
    },
    "1b80b9e2a44044f2acd6eb4fc9ec5a26": {
     "views": []
    },
    "1bdb36995fb84d3ebd951f588627b803": {
     "views": []
    },
    "1bf020e9e12d4b869b0926747a6972c8": {
     "views": []
    },
    "1c21b9a1302f4f55ab5f5c035c9e4e39": {
     "views": []
    },
    "1c356e33ee8b433290a414843824060c": {
     "views": []
    },
    "1c37ccaf17074b47bbb4466b968b10f2": {
     "views": []
    },
    "1c5da1b874874d93b2731d9c7ad7a237": {
     "views": []
    },
    "1c92be4b53654a2f94deb1e302aecbe6": {
     "views": []
    },
    "1caee6f2f3ef41f68e7fa2662a1398bd": {
     "views": []
    },
    "1ccf9e019ea64ca7afb2e3d0c223e12c": {
     "views": []
    },
    "1d0a1f074e12442d82fbab199e6872f2": {
     "views": []
    },
    "1d239214b6704bf8b8bc18a9fdb8a29d": {
     "views": []
    },
    "1d2b88759d53473dbd86d663720a296a": {
     "views": []
    },
    "1d45fbcf7cee4102a9b99cde60c811cd": {
     "views": []
    },
    "1d96f3ce46c2482db59cfd7ce033d86b": {
     "views": []
    },
    "1e569580ee784644aa72c90380f2271f": {
     "views": []
    },
    "1ea26285fc804c4db88b459d779d84dc": {
     "views": []
    },
    "1ecbbcfad856444f8e8ac3dd847a4248": {
     "views": []
    },
    "1f0df129f5744f8fb7978d0959ff1c6a": {
     "views": []
    },
    "1f0f55dee9e7402782b50c5218e557aa": {
     "views": []
    },
    "1f10a6ea527f43e7864c9f2b46b36823": {
     "views": []
    },
    "1f2c6f0cbac34663b697eaa749ce0b21": {
     "views": []
    },
    "1f49af55996d4b73973ffd2b01114f59": {
     "views": []
    },
    "1f5151e28d4543128310febca98a4721": {
     "views": []
    },
    "1f51632d75644cbfbe0540b36aba0be8": {
     "views": []
    },
    "1f583947f936465fbeec50df6bd47d0a": {
     "views": []
    },
    "200203d2e68f4c38a239304f14546cf8": {
     "views": []
    },
    "205967e8910948cd8335d534625cb6e1": {
     "views": []
    },
    "2060b9db88894c7ea68909a238724a36": {
     "views": []
    },
    "2065dd71efdd4af3b6f9a53516f54c76": {
     "views": []
    },
    "206d9b2fab194eaa83d7a6c79b1742a6": {
     "views": []
    },
    "2075ab8ad4454528960cb070508c7fee": {
     "views": []
    },
    "208463db6a8a4e2d8f19f293eccc6fa2": {
     "views": []
    },
    "208570cae2564c078673fd18eda3076a": {
     "views": []
    },
    "20ad0bf512f94ba99eb343c884e00a57": {
     "views": []
    },
    "20dd2923e2ea4a9f8f714ef3df2a69f5": {
     "views": []
    },
    "21017e51c0eb473fb6e85800011c3097": {
     "views": []
    },
    "211bfb3b8ac645b2941acd2b9cba539e": {
     "views": []
    },
    "214474476c2649998c2286b2ba558399": {
     "views": []
    },
    "2169b42c3a8d4427abad423455d28566": {
     "views": []
    },
    "22722f9b0abe447cb3152702fa6a968e": {
     "views": []
    },
    "228539de4d9f4550a774b74c4eaba809": {
     "views": []
    },
    "228797503f3b4f6f86f34cf342f5b4f8": {
     "views": []
    },
    "22a8b34c057745bfa4f897f2f9b1a731": {
     "views": []
    },
    "22b904548f0d4bd69f3138edf979d80c": {
     "views": []
    },
    "22bf89bbeaa64d23b580d6f2453b4e71": {
     "views": []
    },
    "22d35b5a7a6d410e96fe290a323b59b2": {
     "views": []
    },
    "22ea7217f9e14c668b110e33aa459ed9": {
     "views": []
    },
    "22f3c684acee4d6d964a726c16095799": {
     "views": []
    },
    "23030a51b43041a990bff1c1aa06a425": {
     "views": []
    },
    "23205f01f20c44eba9487d10cf87fb7c": {
     "views": []
    },
    "2360ed5e9e5746f3a653cf2e281bca62": {
     "views": []
    },
    "237a1a23278146019e3b7e1b17f06ba7": {
     "views": []
    },
    "2384939794874506902410e715aa3d8a": {
     "views": []
    },
    "239282cd0777497ba49bcc7bf8148144": {
     "views": []
    },
    "239679f7273e4351a79e29bdccdcb364": {
     "views": []
    },
    "23af9ade3f4046d8a531b1e2f0e733ce": {
     "views": []
    },
    "23d69a6d134146fc8dd382c2eba40b5f": {
     "views": []
    },
    "23d91e931ccd404da8b6a0ba67eafd3f": {
     "views": []
    },
    "23e9481a5abd44a0be19dbdcd7decbdd": {
     "views": []
    },
    "23eca8f2e14049e4ba771e353b9ae89b": {
     "views": []
    },
    "23fd167a2f8c4e50aedb6bce3a60f8af": {
     "views": []
    },
    "247fc19ab3244604b0c24d095dec6464": {
     "views": []
    },
    "24aa2103a6f5421c8cd3396098177bcf": {
     "views": []
    },
    "254cf99574704f828fcbff2b18a1f9ef": {
     "views": []
    },
    "255f32d56dbd47e2a523ca410859ed67": {
     "views": []
    },
    "25694eb5e8c14228b88e26d0ffd55f90": {
     "views": []
    },
    "257a906217064fb597b597d8e63876de": {
     "views": []
    },
    "257ee5f612984db4899110751d7d101b": {
     "views": []
    },
    "2597b83e6e7a433b8dce507028d5c2f8": {
     "views": []
    },
    "25be97ed0d59459286af0cbcb19ba6d8": {
     "views": []
    },
    "25da80612c6842ef9d97474243ceaefe": {
     "views": []
    },
    "25e2e31ac4fb4e49bae2a7a50243a139": {
     "views": []
    },
    "2612da231a5548b8974ac577bb342a6d": {
     "views": []
    },
    "263ee86ea1db4719bf49d152b12d5239": {
     "views": []
    },
    "264eb2d6ddb942fc8bf0518067893b3d": {
     "views": []
    },
    "265a816da52e4125ac404849df4cb290": {
     "views": []
    },
    "26cb814e04ec41f1b74b441843613ce1": {
     "views": []
    },
    "26e6dca861704276a63bb89d360ce1dc": {
     "views": []
    },
    "273bca708dc441028ae7e2ceb93dd2e7": {
     "views": []
    },
    "2742e1c3f9af4787b05e71608ddb09fd": {
     "views": []
    },
    "274f961141b7446888618d2934892fef": {
     "views": []
    },
    "276c8579db174176a015dec118a28b18": {
     "views": []
    },
    "2785e18ab5c94733ab6585adeb5ebc25": {
     "views": []
    },
    "2787a6c5359042beb0b590824bd430ab": {
     "views": []
    },
    "27aa9af80450404b86173fbcfc1cf343": {
     "views": []
    },
    "27b599ec01ff4b57bd237f35556704b2": {
     "views": []
    },
    "27cd7704e762436786638bea9c0f61bc": {
     "views": []
    },
    "284047f84d174bd4ad403d8d37b45f62": {
     "views": []
    },
    "28b0c138970e41cdb54eaddbd2d75718": {
     "views": []
    },
    "291776061bc840d2a4fa575f522c7954": {
     "views": []
    },
    "291ee6aadcd84fffb682717d8f0f32d1": {
     "views": []
    },
    "295c5460727841d08228be48e2b0545b": {
     "views": []
    },
    "2a0e05e8c29441de97a9352063371165": {
     "views": []
    },
    "2a422894e68d45a386586a3f004d2489": {
     "views": []
    },
    "2a97487e172f4d53831d7630888a7c51": {
     "views": []
    },
    "2a9a792faedb46a9815bdfd7875f18f7": {
     "views": []
    },
    "2a9acf0cdc02447c85eb803624f58151": {
     "views": []
    },
    "2aaf6eff6c5f40518315c9c6283c4a0f": {
     "views": []
    },
    "2afc6019e48947b6a58e75afd57fca34": {
     "views": []
    },
    "2b17ab5e0b084c83a08ccf0590ef0258": {
     "views": []
    },
    "2b5fcd333a8049aa9583a9adb9b7bf80": {
     "views": []
    },
    "2b7970908aa4437187effe22dacc99d1": {
     "views": []
    },
    "2b9110661a8e43908a212ac4a021108c": {
     "views": []
    },
    "2b96e430bbd7435da7ae5a1cafd79424": {
     "views": []
    },
    "2c4c9c15434b406a96e6ecf1d2c07555": {
     "views": []
    },
    "2c682cb5d84e4cec8367b79635ef16f3": {
     "views": []
    },
    "2c7d6f2f71ba482088a179d74f8965f1": {
     "views": []
    },
    "2c82d0219ebe454dbd18d10c9f0f1be9": {
     "views": []
    },
    "2c8aa079369a48ea91797896fec17751": {
     "views": []
    },
    "2d118eb06da441c7b20fb8e162a8c901": {
     "views": []
    },
    "2d14ded5a82c4f04a275da73355d0fa2": {
     "views": []
    },
    "2d1c9a94feb246d9ad5c4f37d405bae8": {
     "views": []
    },
    "2d27f26e2b6e471d990cbe7270901b77": {
     "views": []
    },
    "2d6bffc626d3418eb291f5a26a2eea42": {
     "views": []
    },
    "2d737840232c47e8b1e0c6718cdc00f7": {
     "views": []
    },
    "2d809674e9f6460085691c7a5f51b589": {
     "views": []
    },
    "2d91401cdee546b09f1ba7ddb47f44a5": {
     "views": []
    },
    "2ebfe739af2d454cb9c83fe5a0b17843": {
     "views": []
    },
    "2ee8a01c732e44c4ac0af0ef604825b0": {
     "views": []
    },
    "2f23acd333b3485eb179ada67af9de5d": {
     "views": []
    },
    "2f46a69e46094003b4a2267d1aee0251": {
     "views": []
    },
    "2f5eccc4247a46aa865e9d35ff3393b7": {
     "views": []
    },
    "2f89963952cf4df880a5e266fdb1e43e": {
     "views": []
    },
    "2f8a3fbdcc1f487981fc0a8a3c7111b4": {
     "views": []
    },
    "2fba750097fe40019eae06821838a832": {
     "views": []
    },
    "30ab454082e04de6baa141407fdbf85a": {
     "views": []
    },
    "30ac5ba835c447b7944d51c55d7ea34f": {
     "views": []
    },
    "30e16c58817f47a3b560240361bc5906": {
     "views": []
    },
    "31704c70dc8b46a1953939d19acf530e": {
     "views": []
    },
    "31d8cef9eedb4573ac19ac9189aace5f": {
     "views": []
    },
    "31ef47f8d9f14cf59cd161af50878d60": {
     "views": []
    },
    "31f0e4f8d0364966ada2f27b2b00075c": {
     "views": []
    },
    "325a5db1fe664c4895683cf8071cd910": {
     "views": []
    },
    "3322279e441749abb71578e39545ecb4": {
     "views": []
    },
    "333b7faadb394c208835f990c012cb4f": {
     "views": []
    },
    "33b805778961416da4870bac59e48c92": {
     "views": []
    },
    "33ba0354f96443ed8290ae42c7bd951b": {
     "views": []
    },
    "33ba860982fd4baf8955f9eeadefb2f8": {
     "views": []
    },
    "33d4c58b67ac40e0ac119b00ada94811": {
     "views": []
    },
    "3474b997e5a746feafe0e2b1702937ba": {
     "views": []
    },
    "347b4cc7ca394f85b8576938c9d5c130": {
     "views": []
    },
    "34c92a074ff24d54a5c7ab2f102b6c0d": {
     "views": []
    },
    "34d4ff0259964df4a879c3be30103bb1": {
     "views": []
    },
    "34de0261212144e39226ec6cc3dc2aa4": {
     "views": []
    },
    "34e5f2cf0c2f4e64a8f970b340f72c71": {
     "views": []
    },
    "34ebb0ef98fa40428bd98d3e124761c2": {
     "views": []
    },
    "3500a83342f64b40b07902e2bb9c53cc": {
     "views": []
    },
    "3519a3de045e47c3873d7cbcb503278f": {
     "views": []
    },
    "3577ebcbc05743fb8b45540d3cb23adb": {
     "views": []
    },
    "3582d42fdccb4c108c893e805250fd35": {
     "views": []
    },
    "35861d422cb4459b94f6630199147edd": {
     "views": []
    },
    "35be4cc73b7e434fb164586d260f6e35": {
     "views": []
    },
    "35e1f4922787426cba9fab483681227d": {
     "views": []
    },
    "361343f934884c388bfbf653d1f5a938": {
     "views": []
    },
    "3634b19c096f4310ad57bd80983958db": {
     "views": []
    },
    "36389897173645ab8e0565c4b177703d": {
     "views": []
    },
    "363b0045d3fd478498476cb8af537b55": {
     "views": []
    },
    "36810ebc325743238e2b73aaff6fe07c": {
     "views": []
    },
    "3682b608047146cb975f6e6a15bb16d6": {
     "views": []
    },
    "36f71ab7eb36404bab9703d3448fc52a": {
     "views": []
    },
    "37c72b6319484bb7954205d300a3f86c": {
     "views": []
    },
    "385c716ef1a34d8eb8daad390f2cc282": {
     "views": []
    },
    "38a4c80d0fc94191b04516c6795272e7": {
     "views": []
    },
    "38b90b0a35214e4086a064367ed2ef7b": {
     "views": []
    },
    "391d41171d3b402991c14b2914c87c34": {
     "views": []
    },
    "39228ccb333047bfa8f15a43261a1458": {
     "views": []
    },
    "39320726f4034fbf89902d274c960c1e": {
     "views": []
    },
    "394248c570f044d1b4a7636e21e65d77": {
     "views": []
    },
    "394ec123936a43baabf2eaccab449bcd": {
     "views": []
    },
    "3950eea0a7634a6d86e2032069d342ab": {
     "views": []
    },
    "397e10e26e674fa6a56d5ef0fac8ab84": {
     "views": []
    },
    "39a4725f346f45d98474c597fca8ac78": {
     "views": []
    },
    "3a32fe70a23b42d39bca295e8c3182c7": {
     "views": []
    },
    "3a642c46c84949b19e457470a8251940": {
     "views": []
    },
    "3a955bdaaf744f7dbbfe600b3abae5e2": {
     "views": []
    },
    "3b3ce16a753e42acb0e7724a47306e96": {
     "views": []
    },
    "3b58f3fd537749afbfe6ef37a3480ba5": {
     "views": []
    },
    "3baa2610b2c14557b5914af13e539c20": {
     "views": []
    },
    "3bb0e852b96342daadeaf2bacd8c46bb": {
     "views": []
    },
    "3bbd1adec80d4405a7a2bdab37dce43b": {
     "views": []
    },
    "3bdb12442e13479784eee3f6900cb590": {
     "views": []
    },
    "3bdf1eff3b954fc08c819b68cecc0747": {
     "views": []
    },
    "3be6728e034141229db09ce363aae164": {
     "views": []
    },
    "3c0f7c308b904e44b7b4a046b30d2e56": {
     "views": []
    },
    "3c302129c6f143e2857688ca08f76663": {
     "views": []
    },
    "3c365663a5f0477c88200584afbd1e65": {
     "views": []
    },
    "3c3787a4d666489696e56ea2530bb17b": {
     "views": []
    },
    "3c53612344ef4db9abd99623fcae1dc4": {
     "views": []
    },
    "3cd7acdff65b4b0e8a70e86c62a2287b": {
     "views": []
    },
    "3d02b71000c94989aca14a843f415d8a": {
     "views": []
    },
    "3d2fb9c34b944eea8ff468a1e99ef3d8": {
     "views": []
    },
    "3d3ac50fc5014879ab833952009ace7b": {
     "views": []
    },
    "3dc940e7e04d4c9c8baa91757c41659f": {
     "views": []
    },
    "3eaeed65ef0e4b7698e5b012f688594f": {
     "views": []
    },
    "3ebcb494ab0d4e68b7765e779355d521": {
     "views": []
    },
    "3ec762b61a75499cb2294d00a0155c22": {
     "views": []
    },
    "3f307cd2f7694f36aa3c2572d5ff8683": {
     "views": []
    },
    "3f9e8ed155624714ad0dded1f91e48ff": {
     "views": []
    },
    "3fab8e7178394433942877be4123a99d": {
     "views": []
    },
    "4000c8d7a330456581b7d0f67e4913f9": {
     "views": []
    },
    "4005a8288c2c4a3baef42c777fee481f": {
     "views": []
    },
    "404fb9825e6342a99137f6a6cb252763": {
     "views": []
    },
    "40abf6bf3c8c40cc8948856e0b954c1e": {
     "views": []
    },
    "417fa0b19d0e41c8915e1c76d7c6911c": {
     "views": []
    },
    "4195730473484638837938413f63d703": {
     "views": []
    },
    "426ff545009a40e7861902c092065965": {
     "views": []
    },
    "428620c24ee54bc8968994a5e906a447": {
     "views": []
    },
    "42a7d278cedc476091fa91f772beb2cd": {
     "views": []
    },
    "42fb6538292b411cbbe21e79ecdd3337": {
     "views": []
    },
    "431584dc44ec424a934f5ae7d9c7bdff": {
     "views": []
    },
    "4322e5c5e7314201ab4ca7420850fdff": {
     "views": []
    },
    "43804d58a6f9424992365f896de84e21": {
     "views": []
    },
    "43bbe3cec2ad4e93a0151a63ec31697b": {
     "views": []
    },
    "4405a9f618dc4cc6b889deeb6e213063": {
     "views": []
    },
    "441c3a4d28c443c4bae405090b94f5b1": {
     "views": []
    },
    "4426f9ece4964d10a49979df98b33a26": {
     "views": []
    },
    "444759a568d74658ae852538fba7e48d": {
     "views": []
    },
    "448ac7e06f7849c6a64a52d02927c36a": {
     "views": []
    },
    "4498c6c3409e448ebf1fbaaf52402b92": {
     "views": []
    },
    "452608fe01ac4b46b8e5ea323ac6ee2c": {
     "views": []
    },
    "452feca907f04a8fbb74e4343fce7e87": {
     "views": []
    },
    "45389e7f25244d4aa6dd2a26d1468cb0": {
     "views": []
    },
    "45416da8a5ea4b15ad9513ed98bdf6e3": {
     "views": []
    },
    "45451d488dda44c78bfbf173b6187804": {
     "views": []
    },
    "45461fea99994797949c72b7280b72a0": {
     "views": []
    },
    "456b87320998414eaa7c2a586d22604f": {
     "views": []
    },
    "45de0eba10794e94a4d6e6737852fd95": {
     "views": []
    },
    "4604f9bb2df14d74aaa135f8d45eb382": {
     "views": []
    },
    "4608b2376b004e138d7ceaf8fd901223": {
     "views": []
    },
    "462c1e923efb4a52957c49fb889d884c": {
     "views": []
    },
    "46432db09f5f4ee7888b06f4a875eeb3": {
     "views": []
    },
    "465ee0850e264a54825df788203672a7": {
     "views": []
    },
    "4684213ece7f43059bb03b167a0d9175": {
     "views": []
    },
    "46b98d5d0300467e91e7c7b5a5a46540": {
     "views": []
    },
    "46dc7ee9af5446bdb80fca7de1bdb5f1": {
     "views": []
    },
    "47035d2a4c9840f79c9f767f3ff8101e": {
     "views": []
    },
    "473b50a15ea44ae98b39489339052eac": {
     "views": []
    },
    "476458bd1c3944f595e8c23eb76062ba": {
     "views": []
    },
    "476fc7a0c6274ad8a06a8ce3ebe097ff": {
     "views": []
    },
    "477efb3553ec4b38b9b5648d4b14eabd": {
     "views": []
    },
    "480bb0d3a9dc4750a13bd5693f7d96d6": {
     "views": []
    },
    "483ed28278b14483bb5392127cb18b35": {
     "views": []
    },
    "4862062a6f974814a9f02bb99c0d58f7": {
     "views": []
    },
    "486c940e88c0434aab70ab07f45cfca1": {
     "views": []
    },
    "488df7fa07394091b4d33bcd13409b88": {
     "views": []
    },
    "4938dd292455474286ec1a548ff5cec7": {
     "views": []
    },
    "494377e2fc62462494f92f08ffa1518e": {
     "views": []
    },
    "494818cb7ce94fd69f818c2ebface32a": {
     "views": []
    },
    "494b774acb234e31b7d898fe0c621bcf": {
     "views": []
    },
    "496e3dad5bdb4244860b3f21675df44a": {
     "views": []
    },
    "4977495e316046f584fea5e17296b100": {
     "views": []
    },
    "498109ba26c848d99bcaebf576a45f6a": {
     "views": []
    },
    "498657e29b7645b88cadef520354112b": {
     "views": []
    },
    "49916e1fdc3345ef9b0e50e9469aa9a0": {
     "views": []
    },
    "4997ed380c044e1895de72f93d92c289": {
     "views": []
    },
    "49c7ba05d05a4c3c925a5fc006ce074a": {
     "views": []
    },
    "49f3aff879e9480b86c87dd5f7edf7bb": {
     "views": []
    },
    "4a217e9d6ae741318fe710408f73f035": {
     "views": []
    },
    "4aae73e519f24804b0d0a83c8d79045f": {
     "views": []
    },
    "4ac21272a5d04f20baf4b48d7078524e": {
     "views": []
    },
    "4adb0b8b6dfd48e19eead709c2fa22fb": {
     "views": []
    },
    "4bc25155c6804d33957a1fd4f6f820fa": {
     "views": []
    },
    "4be8357582e44d8d9fb6d1241d985e51": {
     "views": []
    },
    "4c68f588f41e4cbe9322c16445d60516": {
     "views": []
    },
    "4c791d5ac9cd4da88447cf872e0790d3": {
     "views": []
    },
    "4ca31c20dc45476b987ed1fc1a0160a1": {
     "views": []
    },
    "4ca9655c749c4319ba8a07b8172abfbc": {
     "views": []
    },
    "4d178206567a4b57998ba84b1619d6ec": {
     "views": []
    },
    "4d2f2fb58e5148818787fce5b9a7a35f": {
     "views": []
    },
    "4d81423751e448aea53a1b0382ecfa4d": {
     "views": []
    },
    "4d83799c38284eac9b0a124602ab7a5a": {
     "views": []
    },
    "4da70b0dcc4a42a9913361e4efc6daef": {
     "views": []
    },
    "4dacfd0849084f25b60c3a024032c2f8": {
     "views": []
    },
    "4e02c9f2d0d24714a18a6c9880d50b63": {
     "views": []
    },
    "4e0729fc11bd49b4926beffcde73073a": {
     "views": []
    },
    "4e838aa41122438093fe0385655aed04": {
     "views": []
    },
    "4ee3f6d27cf94e8c8d289a785d462aab": {
     "views": []
    },
    "4ee981421cc1487f92ab48a869a875b2": {
     "views": []
    },
    "4ef06aa49c5b4102b261069915e46509": {
     "views": []
    },
    "4f09871dee8f437aad117865228542f3": {
     "views": []
    },
    "4f373b01bacc4d48a4c02800797d6f20": {
     "views": []
    },
    "4f49344342314f979103cd4cd7c3e110": {
     "views": []
    },
    "4f656fca1a534bfcb94072723dafb238": {
     "views": []
    },
    "4f67ddc2b4264cbeabdfa457b923023d": {
     "views": []
    },
    "4f79cbc98d3742a9ba467875fe4acc1e": {
     "views": []
    },
    "4fb4eb12296e432b801f08cc893c9604": {
     "views": []
    },
    "50acc1045e574c5fb314456bd48231eb": {
     "views": []
    },
    "50cd7a703ae54e5fbcc6ea11179d393c": {
     "views": []
    },
    "50f81775bac24566be1b6293bb2c3a0d": {
     "views": []
    },
    "511607eef35046aaa99c40bbbc896f9b": {
     "views": []
    },
    "5129d5ccdb0146d1ba4fc4af9e1eca86": {
     "views": []
    },
    "5152ebbd51f34c5a87e0d96f3ce4c253": {
     "views": []
    },
    "517b70bd804b4aa1889fa0cc9e7b0118": {
     "views": []
    },
    "51b016d37aae42b981aca56424063ce0": {
     "views": []
    },
    "51b9be20693f47d385d214266e478568": {
     "views": []
    },
    "51ccedf1fe404a81b4b39215eb660c96": {
     "views": []
    },
    "51e3c5ec8a43450b85fb1f528c03e852": {
     "views": []
    },
    "51fd8ca27f3141d390f7c99459d92a0c": {
     "views": []
    },
    "51ff37cf7adc42bda06358a63278876d": {
     "views": []
    },
    "52979ea0ac9742a8b533ef284b66e0cf": {
     "views": []
    },
    "52a936a153414faea6d48611d856649a": {
     "views": []
    },
    "52acc12e98114bac98b24e8ec50ed18f": {
     "views": []
    },
    "5328c0ea36204ff8b7bc004259638cf9": {
     "views": []
    },
    "533091c59b2e4c019428231ee4b76928": {
     "views": []
    },
    "53a041de740a46b2a35225ba7888b9d6": {
     "views": []
    },
    "53a1fc503a554ed1907020f74139bc00": {
     "views": []
    },
    "53b87a5a9d71486cb5b108fec1a9baa3": {
     "views": []
    },
    "53ea03bd34424ca1b3dac155510f0066": {
     "views": []
    },
    "548c9968907c40a581ef8fc330b7cc0c": {
     "views": []
    },
    "54a9160cc838481b84f4ae2e4dcaa838": {
     "views": []
    },
    "54b50d72f05944ae88ff95b9ac220863": {
     "views": []
    },
    "54c4ee062f7242eb991c7545bd98cfff": {
     "views": []
    },
    "54fbdeafdfd742f79ffa24ad56e14cac": {
     "views": []
    },
    "550e82b7b4264768bab497303e292281": {
     "views": []
    },
    "5519643a9a954b70aa093d04cb1da93b": {
     "views": []
    },
    "5575083b0f3643c0bd33ece55db091ef": {
     "views": []
    },
    "55869f0d8a0342ae9126ca2843c73236": {
     "views": []
    },
    "5593732dd9f342509287738358753560": {
     "views": []
    },
    "5599ccef665646a89f020a2271056e77": {
     "views": []
    },
    "55b1bb2927fa45a0a6dce70223fd165c": {
     "views": []
    },
    "55c205962d28466794f488945a1c30bc": {
     "views": []
    },
    "55d20fb6555147bdb981f5035242b6df": {
     "views": []
    },
    "55dccd7726b849ef84f7e6ea2a861fab": {
     "views": []
    },
    "569f642272e0486281a0c3b216de509f": {
     "views": []
    },
    "572d7d74f4cf4805ab91b9622171a5c1": {
     "views": []
    },
    "573a9295cfce4f5ba10b90870d3284a7": {
     "views": []
    },
    "578bda90dcbc440db5ab8045ee44e0b6": {
     "views": []
    },
    "57ca91437cbd4a11be99e5a255169a44": {
     "views": []
    },
    "57ccdc12738c456392ee88dab8f219ef": {
     "views": []
    },
    "57eb2055f0f844c19ee90c0bb2a52004": {
     "views": []
    },
    "58169f5b45f14f92b87bd37639f4d0f4": {
     "views": []
    },
    "5823dc5b1e25482d970726fdaa122938": {
     "views": []
    },
    "58486c64747c46eb92e62c98f5cb313d": {
     "views": []
    },
    "58762196c42d42a7b6c9f1fa178ee078": {
     "views": []
    },
    "589f10c37c9f42bf8c19f28dcae7395c": {
     "views": []
    },
    "58b9006f12ab4ff6b0b61ecb7a702081": {
     "views": []
    },
    "58c16d33dea74be48de6a00b6765cd2f": {
     "views": []
    },
    "58fd359a32584ece954b578b88e33711": {
     "views": []
    },
    "591fd16e0ce84241af40b6f493df77e9": {
     "views": []
    },
    "592f57237e1e41a19774a984079645ee": {
     "views": []
    },
    "593bd911c0284b11a03286b75f89cefb": {
     "views": []
    },
    "59404e3f12144e98ba13e8c4e871bc4d": {
     "views": []
    },
    "5946445a99d64455a82fef00689b11d9": {
     "views": []
    },
    "59d278956ed94f519f4cd9ea588a984e": {
     "views": []
    },
    "59eb4af812d44edbbfa8c7f0c22be426": {
     "views": []
    },
    "5a0b9f7761304e70b488c636ef4a3321": {
     "views": []
    },
    "5a3d1b45bd39410f83071bd495a9cbae": {
     "views": []
    },
    "5a838e6d561948c1990d68e19d99ee79": {
     "views": []
    },
    "5ab6fd0ad4624a7ab762e1e6ea24d90f": {
     "views": []
    },
    "5ae6f7e98bb84da3bff84a4d4aa4ff6b": {
     "views": []
    },
    "5aef2f37182a4a1c9cc1b5bc99cba482": {
     "views": []
    },
    "5b05856736b140e7981f79485db1a731": {
     "views": []
    },
    "5b506e73091b49c8b7ed25166091acbd": {
     "views": []
    },
    "5b771d2c61cd4dd5bfce0e4852206af9": {
     "views": []
    },
    "5b7f43084cc44bf085c9466d3c93d84a": {
     "views": []
    },
    "5ba97b30d2c641519118e43fede99e88": {
     "views": []
    },
    "5c262265c78c4a8790f135aa3b02a28e": {
     "views": []
    },
    "5c54845285194054a067917d3383ba3f": {
     "views": []
    },
    "5c9a02d1b1404714b5f5c2e68a53616d": {
     "views": []
    },
    "5cc2f9ca68164789a799bd5ad564c231": {
     "views": []
    },
    "5cca3205e0b148cdb29b0c0233e7c981": {
     "views": []
    },
    "5ce46638cd8c41d28900fe27a2ebd581": {
     "views": []
    },
    "5d25bfd4a11844b49573aebb60200c1a": {
     "views": []
    },
    "5d701e493baa4fb9afadd092713d96af": {
     "views": []
    },
    "5d814dce8cc049b2a62cde749c12e3e4": {
     "views": []
    },
    "5da6d0a7bb70425bbde8a2ff34f9fde6": {
     "views": []
    },
    "5deef7e767964421b7b1e9ff25be665e": {
     "views": []
    },
    "5e2c3680dd2f4217bff586ee69bccbe7": {
     "views": []
    },
    "5eecb04be965436d9563d6babcb4a4be": {
     "views": []
    },
    "5f3b709c2bc5441da0b8cfaa7e6e4bbd": {
     "views": []
    },
    "5f46084fcb35490b8007d2232025bf33": {
     "views": []
    },
    "5f491e3d9d224407b734828b2dff2296": {
     "views": []
    },
    "5f68c10db5c44a8898ed28f85f36b686": {
     "views": []
    },
    "5fbebb65b5384fdf8bfe3a58547920c8": {
     "views": []
    },
    "5fe9d023d72d4b2fa3381b6f05325c1a": {
     "views": []
    },
    "5ff864b9427247f097314a865503d1db": {
     "views": []
    },
    "6041818da7714d009edbd795ed85a86c": {
     "views": []
    },
    "60676c170ac84904939a4c00ded6029a": {
     "views": []
    },
    "607be301a98d485f903b2bdc4dbd101c": {
     "views": []
    },
    "6096c50e9d8747af96521c6370e0d284": {
     "views": []
    },
    "610d2e87ad9a49ca93baada8eb6b2185": {
     "views": []
    },
    "617a321ef3af4e68951e532dd91a59af": {
     "views": []
    },
    "61b3038031b5433bbf0adae0b76b24fb": {
     "views": []
    },
    "61c03988e8e34eb7b1998fdc08c4ef28": {
     "views": []
    },
    "6232d01f1a5f410abac9fc1948ade1bd": {
     "views": []
    },
    "623daa282f854f9f800cfa4784addaa9": {
     "views": []
    },
    "624045ce567b47c1ae4c76cc817ce0d3": {
     "views": []
    },
    "6252fa11cd15498d8b1c2f0adc895485": {
     "views": []
    },
    "62539ac63e254a538ca29ee7423af58a": {
     "views": []
    },
    "62582c7778354d04a62da160867e62a9": {
     "views": []
    },
    "62b103b1768e4c07bed10cac471277bf": {
     "views": []
    },
    "62bb823cb4784e8aa40a6ed8bf79daec": {
     "views": []
    },
    "62beb486dc194434ac017480ed2ecb9c": {
     "views": []
    },
    "62f3eda7007b4b1b97182cf484ff3d8c": {
     "views": []
    },
    "6302c121e3ba4b2788a15c80798b578f": {
     "views": []
    },
    "638978ff6e8d43b2a9799ee70c124e2a": {
     "views": []
    },
    "63cc26f9d458473ca335fa2bc61bca80": {
     "views": []
    },
    "643c0c6c6ee840e698ce548b1f813085": {
     "views": []
    },
    "646dea98b00143f4a7f04446f5be59a4": {
     "views": []
    },
    "64caf2f573594711be25ed1616cd3b00": {
     "views": []
    },
    "65145dbd71aa41b2a66e391f9ab01d06": {
     "views": []
    },
    "657284a77a6c41f28559155c61c36cda": {
     "views": []
    },
    "65b8754235d74e9caabd85bd2809fa1b": {
     "views": []
    },
    "65c66d143c304e4b85d698278d682180": {
     "views": []
    },
    "6656456982154e258e74ec9786c39a0e": {
     "views": []
    },
    "667fac2b94dc4b4b8970f5cc3ae4d535": {
     "views": []
    },
    "669f1bea0e164dc29d42995e235cdf87": {
     "views": []
    },
    "66d2b7746cdb4903abe4805c09c88f61": {
     "views": []
    },
    "66e6b638a9404e08be9e671b11a6c7e9": {
     "views": []
    },
    "66f8c5a453844f4abaf2bea2c680ccd3": {
     "views": []
    },
    "674ecbdbccc744bcb5743a429d8a6e4b": {
     "views": []
    },
    "67b49e28eadd4aa78be8c3c032489ede": {
     "views": []
    },
    "68365bd81c454c1ba8a6513bc4d3e5cc": {
     "views": []
    },
    "6840b558327949a9ba24f20a865eacb7": {
     "views": []
    },
    "684acfb9ee2a4a6a9a04404adda29ad1": {
     "views": []
    },
    "68655fb3ef904587ab208444e3e8cb5f": {
     "views": []
    },
    "6888499ec95d436eafc495d2afbab04d": {
     "views": []
    },
    "699ac396798d48af985735a6fc1baeda": {
     "views": []
    },
    "69a74b7ebddd4f57b7cafb74e86a7e09": {
     "views": []
    },
    "69dab457f9694f22a384290f2bec8d82": {
     "views": []
    },
    "69e8ea7b4c1846208976b253d8aa2c9d": {
     "views": []
    },
    "6a0919ec1ee040d7b70bc4ad938b5236": {
     "views": []
    },
    "6a0b6767f58f41dfa1c64dfe9d02ebac": {
     "views": []
    },
    "6a0c3000fd8d4bc1865c685d9e5e2fee": {
     "views": [
      {
       "cell": {
        "cell_type": "code",
        "execution_count": 8,
        "metadata": {
         "collapsed": false,
         "scrolled": false,
         "trusted": true
        },
        "outputs": [
         {
          "name": "stdout",
          "output_type": "stream",
          "text": "{\n  \"stdin_port\": 35960, \n  \"ip\": \"127.0.0.1\", \n  \"control_port\": 47767, \n  \"hb_port\": 51156, \n  \"signature_scheme\": \"hmac-sha256\", \n  \"key\": \"a5750916-82d2-4b61-ad9e-95bc8b8fea06\", \n  \"kernel_name\": \"\", \n  \"shell_port\": 34000, \n  \"transport\": \"tcp\", \n  \"iopub_port\": 48178\n}\n\nPaste the above JSON into a file, and connect with:\n    $> ipython <app> --existing <file>\nor, if you are local, you can connect with just:\n    $> ipython <app> --existing /run/user/1000/jupyter/kernel-4c7eba9c-bfc6-43c1-974c-9a0ad6cb3327.json \nor even just:\n    $> ipython <app> --existing \nif this is the most recent IPython session you have started.\n"
         },
         {
          "data": {
           "text/html": "<script>\n        code_show=true;\n        function code_toggle() {\n         if (code_show){\n         $('div.input').hide();\n         } else {\n         $('div.input').show();\n         }\n         code_show = !code_show\n        }\n        $( document ).ready(code_toggle);\n        </script>\n        <a href=\"javascript:code_toggle()\">Source toggle.</a>",
           "text/plain": "<IPython.core.display.HTML object>"
          },
          "metadata": {},
          "output_type": "display_data"
         },
         {
          "name": "stdout",
          "output_type": "stream",
          "text": "UNO\nDUE\nTRE\nXX  <resources.Resources object at 0x7f9f8cb0e090>\ng_prj:  <resources.Resources object at 0x7f9f8cb0e090>\n"
         }
        ],
        "source": "%connect_info\nfrom cleaner import modules_cleaner ; modules_cleaner()\nfrom frontend import Frontend ; Frontend().show()"
       },
       "cell_index": 0,
       "root": true
      }
     ]
    },
    "6a3c5c41f2914ff3a1356816768a0d28": {
     "views": []
    },
    "6a7128f1e8b1440986214ade0c90ab45": {
     "views": []
    },
    "6a8eeda2f07d46a1aba8db02cea10c1a": {
     "views": []
    },
    "6aa2ce638d52446c8c65e4989ba89712": {
     "views": []
    },
    "6b61a158063243e0bac2aab02d1b226e": {
     "views": [
      {
       "cell": {
        "cell_type": "code",
        "execution_count": 8,
        "metadata": {
         "collapsed": false,
         "scrolled": false,
         "trusted": true
        },
        "outputs": [
         {
          "name": "stdout",
          "output_type": "stream",
          "text": "{\n  \"stdin_port\": 35960, \n  \"ip\": \"127.0.0.1\", \n  \"control_port\": 47767, \n  \"hb_port\": 51156, \n  \"signature_scheme\": \"hmac-sha256\", \n  \"key\": \"a5750916-82d2-4b61-ad9e-95bc8b8fea06\", \n  \"kernel_name\": \"\", \n  \"shell_port\": 34000, \n  \"transport\": \"tcp\", \n  \"iopub_port\": 48178\n}\n\nPaste the above JSON into a file, and connect with:\n    $> ipython <app> --existing <file>\nor, if you are local, you can connect with just:\n    $> ipython <app> --existing /run/user/1000/jupyter/kernel-4c7eba9c-bfc6-43c1-974c-9a0ad6cb3327.json \nor even just:\n    $> ipython <app> --existing \nif this is the most recent IPython session you have started.\n"
         },
         {
          "data": {
           "text/html": "<script>\n        code_show=true;\n        function code_toggle() {\n         if (code_show){\n         $('div.input').hide();\n         } else {\n         $('div.input').show();\n         }\n         code_show = !code_show\n        }\n        $( document ).ready(code_toggle);\n        </script>\n        <a href=\"javascript:code_toggle()\">Source toggle.</a>",
           "text/plain": "<IPython.core.display.HTML object>"
          },
          "metadata": {},
          "output_type": "display_data"
         },
         {
          "name": "stdout",
          "output_type": "stream",
          "text": "UNO\nDUE\nTRE\nXX  <resources.Resources object at 0x7f9f8cb0e090>\ng_prj:  <resources.Resources object at 0x7f9f8cb0e090>\n"
         }
        ],
        "source": "%connect_info\nfrom cleaner import modules_cleaner ; modules_cleaner()\nfrom frontend import Frontend ; Frontend().show()"
       },
       "cell_index": 0,
       "root": true
      }
     ]
    },
    "6b7e1482b884483e99128bda36b6b5b3": {
     "views": []
    },
    "6c06aaeeaa53477d8ccd6ea3c75d61a9": {
     "views": []
    },
    "6c0cbe099d0543f2ac0600a1631f984f": {
     "views": []
    },
    "6c0f7028439944498a502456cf704070": {
     "views": []
    },
    "6c87718d5d2f4811a87a939e8d584c9a": {
     "views": []
    },
    "6cf262718326475f84bd784747be788e": {
     "views": []
    },
    "6cf6332dab934b36afbaf18b52b4b751": {
     "views": []
    },
    "6d327d59fd98464fbbc6a9aec45fde0a": {
     "views": []
    },
    "6d98ebd6f43f496aa2a3db2d135d3ab3": {
     "views": []
    },
    "6d9a82d60e1e4bff861571dba1e34544": {
     "views": [
      {
       "cell": {
        "cell_type": "code",
        "execution_count": 8,
        "metadata": {
         "collapsed": false,
         "scrolled": false,
         "trusted": true
        },
        "outputs": [
         {
          "name": "stdout",
          "output_type": "stream",
          "text": "{\n  \"stdin_port\": 35960, \n  \"ip\": \"127.0.0.1\", \n  \"control_port\": 47767, \n  \"hb_port\": 51156, \n  \"signature_scheme\": \"hmac-sha256\", \n  \"key\": \"a5750916-82d2-4b61-ad9e-95bc8b8fea06\", \n  \"kernel_name\": \"\", \n  \"shell_port\": 34000, \n  \"transport\": \"tcp\", \n  \"iopub_port\": 48178\n}\n\nPaste the above JSON into a file, and connect with:\n    $> ipython <app> --existing <file>\nor, if you are local, you can connect with just:\n    $> ipython <app> --existing /run/user/1000/jupyter/kernel-4c7eba9c-bfc6-43c1-974c-9a0ad6cb3327.json \nor even just:\n    $> ipython <app> --existing \nif this is the most recent IPython session you have started.\n"
         },
         {
          "data": {
           "text/html": "<script>\n        code_show=true;\n        function code_toggle() {\n         if (code_show){\n         $('div.input').hide();\n         } else {\n         $('div.input').show();\n         }\n         code_show = !code_show\n        }\n        $( document ).ready(code_toggle);\n        </script>\n        <a href=\"javascript:code_toggle()\">Source toggle.</a>",
           "text/plain": "<IPython.core.display.HTML object>"
          },
          "metadata": {},
          "output_type": "display_data"
         },
         {
          "name": "stdout",
          "output_type": "stream",
          "text": "UNO\nDUE\nTRE\nXX  <resources.Resources object at 0x7f9f8cb0e090>\ng_prj:  <resources.Resources object at 0x7f9f8cb0e090>\n"
         }
        ],
        "source": "%connect_info\nfrom cleaner import modules_cleaner ; modules_cleaner()\nfrom frontend import Frontend ; Frontend().show()"
       },
       "cell_index": 0,
       "root": true
      }
     ]
    },
    "6db1cc4c47c64d7b9bf1a7cacaa23e14": {
     "views": []
    },
    "6de4103ec9ac435a80337f7f036f44cc": {
     "views": []
    },
    "6df149aa9ef54a458dbcb5a4a2135e6d": {
     "views": []
    },
    "6e11a2b88be94e9b9a359226d60bcdd3": {
     "views": []
    },
    "6e28e9de69fb4b58ad42c7838c89c704": {
     "views": []
    },
    "6e60cd0e18ea49e1b441f9b7214d2ac7": {
     "views": []
    },
    "6eabcae6413f496885f041abb6a6034f": {
     "views": []
    },
    "6edb306ea21d4c25af7469d5a48095be": {
     "views": []
    },
    "6f9728bd5b43468fb4e9f3aab9840bc5": {
     "views": []
    },
    "6f9da6c5584c413593c1d0d2878022ed": {
     "views": []
    },
    "6fa022e3daa547b692389c52cc5adb68": {
     "views": []
    },
    "6fa6b66f05d34455ac73ea450e46a8fe": {
     "views": []
    },
    "6fbdaba9af494aa3a3a841a517db992d": {
     "views": []
    },
    "6ffc903283e0443285e71900424cfdf6": {
     "views": []
    },
    "7045be1939ec463981e578aa60cd3691": {
     "views": []
    },
    "706b14f2f009422ea43b8bd02deaf862": {
     "views": []
    },
    "70cb6b93a85d449db486b15ef5198931": {
     "views": []
    },
    "70cbabfae3d74ca98e557c8037dd8c98": {
     "views": []
    },
    "70d89faa5d13452084e17c9579abe80f": {
     "views": []
    },
    "711865e2cd64473ab4ac03ca1a7d6ca8": {
     "views": []
    },
    "7147743b196b4a5eb4c49fa690961c1c": {
     "views": []
    },
    "717ca2fd18c24c8bafe96c7dc3652e99": {
     "views": []
    },
    "7189978a35aa40dba3f81800f555c5dc": {
     "views": []
    },
    "725b3846578d49f59d0ad374e0d25c5b": {
     "views": []
    },
    "727b4cf5d346471ca133f53d66487ed1": {
     "views": []
    },
    "729493edda9d4489959189f82b14e248": {
     "views": []
    },
    "72b2773f1e384dd9ba5cbbe013cc7869": {
     "views": []
    },
    "72e8a0c47c66477cbed39fb773f928fc": {
     "views": []
    },
    "72fa5b3461c043ffbd253683c578e02f": {
     "views": []
    },
    "7316e01a26fe4c8bb89a67dbbd0b4ce0": {
     "views": []
    },
    "7361bea4528649b4a78af81fef477bac": {
     "views": []
    },
    "7388d1261dde42e5beae4b407b805a52": {
     "views": []
    },
    "73c66e2307dc4650bfcbf23205003b3c": {
     "views": []
    },
    "73d74dd441d04b3ca1304792567ccfcd": {
     "views": []
    },
    "742d21146b0c4e54b486bcf9a5b59478": {
     "views": []
    },
    "743b274829b34a699fd707bc8411c945": {
     "views": []
    },
    "747588bd78fd4fe4b4bf31b39c93b392": {
     "views": []
    },
    "7476761613d344938ba48b58c8c99eea": {
     "views": []
    },
    "749907629d9a4a3a8010dbb964030e05": {
     "views": []
    },
    "749a21fac4ce43b0956b17de72726e47": {
     "views": []
    },
    "74a59818184d4cb2885f7d078287e25c": {
     "views": []
    },
    "74b0b22ad22c4070902c8c7a6325bde0": {
     "views": []
    },
    "74b87b3f5d3345b9a3e4126db25080dd": {
     "views": []
    },
    "750ea089e5314604ae5a566da85992ab": {
     "views": []
    },
    "7518ea51e84642d3927b2ca650e7d08b": {
     "views": []
    },
    "75679a49febe4ba28ec1f793335ff3c9": {
     "views": []
    },
    "759c91c2e6b840d3a2235bbf7903aa36": {
     "views": []
    },
    "75e462d1161f48b4ad29cd65d60c1e43": {
     "views": []
    },
    "75ef035dd082499295f0e351200da1ce": {
     "views": []
    },
    "7618196b820b45e1b0329568db6756c2": {
     "views": []
    },
    "763226908cfe45fe98fa525834175d2c": {
     "views": []
    },
    "768bc8147edc4c528564b459bed8a389": {
     "views": []
    },
    "76e2a5ab29694047975a855e4005dcca": {
     "views": []
    },
    "775430ecc3604e8aa023d7bbb60e9a09": {
     "views": []
    },
    "77e842e62c2d4e97a401acc02bdcd29f": {
     "views": []
    },
    "7856432d13f84e08896e10e5c802d8e9": {
     "views": []
    },
    "788111f085fa4f818e66a918b569f5d5": {
     "views": []
    },
    "78db5335e8f84a0f851aa32d63e7be2d": {
     "views": []
    },
    "78ec9191e56d4bdf89d9bc0c2520963f": {
     "views": []
    },
    "796a91a21a0149ada22974dcfc183555": {
     "views": []
    },
    "79bd4ebae5d94266988a5738cdb5a6c9": {
     "views": []
    },
    "7a1171100cfe4fe8bc488d4f652e5bd9": {
     "views": []
    },
    "7a19586c19674e029cfa708cd46db199": {
     "views": []
    },
    "7a1fc0add3b14fb2960ba8889d1e443d": {
     "views": []
    },
    "7a547046666341aaae1232ff1d2f5507": {
     "views": []
    },
    "7a7e87d735924962abfa98a1d2846f90": {
     "views": []
    },
    "7a8ef846f35a43e3a1eecab342a89890": {
     "views": []
    },
    "7aa7a14a72f04cd682038983f2a26807": {
     "views": []
    },
    "7adf18a67d3745748adb9ebab64095b3": {
     "views": []
    },
    "7b19f6e2aadf41eabcfa3f3b8e2da44f": {
     "views": []
    },
    "7b63038992d74eab883b3b1b1fe25163": {
     "views": []
    },
    "7b7dd45040e3497d927eee6c411857b0": {
     "views": []
    },
    "7bac8002901d41a5bd57010ceb3da74f": {
     "views": []
    },
    "7bb6483de3ef49d0b8b9cbc9760acf1d": {
     "views": []
    },
    "7bdec5d961ea4bd1a5cd2c73e733f0a0": {
     "views": []
    },
    "7bede49c6cf74b48bce8002836acff42": {
     "views": []
    },
    "7c0318fffba54d6da5b7cde6fa605b6b": {
     "views": []
    },
    "7c3eed43a59d40f89f0bd60b2d04ae03": {
     "views": []
    },
    "7c4131c0da0c4fba84971ebe3cf2757b": {
     "views": []
    },
    "7cd5b1542125487d8d7e66f84a1c301b": {
     "views": []
    },
    "7d141483abc442348915492504ac62fe": {
     "views": []
    },
    "7dee033434aa46c28822f7d3a61ee92f": {
     "views": []
    },
    "7e33bb0ecc23454fb404690c07f11839": {
     "views": []
    },
    "7e8dccc3fb6946e8b3e922bf89131aca": {
     "views": []
    },
    "7e9d9521e70d4683bf561697378eba65": {
     "views": []
    },
    "7ee09a8b479e472e98d8fd37385bd85c": {
     "views": []
    },
    "7eeca270b5b143bca3e05349f5a9a496": {
     "views": []
    },
    "7ef2934cbe1b48459bed881069b0f2f3": {
     "views": []
    },
    "7ef638db0a0842fda6b2db826c200aa3": {
     "views": []
    },
    "7f0fd58e0b9841809a34439a40cfedb1": {
     "views": []
    },
    "7f191dc893f94c79b3217f7ad758fa19": {
     "views": []
    },
    "7f3f3c12b82d4726a5d50e1457d67401": {
     "views": []
    },
    "7f7ed15ef68341daa13f1ad59ed06ac8": {
     "views": []
    },
    "7facef2da68f4547afdbae61a829b552": {
     "views": []
    },
    "7fe15fb4912f40e48b3bfc60d2be994a": {
     "views": []
    },
    "801d248bb4ff41bd918da52b9b689f3b": {
     "views": []
    },
    "8081f7ef0e5b48e48c2d4b7c96cfcb37": {
     "views": []
    },
    "80aa862da48f4c19a4a7324c7d9f0c06": {
     "views": []
    },
    "80b55c8d555148cba1ddc06a3480aeb8": {
     "views": []
    },
    "80c3d1427ced4b98b3e65bcd239c001e": {
     "views": []
    },
    "80d1fca5a60c47938acd04f97d91c8d4": {
     "views": []
    },
    "810cd695bbc441c583296f4980e8ae0c": {
     "views": []
    },
    "81218905f1474137a18ca61c20b7ab2f": {
     "views": []
    },
    "812946f68f7744fbb1b3d39cbeef1644": {
     "views": []
    },
    "8160b18782e945a383a2034843b74c7b": {
     "views": []
    },
    "81a9dff5574c4a0c95163f64d468afdf": {
     "views": []
    },
    "81b6304307f04f409333c5bece36e54d": {
     "views": []
    },
    "81f0fd8c3d6c49dfa8e0045325444936": {
     "views": []
    },
    "822aa334dad64ba1b7fce99cc0e3ee0b": {
     "views": []
    },
    "82ba5ee3c901457eab0e88df223b3c13": {
     "views": []
    },
    "82fd4632647844a78b0ed5ba5e841a66": {
     "views": []
    },
    "830fefeb2c12458daa445a231b96779f": {
     "views": []
    },
    "837c726182a548dc945c8d551202d524": {
     "views": []
    },
    "83c5dc3f54ec4d159edd707425d4d7b8": {
     "views": [
      {
       "cell": {
        "cell_type": "code",
        "execution_count": 8,
        "metadata": {
         "collapsed": false,
         "scrolled": false,
         "trusted": true
        },
        "outputs": [
         {
          "name": "stdout",
          "output_type": "stream",
          "text": "{\n  \"stdin_port\": 35960, \n  \"ip\": \"127.0.0.1\", \n  \"control_port\": 47767, \n  \"hb_port\": 51156, \n  \"signature_scheme\": \"hmac-sha256\", \n  \"key\": \"a5750916-82d2-4b61-ad9e-95bc8b8fea06\", \n  \"kernel_name\": \"\", \n  \"shell_port\": 34000, \n  \"transport\": \"tcp\", \n  \"iopub_port\": 48178\n}\n\nPaste the above JSON into a file, and connect with:\n    $> ipython <app> --existing <file>\nor, if you are local, you can connect with just:\n    $> ipython <app> --existing /run/user/1000/jupyter/kernel-4c7eba9c-bfc6-43c1-974c-9a0ad6cb3327.json \nor even just:\n    $> ipython <app> --existing \nif this is the most recent IPython session you have started.\n"
         },
         {
          "data": {
           "text/html": "<script>\n        code_show=true;\n        function code_toggle() {\n         if (code_show){\n         $('div.input').hide();\n         } else {\n         $('div.input').show();\n         }\n         code_show = !code_show\n        }\n        $( document ).ready(code_toggle);\n        </script>\n        <a href=\"javascript:code_toggle()\">Source toggle.</a>",
           "text/plain": "<IPython.core.display.HTML object>"
          },
          "metadata": {},
          "output_type": "display_data"
         },
         {
          "name": "stdout",
          "output_type": "stream",
          "text": "UNO\nDUE\nTRE\nXX  <resources.Resources object at 0x7f9f8cb0e090>\ng_prj:  <resources.Resources object at 0x7f9f8cb0e090>\n"
         }
        ],
        "source": "%connect_info\nfrom cleaner import modules_cleaner ; modules_cleaner()\nfrom frontend import Frontend ; Frontend().show()"
       },
       "cell_index": 0,
       "root": true
      }
     ]
    },
    "847e3e17576043cf825ed445b373c181": {
     "views": []
    },
    "84ed2ca12f8549c29c4da7f81b7abd7e": {
     "views": []
    },
    "85376d99d43549dbbd31bb20d50335a5": {
     "views": []
    },
    "8560e5e334c74eb88a13d1d9fcff1422": {
     "views": []
    },
    "8595fef7eff14a4bb2ba7819a47a2451": {
     "views": []
    },
    "85f40d72b818444b96ec221a4b8cc605": {
     "views": []
    },
    "862067893eac444e9ad2225e4f0f995d": {
     "views": []
    },
    "870743ea9b414d13a0d5c0b78ea5d375": {
     "views": []
    },
    "87b4cda36b7b476ea6f3d3f41842a43c": {
     "views": []
    },
    "87b9647a6ff046f99cfadb0c5285ebcf": {
     "views": []
    },
    "87f50607a7194421bc15fd0b8ac57445": {
     "views": []
    },
    "881d1ffcff4a4ba4a03deebba2dcc652": {
     "views": []
    },
    "8877bd3dc1c84e2c81102457e2d006e8": {
     "views": []
    },
    "88dfc1fd13e74738a0a66dd02b18ea7e": {
     "views": []
    },
    "89062ee3c111485295dad246a1ada105": {
     "views": []
    },
    "892a165c388749e0984e60569167c55f": {
     "views": []
    },
    "892e5453dc3b4f2fafdca103f410de98": {
     "views": []
    },
    "89352657511c43de86467f09ef1f95db": {
     "views": []
    },
    "893d1f66512642b99abc6ffcb4589002": {
     "views": []
    },
    "89a9b634bebd4a389ffb6962ce3c6ec6": {
     "views": []
    },
    "8a3f4682eff14ac98eedd71a38c8a575": {
     "views": []
    },
    "8a460d69eb3948608744fa623ecf19d2": {
     "views": []
    },
    "8aba99ed441d4139b8a0f9e6ce820f48": {
     "views": []
    },
    "8b05e74506c64e46a4a63aa362ce4348": {
     "views": []
    },
    "8b1a960de6d54644abb0b2cf574f4426": {
     "views": []
    },
    "8b1f4c52b8ea4366be2b9c0fc57836cf": {
     "views": []
    },
    "8b39d582be46467ebd07aaee1cf4a1d3": {
     "views": [
      {
       "cell": {
        "cell_type": "code",
        "execution_count": 8,
        "metadata": {
         "collapsed": false,
         "scrolled": false,
         "trusted": true
        },
        "outputs": [
         {
          "name": "stdout",
          "output_type": "stream",
          "text": "{\n  \"stdin_port\": 35960, \n  \"ip\": \"127.0.0.1\", \n  \"control_port\": 47767, \n  \"hb_port\": 51156, \n  \"signature_scheme\": \"hmac-sha256\", \n  \"key\": \"a5750916-82d2-4b61-ad9e-95bc8b8fea06\", \n  \"kernel_name\": \"\", \n  \"shell_port\": 34000, \n  \"transport\": \"tcp\", \n  \"iopub_port\": 48178\n}\n\nPaste the above JSON into a file, and connect with:\n    $> ipython <app> --existing <file>\nor, if you are local, you can connect with just:\n    $> ipython <app> --existing /run/user/1000/jupyter/kernel-4c7eba9c-bfc6-43c1-974c-9a0ad6cb3327.json \nor even just:\n    $> ipython <app> --existing \nif this is the most recent IPython session you have started.\n"
         },
         {
          "data": {
           "text/html": "<script>\n        code_show=true;\n        function code_toggle() {\n         if (code_show){\n         $('div.input').hide();\n         } else {\n         $('div.input').show();\n         }\n         code_show = !code_show\n        }\n        $( document ).ready(code_toggle);\n        </script>\n        <a href=\"javascript:code_toggle()\">Source toggle.</a>",
           "text/plain": "<IPython.core.display.HTML object>"
          },
          "metadata": {},
          "output_type": "display_data"
         },
         {
          "name": "stdout",
          "output_type": "stream",
          "text": "UNO\nDUE\nTRE\nXX  <resources.Resources object at 0x7f9f8cb0e090>\ng_prj:  <resources.Resources object at 0x7f9f8cb0e090>\n"
         }
        ],
        "source": "%connect_info\nfrom cleaner import modules_cleaner ; modules_cleaner()\nfrom frontend import Frontend ; Frontend().show()"
       },
       "cell_index": 0,
       "root": true
      }
     ]
    },
    "8b81e8a6a8e74d27895e2784f2bcb130": {
     "views": []
    },
    "8b9ff6c835374ddf8158a4ed477f6088": {
     "views": []
    },
    "8bd829ece8444aa68d09f35f1ff71ac2": {
     "views": []
    },
    "8bd93e834fb143919bbae52607337cc3": {
     "views": []
    },
    "8c367640afd34346927f2d445cbe16a7": {
     "views": []
    },
    "8c37860f10594d57b2e2833c5b8fcd69": {
     "views": []
    },
    "8c7e75d5341b4abe8e35f2c7a7216a1a": {
     "views": []
    },
    "8cb93c51ae2741cb8ac1822897c03061": {
     "views": []
    },
    "8cc773bfd89f44e18582de912ba21210": {
     "views": []
    },
    "8d0c6755d6df42fe8013efc7db4b51df": {
     "views": []
    },
    "8d447b4b20924290b2b6cf28f7a9c9f4": {
     "views": []
    },
    "8d98924da81f4a098c8c49913328f1e9": {
     "views": []
    },
    "8da84eb0e41c486ab02bf8fceb070629": {
     "views": []
    },
    "8dd359694b8b47e2aa1c76ecc74552e0": {
     "views": []
    },
    "8dedad3a271f4f359be3dc41284ebdfc": {
     "views": []
    },
    "8dfa9551113c4a2f87030f894687c5fd": {
     "views": []
    },
    "8e368c151d4442d0bb7cae95186b3aef": {
     "views": []
    },
    "8e914fbb43654a37b1b0d0ab3b077812": {
     "views": []
    },
    "8f6c7c2ce46f40a3a88a8811a8d93883": {
     "views": []
    },
    "8f7ce043d21141398d3f2a0205d33341": {
     "views": []
    },
    "8f86b8d7409c45188ba382af338fb15d": {
     "views": []
    },
    "8fc3f3e19cf24fed957a80f9150b8506": {
     "views": []
    },
    "8fd3da9c4f864a0991082945fbfd01f3": {
     "views": []
    },
    "90143705e1fe42b7a3658c5864f6a1c2": {
     "views": []
    },
    "9021699c33514a47bd747ca3c1d37927": {
     "views": []
    },
    "90485ade8fe14e4aacfee42a3aa5f93a": {
     "views": []
    },
    "909905c500ae4677830fb3be0720c06d": {
     "views": []
    },
    "90b1b3d75f62487db9d73f29691fbd30": {
     "views": []
    },
    "90f4044eaf8c4372a57d33ee1bcf5053": {
     "views": []
    },
    "9123255166f94197bf3b55f3ccc076a5": {
     "views": []
    },
    "9135d9d613854e53882b1f188df422dd": {
     "views": []
    },
    "914329ca30ba4919b58aca66693d1602": {
     "views": []
    },
    "918022f793654034a497cac73e5d371b": {
     "views": []
    },
    "918ad58a887b40a2bd186282eeedcdc0": {
     "views": []
    },
    "91f268ce80804976ac1f5b20284b91f8": {
     "views": []
    },
    "932591f5d5794767b51db7217d5ecff5": {
     "views": []
    },
    "93e225a940a54adab19555fbbe19eb1c": {
     "views": []
    },
    "9403841a69ed432b902f4566f01ae33f": {
     "views": []
    },
    "9430b4e975534395b0d9215871fd24e2": {
     "views": []
    },
    "946eaf35078c4820a809ca998a3bbc29": {
     "views": []
    },
    "94845744cf7f46109f0ccff10a4f7c2b": {
     "views": []
    },
    "9497fc572ac64204a6daa12f4b63d7be": {
     "views": []
    },
    "94a7af5abcc64f90a6ea25a05d34bdf8": {
     "views": []
    },
    "94b8ba275b9b4c0e85e735b601da2c96": {
     "views": []
    },
    "952db9ae4e2d4700ba74d5b0e91c5591": {
     "views": []
    },
    "9539903220f24ac3948b664db524f2b6": {
     "views": []
    },
    "956af865ed464e4d83a12aaead890f48": {
     "views": []
    },
    "95f3ec96a69441d898831cd84b68216f": {
     "views": []
    },
    "96794e3cdfe841e6ba85ce0bf0ca287f": {
     "views": []
    },
    "9690a3cd8e0843d791c855bd7c7cfdf6": {
     "views": []
    },
    "9694271cfa84409787e92caea4fb06d6": {
     "views": []
    },
    "97cec42de38a4377b67863eaf373e387": {
     "views": []
    },
    "986b1702f61b4016b6e84bf1f3ebef04": {
     "views": []
    },
    "989331b012084abaa3cbc99436b81989": {
     "views": []
    },
    "98b2ef1d1db54c2cb9444538b20d8f1b": {
     "views": []
    },
    "98c2e695c5c64bcd93413ce7cf5bca5c": {
     "views": []
    },
    "98dfd1982f6b44899c1de4d659bd385b": {
     "views": []
    },
    "98e645aa4958402dbfc0460d58663e56": {
     "views": []
    },
    "9928f9b5daf24d468390059a984c06ce": {
     "views": []
    },
    "993243712f8f4b6d988a9c2407deacc2": {
     "views": []
    },
    "9939f72754b94e2f820ef566e060c8f0": {
     "views": []
    },
    "993a849a48e24c5ebd9df0a358729f25": {
     "views": []
    },
    "99578b46941d460aa6a62f38edd6be13": {
     "views": []
    },
    "996b18d54fb94422b6f4eabb0ecf887c": {
     "views": []
    },
    "996f5cdda0f54b65b30b2b3b1c6645a5": {
     "views": []
    },
    "9a387cd414b049c0add43e456886abd7": {
     "views": []
    },
    "9a43ef0bcbed4a0abcf1bd0d83af4ab0": {
     "views": []
    },
    "9a892b34d9f74b5bacccc3bef3b0615a": {
     "views": []
    },
    "9aa03be5853c4bd798d3754477b27033": {
     "views": []
    },
    "9acdf099a5e248e0aa9ec7cad6e8ffad": {
     "views": []
    },
    "9b0354eca1d74018822500d9eb39fcd0": {
     "views": []
    },
    "9ba05cca2c674bc1985f9893ce2d9d5a": {
     "views": []
    },
    "9cedc07ec1854f59bb3dd8072e27db71": {
     "views": []
    },
    "9d0ac5c4922b41d39f74e9ef9644fb5a": {
     "views": []
    },
    "9d4b506fd15b407e8942dac3d9767591": {
     "views": []
    },
    "9d510274ca504d80a4b46dd14a2c55fb": {
     "views": []
    },
    "9e0155e20232475e91f42bb1aecb4208": {
     "views": []
    },
    "9e07b86fdd6a487c8362623336e8d428": {
     "views": []
    },
    "9e0a69a93ee54193a40d628b15d9515b": {
     "views": []
    },
    "9e4ae86b75224fb799ce2db173b12b7a": {
     "views": []
    },
    "9e5dccaa0fcd4df88e5baf41edb9d915": {
     "views": []
    },
    "9e66727ffb7543cfac47b80c37d5192a": {
     "views": []
    },
    "9e6b3517b9074bae9e1e08fbf5d8e907": {
     "views": []
    },
    "9e7115816e8242868e5b0e0c3dab0469": {
     "views": []
    },
    "9ea2528c6b7d41d4a6adf6a1773989b0": {
     "views": []
    },
    "9eb70899434545608cd854522a72a7f6": {
     "views": []
    },
    "9eb776ebe0754081ba37e7b2384532d7": {
     "views": []
    },
    "9eed63214dd64ac29ac34a49a86b2baa": {
     "views": []
    },
    "9f354536365e4c668c70658d41aec7a1": {
     "views": []
    },
    "9fe349cdd299489c85a6d5beb3929643": {
     "views": []
    },
    "a042f15003234b14ae5a384e65426c51": {
     "views": []
    },
    "a0702fd79f784d65a5804b7552ee2564": {
     "views": []
    },
    "a095ec862306437687096c9fb49d1b01": {
     "views": []
    },
    "a0d2e2440acb49fd808e0ebbc4493e16": {
     "views": []
    },
    "a123f7a65ef244a896b314c9f438de62": {
     "views": []
    },
    "a162429155a449998bae4a8ec138f14d": {
     "views": []
    },
    "a1ccc819385e449aa7d3279de0ce7ec2": {
     "views": []
    },
    "a1cd365dfcd24347940a37c5a37c2b97": {
     "views": []
    },
    "a1e242cea40d4cfb83f0dcd4a5319333": {
     "views": []
    },
    "a1e872af1a8f4df18ddb577e69036727": {
     "views": []
    },
    "a245a7a88b9146d88f810836ab6ddf85": {
     "views": []
    },
    "a26212f213a247bbafcdcabfee890238": {
     "views": []
    },
    "a291bf6286754cf6af780519d75098df": {
     "views": []
    },
    "a2f7e820342f41aab3db1ad50dd88e4f": {
     "views": []
    },
    "a3140d194b774909b7ed4d91e13093a2": {
     "views": []
    },
    "a325cd353dbf4f359b4971bb4db77d38": {
     "views": []
    },
    "a326f4fda9564e6d91cb4ac18cd45836": {
     "views": []
    },
    "a3c487bb150c45e3bb39407e12d8040e": {
     "views": []
    },
    "a4066c39a9434b2dbb3ec184c81e3006": {
     "views": []
    },
    "a4bf2cdddf794dc996eb430ff71fb4f0": {
     "views": []
    },
    "a4dc6b11c01647b6987536d9a8f2bd8d": {
     "views": []
    },
    "a50f71ab4b7941628fb1de3ae09b90e8": {
     "views": []
    },
    "a52d37b0015d441a9df4ed7005b3b3cd": {
     "views": []
    },
    "a55b7a12cadc4b88b1acc3905da72607": {
     "views": []
    },
    "a563064ac59840c886738bea2408c471": {
     "views": []
    },
    "a5640770597841659d1ff03ae2484ac9": {
     "views": []
    },
    "a5802935197c4748851ba0185e4dcab2": {
     "views": []
    },
    "a590b4ca01c44ebf91e4f6fb41a63517": {
     "views": []
    },
    "a5e821cf284d4cb088c052eed7859044": {
     "views": []
    },
    "a66425b32b014045881009582e2bf0a5": {
     "views": []
    },
    "a6d39681ac7348d0bb1122e31379db91": {
     "views": []
    },
    "a70f40ab49b34c96aae54d9f822330dd": {
     "views": []
    },
    "a7389b5c03384b9a99c1759189cca667": {
     "views": []
    },
    "a758e5e0afb14c3e837249b8ba979582": {
     "views": []
    },
    "a7f9cfff5a334e0a99732f318c74ba7d": {
     "views": []
    },
    "a814c2e85a364d0f8c87d82bdc4e93e7": {
     "views": []
    },
    "a81dacc9e77a4f95a71c5f87b02faa91": {
     "views": []
    },
    "a8243b645beb4eab98c9996217127b00": {
     "views": []
    },
    "a82feefc3d534801a65cf4ff67adc644": {
     "views": []
    },
    "a8aaa64a361d4a18b3883ed2ac7c37bb": {
     "views": []
    },
    "a8d57b7d595048a8bc89239cd949b298": {
     "views": []
    },
    "a8ee34b90e8f4d6d8c79a780cf874ecd": {
     "views": []
    },
    "a96acb0d2a6d443eaf79dcdc3b1f98e6": {
     "views": []
    },
    "aa6636ff097a49f5a5cab9af5c796b85": {
     "views": []
    },
    "aa9e59b7531e433596997d95bc502b81": {
     "views": []
    },
    "ab615067713548de85275880d34f28b9": {
     "views": []
    },
    "ab6339e81d4944cf9d1b13288b1328f6": {
     "views": []
    },
    "ab744834e31e4997ab5169fa6afc0019": {
     "views": []
    },
    "ac19f33867424a94a2e184ec1f357628": {
     "views": []
    },
    "ac321d04f2a944f8bf8f575f5e86ea8e": {
     "views": []
    },
    "ac85d9cbf94f4591a9c46b384a6f1669": {
     "views": []
    },
    "ac9d8b3366aa457297eb2b73e6c976b9": {
     "views": []
    },
    "aca3f9501d294e3bba5304c80f173cc0": {
     "views": []
    },
    "ad1d4ff30d6d46aabf3c1fa8bf0e60e5": {
     "views": []
    },
    "ad287dafb6454004a90d63678a9477a0": {
     "views": []
    },
    "ad47eddd46c0460d84fa1208832a6e8a": {
     "views": []
    },
    "ad837a1382214a2ebf3fdc30d137650b": {
     "views": []
    },
    "adf47fd940ae4aedb718a4949912c609": {
     "views": []
    },
    "ae5bc200057449c58919a922d9b48189": {
     "views": []
    },
    "ae6544af231a4e0fb2e259464bb2ed66": {
     "views": []
    },
    "ae9f19532991418db4e563057f7f81d2": {
     "views": []
    },
    "aeab62e3092a4d9c82494456c119c084": {
     "views": []
    },
    "aeaf54b318fc4e34bf6346904d81a829": {
     "views": []
    },
    "aecbe91b78f34d31a10c699660558239": {
     "views": []
    },
    "af287d2d427f45858f0e496b322ea2f9": {
     "views": []
    },
    "af4d5e8da9e04e728ac5cf17003df682": {
     "views": []
    },
    "afb2ffab362147f08f7e0ed898abd2fb": {
     "views": []
    },
    "afd87c8fa5474319ad7dc0b18a03d8e5": {
     "views": []
    },
    "b009af0aed5a468093357671941a74d4": {
     "views": []
    },
    "b057896e38344c31a4345ac0358f8059": {
     "views": []
    },
    "b087c4bd50aa48069d20e6894aa620f4": {
     "views": []
    },
    "b09b04dcced04e3cbe15bc457ac02e5f": {
     "views": []
    },
    "b0b18e7b98cb4595be4dfa83b1a5fb12": {
     "views": []
    },
    "b12ab0cf182b4357b942c5f3e2e85a71": {
     "views": []
    },
    "b16bff1fc27a44d38bd655d29a0f0038": {
     "views": []
    },
    "b16da3a904cc452b80b5c853f42aa56b": {
     "views": []
    },
    "b1b6da6733c64f75917c8534d01a94ec": {
     "views": []
    },
    "b1ca6e0006a845039e1948d2ccd6bb93": {
     "views": []
    },
    "b1e760b0022846908f972d2bcbb293cb": {
     "views": []
    },
    "b2606cc4ce8e42cca45559acfc7183c8": {
     "views": []
    },
    "b270eaea44ff4076bf6770c90a5090ef": {
     "views": []
    },
    "b2a2bfe59086416da14cf6ce31b99834": {
     "views": []
    },
    "b2a7d28635e349c9944b350b009a4316": {
     "views": []
    },
    "b2b19f8776f044688ab8f81ed8b786da": {
     "views": []
    },
    "b2dc9a37e7f642139f588e2a48686d90": {
     "views": []
    },
    "b2dccf43862a4e70a42016de6188f929": {
     "views": []
    },
    "b311eff065cd4ee080f5847ffbaef6bd": {
     "views": []
    },
    "b3235a31cbae4e17b7cab5989e11e29a": {
     "views": []
    },
    "b3271042d6bf431c99a7295d80a041bc": {
     "views": []
    },
    "b3320f81f22f41a8ab96b590cbf53ce9": {
     "views": []
    },
    "b3480f1258f2421f87fac6c2ed5ea980": {
     "views": []
    },
    "b390f8476b7448b094026885ddbc0c74": {
     "views": [
      {
       "cell": {
        "cell_type": "code",
        "execution_count": 8,
        "metadata": {
         "collapsed": false,
         "scrolled": false,
         "trusted": true
        },
        "outputs": [
         {
          "name": "stdout",
          "output_type": "stream",
          "text": "{\n  \"stdin_port\": 35960, \n  \"ip\": \"127.0.0.1\", \n  \"control_port\": 47767, \n  \"hb_port\": 51156, \n  \"signature_scheme\": \"hmac-sha256\", \n  \"key\": \"a5750916-82d2-4b61-ad9e-95bc8b8fea06\", \n  \"kernel_name\": \"\", \n  \"shell_port\": 34000, \n  \"transport\": \"tcp\", \n  \"iopub_port\": 48178\n}\n\nPaste the above JSON into a file, and connect with:\n    $> ipython <app> --existing <file>\nor, if you are local, you can connect with just:\n    $> ipython <app> --existing /run/user/1000/jupyter/kernel-4c7eba9c-bfc6-43c1-974c-9a0ad6cb3327.json \nor even just:\n    $> ipython <app> --existing \nif this is the most recent IPython session you have started.\n"
         },
         {
          "data": {
           "text/html": "<script>\n        code_show=true;\n        function code_toggle() {\n         if (code_show){\n         $('div.input').hide();\n         } else {\n         $('div.input').show();\n         }\n         code_show = !code_show\n        }\n        $( document ).ready(code_toggle);\n        </script>\n        <a href=\"javascript:code_toggle()\">Source toggle.</a>",
           "text/plain": "<IPython.core.display.HTML object>"
          },
          "metadata": {},
          "output_type": "display_data"
         },
         {
          "name": "stdout",
          "output_type": "stream",
          "text": "UNO\nDUE\nTRE\nXX  <resources.Resources object at 0x7f9f8cb0e090>\ng_prj:  <resources.Resources object at 0x7f9f8cb0e090>\n"
         }
        ],
        "source": "%connect_info\nfrom cleaner import modules_cleaner ; modules_cleaner()\nfrom frontend import Frontend ; Frontend().show()"
       },
       "cell_index": 0,
       "root": true
      }
     ]
    },
    "b3e4b60d351e416e93e44a7b87b68364": {
     "views": [
      {
       "cell": {
        "cell_type": "code",
        "execution_count": 8,
        "metadata": {
         "collapsed": false,
         "scrolled": false,
         "trusted": true
        },
        "outputs": [
         {
          "name": "stdout",
          "output_type": "stream",
          "text": "{\n  \"stdin_port\": 35960, \n  \"ip\": \"127.0.0.1\", \n  \"control_port\": 47767, \n  \"hb_port\": 51156, \n  \"signature_scheme\": \"hmac-sha256\", \n  \"key\": \"a5750916-82d2-4b61-ad9e-95bc8b8fea06\", \n  \"kernel_name\": \"\", \n  \"shell_port\": 34000, \n  \"transport\": \"tcp\", \n  \"iopub_port\": 48178\n}\n\nPaste the above JSON into a file, and connect with:\n    $> ipython <app> --existing <file>\nor, if you are local, you can connect with just:\n    $> ipython <app> --existing /run/user/1000/jupyter/kernel-4c7eba9c-bfc6-43c1-974c-9a0ad6cb3327.json \nor even just:\n    $> ipython <app> --existing \nif this is the most recent IPython session you have started.\n"
         },
         {
          "data": {
           "text/html": "<script>\n        code_show=true;\n        function code_toggle() {\n         if (code_show){\n         $('div.input').hide();\n         } else {\n         $('div.input').show();\n         }\n         code_show = !code_show\n        }\n        $( document ).ready(code_toggle);\n        </script>\n        <a href=\"javascript:code_toggle()\">Source toggle.</a>",
           "text/plain": "<IPython.core.display.HTML object>"
          },
          "metadata": {},
          "output_type": "display_data"
         },
         {
          "name": "stdout",
          "output_type": "stream",
          "text": "UNO\nDUE\nTRE\nXX  <resources.Resources object at 0x7f9f8cb0e090>\ng_prj:  <resources.Resources object at 0x7f9f8cb0e090>\n"
         }
        ],
        "source": "%connect_info\nfrom cleaner import modules_cleaner ; modules_cleaner()\nfrom frontend import Frontend ; Frontend().show()"
       },
       "cell_index": 0,
       "root": true
      }
     ]
    },
    "b3f5b04e27cc4c419891c649193d4dc9": {
     "views": []
    },
    "b427785e3adc42f1a39f1e4079c12b11": {
     "views": []
    },
    "b49a47b380194ac98db8d59b41c30cdb": {
     "views": []
    },
    "b551a8ce5f4b4bf2a6798fb3e4d6e4e2": {
     "views": []
    },
    "b58cdaea20cc4cf3b92da77e0b562b64": {
     "views": []
    },
    "b58d0a1fba834adfbac49fdab6e23b45": {
     "views": []
    },
    "b5e20297f6004248b7f8335548bc0bac": {
     "views": []
    },
    "b60e5eac7efd4e7292f69a4ee0a01be5": {
     "views": [
      {
       "cell": {
        "cell_type": "code",
        "execution_count": 8,
        "metadata": {
         "collapsed": false,
         "scrolled": false,
         "trusted": true
        },
        "outputs": [
         {
          "name": "stdout",
          "output_type": "stream",
          "text": "{\n  \"stdin_port\": 35960, \n  \"ip\": \"127.0.0.1\", \n  \"control_port\": 47767, \n  \"hb_port\": 51156, \n  \"signature_scheme\": \"hmac-sha256\", \n  \"key\": \"a5750916-82d2-4b61-ad9e-95bc8b8fea06\", \n  \"kernel_name\": \"\", \n  \"shell_port\": 34000, \n  \"transport\": \"tcp\", \n  \"iopub_port\": 48178\n}\n\nPaste the above JSON into a file, and connect with:\n    $> ipython <app> --existing <file>\nor, if you are local, you can connect with just:\n    $> ipython <app> --existing /run/user/1000/jupyter/kernel-4c7eba9c-bfc6-43c1-974c-9a0ad6cb3327.json \nor even just:\n    $> ipython <app> --existing \nif this is the most recent IPython session you have started.\n"
         },
         {
          "data": {
           "text/html": "<script>\n        code_show=true;\n        function code_toggle() {\n         if (code_show){\n         $('div.input').hide();\n         } else {\n         $('div.input').show();\n         }\n         code_show = !code_show\n        }\n        $( document ).ready(code_toggle);\n        </script>\n        <a href=\"javascript:code_toggle()\">Source toggle.</a>",
           "text/plain": "<IPython.core.display.HTML object>"
          },
          "metadata": {},
          "output_type": "display_data"
         },
         {
          "name": "stdout",
          "output_type": "stream",
          "text": "UNO\nDUE\nTRE\nXX  <resources.Resources object at 0x7f9f8cb0e090>\ng_prj:  <resources.Resources object at 0x7f9f8cb0e090>\n"
         }
        ],
        "source": "%connect_info\nfrom cleaner import modules_cleaner ; modules_cleaner()\nfrom frontend import Frontend ; Frontend().show()"
       },
       "cell_index": 0,
       "root": true
      }
     ]
    },
    "b6387ca03bba4b1db571d3eb2759fefd": {
     "views": []
    },
    "b643f2a486664b05834b8d505dddbf94": {
     "views": []
    },
    "b6699e2e5d0845b3932efbfc92b5c491": {
     "views": []
    },
    "b675af856678424aab8cb2cf12fd46e5": {
     "views": []
    },
    "b6945f84b7484f97810aea0e7c970b4a": {
     "views": []
    },
    "b6b94bb89b9f49598c2e3a7d1b40c982": {
     "views": []
    },
    "b6d7051d763a400c9edc6f5ce7872cae": {
     "views": []
    },
    "b719df46dcc2448e89976feb45665949": {
     "views": []
    },
    "b72225ac9af943e6b13d132449d5c6d1": {
     "views": []
    },
    "b73862e52e2145279119da8ab6a36ffc": {
     "views": []
    },
    "b76bb573cd554f0788edf970e8fcb512": {
     "views": []
    },
    "b7c65f4b72ce40d19ec77a5ef7d56f01": {
     "views": []
    },
    "b822650d03e54f329038b5b68ffb8898": {
     "views": []
    },
    "b86b7f186aac41a6bcdfc45e9771bf9c": {
     "views": []
    },
    "b87111ac6aa94fd8bbbfceb340ead37d": {
     "views": []
    },
    "b87d680f53e34556a1d264325244efcd": {
     "views": []
    },
    "b8a0e793c61d458fb507e4be4ebbc48e": {
     "views": []
    },
    "b91eb88c26d5430d885f6a6e5efa95ef": {
     "views": []
    },
    "b924873dcbe84b17991e5fe5caeb4e7c": {
     "views": []
    },
    "b9896db135d34db99ff89eb0da026272": {
     "views": []
    },
    "ba405a441458452bb5739951cc224d7e": {
     "views": []
    },
    "ba4f4c4357474b4da9d1d0f1ad990968": {
     "views": []
    },
    "ba8534e9a66b4196af89d95e7e81256a": {
     "views": []
    },
    "ba9a956433424bcaa7b2688500865b04": {
     "views": []
    },
    "ba9bb2f6b05a4bf3bb30e8bd6c306fc7": {
     "views": []
    },
    "bada313e5337420b8f2aee078a1d4866": {
     "views": []
    },
    "bafec62de1b3446ebfa544d32fe0e247": {
     "views": []
    },
    "bb04fb28c981493f8300ccfce8ffb7d6": {
     "views": []
    },
    "bb06729238094b3ba5c1c01997df299f": {
     "views": []
    },
    "bb1c0f7f272b4c3287311d5b1bc88573": {
     "views": []
    },
    "bb2eebb8e4654c8a9f581acda944fd61": {
     "views": []
    },
    "bb3d40fef9a8455f8fc287a3a03d4828": {
     "views": []
    },
    "bb7bfe67c5aa4730940780008e0fbdf3": {
     "views": []
    },
    "bb9d129062bd44cfa5fff1b4f901dc58": {
     "views": []
    },
    "bbdcd0c341ff4fefb1baa2cd6a11cf8e": {
     "views": []
    },
    "bbf968cc4edd4990a34a4636a29408f3": {
     "views": []
    },
    "bc3cbf67c62e457ebadee922f2b0b17c": {
     "views": []
    },
    "bc46fa83c0fd488286484aa3d1538454": {
     "views": []
    },
    "bc54b42cc28c4ea083f3c46c4bdaa9d4": {
     "views": []
    },
    "bcb687baae0642e2bc2a6a7982c71434": {
     "views": []
    },
    "bcf018b9d98a429e98cabefa3b663a9a": {
     "views": []
    },
    "bd4b7545f5134f4d9f87a7d6fbeb7034": {
     "views": []
    },
    "bd85042cd75c4566a55d831b30ea683c": {
     "views": []
    },
    "bda14da41c224f81bc09365a1950178c": {
     "views": []
    },
    "bdda0571b7bf42cdb23f9c7573cfd711": {
     "views": []
    },
    "be019e791853446d8a88777877e84f3f": {
     "views": []
    },
    "be40c6023ff241ce938fef90907019ec": {
     "views": []
    },
    "be6c8fa49e3e4c7295ebcdd9755c930a": {
     "views": [
      {
       "cell": {
        "cell_type": "code",
        "execution_count": 8,
        "metadata": {
         "collapsed": false,
         "scrolled": false,
         "trusted": true
        },
        "outputs": [
         {
          "name": "stdout",
          "output_type": "stream",
          "text": "{\n  \"stdin_port\": 35960, \n  \"ip\": \"127.0.0.1\", \n  \"control_port\": 47767, \n  \"hb_port\": 51156, \n  \"signature_scheme\": \"hmac-sha256\", \n  \"key\": \"a5750916-82d2-4b61-ad9e-95bc8b8fea06\", \n  \"kernel_name\": \"\", \n  \"shell_port\": 34000, \n  \"transport\": \"tcp\", \n  \"iopub_port\": 48178\n}\n\nPaste the above JSON into a file, and connect with:\n    $> ipython <app> --existing <file>\nor, if you are local, you can connect with just:\n    $> ipython <app> --existing /run/user/1000/jupyter/kernel-4c7eba9c-bfc6-43c1-974c-9a0ad6cb3327.json \nor even just:\n    $> ipython <app> --existing \nif this is the most recent IPython session you have started.\n"
         },
         {
          "data": {
           "text/html": "<script>\n        code_show=true;\n        function code_toggle() {\n         if (code_show){\n         $('div.input').hide();\n         } else {\n         $('div.input').show();\n         }\n         code_show = !code_show\n        }\n        $( document ).ready(code_toggle);\n        </script>\n        <a href=\"javascript:code_toggle()\">Source toggle.</a>",
           "text/plain": "<IPython.core.display.HTML object>"
          },
          "metadata": {},
          "output_type": "display_data"
         },
         {
          "name": "stdout",
          "output_type": "stream",
          "text": "UNO\nDUE\nTRE\nXX  <resources.Resources object at 0x7f9f8cb0e090>\ng_prj:  <resources.Resources object at 0x7f9f8cb0e090>\n"
         }
        ],
        "source": "%connect_info\nfrom cleaner import modules_cleaner ; modules_cleaner()\nfrom frontend import Frontend ; Frontend().show()"
       },
       "cell_index": 0,
       "root": true
      }
     ]
    },
    "bed66d35d2e74884973bb8ae9660aa5f": {
     "views": []
    },
    "bf0a53fe23494fd9a2df3feed51d92c1": {
     "views": []
    },
    "bf543ce531084aeab85ad5b08c323ba6": {
     "views": []
    },
    "bf60084928d74419b01638d71df9deba": {
     "views": []
    },
    "bf67e46287c7489f9d2619aa3978516d": {
     "views": []
    },
    "bf7ba150f3f4460b8edc43a92bd77f43": {
     "views": []
    },
    "c03904633baf48ec800a264c6c477dc6": {
     "views": []
    },
    "c0446f2c5b6f4c72892789d26e98fa63": {
     "views": []
    },
    "c0455bc1daa242dfbfcee7e6b431a643": {
     "views": []
    },
    "c04eaeb07e5542fc942cd67e9068d90e": {
     "views": []
    },
    "c092b59da1a34c2db770afd8c0ad7702": {
     "views": []
    },
    "c11cb0bf710147a7a58cb7d9101572dc": {
     "views": []
    },
    "c1229d91a2b8477685fc8f875dda9143": {
     "views": []
    },
    "c13c59683a4b4296ab697b817818810e": {
     "views": []
    },
    "c13e553bf59546648e2a0ab8536796ff": {
     "views": []
    },
    "c1a174f2bea1493f9387db86336c6212": {
     "views": []
    },
    "c1aa4f8a280643fd829e0abe509129d8": {
     "views": []
    },
    "c231292587bd4aff8e205d1d05257992": {
     "views": []
    },
    "c231e41b33444916bb4d0fd16eca0efb": {
     "views": []
    },
    "c28562c9805d43da928e29027b5e102d": {
     "views": []
    },
    "c297fa35e83441d1a162dc17c1a2b218": {
     "views": []
    },
    "c2e088ea50054b44b90a200ccf65803d": {
     "views": []
    },
    "c2f6b187ebb54201882fbfaff7768fdc": {
     "views": []
    },
    "c369aaf3ac70427d80c33117f95e7215": {
     "views": []
    },
    "c394d248d34245c58852f7769a73a21c": {
     "views": []
    },
    "c3d16146392648709dbe8279a0b4ff1f": {
     "views": []
    },
    "c44bd6def98f433b971aab4e8cc04502": {
     "views": []
    },
    "c46dc25d977c4f37b34e87bbe88374c9": {
     "views": []
    },
    "c483668429d44612be8b178b82f39350": {
     "views": []
    },
    "c489f2d3fc9a42448f23dda8622912b1": {
     "views": []
    },
    "c48e55264cda46b8abe4199872d68107": {
     "views": []
    },
    "c4a47c556d8747ff9bfe161b3354dda1": {
     "views": []
    },
    "c4d125fb29d74cf39159d1ece2192774": {
     "views": []
    },
    "c4dc155d20dd4e89881c8d6cc3edaa34": {
     "views": []
    },
    "c4e0f49660c14b0a81e4f396542aa9dc": {
     "views": []
    },
    "c4f2bb01f79246449807d7923cad01a3": {
     "views": []
    },
    "c500cc0a9e4640cc8fd938d9a340c977": {
     "views": []
    },
    "c52e1f6dd3364f378c12552b459d44a0": {
     "views": []
    },
    "c569ae860e274d81b6263f687b48a1e0": {
     "views": []
    },
    "c57fb26d6f0241b99ad8fcfebc3d0c2d": {
     "views": []
    },
    "c58344694a8d4f98acf7f4abbe7b9d97": {
     "views": []
    },
    "c5d2da323c3648429248bd72d3a74d66": {
     "views": []
    },
    "c6011933fbb84a31a98082a1a132123e": {
     "views": []
    },
    "c631a15e093b46fe8d02cb54472bf49e": {
     "views": []
    },
    "c69ee9d018674938a605848e78f2b25d": {
     "views": []
    },
    "c6d1c0b87c45436a8a47722d5b21520d": {
     "views": []
    },
    "c6e0be6526884b879e5b9a0fbdcb5256": {
     "views": []
    },
    "c71e578f301a4c03a290727ccad54da7": {
     "views": []
    },
    "c76d65b53a45455c889c5934a42e7972": {
     "views": []
    },
    "c795516a40824d61ab6a0b36c16fcf20": {
     "views": []
    },
    "c7c64a95ad264cefa093c7a7c9a8c7b0": {
     "views": []
    },
    "c7e4ee2499364274a94ca7f42b7e1607": {
     "views": []
    },
    "c7f7fbdd4c4c42f9b56cd09819f1db8b": {
     "views": []
    },
    "c82d71a23dec4d42be87d0c63bee6b58": {
     "views": []
    },
    "c8547c9da0b14e2697089146c5aad902": {
     "views": []
    },
    "c8691efa376c4cc5b904a78daf3620cb": {
     "views": []
    },
    "c87475035f7b4cdaad40f300aeed0918": {
     "views": []
    },
    "c8776bf6199949f6b823c3828d8f2d66": {
     "views": []
    },
    "c88e111fb6114a8da556e8fb37574b88": {
     "views": []
    },
    "c8a42614bab34e269f769b49645582b7": {
     "views": []
    },
    "c8b0c3146f814eb28f9d97c65049e188": {
     "views": []
    },
    "c8cf60f720f34630b4c938d5fe666dff": {
     "views": []
    },
    "c8f4d4fdea524660a7fe7b738dbc0372": {
     "views": []
    },
    "c933072a6a3048e6af5c84c7951beea3": {
     "views": []
    },
    "c9345eda751f4dc7b9a061a1ef3f728b": {
     "views": []
    },
    "c953c5c872164ad99e9aae425e6ee968": {
     "views": []
    },
    "c953c9fa1e2d42fd9ea6f7f4778c48d7": {
     "views": []
    },
    "c96084c04efa4a43a00fbd903dc88c64": {
     "views": []
    },
    "c96501b7c1df4db0a6dbe6d3d48bc708": {
     "views": []
    },
    "c9cf4cabe5664ee5a36b1aac884befe0": {
     "views": []
    },
    "ca017555c5a147148942c0f9710ef039": {
     "views": []
    },
    "ca1318a7650d41f8b1abff89324d11f6": {
     "views": []
    },
    "ca175ef91d3b485dbe3cb737163bb9ca": {
     "views": []
    },
    "ca44978cdfaf4f8ab5e376ab5c32efd0": {
     "views": []
    },
    "ca44c18f5616484f9027a613271e1c4f": {
     "views": []
    },
    "cab9fb630b714ec597e63cdb1e628df7": {
     "views": []
    },
    "cad355108bd5485ebf4e825a76936449": {
     "views": []
    },
    "cb32ea980e3e43fd923ea1f9143b281f": {
     "views": []
    },
    "cb3e8ff3bbc0429698900fb0aab59f9f": {
     "views": []
    },
    "cb8f070f7f6a4bdc96d837cb00d223ea": {
     "views": []
    },
    "cbbfd71b8c2f4ccbbce54b7f9e3acefd": {
     "views": []
    },
    "cbc0c022561d466caaba998a32937206": {
     "views": []
    },
    "cbc55d3596da44a1aa13c5c9e5d9c8b3": {
     "views": []
    },
    "cbe215b7d23540d38a0858a7d6eeae55": {
     "views": []
    },
    "cc058b76b0ff47118096636655ef9026": {
     "views": []
    },
    "cca28d3da4e74548a60ad651ec0cf7ec": {
     "views": []
    },
    "cd1705f760354c42ad137dffc1d06a8e": {
     "views": []
    },
    "cd3a91692aed4385ab8545d44d8bb19e": {
     "views": []
    },
    "cd4688c4537a42309d3a21ac8fc40bbb": {
     "views": []
    },
    "cd4ed14d6acb46b482cf6b333a49fe50": {
     "views": []
    },
    "cd87691539854ccab3e4e8479b71f1f3": {
     "views": []
    },
    "cdb954c232d64ab0af2156af716aa6f8": {
     "views": []
    },
    "ce80b2b6ec1a459da24f7cecb54c4087": {
     "views": []
    },
    "ceada28a64214f7eb9fa735129406e19": {
     "views": []
    },
    "cef53e5cddb94794a3fab1473bd621e3": {
     "views": []
    },
    "cf064d87834b4697a3103fe536693f51": {
     "views": []
    },
    "cf0aae55be9f45efb2d0539db5b17b55": {
     "views": []
    },
    "cf62d0d6c1be4979a5d74c8a85a4fde7": {
     "views": []
    },
    "cf8f182e70344f43abcc0e194468dbc1": {
     "views": []
    },
    "cf8fc582e3064d59ad09e79062fc8618": {
     "views": []
    },
    "cff45869080141e09dd9b59f4e75f9e9": {
     "views": []
    },
    "d01f8298d2694c9b8759d6914e33a28b": {
     "views": []
    },
    "d03e41b451f6436392e34ea8e3932e07": {
     "views": []
    },
    "d0a2e37a29794181af6ae8802b457152": {
     "views": []
    },
    "d0cd6b0095354b9db7e48da202982053": {
     "views": []
    },
    "d0e15c682e9e4917bea532e6274e118e": {
     "views": []
    },
    "d0f8c81829b145858fdc7c4d470e43a5": {
     "views": []
    },
    "d1029f9ca91f4e73a1d5ec8bbeba9db6": {
     "views": []
    },
    "d10544bbf13748a5ad9880ff677fd07e": {
     "views": []
    },
    "d113f2c93eb74ebb9291a81dc5cc1ede": {
     "views": []
    },
    "d19dfc73567b47bdb84efe0dbe7610a5": {
     "views": []
    },
    "d1bd9daf694b44d4a267241ba8a08fa8": {
     "views": []
    },
    "d1c9fd37f7024b1699f785ad1863e89d": {
     "views": []
    },
    "d20191991b744d0b8b6ef0b524a7eebe": {
     "views": []
    },
    "d201954e4d9e4f00b8305be15dc1a585": {
     "views": []
    },
    "d201a87b3c444e988d6e063d9774bca5": {
     "views": []
    },
    "d2042d7386774e17889ea181fc3ca0f9": {
     "views": []
    },
    "d22e76bb2e84453b8ed3b8b84f1697a5": {
     "views": []
    },
    "d2432e9bc48848fd88034b82c01ecb52": {
     "views": []
    },
    "d2beb074eed14bc39a519edabd5bf6a1": {
     "views": []
    },
    "d2f90b6e2a83432aa59c519fd784fa02": {
     "views": []
    },
    "d2feced99ccb4f9b9852b9f616a8d5f3": {
     "views": []
    },
    "d310b3c377204fb8acc47309db3b93b3": {
     "views": []
    },
    "d35f289f52894378ad123e3413b77092": {
     "views": []
    },
    "d3c0edaa10e042fea616b6f61a25ccb5": {
     "views": []
    },
    "d4297609aff1407aad0e797d28e2cf5c": {
     "views": []
    },
    "d433b65d22284d2d9097446caf1306dd": {
     "views": []
    },
    "d43a7195b012434c94428a059b298bc5": {
     "views": []
    },
    "d4742038f0cc4caba0bd8df93255c7a5": {
     "views": []
    },
    "d479dedb127e4d6696efe6e98db5c46b": {
     "views": []
    },
    "d492c45d56da45ccaf4d7dd2c6255daf": {
     "views": []
    },
    "d4e9bec1ed044aa38fcb79a374b264c3": {
     "views": []
    },
    "d4f3a2d89b514d8d89a8b983959d463b": {
     "views": []
    },
    "d51206cc09cf425b9625cddb8edcba88": {
     "views": []
    },
    "d53c5b15990f426fab8fd8318d5883f2": {
     "views": []
    },
    "d547baee46214de1987a4eb385c43029": {
     "views": []
    },
    "d603877de076437794b6cab0eb3ddc02": {
     "views": []
    },
    "d629474b67424738a6c5c917b0546ded": {
     "views": []
    },
    "d65f12e4aa524545927ec8bd84592fc0": {
     "views": []
    },
    "d6c0fe5225af49ad934cbd46805bdf81": {
     "views": []
    },
    "d76709b66ac94be980a21abffdcd2249": {
     "views": []
    },
    "d7716ad8e0db4a74a451f6f982ff6459": {
     "views": []
    },
    "d7af187bc72c44178c72c1a4cd52ef51": {
     "views": []
    },
    "d7c878cb0f0a409f84ea405b00731e0f": {
     "views": []
    },
    "d7ce3c7b8d3d4cdba9530c8e25d1a470": {
     "views": []
    },
    "d7cf0240ca184c648ea69d0cdc08b26a": {
     "views": []
    },
    "d7ea06c1fdc44250b0a269c4d2c276f9": {
     "views": []
    },
    "d808c51da30644c9893ac8196fee33d4": {
     "views": []
    },
    "d8500c08176b4ba7ab06fc808bcaf82e": {
     "views": []
    },
    "d8a7907d4bbe4c979607f1ca24242a56": {
     "views": []
    },
    "d8a91ba34427493e860c2d67fc37f977": {
     "views": []
    },
    "d8b955eeb79a409cb9cba0e868c8b3e0": {
     "views": []
    },
    "d8cbdf38fec14c299aa0fc6d0afda6da": {
     "views": []
    },
    "d8db73edf2314d578d89d5a035ec7472": {
     "views": []
    },
    "d8eef93636b34807aea7b58f4789b70c": {
     "views": []
    },
    "d908d847c2c541de8aeb9ea3695853c0": {
     "views": []
    },
    "d9986edd7ab74e17a0e160bd44722134": {
     "views": []
    },
    "d9f40e5b875d473399c22e627e8639e9": {
     "views": []
    },
    "da0558ecb20b4495897362ecc87637c1": {
     "views": []
    },
    "da19307819a44c09aaf8e0da6940d5eb": {
     "views": []
    },
    "da3e81bfe8724f46ad5d886f0991cefb": {
     "views": []
    },
    "da4359e778a3492ab0adafda21a672e2": {
     "views": []
    },
    "da52ddca46694f74bdb91f9988c7b8f5": {
     "views": []
    },
    "da6c30d99274440583a5730445262f1a": {
     "views": []
    },
    "da975a4b106c41528e22a911c82580a6": {
     "views": []
    },
    "da9a2624f33549bab9c51ee2576afe70": {
     "views": []
    },
    "daac2d510e314968b543f7108055b65b": {
     "views": []
    },
    "dabd28866ce24e80a692c2d138cc785d": {
     "views": []
    },
    "dafeb9284ece4064b2288eed87d832d9": {
     "views": []
    },
    "db28f5a4695d4f5fa8e1440910d5f099": {
     "views": []
    },
    "db54ab1e59564793975edb01e5fce4b6": {
     "views": []
    },
    "db75c3fa13d84f6a8881a394ec372e30": {
     "views": []
    },
    "dbff7787f33c4b6094acf58c6db39456": {
     "views": []
    },
    "dc1cecc9639043379c906ae511754482": {
     "views": []
    },
    "dc52f6470b0f4d19a386176640278f34": {
     "views": []
    },
    "dc62742e87894f66b98ba3fd624cf1ee": {
     "views": []
    },
    "dc913cf4a7a644879cfc20c08d65a706": {
     "views": []
    },
    "dcba291a95854d959e9da3e70e76929c": {
     "views": []
    },
    "dcbf4546028f47b4a3cae148ed0e595a": {
     "views": []
    },
    "dcec796a26684f9b9e541067b0559ad1": {
     "views": []
    },
    "dd6c17d6083641619df5b8eb8de4a838": {
     "views": []
    },
    "dda4774ed8e14ccda783fec7bb3609d4": {
     "views": []
    },
    "ddd95bc4bf8843549b29ec88994d1351": {
     "views": []
    },
    "ddfad2686646445b8c11f4e0abc87a06": {
     "views": []
    },
    "ddfd2553e4b1490bb5240ce08dc58de7": {
     "views": []
    },
    "de17dcd32da847fb812dbd30c3bd50b3": {
     "views": []
    },
    "de5bb788d32c48c0bca470a43d197d0a": {
     "views": []
    },
    "de96d83dd4b649e9bdc1af4cb1d110c3": {
     "views": []
    },
    "debc6119ac794c1f994721030e06a38e": {
     "views": []
    },
    "df3001c189a3487799a8f03abd00b80f": {
     "views": []
    },
    "df3ef246a02a437194067cad7581f9d9": {
     "views": []
    },
    "df75dd9348dd44f3bc72fbcc1750f06e": {
     "views": []
    },
    "dfc2e1e3408149cd9182104b421685f9": {
     "views": []
    },
    "dfce9ab9b4d24a2ba9197858b9ca0e8f": {
     "views": []
    },
    "e049fef167b44ef29ddd7dd4ecf40ec8": {
     "views": []
    },
    "e08fced22b334ed998a620f9e34c5a3f": {
     "views": []
    },
    "e0df4c9448a34dae921bcea519586843": {
     "views": []
    },
    "e17dbc52520e416f93f1562a6a65c76e": {
     "views": []
    },
    "e19ce0d98aea46b09ba0e5449bf19c26": {
     "views": []
    },
    "e1b5fa15bc73463ab8cdc54cc8dda3bb": {
     "views": []
    },
    "e1c33f3a232246da90e64b4cd097d54f": {
     "views": []
    },
    "e1d1464424424879903027b7961f629a": {
     "views": []
    },
    "e1e33a45a09a41e7a8f6784a9ff777e9": {
     "views": []
    },
    "e1f8b8c9c4a74503a38f82665b9cedb0": {
     "views": []
    },
    "e20f8a549b9b49a1b4d1b225d4d35f2a": {
     "views": []
    },
    "e244003744e1445fb75b256f0d62f5fa": {
     "views": []
    },
    "e264853a8c6844e68aadef2ecab58c5c": {
     "views": []
    },
    "e29c4467688141ab827437cc99e2624d": {
     "views": []
    },
    "e2a12b6a9d2444569182120f4214209c": {
     "views": []
    },
    "e2c02cf6042d48fb91d00f0e5ddca63e": {
     "views": []
    },
    "e2c81933f63e47fc9b73ede5107e3db5": {
     "views": []
    },
    "e31ad9b2eb054aa7832a19f5ead6ccf5": {
     "views": []
    },
    "e32c2e6bb4b94d80be7922c28158d687": {
     "views": []
    },
    "e334916d62204cb2a27466ae3c27ae21": {
     "views": []
    },
    "e34ed90cce0b4c8cbbd1ca7bb10e35b2": {
     "views": []
    },
    "e35d4e2279b741b980c26d7af0b3342a": {
     "views": []
    },
    "e3cf4ad055aa49a98dd5f23304b7adaf": {
     "views": []
    },
    "e422cd68eeeb430cb4c004a9485387bd": {
     "views": []
    },
    "e47438067f0c41a89a4a0487d038d421": {
     "views": []
    },
    "e4c8cbd04106455089ed688304827890": {
     "views": []
    },
    "e4f6ef88f0b6420fa80183c50eb3911f": {
     "views": []
    },
    "e50c7d9dd4b44acf9bf37959e4707459": {
     "views": []
    },
    "e5240b04cf264a97aa737e42e7d896f8": {
     "views": []
    },
    "e55e5bb242e24a9186a92e475babf353": {
     "views": []
    },
    "e63c6d34e17746efb19eb852731c0092": {
     "views": []
    },
    "e6677f3f5bdd4b7eb0a97e831771f315": {
     "views": []
    },
    "e6685a11336d4fbd8f64c67208fcb42e": {
     "views": []
    },
    "e6aafbe28c104894b3d99cd5b09521cf": {
     "views": []
    },
    "e6da9c7098014a9daa711c06b3ad9319": {
     "views": []
    },
    "e6dc2821ca8c4a08a4b685f467ddea17": {
     "views": []
    },
    "e72d4530dec04d01b189a3d8ffcd1f8e": {
     "views": []
    },
    "e80b5ec2cfbf4c788a18199e1117ce9c": {
     "views": []
    },
    "e80e1aef61554a38b309c5c481ef9082": {
     "views": []
    },
    "e8557b90aad24a6896778243c026b488": {
     "views": []
    },
    "e86a2b3159e447369f827e1c18979f45": {
     "views": []
    },
    "e8b5a87af0d2405ea4180206bbd90e80": {
     "views": []
    },
    "e8fe405a9c68412082833271484a0910": {
     "views": []
    },
    "e93583544abe4af9b0328526126aaa3b": {
     "views": []
    },
    "e995b25471d64983a255af6f91854faf": {
     "views": []
    },
    "e9bb1c3442664cf99a27a8e2a3d9865a": {
     "views": []
    },
    "ea401e4f7fb34551b32cc0af41b3785d": {
     "views": []
    },
    "ea5ec0433d10444bb12f4a2cfe061de2": {
     "views": []
    },
    "eaf0c80bdf644ab7ae109f2e84ac19a4": {
     "views": []
    },
    "eb02d1ea5b8548eb932025037e6d104e": {
     "views": []
    },
    "eb1673d44f7c46f482f320506959ae08": {
     "views": []
    },
    "eb20c13c041a4408ab6c42715ace6fdf": {
     "views": []
    },
    "ebd58416563745e6a037667679c1eea1": {
     "views": []
    },
    "ebd670561ec04965ad9e6bd4feeb00ba": {
     "views": []
    },
    "ebee0a96f34445c19784e54ba5b73f7b": {
     "views": []
    },
    "ec56fd9c915243acbbc2ecf75a3e4599": {
     "views": []
    },
    "ecc5c6effda547c0ad640cbe7ae02e7d": {
     "views": []
    },
    "eccedb45ba6b4acb88f87ae7aceed601": {
     "views": []
    },
    "ece6cd6a49734c05a8bd30b03c34afb7": {
     "views": []
    },
    "ed4a819db1a74a96a9c61693cc41abd3": {
     "views": []
    },
    "ed77e1f8c33d480aa8c6e0ad376d2bbb": {
     "views": []
    },
    "edff4faa251940589ecbd18bb40d564f": {
     "views": []
    },
    "ee04009873f843b089c01dc170e9702d": {
     "views": []
    },
    "ee71a15d764045fca19d2e98339b3746": {
     "views": []
    },
    "ee86b0c1ca014a488681626b4bf9b46f": {
     "views": []
    },
    "ee9abbc29c054adab282104f899f1896": {
     "views": []
    },
    "ee9f802837e94985be95d54675788d77": {
     "views": []
    },
    "eee583c3a6654101adb1e3e91462b6be": {
     "views": []
    },
    "ef05fdb3fb214157be7a9415be48bb6a": {
     "views": []
    },
    "ef3375f9f372470e98e636d3cf6293a3": {
     "views": []
    },
    "ef98ca5234a64cbc924b429cbffd2f4e": {
     "views": []
    },
    "efc3e5f23540444e9e85e9d4d7333223": {
     "views": []
    },
    "f00572715ad34ccf8c98a13cadc5d309": {
     "views": []
    },
    "f00d7b27e53144388bfb8d660b855ad4": {
     "views": []
    },
    "f04a9a0dbbc741ce89d4a5dd99bb3cb7": {
     "views": []
    },
    "f0aa0f3c2fc84f209e9431e0ab2b13f8": {
     "views": []
    },
    "f0d9967f0f4d4bbda8e82efbeecc5b4d": {
     "views": []
    },
    "f13a81761fc34460920193ebcd163954": {
     "views": [
      {
       "cell": {
        "cell_type": "code",
        "execution_count": 8,
        "metadata": {
         "collapsed": false,
         "scrolled": false,
         "trusted": true
        },
        "outputs": [
         {
          "name": "stdout",
          "output_type": "stream",
          "text": "{\n  \"stdin_port\": 35960, \n  \"ip\": \"127.0.0.1\", \n  \"control_port\": 47767, \n  \"hb_port\": 51156, \n  \"signature_scheme\": \"hmac-sha256\", \n  \"key\": \"a5750916-82d2-4b61-ad9e-95bc8b8fea06\", \n  \"kernel_name\": \"\", \n  \"shell_port\": 34000, \n  \"transport\": \"tcp\", \n  \"iopub_port\": 48178\n}\n\nPaste the above JSON into a file, and connect with:\n    $> ipython <app> --existing <file>\nor, if you are local, you can connect with just:\n    $> ipython <app> --existing /run/user/1000/jupyter/kernel-4c7eba9c-bfc6-43c1-974c-9a0ad6cb3327.json \nor even just:\n    $> ipython <app> --existing \nif this is the most recent IPython session you have started.\n"
         },
         {
          "data": {
           "text/html": "<script>\n        code_show=true;\n        function code_toggle() {\n         if (code_show){\n         $('div.input').hide();\n         } else {\n         $('div.input').show();\n         }\n         code_show = !code_show\n        }\n        $( document ).ready(code_toggle);\n        </script>\n        <a href=\"javascript:code_toggle()\">Source toggle.</a>",
           "text/plain": "<IPython.core.display.HTML object>"
          },
          "metadata": {},
          "output_type": "display_data"
         },
         {
          "name": "stdout",
          "output_type": "stream",
          "text": "UNO\nDUE\nTRE\nXX  <resources.Resources object at 0x7f9f8cb0e090>\ng_prj:  <resources.Resources object at 0x7f9f8cb0e090>\n"
         }
        ],
        "source": "%connect_info\nfrom cleaner import modules_cleaner ; modules_cleaner()\nfrom frontend import Frontend ; Frontend().show()"
       },
       "cell_index": 0,
       "root": true
      }
     ]
    },
    "f14b0e116fa143c99874478828000195": {
     "views": []
    },
    "f17a10332cb64a4b8de6bed187241622": {
     "views": []
    },
    "f186cbc18c6849acb7bbbb68d1bf3447": {
     "views": []
    },
    "f1b06507b1e84a42b09fe47bcf6ed439": {
     "views": []
    },
    "f23dd7c0cb874c45b2963a16e6ef6fdc": {
     "views": []
    },
    "f24ce9c9d035478994af9d9afca2df85": {
     "views": []
    },
    "f283714e38224e42b516f195cb762b4f": {
     "views": []
    },
    "f2cf6b02c2144b1b8717da63d35d5940": {
     "views": []
    },
    "f2d71739cf1b4a8d94cd12f14b10af6f": {
     "views": []
    },
    "f2f1f3daedd54198afcf52322edae433": {
     "views": []
    },
    "f320643fc6b74ed68e27d0176333895f": {
     "views": []
    },
    "f32fe7b1d5414d3bbbdfd50795fe7959": {
     "views": []
    },
    "f337498f549d42b6833d330fc5d3804a": {
     "views": []
    },
    "f36eb37645b54be6ad2c153537833f29": {
     "views": []
    },
    "f386e481e7004cb8903a30429d22884e": {
     "views": []
    },
    "f38c70a50d734dab8f88744cc9ea4ed8": {
     "views": []
    },
    "f406d5578e2a4f5f842dd1253b8852aa": {
     "views": []
    },
    "f46c2c18b43d4f85a7fef2cf4e633c6e": {
     "views": []
    },
    "f50b319b1a1444e587d596c2bbfcaebe": {
     "views": []
    },
    "f52533be624e41178a9f3c193e3ce14b": {
     "views": []
    },
    "f52e4a17b58f4b6da1aa1b3ece5ef617": {
     "views": []
    },
    "f531c471d94b4a2faa397a1525e1a02a": {
     "views": []
    },
    "f53511c2f7f8435d938d93593a13772b": {
     "views": []
    },
    "f55638d2708f42a3b320e9cfb8cb1864": {
     "views": []
    },
    "f56e07a0c743478f9b0fdf0b4c66045c": {
     "views": []
    },
    "f598a96c037b443ba8bb00e2d7c5f211": {
     "views": []
    },
    "f5de41ace33d4964ac4a3d6d879b217a": {
     "views": []
    },
    "f6016c109801474faf98ffed9fa0ecd1": {
     "views": []
    },
    "f60ef9bc05794bfcaf07e4346f3ddc3d": {
     "views": []
    },
    "f6118f58a64e42ca84a49a5eb140fa30": {
     "views": []
    },
    "f628aaa46e574582bd173a1cb44ae1a1": {
     "views": []
    },
    "f645a67257a24cb1b005f091b06f4b85": {
     "views": []
    },
    "f6d8b1473fd14ae6b8313808606a276e": {
     "views": []
    },
    "f734d1ce1f1248b79606ce746458e7d0": {
     "views": []
    },
    "f73f49b197ac443d9712cd6b04a581aa": {
     "views": []
    },
    "f756fb573a6140899d8ec5dc46696172": {
     "views": []
    },
    "f782b8a60aba48dfbd2bdeedb77c9975": {
     "views": []
    },
    "f7b0599dbe4b4abf91fc2fa5b063bd7f": {
     "views": []
    },
    "f884f2fd93204000a5690755e177baaf": {
     "views": []
    },
    "f8c2797c1c0f446498d76f69098ab995": {
     "views": []
    },
    "f8c860bec3d64c7eb95e8c683d798645": {
     "views": []
    },
    "f8cb94abef8d4be48775e98a3bdb9ca5": {
     "views": []
    },
    "f928aefbe542465c94be2a8db06c0e6b": {
     "views": []
    },
    "f9860528e5fd495d89a843b44f07d16f": {
     "views": []
    },
    "f9d73bdf722d43c08441f94062371fab": {
     "views": []
    },
    "f9fcae7998904a42a878ac7c5f63726e": {
     "views": []
    },
    "fa2a49bd4b5d4218a358ade14c552ebb": {
     "views": []
    },
    "fa6191fdeded4551880ca0dc6f3b5f6b": {
     "views": []
    },
    "faa05f22c73e4aadba2bea43ef285f92": {
     "views": []
    },
    "faca4f44864f437296a9a1c84b810b4c": {
     "views": []
    },
    "fb328c55700042d799c761daa0701ee7": {
     "views": []
    },
    "fb3ef540551f4ef39b95544747b11bfa": {
     "views": []
    },
    "fb42244297034e00bdf8e232a0320ea0": {
     "views": []
    },
    "fb49447f6814480fa0ea87ef36224c38": {
     "views": []
    },
    "fb58109419d64548be13644a93ae062b": {
     "views": []
    },
    "fb720ea6610e4cb8a6bf0e67aedaaad3": {
     "views": []
    },
    "fb725ad547314aed84d575e77831177f": {
     "views": []
    },
    "fb7bcb0af5ce42cebc0f4782c2148e57": {
     "views": []
    },
    "fc050de8265b4b3bb2d3554f67161f74": {
     "views": []
    },
    "fc5c7760a0f44c99b7f4f9247ab6e8df": {
     "views": []
    },
    "fcbb754e0ec143cb9778fe15d90edef3": {
     "views": []
    },
    "fd1c94ecb44949c0bcf80bd63e69e296": {
     "views": []
    },
    "fd25c0da07074fd38fd207f1a83707f1": {
     "views": []
    },
    "fd3b1c2580684f83b7f9181ebf6aa64b": {
     "views": []
    },
    "fdef54a50abc454e8bf564a040e2ea5e": {
     "views": []
    },
    "fe0e7e93ab5742a9b493bc93749d3ad5": {
     "views": []
    },
    "fe7b4590f3e649229bdadf2efbd250ac": {
     "views": []
    },
    "fe816f0e237849259b559f722601faf1": {
     "views": []
    },
    "fe81d55fe47a4c0b86729bda35ee9202": {
     "views": []
    },
    "fefd354fffeb47c49928e60d1d25f58c": {
     "views": []
    },
    "ff1f0befdca34300a7c2a3c1c7b68aab": {
     "views": []
    },
    "ff4c84b188a94106bd91f7feedf9a443": {
     "views": []
    },
    "ff57883269164f89b88425f668a97247": {
     "views": []
    }
   },
   "version": "1.1.0"
  }
 },
 "nbformat": 4,
 "nbformat_minor": 1
}
