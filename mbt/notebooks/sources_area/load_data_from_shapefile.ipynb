{
 "cells": [
  {
   "cell_type": "markdown",
   "metadata": {},
   "source": [
    "# Load data for area sources from shapefile"
   ]
  },
  {
   "cell_type": "code",
   "execution_count": null,
   "metadata": {
    "collapsed": false
   },
   "outputs": [],
   "source": [
    "# cleaner avoid to restart kernel for each code modification, use it just when alone\n",
    "from cleaner import modules_cleaner ; modules_cleaner()\n",
    "# load current project if secondary ipynb runned alone\n",
    "import metys; metys.Metys.secondary()"
   ]
  },
  {
   "cell_type": "code",
   "execution_count": null,
   "metadata": {
    "collapsed": true
   },
   "outputs": [],
   "source": [
    "import os\n",
    "import cPickle as pickle"
   ]
  },
  {
   "cell_type": "code",
   "execution_count": null,
   "metadata": {
    "collapsed": true
   },
   "outputs": [],
   "source": [
    "try:\n",
    "    print_log\n",
    "except: \n",
    "    print_log = False\n",
    "    \n",
    "print_log = True"
   ]
  },
  {
   "cell_type": "markdown",
   "metadata": {},
   "source": [
    "## Loading the model"
   ]
  },
  {
   "cell_type": "code",
   "execution_count": null,
   "metadata": {
    "collapsed": false
   },
   "outputs": [],
   "source": [
    "model_key = metys.g_prj.models.current"
   ]
  },
  {
   "cell_type": "markdown",
   "metadata": {},
   "source": [
    "## Read data from shapefile"
   ]
  },
  {
   "cell_type": "code",
   "execution_count": null,
   "metadata": {
    "collapsed": false
   },
   "outputs": [],
   "source": [
    "sources = metys.g_prj.mod[model_key]['area_source_shapefile']\n",
    "if print_log:\n",
    "    print 'Number of sources loaded: %d' % len(sources)"
   ]
  },
  {
   "cell_type": "markdown",
   "metadata": {},
   "source": [
    "## Saving sources into the model "
   ]
  },
  {
   "cell_type": "code",
   "execution_count": null,
   "metadata": {
    "collapsed": false
   },
   "outputs": [],
   "source": [
    "output_path = os.path.join(metys.g_prj.folder, '%s_area_sources.pkl' % model_key)\n",
    "#\n",
    "fou = open(output_path,'wb') \n",
    "pickle.dump(sources, fou)\n",
    "fou.close()\n",
    "# \n",
    "if print_log:\n",
    "    print 'Area sources saved into file: \\n%s' % (output_path)"
   ]
  },
  {
   "cell_type": "code",
   "execution_count": null,
   "metadata": {
    "collapsed": false,
    "scrolled": false
   },
   "outputs": [],
   "source": [
    "# metys.g_prj.mod[model_key]['sources'] = sources"
   ]
  },
  {
   "cell_type": "code",
   "execution_count": null,
   "metadata": {
    "collapsed": true
   },
   "outputs": [],
   "source": []
  }
 ],
 "metadata": {
  "kernelspec": {
   "display_name": "Python 2",
   "language": "python",
   "name": "python2"
  },
  "language_info": {
   "codemirror_mode": {
    "name": "ipython",
    "version": 2
   },
   "file_extension": ".py",
   "mimetype": "text/x-python",
   "name": "python",
   "nbconvert_exporter": "python",
   "pygments_lexer": "ipython2",
   "version": "2.7.6"
  },
  "widgets": {
   "state": {
    "00b74f5309224159b31fe2af120b7546": {
     "views": []
    },
    "01da07533f084f6695996fc30f9f0a0b": {
     "views": []
    },
    "02bfbab1b22f4984865cfea15b91e109": {
     "views": []
    },
    "03221469f0ad4ac98f909a94b50d1269": {
     "views": []
    },
    "04422d4b2c3c41bcb5bc523e1fd7d6b9": {
     "views": []
    },
    "048b12ef3b894d7da5e02c3a704a3705": {
     "views": []
    },
    "05bb5778a39e444281401fae6a39676b": {
     "views": []
    },
    "0624ba4be2264b2b834e4683864bb03c": {
     "views": []
    },
    "065db262ebdc41a882fa74bd80c50960": {
     "views": []
    },
    "069376121b7f43afaebb8dce01a218aa": {
     "views": []
    },
    "06ef4ff123c947899c84b09cb71d8d1e": {
     "views": []
    },
    "077ce33514aa494e8409f002c9476fdc": {
     "views": []
    },
    "0789b3934eb647cd9d2d255bcd86aa17": {
     "views": []
    },
    "0902125818c44a61989730c392fa19af": {
     "views": []
    },
    "0b3cebc1e2744419adb1c7de68bc4282": {
     "views": []
    },
    "0bfb5a7a9deb47bb83b2b3a3a3a257b4": {
     "views": []
    },
    "0d6b3f8c4f5e41179bcc55b82a91930b": {
     "views": []
    },
    "0d81d33082084dbcba4465b504b8be86": {
     "views": []
    },
    "0f90c30c69b04a4b94b25ff0abfe0664": {
     "views": []
    },
    "0fefc250d130462fbf9a83d9eaaacfba": {
     "views": []
    },
    "1013cff9e0ea48e099df3b4d3681da01": {
     "views": []
    },
    "10752fd967e04003b5031d1fa7d78bdc": {
     "views": []
    },
    "12e2b03a57ce41a9a675bf43f6e0599c": {
     "views": []
    },
    "17d511800ddf40efa3cb7292a417755b": {
     "views": []
    },
    "1a1ddb9dfd9d49068eef668bfeb73f35": {
     "views": []
    },
    "1a54061855414208af366d7f9d0a72ed": {
     "views": []
    },
    "1ac8d1073a224bd7b4d3d98ef49e3a79": {
     "views": []
    },
    "1bb1a379d60d4ef0b4ae1fdc73e4fb21": {
     "views": []
    },
    "1d30936bb37f4b8baf76a63963e7bf9a": {
     "views": []
    },
    "1ee76aa10d8f45fe962bea0f710a0733": {
     "views": []
    },
    "1f4828727cde4100a19b8d25c50f02a9": {
     "views": []
    },
    "20c21fdafaa84f82be83de76d12d6921": {
     "views": []
    },
    "214fa6f92dbe42f9be1a7022e0081893": {
     "views": []
    },
    "21a036cc39944b80a6c89920ee2b9d63": {
     "views": []
    },
    "22d0515856b94770a25f2a77ff3001de": {
     "views": []
    },
    "23286752f8384c85b45cdb6a0a961c24": {
     "views": []
    },
    "24aa99e2b911448b9d66d1fec113fe24": {
     "views": []
    },
    "253dfe3653594ee2b4f5e6759da9934d": {
     "views": []
    },
    "27624ab9560745ff9a17509a1743e4e5": {
     "views": []
    },
    "2c8a45a5b674403d935b39827a9156a4": {
     "views": []
    },
    "2c9b85e797b0414cafb898ffd3b6789c": {
     "views": []
    },
    "2ccf33b683904e6dab73e274579a9917": {
     "views": []
    },
    "2ce2adf331f844c29500ee56ce89e9db": {
     "views": []
    },
    "2d6c673da65847008c8c778e6497954b": {
     "views": []
    },
    "2db5cbd8b9c34e36a4db85111051c634": {
     "views": []
    },
    "2fa81efe8ba64a03ad1937eb619df754": {
     "views": []
    },
    "3155b5b7ee974560b7b701cefd63ff2e": {
     "views": []
    },
    "32346fd1a1f14e20a85415936bfba479": {
     "views": []
    },
    "329e417082b04ca69713bb65c2df029c": {
     "views": []
    },
    "3505780a32a64db2aed1b88c299d3aef": {
     "views": []
    },
    "36650f5583f34fe088afe5dac95b3bdb": {
     "views": []
    },
    "370150c601464e72983a02e3ac0a41a5": {
     "views": []
    },
    "3720b2529873423dacbf93ecaaca7f69": {
     "views": []
    },
    "37354beaaff94a08a7c865efe31b7c79": {
     "views": []
    },
    "38ab8101425540a7b615a1901f4f600f": {
     "views": []
    },
    "39782420f5e94f8abe2a7b04e7eba4a6": {
     "views": []
    },
    "3a9faf1623e34bd78f34e4ef6bb38a4b": {
     "views": []
    },
    "3abc93d1d53d4266ac774534ad0920be": {
     "views": []
    },
    "3aca128ab77f4ffa84a76df0beeb6f30": {
     "views": []
    },
    "3aed6aca3c094219a041b0c2ac402e14": {
     "views": []
    },
    "3bfe0b8cd6d14ae19a22821ca92fe887": {
     "views": []
    },
    "3da80b14f33a4d23be0ab5069408be33": {
     "views": []
    },
    "3df44a77e0b840dd8caa15a827bb4096": {
     "views": []
    },
    "4065c485e2bb430a8bf9dd98dc8fedce": {
     "views": []
    },
    "4125e73cbbff45e69f68f90b414d00e0": {
     "views": []
    },
    "420052c171204ed7821e2e0e93479c36": {
     "views": []
    },
    "433a3bc24c6d4816b602c3965074e476": {
     "views": []
    },
    "433f34f4c87a43c0a5e57c4eaaf6a00b": {
     "views": []
    },
    "454c5ae0700c46ecad5972acc3c57ac5": {
     "views": []
    },
    "460e4c9a0c394c3faa30ed836b3ed54e": {
     "views": []
    },
    "46ac6847cbe64eceaf97806117d17101": {
     "views": []
    },
    "470a76c3743144b4a6d63d3863936702": {
     "views": []
    },
    "4a80e2e6e2e140f4a07b64cfbdcb6c45": {
     "views": []
    },
    "4aadbe2688d148eca8f20652d9639209": {
     "views": []
    },
    "4adc0bf4b93d4f329ce117a148b2c4e7": {
     "views": []
    },
    "4c69d74da94b4712b25d0cf74de6ea84": {
     "views": []
    },
    "4d1acbb5290a44f880996b0ccfe57eac": {
     "views": []
    },
    "4d6a5c4780df4263a1a36fc9000c3a37": {
     "views": []
    },
    "4e5e228ff4c44bff84e3d0fd34213a8a": {
     "views": []
    },
    "5100d23125904b1483765d285912d051": {
     "views": []
    },
    "522c23de1fd545f2b6afc5683214ea0a": {
     "views": []
    },
    "52df215c651e43d3ab9419cc939a6e36": {
     "views": []
    },
    "530a46792d614253b6522e141103b467": {
     "views": []
    },
    "548d7b4c6651467597e13267aaa5a747": {
     "views": []
    },
    "566f009038b8439aaafea0f3f1a7a1ec": {
     "views": []
    },
    "579c472053ad42b98d821dc0bf3d4137": {
     "views": []
    },
    "5806fd3ecb0042e993160a909e82ef0c": {
     "views": []
    },
    "583342faba684bc487911ad29c88d3c6": {
     "views": []
    },
    "591b63f6d3dd40a0bcb042da52243ffc": {
     "views": []
    },
    "5955034f65de469497ca5e6a8a1adccf": {
     "views": []
    },
    "5a85e99a1afd4d0ead1d85969f4c4800": {
     "views": []
    },
    "5a907c64853a43f3bc40103ec0dab8f4": {
     "views": []
    },
    "5bc6a5ec6afa4de1b2c62e8dd9481750": {
     "views": []
    },
    "5c7dd827ed5b4c0f89b996e88b5f5896": {
     "views": []
    },
    "5d02a010d8a64c7eb6f1f9b57ad77d3b": {
     "views": []
    },
    "5dcc315d22ef4763a6133f065d5698bb": {
     "views": []
    },
    "606b2b856f6b4094bf9de06cdce3ba02": {
     "views": []
    },
    "63d1619741134ca48d75c692e6c7eb90": {
     "views": []
    },
    "641a17e7abee4f19ba25a1114c094760": {
     "views": []
    },
    "66d61d49c4294b2c819aa637ad7fc022": {
     "views": []
    },
    "682e34254bc94b13ac46287b8bee4492": {
     "views": []
    },
    "69ff1ea1eae84047a7a5ccf8bd73e4e4": {
     "views": []
    },
    "6a8674cda4364e6b88c24138704a69b6": {
     "views": []
    },
    "6a952fbf5660477082f4e8f54beda5f4": {
     "views": []
    },
    "6bb9bad2a190465194dcf0cbf99b455d": {
     "views": []
    },
    "6bbb16f08b954416a58ee1a511265398": {
     "views": []
    },
    "6e0c5b1b2e944c3b81f8836429d9bb1c": {
     "views": []
    },
    "70804aa1c3324873bbf61d629c040cd3": {
     "views": []
    },
    "70c072c6a5e74dab8842424bcd394187": {
     "views": []
    },
    "710c0c7f3f7d486e921e97c62acfc86f": {
     "views": []
    },
    "72948176dba64d4796977f394cb0b48f": {
     "views": []
    },
    "72c89a7ebbf94e6cb6d10ba503def366": {
     "views": []
    },
    "7317947c9f784f798ae7ba9502affb54": {
     "views": []
    },
    "7404428c17a24bd2b75cd16a67dd1c46": {
     "views": []
    },
    "75940cb2eca746af88d32ac49eaa1d73": {
     "views": []
    },
    "7629f2d871414ccbbbef5e9d342ffd1c": {
     "views": []
    },
    "76fd80905ad74665951947e8f15994ce": {
     "views": []
    },
    "773714c7bc3b4a5193651c6e9c15aca0": {
     "views": []
    },
    "77bcd211269843aa8b971a224667d368": {
     "views": []
    },
    "7813d1a004754c21af80de63c249863a": {
     "views": []
    },
    "78777691ab3c4fd0bbdedff89c2bb155": {
     "views": []
    },
    "78ad826f1a2f44358c7ba6e48a1c68e7": {
     "views": []
    },
    "7a9eb5b23711439a95b066d1e8bedc36": {
     "views": []
    },
    "7af7be0dd1064b4197dd12fb74ab0851": {
     "views": []
    },
    "7c169587cc644e42bc94ad65a079c525": {
     "views": []
    },
    "7c2a6d5c895a49419e290542b2687359": {
     "views": []
    },
    "7cc8b5e66116448f818e97b21e536816": {
     "views": []
    },
    "7dbf15049d974b4bbd925b90b6e2d0a3": {
     "views": []
    },
    "7fb7311523b9437586e133790d81fd60": {
     "views": []
    },
    "80c27def1dc44d22af3622d4bd0bda36": {
     "views": []
    },
    "81fcd2fb9df3431788b682a8e8023fcf": {
     "views": []
    },
    "8344297fbea04536a016ea8d984ef271": {
     "views": []
    },
    "845838cf74f940de99b8d636a4e5255d": {
     "views": []
    },
    "849178ef5a9a4ce5874cdd65b4d58944": {
     "views": []
    },
    "84b5c974933242a48209d7fe1ceea864": {
     "views": []
    },
    "855f726447ab43db817c963276dde60b": {
     "views": []
    },
    "85a72a06d1ff415abc2646e8c148a249": {
     "views": []
    },
    "86cc914e7c8341ef8d0e1eae1a5d4c7e": {
     "views": []
    },
    "87ec19458f374707afaccf9984546967": {
     "views": []
    },
    "886a1e9ecfbb4a9a929c76b27cd7038c": {
     "views": []
    },
    "8a1c6f428c7e40128182e67e460e6a75": {
     "views": []
    },
    "8aef39d8c40f4d2583dfccec7abdd7cb": {
     "views": []
    },
    "8b09c1d6e9b54bb6902be3b84c36963a": {
     "views": []
    },
    "8b6a389f55c948c994e61ee7a7e68384": {
     "views": []
    },
    "8b7af33961864d2ead618854c7923714": {
     "views": []
    },
    "8cf043a97b0e4a5fbec430b51ae695f2": {
     "views": []
    },
    "8e168fd6036e48c799ee093436915f78": {
     "views": []
    },
    "8e567ac5f8884ccaacb02334a8dd06a3": {
     "views": []
    },
    "8e643f50ceb5457399c7007e396eab76": {
     "views": []
    },
    "8e83cbec1e4141e1af846ce6dab5cab4": {
     "views": []
    },
    "904b1f192ed14c09bcc02fbe371cf071": {
     "views": []
    },
    "91c1791893584b1ba9ec7075be2e4772": {
     "views": []
    },
    "92bdfe7e943245e4afea4b5a49579def": {
     "views": []
    },
    "92d6dd2b5789445d831df585e1162c77": {
     "views": []
    },
    "92e0fedbfd064136818d223a86f40d1e": {
     "views": []
    },
    "93600ac2ae8943b8a7f488134594364b": {
     "views": []
    },
    "93a645ad50994bb0999380de0d946105": {
     "views": []
    },
    "948080aa17e544b7ae33009e03947b53": {
     "views": []
    },
    "94a138d06d5341b8be4fa9cc9f08cc04": {
     "views": []
    },
    "94d3bb5318c94b8f9fc0c1c7486a4ba7": {
     "views": []
    },
    "951816a23cea42e590fb6c559ecb4a3a": {
     "views": []
    },
    "96409ab603404d5aa8827047a92b16cd": {
     "views": []
    },
    "966f52bb55464433ade80c4068d8def0": {
     "views": []
    },
    "9691cec6b2b544a09f2857a9ecb6b488": {
     "views": []
    },
    "9759cec0ab3b4a5ca60190f02140876a": {
     "views": []
    },
    "97e8815a71df41c9958aef80b0d52c46": {
     "views": []
    },
    "98cbf40427cc4f3f9a38f70e5a6bacc4": {
     "views": []
    },
    "9f1cd355bf5a4105b80fa2a584d5bc09": {
     "views": []
    },
    "a197fbb2ba5848f6ba8e0cad68c7f4ce": {
     "views": []
    },
    "a1fb3305e16c4437b67f82699932f5fd": {
     "views": []
    },
    "a3107d9b40d047079097fbe3700c39f7": {
     "views": []
    },
    "a363bcf3ae8941de816466a481e7c68f": {
     "views": []
    },
    "a39ec32aebc2484e98d587ff38603da9": {
     "views": []
    },
    "a4f6731347c045df99af0ea1e1466c5b": {
     "views": []
    },
    "a5ea8a356ff542d0adb53a5de1b45a3c": {
     "views": []
    },
    "a6328a7ebca94a75bddfc48047432028": {
     "views": []
    },
    "a6c8b9601f5d447a8b6057b5b969ed3a": {
     "views": []
    },
    "a7df42bce9c84f7189d502d13b08ca3f": {
     "views": []
    },
    "a7fd3cd19443410b86b33a3bfd0cfae9": {
     "views": []
    },
    "a82d933362e443c5b8aa2d24922e91b5": {
     "views": []
    },
    "a8e430303659403ab12f510a0a63913e": {
     "views": []
    },
    "a98611d9ac3644c1bced5460291533d8": {
     "views": []
    },
    "aab8fe6577334c65a273cabb71d591a1": {
     "views": []
    },
    "ae7cb869232a4f9dbb4b5931c89c7e68": {
     "views": []
    },
    "aeeaba9c48134a4bb1ac3b6b5c4f8db3": {
     "views": []
    },
    "affc96fe57a4408b8933a63016c6075a": {
     "views": []
    },
    "b03c936e5e5f40a9984f319d7b866572": {
     "views": []
    },
    "b104dc8eb6734ddda12dde0a1bed93fb": {
     "views": []
    },
    "b243b8f2a683438b817a8cd4649070c6": {
     "views": []
    },
    "b35b4f1a9ba0453b925591a82ed4613b": {
     "views": []
    },
    "b37f7845f4b44fa59c4cc4e0eef718b5": {
     "views": []
    },
    "b5112c33df434323aaeb038b28baf976": {
     "views": []
    },
    "b8194aa870f04d69b9a28023f8311ebb": {
     "views": []
    },
    "ba9e6bd06abc4a138bfe3a9d49165240": {
     "views": []
    },
    "bb7ddbc8c26c4a1bbd2f5e3afeb7e501": {
     "views": []
    },
    "bd9f710536844d1ba64b949f56beef58": {
     "views": []
    },
    "bdab151de75d41bd8e29cf40db7718bf": {
     "views": []
    },
    "bdd2acfc6b8f44d09ccb5c007858576d": {
     "views": []
    },
    "befae98ecf9649489fbb9e1a8d9f7cb3": {
     "views": []
    },
    "bf98771924d1407ebaaab2b774321303": {
     "views": []
    },
    "c01bfda505ef42cca05d1c25b030d1f8": {
     "views": []
    },
    "c05bd5aefd99493386276d9a08144651": {
     "views": []
    },
    "c1d56f7e4fe2448a8ad22fadda259d62": {
     "views": []
    },
    "c2b5285686ef426e8c664e16144c4db2": {
     "views": []
    },
    "c4a1ca300cf847aba4ac8bb7ddbc30e6": {
     "views": []
    },
    "c700853ee85440458ffea7da3ebbf88f": {
     "views": []
    },
    "c71a470d1b0947b3829a1f14d479bef8": {
     "views": []
    },
    "c84b346a0e1344b29e8b18a8d8c2a451": {
     "views": []
    },
    "c86474cb81f940e7a5e3116df118ad2b": {
     "views": []
    },
    "c9abc0057a2e4b379e0aaeb084923da5": {
     "views": []
    },
    "cc5c906be2fe433aa25cf4efe6a58ce8": {
     "views": []
    },
    "ceef3fe8478749a2a8f36226d2d54c3a": {
     "views": []
    },
    "cf927a72fb4448b08da5d94bb00e575d": {
     "views": []
    },
    "cf9d1bc4ba3843859ef403360c6e1909": {
     "views": []
    },
    "cfc1439f68964872823a3c570ca6d768": {
     "views": []
    },
    "d0743b19bba84833ab9e302b4ab32373": {
     "views": []
    },
    "d0ef98797d3f471aa7a8aff2c47b5d08": {
     "views": []
    },
    "d13f3b139dc74280a802003460b67cdc": {
     "views": []
    },
    "d4471c2c35b54fcaaa1ce9e7f0da9628": {
     "views": []
    },
    "d4f97eead9a14d5f87ecee846b051ba6": {
     "views": []
    },
    "d548316a734749ac828a8deb90d738d4": {
     "views": []
    },
    "d63409fb2eb141cd9325a9442a92bab2": {
     "views": []
    },
    "d773cc6a3afa476ebbcfc68f6f67c4ba": {
     "views": []
    },
    "d7c73d38341a48cd80bc9c5cefb5b962": {
     "views": []
    },
    "d9aebce97f4047a8b1dd17f524ba2e63": {
     "views": []
    },
    "d9c1c04624c94aa09e1c834019f7c92b": {
     "views": []
    },
    "d9d1c2acd63f4cfc87d0d080766039e3": {
     "views": []
    },
    "da81f82e03af4fd7959186da2708d1ba": {
     "views": []
    },
    "dcfb4064c1a54ad0844bac721b7db466": {
     "views": []
    },
    "de5802732e17428995462e450dfde891": {
     "views": []
    },
    "de6aacf09be646e98875c16fead72606": {
     "views": []
    },
    "e11cd72366444d2ba5adcbb1da65cf95": {
     "views": []
    },
    "e1bbec1b2c184049b8b20ea0cde3e0d7": {
     "views": []
    },
    "e37dd5b0c8c64e7cbba790eee3496983": {
     "views": []
    },
    "e429a032bb2c4ff383ec38b5a5d095d5": {
     "views": []
    },
    "e457da51e7654c03be19f09b27714700": {
     "views": []
    },
    "e4ecc947091a4bd097f77cb80928fce4": {
     "views": []
    },
    "e5fe8372e75842e9aa5115754cee0d82": {
     "views": []
    },
    "e617c5e60de34b4da4f628ae8554365b": {
     "views": []
    },
    "e67063c76cd1495191b77ccf73bf6b63": {
     "views": []
    },
    "e83b89498b6646c38165e85f5143488e": {
     "views": []
    },
    "e91297d18aa54e1ea2e4bfe46a2d26cb": {
     "views": []
    },
    "e9773cf639764193a5fee6521dbe5ebf": {
     "views": []
    },
    "ea2931bc4c9a45eb9230d9ac508762a3": {
     "views": []
    },
    "ea4f9b325608455685699669ede01a34": {
     "views": []
    },
    "eab1588fbf8048d7b0fd374ea1685dd0": {
     "views": []
    },
    "eb4c420b2a434ac2b8ece8a82394a100": {
     "views": []
    },
    "ec031e1d74c44ce9b3ec5f32f48c924f": {
     "views": []
    },
    "ec45b8b2a66a4f9b8f7a9405f45283b9": {
     "views": []
    },
    "ec69b6c859d745578307134f5a0a5071": {
     "views": []
    },
    "edd3c372b1344a20bf0c8dffe0435c63": {
     "views": []
    },
    "ee09395826c24d6089c87d2a0767ce1c": {
     "views": []
    },
    "ee44e6acd05c4a4285ae7f28a0c2d6e1": {
     "views": []
    },
    "ee70e4be16434c2daba7c4e4ff21df7a": {
     "views": []
    },
    "f05cbaa912db462aa46eeca8e8c4260d": {
     "views": []
    },
    "f117c08c1b0b41499023299b2819a56f": {
     "views": []
    },
    "f13d13ed94ff48d6a259dff262dbc37f": {
     "views": []
    },
    "f183b15764c14e1f9a0f63a0b687e6ea": {
     "views": []
    },
    "f1c7ee717d6d4ba29a45fe4d589957be": {
     "views": []
    },
    "f1fbe6a879244131a4b88aa3f81778f0": {
     "views": []
    },
    "f2c4221ffa4740aa9f66ef963f1cec8f": {
     "views": []
    },
    "f33a5884a83b47789dfc3439220ec33d": {
     "views": []
    },
    "f34f9a77b9be4fa88924d61100e7bdc7": {
     "views": []
    },
    "f386e739e71848dfb58c67ba2a0cf3a8": {
     "views": []
    },
    "f3c00d580e1f4378801cbd8808e1c503": {
     "views": []
    },
    "f480504c8f8346508d28fae9f1e5dbf1": {
     "views": []
    },
    "f6684af16cef4796a00372f8d372bcc3": {
     "views": []
    },
    "f812d02f20244a63907611c8fa4a0a81": {
     "views": []
    },
    "f89185f9c60942ac8c34f84b16e30ce8": {
     "views": []
    },
    "f949b56de5a64c2bbdb2779698979a67": {
     "views": []
    },
    "faef38ed63314e7c856e4659dad16fac": {
     "views": []
    },
    "fc053f9cacbe44bca31afee0b7f62b61": {
     "views": []
    },
    "fc9f8480b7a14385aa3dad2f3f987b4d": {
     "views": []
    },
    "fd235297c21b445788df1e02577a9d67": {
     "views": []
    },
    "fda8f5519fcd4c3482de82ee2a8888ce": {
     "views": []
    },
    "fe1b68dab5724076b6e3d8b38c823ad9": {
     "views": []
    }
   },
   "version": "1.1.2"
  }
 },
 "nbformat": 4,
 "nbformat_minor": 0
}
