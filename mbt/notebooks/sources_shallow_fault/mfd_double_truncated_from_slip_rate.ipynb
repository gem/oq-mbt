{
 "cells": [
  {
   "cell_type": "code",
   "execution_count": null,
   "metadata": {
    "collapsed": false
   },
   "outputs": [],
   "source": [
    "# cleaner avoid to restart kernel for each code modification, use it just when alone\n",
    "from cleaner import modules_cleaner ; modules_cleaner()\n",
    "# load current project if secondary ipynb runned alone\n",
    "import metys; metys.Metys.secondary()"
   ]
  },
  {
   "cell_type": "code",
   "execution_count": null,
   "metadata": {
    "collapsed": false
   },
   "outputs": [],
   "source": [
    "%matplotlib inline\n",
    "import os\n",
    "import re\n",
    "import sys\n",
    "\n",
    "from mbt.tools.faults import rates_for_double_truncated_mfd\n",
    "from openquake.hazardlib.geo.surface import SimpleFaultSurface\n",
    "from openquake.hazardlib.mfd import EvenlyDiscretizedMFD\n",
    "\n",
    "from openquake.hazardlib.scalerel.wc1994 import WC1994"
   ]
  },
  {
   "cell_type": "code",
   "execution_count": null,
   "metadata": {
    "collapsed": true
   },
   "outputs": [],
   "source": [
    "try:\n",
    "    plot_figures\n",
    "except: \n",
    "    plot_figures = False\n",
    "    \n",
    "try:\n",
    "    print_log\n",
    "except: \n",
    "    print_log = False"
   ]
  },
  {
   "cell_type": "code",
   "execution_count": null,
   "metadata": {
    "collapsed": false
   },
   "outputs": [],
   "source": [
    "if print_log or plot_figures:\n",
    "    print '------------------------------------------------------'\n",
    "# Width of bins used to discretise the MFDs\n",
    "model_key = metys.g_prj.models.current \n",
    "binwidth = float(metys.g_prj.mod[model_key]['mfd_binwidth'])\n",
    "if print_log:\n",
    "    print 'MFD bin width    : %.2f' % (binwidth)\n",
    "\n",
    "# Load sources\n",
    "model_key = metys.g_prj.models.current \n",
    "data_path = os.path.join(metys.g_prj.folder, '%s_fault_sources.pkl' % model_key)\n",
    "fin = open(data_path,'rb') \n",
    "sources = pickle.load(fin)\n",
    "fin.close()\n",
    "\n",
    "# Check input variables\n",
    "if area_source_ids_list is None:\n",
    "    area_source_ids_list = ['10']\n",
    "    \n",
    "if len(area_source_ids_list) > 1:\n",
    "    assert 0 == 1\n",
    "    \n",
    "src = sources[area_source_ids_list[0]]"
   ]
  },
  {
   "cell_type": "markdown",
   "metadata": {},
   "source": [
    "## Parameters"
   ]
  },
  {
   "cell_type": "code",
   "execution_count": null,
   "metadata": {
    "collapsed": true
   },
   "outputs": [],
   "source": [
    "default_mmin = 6.5\n",
    "bin_width = 0.1\n",
    "scalerel_name = 'WC1994'"
   ]
  },
  {
   "cell_type": "markdown",
   "metadata": {},
   "source": [
    "## Set the magnitude scaling relationship\n",
    "The options available for the magnitude scaling relationship are:\n",
    "* `scalrel_name = 'WC1994`' <br> Wells and Coppersmith (1994) scaling relationship\n",
    "* '`PointMSR`' Scaling relationship to be used for the creation of tiny ruptures resembling points\n",
    "* '`CEUS2011`' Scaling relationship developed within the CEUS SSC project"
   ]
  },
  {
   "cell_type": "code",
   "execution_count": null,
   "metadata": {
    "collapsed": false
   },
   "outputs": [],
   "source": [
    "import importlib\n",
    "module = importlib.import_module('openquake.hazardlib.scalerel')\n",
    "my_class = getattr(module, scalerel_name)\n",
    "scalrel = my_class()"
   ]
  },
  {
   "cell_type": "markdown",
   "metadata": {},
   "source": [
    "## Computing the mfd"
   ]
  },
  {
   "cell_type": "code",
   "execution_count": null,
   "metadata": {
    "collapsed": false
   },
   "outputs": [],
   "source": [
    "assert len(source_ids_list) == 1\n",
    "src = model.sources[source_ids_list[0]]\n",
    "\n",
    "if src.mmin > 0.0:\n",
    "    m_low = src.mmin\n",
    "else:\n",
    "    m_low = default_mmin\n",
    "\n",
    "for key in src.__dict__:\n",
    "    print key, getattr(src, key)"
   ]
  },
  {
   "cell_type": "code",
   "execution_count": null,
   "metadata": {
    "collapsed": true
   },
   "outputs": [],
   "source": [
    "if src.source_type == 'SimpleFaultSource':\n",
    "    \n",
    "    if src.use_slip == 1:\n",
    "        \n",
    "        # Fix upper seismogenic depth\n",
    "        if not src.__dict__.has_key('upper_seismogenic_depth'):\n",
    "            upper_seismogenic_depth = 0\n",
    "        else:\n",
    "            upper_seismogenic_depth = src.upper_seismogenic_depth\n",
    "            \n",
    "        # Scaling relationship\n",
    "        if 'scalerel' in src.__dict__:\n",
    "            scalerel = getattr(src, 'scalerel')\n",
    "        else:\n",
    "            scalerel = WC1994()\n",
    "\n",
    "        # Compute area source\n",
    "        surf = SimpleFaultSurface.from_fault_data(\n",
    "                    fault_trace = src.trace, \n",
    "                    upper_seismogenic_depth = upper_seismogenic_depth, \n",
    "                    lower_seismogenic_depth = src.lower_seismogenic_depth, \n",
    "                    dip = src.dip, \n",
    "                    mesh_spacing = 2.5)\n",
    "        flt_area = surf.get_area()\n",
    "\n",
    "        # Median magnitude\n",
    "        if 'mmax' in src.__dict__ and float(getattr(src, 'mmax')) > 0.0:\n",
    "            median_magnitude = float(getattr(src, 'mmax'))\n",
    "            print 'Maximum magnitude (from input)               : %.2f' % (median_magnitude)\n",
    "        else:\n",
    "            median_magnitude = scalrel.get_median_mag(flt_area, src.rake)\n",
    "            std = scalrel.get_std_dev_area()\n",
    "            mmax = median_magnitude + std * 2\n",
    "            print 'Maximum magnitude (from scaling relationship): %.2f' % (median_magnitude)\n",
    "         \n",
    "        if median_magnitude > m_low+bin_width and src.slip_rate > 1e-10:\n",
    "        \n",
    "            # Get rates\n",
    "            if hasattr(src, 'id_intersecting_area'):\n",
    "                print 'Using parameters of area source ID           : %s' % (src.id_intersecting_area)\n",
    "                b_gr = model.sources[src.id_intersecting_area].b_gr\n",
    "            else:\n",
    "                b_gr = model.default_bgr\n",
    "            \n",
    "            if 'coeff' in src.__dict__:\n",
    "                coeff = float(getattr(src, 'coeff'))\n",
    "                print 'Coeff parameter (from input)                 : %.2f' % (coeff)\n",
    "            else:\n",
    "                coeff = 1.0\n",
    "                print 'Coeff parameter (default)                    : %.2f' % (coeff)\n",
    "            \n",
    "            rates = rates_for_double_truncated_mfd(flt_area, \n",
    "                                                   src.slip_rate*coeff, \n",
    "                                                   m_low, \n",
    "                                                   median_magnitude, \n",
    "                                                   b_gr=b_gr,\n",
    "                                                   bin_width=bin_width)\n",
    "            \n",
    "            if any(rates):\n",
    "                src.mfd = EvenlyDiscretizedMFD(m_low+bin_width/2, bin_width, rates)\n",
    "                src.scalerel = scalrel\n",
    "                print 'Computed MFD\\n',src.mfd.get_annual_occurrence_rates()\n",
    "            else:\n",
    "                print 'MFD not defined: rates not defined'\n",
    "                src.mfd = None\n",
    "                src.scalerel = None                \n",
    "        else:  \n",
    "            print 'MFD not defined: mag from scaling relationship < mmin + bin_width'\n",
    "            src.mfd = None\n",
    "            src.scalerel = None\n",
    "    else:\n",
    "        print 'For this source we do not use slip'\n",
    "\n",
    "model.sources[source_ids_list[0]] = src \n",
    "oqtkp.models[model_id] = model\n",
    "oqtkp.save()"
   ]
  },
  {
   "cell_type": "code",
   "execution_count": null,
   "metadata": {
    "collapsed": true
   },
   "outputs": [],
   "source": []
  }
 ],
 "metadata": {
  "kernelspec": {
   "display_name": "Python 2",
   "language": "python",
   "name": "python2"
  },
  "language_info": {
   "codemirror_mode": {
    "name": "ipython",
    "version": 2
   },
   "file_extension": ".py",
   "mimetype": "text/x-python",
   "name": "python",
   "nbconvert_exporter": "python",
   "pygments_lexer": "ipython2",
   "version": "2.7.6"
  },
  "widgets": {
   "state": {},
   "version": "1.1.2"
  }
 },
 "nbformat": 4,
 "nbformat_minor": 0
}
