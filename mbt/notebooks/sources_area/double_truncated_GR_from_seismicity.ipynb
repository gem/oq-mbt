{
 "cells": [
  {
   "cell_type": "markdown",
   "metadata": {},
   "source": [
    "# Compute MFD for area sources"
   ]
  },
  {
   "cell_type": "code",
   "execution_count": null,
   "metadata": {
    "collapsed": false
   },
   "outputs": [],
   "source": [
    "# cleaner avoid to restart kernel for each code modification, use it just when alone\n",
    "from cleaner import modules_cleaner ; modules_cleaner()\n",
    "# load current project if secondary ipynb runned alone\n",
    "import metys; metys.Metys.secondary()"
   ]
  },
  {
   "cell_type": "code",
   "execution_count": null,
   "metadata": {
    "collapsed": false
   },
   "outputs": [],
   "source": [
    "%matplotlib inline\n",
    "\n",
    "import os\n",
    "import re\n",
    "import sys\n",
    "import h5py\n",
    "import numpy\n",
    "import cPickle as pickle\n",
    "from prettytable import PrettyTable\n",
    "from hmtk.seismicity.occurrence.weichert import Weichert\n",
    "from hmtk.seismicity.occurrence.utils import get_completeness_counts"
   ]
  },
  {
   "cell_type": "code",
   "execution_count": null,
   "metadata": {
    "collapsed": false
   },
   "outputs": [],
   "source": [
    "try:\n",
    "    plot_figures\n",
    "except: \n",
    "    plot_figures = False\n",
    "    \n",
    "try:\n",
    "    print_log\n",
    "except: \n",
    "    print_log = False"
   ]
  },
  {
   "cell_type": "code",
   "execution_count": null,
   "metadata": {
    "collapsed": false
   },
   "outputs": [],
   "source": [
    "if print_log or plot_figures:\n",
    "    print '------------------------------------------------------'\n",
    "\n",
    "# Width of bins used to discretise the MFDs\n",
    "model_key = metys.g_prj.models.current \n",
    "binwidth = float(metys.g_prj.mod[model_key]['mfd_binwidth'])\n",
    "if print_log:\n",
    "    print 'MFD bin width    : %.2f' % (binwidth)\n",
    "\n",
    "# Load sources\n",
    "model_key = metys.g_prj.models.current \n",
    "data_path = os.path.join(metys.g_prj.folder, '%s_area_sources.pkl' % model_key)\n",
    "fin = open(data_path,'rb') \n",
    "sources = pickle.load(fin)\n",
    "fin.close()\n",
    "\n",
    "# Check input variables\n",
    "#if area_source_ids_list is None:\n",
    "#    area_source_ids_list = ['10']\n",
    "    \n",
    "if len(area_source_ids_list) > 1:\n",
    "    assert 0 == 1\n",
    "    \n",
    "src = sources[area_source_ids_list[0]]"
   ]
  },
  {
   "cell_type": "code",
   "execution_count": null,
   "metadata": {
    "collapsed": false
   },
   "outputs": [],
   "source": [
    "catalogue_filename = os.path.join(metys.g_prj.folder, '%s_catalogue_declustered.pkl' % model_key)\n",
    "fin = open(catalogue_filename, 'rb') \n",
    "fcatal = pickle.load(fin)\n",
    "fin.close()\n",
    "if print_log:\n",
    "    print 'The calogue contains %d earthquakes' % (len(fcatal.data['magnitude']))"
   ]
  },
  {
   "cell_type": "code",
   "execution_count": null,
   "metadata": {
    "collapsed": false,
    "scrolled": false
   },
   "outputs": [],
   "source": [
    "from mbt.tools.area import create_catalogue\n",
    "fcatal = create_catalogue([src], fcatal, area_source_ids_list)"
   ]
  },
  {
   "cell_type": "markdown",
   "metadata": {},
   "source": [
    "## Load catalogue completeness "
   ]
  },
  {
   "cell_type": "code",
   "execution_count": null,
   "metadata": {
    "collapsed": false
   },
   "outputs": [],
   "source": [
    "compl_hdf5_filename = filename = os.path.join(metys.g_prj.folder, 'completeness.hdf5')\n",
    "if print_log:\n",
    "    print 'Reading', compl_hdf5_filename\n",
    "fhdf5 = h5py.File(compl_hdf5_filename,'r')\n",
    "\n",
    "grp = fhdf5[model_key]\n",
    "src_id = area_source_ids_list[0]\n",
    "if src_id in grp.keys():\n",
    "    compl_table = grp[src_id][()]\n",
    "    if print_log: \n",
    "        print 'Found completeness table for: <%s>' % (src_id)\n",
    "else:\n",
    "    if print_log:\n",
    "        print 'hdf file does not contain completeness table for source: <%s>' % src_id\n",
    "    if 'whole_catalogue' in grp.keys():\n",
    "        compl_table = grp['whole_catalogue'][()]\n",
    "        if looging:\n",
    "            print 'using the default completeness table set for the whole catalogue'\n",
    "    else:\n",
    "        if print_log:\n",
    "            print 'Default completeness table (whole catalogue) not defined'\n",
    "        raise ValueError()\n",
    "        compl_table = None\n",
    "if print_log:\n",
    "    print '\\nCompleteness table'\n",
    "    print compl_table\n",
    "fhdf5.close()"
   ]
  },
  {
   "cell_type": "markdown",
   "metadata": {},
   "source": [
    "## Computing GR double truncated"
   ]
  },
  {
   "cell_type": "code",
   "execution_count": null,
   "metadata": {
    "collapsed": false
   },
   "outputs": [],
   "source": [
    "idx = numpy.nonzero(compl_table[:,1] < numpy.max(fcatal.data['magnitude']))\n",
    "weichert_config = {'magnitude_interval': 0.1, \n",
    "                   'reference_magnitude': 0.0}\n",
    "\n",
    "weichert = Weichert()\n",
    "bval_wei, sigmab, aval_wei, sigmaa = weichert.calculate(fcatal, weichert_config, \n",
    "                                                        completeness=compl_table)\n",
    "\n",
    "if print_log:\n",
    "    print 'bval: %.3f (sigma=%.3f)' % (bval_wei, sigmab)\n",
    "    print 'aval: %.3f (sigma=%.3f)' % (aval_wei, sigmaa)\n",
    "\n",
    "# Computing seismicity rates -----\n",
    "cent_mag, t_per, n_obs = get_completeness_counts(fcatal, \n",
    "                                                 compl_table,\n",
    "                                                 binwidth)"
   ]
  },
  {
   "cell_type": "markdown",
   "metadata": {},
   "source": [
    "## Writing rates"
   ]
  },
  {
   "cell_type": "code",
   "execution_count": null,
   "metadata": {
    "collapsed": false
   },
   "outputs": [],
   "source": [
    "eqk_rates_hdf5_filename = os.path.join(metys.g_prj.folder, '%s_src_rates.pkl' % model_key)\n",
    "\n",
    "if print_log:\n",
    "    print 'Writing', eqk_rates_hdf5_filename\n",
    "fhdf5 = h5py.File(eqk_rates_hdf5_filename,'a')\n",
    "# Update/create group\n",
    "if model_key in fhdf5.keys():\n",
    "    if print_log:\n",
    "        print 'Group exists. Set group %s' % (model_key)\n",
    "    grp = fhdf5[model_key]\n",
    "else:\n",
    "    if print_log:\n",
    "        print 'Create group: %s' % (model_key)\n",
    "    grp = fhdf5.create_group(model_key)\n",
    "\n",
    "# Update/create dataset\n",
    "rates = numpy.array([cent_mag, t_per, n_obs])\n",
    "if src_id in grp:\n",
    "    del grp[src_id]\n",
    "# Log info\n",
    "if print_log:\n",
    "    print 'Creating dataset %s' % (src_id)\n",
    "dataset = grp.create_dataset(src_id, data=rates)\n",
    "fhdf5.close()"
   ]
  },
  {
   "cell_type": "markdown",
   "metadata": {},
   "source": [
    "## Plotting "
   ]
  },
  {
   "cell_type": "code",
   "execution_count": null,
   "metadata": {
    "collapsed": false
   },
   "outputs": [],
   "source": [
    "if plot_figures: \n",
    "    from hmtk.plotting.seismicity.occurrence.recurrence_plot import plot_trunc_gr_model\n",
    "    plot_trunc_gr_model(aval_wei, bval_wei, 4.0, 8.0, 0.1, catalogue=fcatal,\n",
    "                        completeness=compl_table)"
   ]
  },
  {
   "cell_type": "markdown",
   "metadata": {},
   "source": [
    "## Saving results"
   ]
  },
  {
   "cell_type": "code",
   "execution_count": null,
   "metadata": {
    "collapsed": false
   },
   "outputs": [],
   "source": [
    "src.a_gr=aval_wei\n",
    "src.b_gr=bval_wei\n",
    "sources[src.source_id] = src\n",
    "\n",
    "output_path = os.path.join(metys.g_prj.folder, '%s_area_sources.pkl' % model_key)\n",
    "asrc = {}\n",
    "for key in sources.keys():\n",
    "    src = sources[key]\n",
    "    if src.source_type == 'AreaSource':\n",
    "        asrc[key] = src    \n",
    "fou = open(output_path,'wb') \n",
    "pickle.dump(asrc, fou)\n",
    "fou.close()"
   ]
  }
 ],
 "metadata": {
  "kernelspec": {
   "display_name": "Python 2",
   "language": "python",
   "name": "python2"
  },
  "language_info": {
   "codemirror_mode": {
    "name": "ipython",
    "version": 2
   },
   "file_extension": ".py",
   "mimetype": "text/x-python",
   "name": "python",
   "nbconvert_exporter": "python",
   "pygments_lexer": "ipython2",
   "version": "2.7.6"
  }
 },
 "nbformat": 4,
 "nbformat_minor": 0
}
