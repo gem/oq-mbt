{
 "cells": [
  {
   "cell_type": "markdown",
   "metadata": {},
   "source": [
    "# Catalogue pre-processing"
   ]
  },
  {
   "cell_type": "code",
   "execution_count": null,
   "metadata": {
    "collapsed": false
   },
   "outputs": [],
   "source": [
    "# cleaner avoid to restart kernel for each code modification, use it just when alone\n",
    "from cleaner import modules_cleaner ; modules_cleaner()\n",
    "# load current project if secondary ipynb runned alone\n",
    "import metys; metys.Metys.secondary()"
   ]
  },
  {
   "cell_type": "code",
   "execution_count": null,
   "metadata": {
    "collapsed": false
   },
   "outputs": [],
   "source": [
    "%matplotlib inline\n",
    "import re\n",
    "import os\n",
    "import numpy\n",
    "import h5py\n",
    "import subprocess\n",
    "import cPickle as pickle\n",
    "\n",
    "from copy import deepcopy\n",
    "\n",
    "import matplotlib.pyplot as plt\n",
    "import matplotlib.patheffects as PathEffects\n",
    "from mpl_toolkits.basemap import Basemap\n",
    "\n",
    "from hmtk.seismicity.occurrence.weichert import Weichert\n",
    "from hmtk.plotting.seismicity.occurrence.recurrence_plot import plot_trunc_gr_model\n",
    "\n",
    "from hmtk.seismicity.completeness.comp_stepp_1971 import Stepp1971 \n",
    "from hmtk.plotting.seismicity.completeness.plot_stepp_1972 import create_stepp_plot\n",
    "from hmtk.plotting.seismicity.catalogue_plots import (plot_magnitude_time_scatter, \n",
    "                                                      plot_magnitude_time_density)\n",
    "\n",
    "from hmtk.seismicity.selector import CatalogueSelector\n",
    "from hmtk.seismicity.declusterer.dec_gardner_knopoff import GardnerKnopoffType1\n",
    "from hmtk.seismicity.declusterer.distance_time_windows import GardnerKnopoffWindow"
   ]
  },
  {
   "cell_type": "markdown",
   "metadata": {},
   "source": [
    "## Read current model and fix configuration parameters"
   ]
  },
  {
   "cell_type": "code",
   "execution_count": null,
   "metadata": {
    "collapsed": false
   },
   "outputs": [],
   "source": [
    "model_key = metys.g_prj.models.current \n",
    "cutoff_magnitude = float(metys.g_prj.mod[model_key]['catalogue_cutoff_magnitude'])\n",
    "cutoff_depth = float(metys.g_prj.mod[model_key]['catalogue_cutoff_depth'])\n",
    "binwidth = float(metys.g_prj.mod[model_key]['mfd_binwidth'])\n",
    "print 'MFD bin width    : %.2f' % (binwidth)\n",
    "print 'Magnitude cutoff : %.2f' % (cutoff_magnitude)"
   ]
  },
  {
   "cell_type": "markdown",
   "metadata": {},
   "source": [
    "## Read the catalogue"
   ]
  },
  {
   "cell_type": "code",
   "execution_count": null,
   "metadata": {
    "collapsed": false
   },
   "outputs": [],
   "source": [
    "catalogue = metys.g_prj.mod['Model01']['earthquake_catalogue']"
   ]
  },
  {
   "cell_type": "code",
   "execution_count": null,
   "metadata": {
    "collapsed": false
   },
   "outputs": [],
   "source": [
    "selector = CatalogueSelector(catalogue, create_copy=False)\n",
    "selector.within_magnitude_range(cutoff_magnitude, 10.)\n",
    "selector.within_depth_range(300, 0)\n",
    "#\n",
    "print 'Catalogue minimum depth [km]: %.2f ' % numpy.min(catalogue.data['depth'])\n",
    "print 'Catalogue maximum depth [km]: %.2f ' % numpy.max(catalogue.data['depth'])"
   ]
  },
  {
   "cell_type": "markdown",
   "metadata": {},
   "source": [
    "## Declustering"
   ]
  },
  {
   "cell_type": "code",
   "execution_count": null,
   "metadata": {
    "collapsed": false
   },
   "outputs": [],
   "source": [
    "distance_time_wind = GardnerKnopoffWindow()\n",
    "config = {'time_distance_window': distance_time_wind, 'fs_time_prop': .9}\n",
    "\n",
    "declusterer = GardnerKnopoffType1()\n",
    "vcl, flag = declusterer.decluster(catalogue, config)\n",
    "catalogue_original = deepcopy(catalogue)\n",
    "print 'Original number of events', catalogue_original.get_number_events()\n",
    "catalogue.select_catalogue_events(numpy.where(flag == 0)[0])\n",
    "print 'Number of mainshocks:', len(catalogue.data['magnitude'])"
   ]
  },
  {
   "cell_type": "markdown",
   "metadata": {},
   "source": [
    "## Plotting"
   ]
  },
  {
   "cell_type": "code",
   "execution_count": null,
   "metadata": {
    "collapsed": false
   },
   "outputs": [],
   "source": [
    "# Computing geograohic limits of the catalogue\n",
    "lomin = min(catalogue.data['longitude'])\n",
    "lomax = max(catalogue.data['longitude'])\n",
    "lamin = min(catalogue.data['latitude'])\n",
    "lamax = max(catalogue.data['latitude'])    \n",
    "lon_0 = sum([lomin,lomax])/2\n",
    "lat_0 = sum([lamin,lamax])/2\n",
    "\n",
    "if 1: \n",
    "    fig = plt.figure(figsize=(20,16))\n",
    "    m = Basemap(llcrnrlon=lomin,\n",
    "                llcrnrlat=lamin,\n",
    "                urcrnrlon=lomax,\n",
    "                urcrnrlat=lamax,\n",
    "                resolution='i',\n",
    "                projection='tmerc',\n",
    "                lon_0=lon_0,\n",
    "                lat_0=lat_0)\n",
    "\n",
    "    m.shadedrelief()\n",
    "    \n",
    "    parallels = numpy.arange(lamin, lamax, 5.)\n",
    "    m.drawparallels(parallels,labels=[False,True,True,False], fontsize=16)\n",
    "    meridians = numpy.arange(lomin, lomax, 5.)\n",
    "    m.drawmeridians(meridians,labels=[True,False,False,True], fontsize=16)\n",
    "    \n",
    "    # Coordinate conversion\n",
    "    idx = numpy.nonzero(flag!=0)[0]\n",
    "    x, y = m(catalogue.data['longitude'], catalogue.data['latitude'])\n",
    "    \n",
    "    print idx.shape\n",
    "    print x.shape\n",
    "\n",
    "    # catalogue    \n",
    "    x, y = m(catalogue.data['longitude'], catalogue.data['latitude'])\n",
    "    plt.plot(x, y, 'o', linewidth=6, alpha=0.4, color='blue')\n",
    "    #plt.scatter(x, y, catalogue.data['magnitude'], marker='o', linewidth=0.5, alpha=0.4, edgecolors='none')\n",
    "    \n",
    "    x, y = m(catalogue_original.data['longitude'], catalogue_original.data['latitude'])\n",
    "    plt.plot(x[idx], y[idx], 'x', linewidth=.5, alpha=0.8, color='red') \n",
    "    \n",
    "    "
   ]
  },
  {
   "cell_type": "markdown",
   "metadata": {
    "collapsed": true
   },
   "source": [
    "## Completeness analysis"
   ]
  },
  {
   "cell_type": "code",
   "execution_count": null,
   "metadata": {
    "collapsed": false
   },
   "outputs": [],
   "source": [
    "# Declustering configuration parameters\n",
    "config = {'magnitude_bin': .5, 'time_bin': 10., 'increment_lock': True}\n",
    "stepp = Stepp1971()\n",
    "compl_table = stepp.completeness(catalogue, config)          \n",
    "subprocess.call('rm aa', shell=True)\n",
    "# Info\n",
    "print 'Maximum magnitude is: ', max(catalogue.data['magnitude'])\n",
    "print 'The catalogue contains %d events' % (catalogue.get_number_events())\n",
    "print 'Completeness table: \\n'\n",
    "# Display html\n",
    "for line in compl_table:\n",
    "    print '%.2f, %.2f' % (line[0], line[1])\n",
    "# Plot completeness  \n",
    "ppp = plot_magnitude_time_density(catalogue, mag_int=0.1, time_int=10, normalisation=True, \n",
    "                                  bootstrap=0, completeness=compl_table)"
   ]
  },
  {
   "cell_type": "markdown",
   "metadata": {},
   "source": [
    "## GR Relationship"
   ]
  },
  {
   "cell_type": "code",
   "execution_count": null,
   "metadata": {
    "collapsed": false
   },
   "outputs": [],
   "source": [
    "idx = numpy.nonzero(compl_table[:,1] < numpy.max(catalogue.data['magnitude']))\n",
    "weichert_config = {'magnitude_interval': 0.1, \n",
    "                   'reference_magnitude': 0.0}\n",
    "weichert = Weichert()\n",
    "bval_wei, sigmab, aval_wei, sigmaa = weichert.calculate(catalogue, weichert_config, completeness=compl_table)\n",
    "print 'bval: %.3f (sigma=%.3f)' % (bval_wei, sigmab)\n",
    "print 'aval: %.3f (sigma=%.3f)' % (aval_wei, sigmaa)"
   ]
  },
  {
   "cell_type": "code",
   "execution_count": null,
   "metadata": {
    "collapsed": false,
    "scrolled": false
   },
   "outputs": [],
   "source": [
    "plot_trunc_gr_model(aval_wei, bval_wei, 5.0, 8.3, 0.1, catalogue=catalogue,\n",
    "        completeness=compl_table)"
   ]
  },
  {
   "cell_type": "markdown",
   "metadata": {},
   "source": [
    "## Saving the catalogue"
   ]
  },
  {
   "cell_type": "code",
   "execution_count": null,
   "metadata": {
    "collapsed": false
   },
   "outputs": [],
   "source": [
    "output_path = os.path.join(metys.g_prj.folder, '%s_catalogue_declustered.pkl' % model_key)\n",
    "fou = open(output_path,'wb') \n",
    "pickle.dump(catalogue, fou)\n",
    "fou.close()\n",
    "print 'Catalogue dataset saved into file: \\n%s' % (output_path)"
   ]
  },
  {
   "cell_type": "markdown",
   "metadata": {},
   "source": [
    "## Saving completeness data"
   ]
  },
  {
   "cell_type": "code",
   "execution_count": null,
   "metadata": {
    "collapsed": false
   },
   "outputs": [],
   "source": [
    "filename = os.path.join(metys.g_prj.folder, 'completeness.hdf5')\n",
    "fhdf5 = h5py.File(filename, 'a')\n",
    "print 'Saving data into %s' % (filename)\n",
    "dataset_name = 'whole_catalogue'\n",
    "# Update/create group\n",
    "if model_key in fhdf5.keys():\n",
    "    print 'Group exists %s ' % (model_key)\n",
    "    grp = fhdf5[model_key]\n",
    "else:\n",
    "    print 'Creating group: %s' % (model_key)\n",
    "    grp = fhdf5.create_group(model_key)\n",
    "# Update/create dataset\n",
    "if dataset_name in grp:\n",
    "    del fhdf5[model_key][dataset_name]\n",
    "    print 'Updating dataset: %s' % (dataset_name)\n",
    "    dataset = grp.create_dataset(dataset_name, data=compl_table)\n",
    "else:\n",
    "    print 'Creating dataset: %s' % (dataset_name)\n",
    "    dataset = grp.create_dataset(dataset_name, data=compl_table)\n",
    "fhdf5.close()"
   ]
  },
  {
   "cell_type": "code",
   "execution_count": null,
   "metadata": {
    "collapsed": true
   },
   "outputs": [],
   "source": []
  }
 ],
 "metadata": {
  "kernelspec": {
   "display_name": "Python 2",
   "language": "python",
   "name": "python2"
  },
  "language_info": {
   "codemirror_mode": {
    "name": "ipython",
    "version": 2
   },
   "file_extension": ".py",
   "mimetype": "text/x-python",
   "name": "python",
   "nbconvert_exporter": "python",
   "pygments_lexer": "ipython2",
   "version": "2.7.6"
  },
  "widgets": {
   "state": {
    "02fb377d1973418f9cd61836462fe330": {
     "views": []
    },
    "062f41045f7f4a819531730306667e24": {
     "views": []
    },
    "06d94c40392c4914a7d13a338c4028b3": {
     "views": []
    },
    "0c7fc6aa12a44e5780c0385357d7f9df": {
     "views": []
    },
    "1182fddc1f5a46e0b45e4bbc6b9bf536": {
     "views": []
    },
    "1c23fe76f4964a86bbefef994cb2c731": {
     "views": []
    },
    "1cd686d8512f413fa696248366827fa7": {
     "views": []
    },
    "235c0d7f58384f05acb03b172fbfe1c6": {
     "views": []
    },
    "259a978ac1f94fbab74c84113f3638a7": {
     "views": []
    },
    "260aea2657ff4633a2ccfc4e459b9d02": {
     "views": []
    },
    "2b65c004ecc744c385e23ba39948e854": {
     "views": []
    },
    "3001403cb44346f6b31fcf37fdb93903": {
     "views": []
    },
    "333d55623e2c4a16a126e04de28c86f0": {
     "views": []
    },
    "37a2817f02bd4cb99d0a4b589fb79090": {
     "views": []
    },
    "3adae63c1b3a407d8a310af43c8f39ef": {
     "views": []
    },
    "3cf45cc0b5814c2c91c0e00c7967a8fd": {
     "views": []
    },
    "41b0dcc9e5d54b788304743715399145": {
     "views": []
    },
    "44dbb5dca6f341428be1704d65117519": {
     "views": []
    },
    "498f7e1916704d14a89e620dbdb41142": {
     "views": []
    },
    "4f639571607244c3a62fd7da272b4002": {
     "views": []
    },
    "510acf9f981249d3bbc22f8fb1e26565": {
     "views": []
    },
    "52590c0929e94ebc9944f2f2ec588dd8": {
     "views": []
    },
    "5470686f6c8b4e2a80468fc33a3e13ae": {
     "views": []
    },
    "55bf4b4e18fe45ec92ffd767a9c6987b": {
     "views": []
    },
    "56948d14d4154f149cf22055b6973ecd": {
     "views": []
    },
    "594427a6bc094bf98afce89d85dce661": {
     "views": []
    },
    "5f7f3e58aaec4da8adcaf79b257023f4": {
     "views": []
    },
    "61e1fac7fe424af9a65b986df5c79645": {
     "views": []
    },
    "64841a8ab61f4e039c98bcb6919c2d82": {
     "views": []
    },
    "65ea6268997d49c8ab9eb14c8a0bb255": {
     "views": []
    },
    "682b16413dbf41aeaf756d9bc27eb9e7": {
     "views": []
    },
    "71fa3906a5634a1d9f86c90db5830504": {
     "views": []
    },
    "74383cc455f74b65828f962e5e079672": {
     "views": []
    },
    "775a432e3b2741cfb8cd063159535aeb": {
     "views": []
    },
    "78c020dc1e21433f93311b3b0b7eb552": {
     "views": []
    },
    "81c3572e916442bc89c45f328b4c8a44": {
     "views": []
    },
    "89f612596e834c43a94735419593771c": {
     "views": []
    },
    "8b28313b206e499bb1e1f5536f5be3a0": {
     "views": []
    },
    "8df758174caa4a46ba9a90127b725ae9": {
     "views": []
    },
    "8f31a75d1588487db2610b4104e975db": {
     "views": []
    },
    "8ff4a4bef0e9421996326fcd288c2845": {
     "views": []
    },
    "9107e471909347bc9d1898b3da8f3fd4": {
     "views": []
    },
    "9ace67641cd64dcfa81de937e4773d53": {
     "views": []
    },
    "9e5e004a05ac41ff99686d0171f3d320": {
     "views": []
    },
    "a053626b07e649dd935d5a23a1aa1c23": {
     "views": []
    },
    "a2a528f95e664e6c85b9e60be461357a": {
     "views": []
    },
    "a2f9ea543f994094b4fbceed6c4c0937": {
     "views": []
    },
    "a4ca09d4c9e4407eb41ec1ea8fa8b1f6": {
     "views": []
    },
    "a5b37aaffa70437a85f417b66c643bd4": {
     "views": []
    },
    "a67acb695d3e488e872d6ee6c9814a8f": {
     "views": []
    },
    "a8be8fb1536b43d29ea18e38d82a302a": {
     "views": []
    },
    "aa4d1182a597490d87a85a968bed7d3d": {
     "views": []
    },
    "aadd6aa78be54e08a1b9b57d77225d17": {
     "views": []
    },
    "ae1f98fc78874897a2b93591df655877": {
     "views": []
    },
    "b191e17ef5df4588842e858674d72dfd": {
     "views": []
    },
    "b20c05ae577e4454acc417739b8d903a": {
     "views": []
    },
    "b2d67de46d92416e82e84f193728e8c0": {
     "views": []
    },
    "b7a53e2d7ab44729b3f55d804dcb6d1f": {
     "views": []
    },
    "b8f378b52447473a8396518860ece152": {
     "views": []
    },
    "b9380d86c410475c9e75415bfbc13bff": {
     "views": []
    },
    "ba0e045926a444ecbbc960e862413e8f": {
     "views": []
    },
    "bbafcea71fc0498a81e924eb39de071b": {
     "views": []
    },
    "be184242453748e68c34a4f4651df3db": {
     "views": []
    },
    "bf0b54c9c7454162bdef1ba20ca64373": {
     "views": []
    },
    "bf39ad644a474f47a54aa29cc0c4ed11": {
     "views": []
    },
    "c4b97b51a7534e078bf6785a191e53db": {
     "views": []
    },
    "c587e92629e54e3e96c3f78006712f32": {
     "views": []
    },
    "c785e3c5336f4b5c938d73608da13dd6": {
     "views": []
    },
    "cdee4c731f4d4866af1869bd974a5e17": {
     "views": []
    },
    "cffcdca9e2524e94b74b732c620a0814": {
     "views": []
    },
    "d0dadbc55b21448799fee11b6088a533": {
     "views": []
    },
    "d19d2198e8ba4d7baee66f110b779f11": {
     "views": []
    },
    "d238a94cc76e447bbe38ff057d80024a": {
     "views": []
    },
    "d84bde7ff11041e69e34df5888c36b3c": {
     "views": []
    },
    "d99f0f009e394229aed92cad68372b74": {
     "views": []
    },
    "dcbca58879c3489094fbc8e0d2b139e3": {
     "views": []
    },
    "dcf3861684104996b6b9b06ca1b50fa2": {
     "views": []
    },
    "de85a203ffb94aba9493e06538dce11f": {
     "views": []
    },
    "e016b34fb59d41168089c359b7aa62a4": {
     "views": []
    },
    "e039ca14c28f417092f4f507c68a4fbf": {
     "views": []
    },
    "e10bc44556b74edda445a9a63a152dda": {
     "views": []
    },
    "e5c7daaab7b447bdb88d9774a7bc086a": {
     "views": []
    },
    "f17b067c4b804c43bfc349afc92eadba": {
     "views": []
    },
    "f2b4e3b845654677a0b287f826b504cc": {
     "views": []
    },
    "f2e12627f2b149d78eeadafe0fa7c396": {
     "views": []
    },
    "f5754e04599a4e3da14eaaf090b111b4": {
     "views": []
    },
    "f75cb68bdb2f49c19221d9c647c307cd": {
     "views": []
    },
    "f9f86344ede544669e1af262cf15241d": {
     "views": []
    },
    "fd9d9cb9b2ca42f2953145f9f176a9e9": {
     "views": []
    },
    "fedf7e2228674f8dab052fb685f02401": {
     "views": []
    }
   },
   "version": "1.1.2"
  }
 },
 "nbformat": 4,
 "nbformat_minor": 0
}
