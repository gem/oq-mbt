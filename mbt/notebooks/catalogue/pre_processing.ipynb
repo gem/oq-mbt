{
 "cells": [
  {
   "cell_type": "markdown",
   "metadata": {},
   "source": [
    "# Catalogue pre-processing"
   ]
  },
  {
   "cell_type": "code",
   "execution_count": null,
   "metadata": {
    "collapsed": false
   },
   "outputs": [],
   "source": [
    "# cleaner avoid to restart kernel for each code modification, use it just when alone\n",
    "from cleaner import modules_cleaner ; modules_cleaner()\n",
    "# load current project if secondary ipynb runned alone\n",
    "import metys; metys.Metys.secondary()"
   ]
  },
  {
   "cell_type": "code",
   "execution_count": null,
   "metadata": {
    "collapsed": false
   },
   "outputs": [],
   "source": [
    "%matplotlib inline\n",
    "import re\n",
    "import os\n",
    "import numpy\n",
    "import subprocess\n",
    "import cPickle as pickle\n",
    "\n",
    "from copy import deepcopy\n",
    "\n",
    "import matplotlib.pyplot as plt\n",
    "import matplotlib.patheffects as PathEffects\n",
    "from mpl_toolkits.basemap import Basemap\n",
    "\n",
    "from hmtk.seismicity.occurrence.weichert import Weichert\n",
    "from hmtk.plotting.seismicity.occurrence.recurrence_plot import plot_trunc_gr_model\n",
    "\n",
    "from hmtk.seismicity.completeness.comp_stepp_1971 import Stepp1971 \n",
    "from hmtk.plotting.seismicity.completeness.plot_stepp_1972 import create_stepp_plot\n",
    "from hmtk.plotting.seismicity.catalogue_plots import (plot_magnitude_time_scatter, \n",
    "                                                      plot_magnitude_time_density)\n",
    "\n",
    "from hmtk.seismicity.selector import CatalogueSelector\n",
    "from hmtk.seismicity.declusterer.dec_gardner_knopoff import GardnerKnopoffType1\n",
    "from hmtk.seismicity.declusterer.distance_time_windows import GardnerKnopoffWindow"
   ]
  },
  {
   "cell_type": "markdown",
   "metadata": {},
   "source": [
    "## Read current model and fix configuration parameters"
   ]
  },
  {
   "cell_type": "code",
   "execution_count": null,
   "metadata": {
    "collapsed": false
   },
   "outputs": [],
   "source": [
    "model_key = metys.g_prj.models.current \n",
    "cutoff_magnitude = float(metys.g_prj.mod[model_key]['catalogue_cutoff_magnitude'])\n",
    "cutoff_depth = float(metys.g_prj.mod[model_key]['catalogue_cutoff_depth'])\n",
    "binwidth = float(metys.g_prj.mod[model_key]['mfd_binwidth'])\n",
    "print 'MFD bin width    : %.2f' % (binwidth)\n",
    "print 'Magnitude cutoff : %.2f' % (cutoff_magnitude)"
   ]
  },
  {
   "cell_type": "markdown",
   "metadata": {},
   "source": [
    "## Read the catalogue"
   ]
  },
  {
   "cell_type": "code",
   "execution_count": null,
   "metadata": {
    "collapsed": false
   },
   "outputs": [],
   "source": [
    "catalogue = metys.g_prj.mod['Model01']['earthquake_catalogue']"
   ]
  },
  {
   "cell_type": "code",
   "execution_count": null,
   "metadata": {
    "collapsed": false
   },
   "outputs": [],
   "source": [
    "selector = CatalogueSelector(catalogue, create_copy=False)\n",
    "selector.within_magnitude_range(cutoff_magnitude, 10.)\n",
    "selector.within_depth_range(300, 0)\n",
    "#\n",
    "print 'Catalogue minimum depth [km]: %.2f ' % numpy.min(catalogue.data['depth'])\n",
    "print 'Catalogue maximum depth [km]: %.2f ' % numpy.max(catalogue.data['depth'])"
   ]
  },
  {
   "cell_type": "markdown",
   "metadata": {},
   "source": [
    "## Declustering"
   ]
  },
  {
   "cell_type": "code",
   "execution_count": null,
   "metadata": {
    "collapsed": false
   },
   "outputs": [],
   "source": [
    "distance_time_wind = GardnerKnopoffWindow()\n",
    "config = {'time_distance_window': distance_time_wind, 'fs_time_prop': .9}\n",
    "\n",
    "\n",
    "declusterer = GardnerKnopoffType1()\n",
    "vcl, flag = declusterer.decluster(catalogue, config)\n",
    "catalogue_original = deepcopy(catalogue)\n",
    "print 'Original number of events', catalogue_original.get_number_events()\n",
    "catalogue.select_catalogue_events(numpy.where(flag == 0)[0])\n",
    "print 'Number of mainshocks:', len(catalogue.data['magnitude'])"
   ]
  },
  {
   "cell_type": "markdown",
   "metadata": {},
   "source": [
    "## Plotting"
   ]
  },
  {
   "cell_type": "code",
   "execution_count": null,
   "metadata": {
    "collapsed": false
   },
   "outputs": [],
   "source": [
    "# Computing geograohic limits of the catalogue\n",
    "lomin = min(catalogue.data['longitude'])\n",
    "lomax = max(catalogue.data['longitude'])\n",
    "lamin = min(catalogue.data['latitude'])\n",
    "lamax = max(catalogue.data['latitude'])    \n",
    "lon_0 = sum([lomin,lomax])/2\n",
    "lat_0 = sum([lamin,lamax])/2\n",
    "\n",
    "if 1: \n",
    "    fig = plt.figure(figsize=(20,16))\n",
    "    m = Basemap(llcrnrlon=lomin,\n",
    "                llcrnrlat=lamin,\n",
    "                urcrnrlon=lomax,\n",
    "                urcrnrlat=lamax,\n",
    "                resolution='i',\n",
    "                projection='tmerc',\n",
    "                lon_0=lon_0,\n",
    "                lat_0=lat_0)\n",
    "\n",
    "    m.shadedrelief()\n",
    "    \n",
    "    parallels = numpy.arange(lamin, lamax, 5.)\n",
    "    m.drawparallels(parallels,labels=[False,True,True,False], fontsize=16)\n",
    "    meridians = numpy.arange(lomin, lomax, 5.)\n",
    "    m.drawmeridians(meridians,labels=[True,False,False,True], fontsize=16)\n",
    "    \n",
    "    # Coordinate conversion\n",
    "    idx = numpy.nonzero(flag!=0)[0]\n",
    "    x, y = m(catalogue.data['longitude'], catalogue.data['latitude'])\n",
    "    \n",
    "    print idx.shape\n",
    "    print x.shape\n",
    "\n",
    "    # catalogue    \n",
    "    x, y = m(catalogue.data['longitude'], catalogue.data['latitude'])\n",
    "    plt.plot(x, y, 'o', linewidth=6, alpha=0.4, color='blue')\n",
    "    #plt.scatter(x, y, catalogue.data['magnitude'], marker='o', linewidth=0.5, alpha=0.4, edgecolors='none')\n",
    "    \n",
    "    x, y = m(catalogue_original.data['longitude'], catalogue_original.data['latitude'])\n",
    "    plt.plot(x[idx], y[idx], 'x', linewidth=.5, alpha=0.8, color='red') \n",
    "    \n",
    "    "
   ]
  },
  {
   "cell_type": "markdown",
   "metadata": {
    "collapsed": true
   },
   "source": [
    "## Completeness analysis"
   ]
  },
  {
   "cell_type": "code",
   "execution_count": null,
   "metadata": {
    "collapsed": false
   },
   "outputs": [],
   "source": [
    "# Declustering configuration parameters\n",
    "config = {'magnitude_bin': .5, 'time_bin': 10., 'increment_lock': True}\n",
    "stepp = Stepp1971()\n",
    "compl_table = stepp.completeness(catalogue, config)          \n",
    "subprocess.call('rm aa', shell=True)\n",
    "# Info\n",
    "print 'Maximum magnitude is: ', max(catalogue.data['magnitude'])\n",
    "print 'The catalogue contains %d events' % (catalogue.get_number_events())\n",
    "print 'Completeness table: \\n'\n",
    "# Display html\n",
    "for line in compl_table:\n",
    "    print '%.2f, %.2f' % (line[0], line[1])\n",
    "# Plot completeness  \n",
    "ppp = plot_magnitude_time_density(catalogue, mag_int=0.1, time_int=10, normalisation=True, \n",
    "                                  bootstrap=0, completeness=compl_table)"
   ]
  },
  {
   "cell_type": "markdown",
   "metadata": {},
   "source": [
    "## GR Relationship"
   ]
  },
  {
   "cell_type": "code",
   "execution_count": null,
   "metadata": {
    "collapsed": false
   },
   "outputs": [],
   "source": [
    "idx = numpy.nonzero(compl_table[:,1] < numpy.max(catalogue.data['magnitude']))\n",
    "weichert_config = {'magnitude_interval': 0.1, \n",
    "                   'reference_magnitude': 0.0}\n",
    "weichert = Weichert()\n",
    "bval_wei, sigmab, aval_wei, sigmaa = weichert.calculate(catalogue, weichert_config, completeness=compl_table)\n",
    "print 'bval: %.3f (sigma=%.3f)' % (bval_wei, sigmab)\n",
    "print 'aval: %.3f (sigma=%.3f)' % (aval_wei, sigmaa)"
   ]
  },
  {
   "cell_type": "code",
   "execution_count": null,
   "metadata": {
    "collapsed": false,
    "scrolled": false
   },
   "outputs": [],
   "source": [
    "plot_trunc_gr_model(aval_wei, bval_wei, 5.0, 8.3, 0.1, catalogue=catalogue,\n",
    "        completeness=compl_table)"
   ]
  },
  {
   "cell_type": "markdown",
   "metadata": {},
   "source": [
    "## Saving the catalogue"
   ]
  },
  {
   "cell_type": "code",
   "execution_count": null,
   "metadata": {
    "collapsed": false
   },
   "outputs": [],
   "source": [
    "output_path = os.path.join(metys.g_prj.folder, '%s_catalogue_declustered.pkl' % model_key)\n",
    "fou = open(output_path,'wb') \n",
    "pickle.dump(catalogue, fou)\n",
    "fou.close()\n",
    "print 'Catalogue dataset saved into file: \\n%s' % (output_path)"
   ]
  },
  {
   "cell_type": "code",
   "execution_count": null,
   "metadata": {
    "collapsed": true
   },
   "outputs": [],
   "source": []
  }
 ],
 "metadata": {
  "kernelspec": {
   "display_name": "Python 2",
   "language": "python",
   "name": "python2"
  },
  "language_info": {
   "codemirror_mode": {
    "name": "ipython",
    "version": 2
   },
   "file_extension": ".py",
   "mimetype": "text/x-python",
   "name": "python",
   "nbconvert_exporter": "python",
   "pygments_lexer": "ipython2",
   "version": "2.7.6"
  },
  "widgets": {
   "state": {
    "03291ed088a64e78a18ea4c2ff0e8c09": {
     "views": []
    },
    "0457fc363cd245469c8dcfb918dd0690": {
     "views": []
    },
    "05641a20bca246abb176fd5ad37d8a92": {
     "views": []
    },
    "05ddd5a841984107851cc1e3b0cd3ba2": {
     "views": []
    },
    "08948b87fb12427e84e7778a7c016282": {
     "views": []
    },
    "0947121f85c84f558979bd853316574c": {
     "views": []
    },
    "1167835dc455462f8bb09ef6b76dba9e": {
     "views": []
    },
    "135ebf150f4a41b59b8df0921c3c8ea6": {
     "views": []
    },
    "1459c94d31c9476daedfbde1dbb21cc3": {
     "views": []
    },
    "167a5a86535041ecb68cf04a50c56296": {
     "views": []
    },
    "16f2f3cdab3c4924a2cdc92322a441b2": {
     "views": []
    },
    "18e9d2db5abb412a966069bab0ef3933": {
     "views": []
    },
    "1cd0b59fb5c1475283b6a0671678a80d": {
     "views": []
    },
    "1d03e71e1bd6481a94b8a85cda7dd17d": {
     "views": []
    },
    "232bea24e0d64b4394d11a868ecd611a": {
     "views": []
    },
    "234502861463495ca552b24fc614c098": {
     "views": []
    },
    "2532639b0123420596254856ead735df": {
     "views": []
    },
    "271a15ae8df041e9adcd57eebfa375af": {
     "views": []
    },
    "27c13bc66d7a43c4a455f16fd9ee48a5": {
     "views": []
    },
    "281bd05e620d4004aace4f133b6bb795": {
     "views": []
    },
    "2a2c537c48644b118da7a21f9339b468": {
     "views": []
    },
    "2a82fe763511409281d03271115cb517": {
     "views": []
    },
    "2bdf4ff2dbdc4fcdbbe55794547f32dd": {
     "views": []
    },
    "2fdfc5fb9111496d87fd9e13621e0e3a": {
     "views": []
    },
    "301b9f6793cd4a74abd846451fce7588": {
     "views": []
    },
    "33c514d8b74743c9a03044d98d9664c8": {
     "views": []
    },
    "3486e31c4869418096e7628af802c165": {
     "views": []
    },
    "34fd2382bf3b4cbd81e2d0d35c403488": {
     "views": []
    },
    "35011f24253d4b5db0990a53863cef70": {
     "views": []
    },
    "36fc544a271d46f18c346ef7ff7ef9c2": {
     "views": []
    },
    "392ece7ead3d4b38a1a6ff25fbe72651": {
     "views": []
    },
    "39e203c1017748178dc03a62a058b70c": {
     "views": []
    },
    "3a33d9eeb37e40b0bcec8ca4a0e8cddd": {
     "views": []
    },
    "3c5a3389a2544e9dbccfca8a0f127066": {
     "views": []
    },
    "439a965e4bee48edb19d1dfaee6acdaa": {
     "views": []
    },
    "45bdf1dc7b1b43deb944721b696a60cb": {
     "views": []
    },
    "47bfe19061a445afb55de2b9ab23b33e": {
     "views": []
    },
    "483bf4c2033f4eb5bc3f0b4f0d592f2a": {
     "views": []
    },
    "4b1fa5b9b3cc4f46a409e416b450ad91": {
     "views": []
    },
    "4cb960353de44f278526e4275c65b8c7": {
     "views": []
    },
    "4cc88f2f7cc147fabf41bcb31036926c": {
     "views": []
    },
    "4d829329bfb443e1999b4e5e5e004d93": {
     "views": []
    },
    "503e67a202654031aa029f3cce2e2e8d": {
     "views": []
    },
    "50dcad8f2bd748e8b23243a3b5ff4de2": {
     "views": []
    },
    "5132c194898240859c227e47709abfe9": {
     "views": []
    },
    "52a0bed1c08e4e51a2c46e5e5231ef86": {
     "views": []
    },
    "540b4f0dfbfe4c2ab6483f4d1072322f": {
     "views": []
    },
    "55a98015028a4f04b9e76e5bb17d3a44": {
     "views": []
    },
    "57e82e81d33948e6acb57e29de8dfe12": {
     "views": []
    },
    "58ac67ba82b94d5b8fa69d3f3176d50e": {
     "views": []
    },
    "5f8debaecdfd4da0818103d8105861e1": {
     "views": []
    },
    "6051018dc3504832b78e527d5b2faa79": {
     "views": []
    },
    "60fef9611ba44a28b701aae86ea21781": {
     "views": []
    },
    "63fb7709c31d4334ad78d2efef6a6f67": {
     "views": []
    },
    "662afcd289f04268b907a5712946af2d": {
     "views": []
    },
    "6691f5b292534c368438430f5fab2192": {
     "views": []
    },
    "69bfe2d0532141e7aea1b8ccfca27379": {
     "views": []
    },
    "6a94b95edb304fc7a084e083d3361e6c": {
     "views": []
    },
    "6bc84c0aa6904f4e98c04575b838a05d": {
     "views": []
    },
    "6bfe979f615b4c91bb6c7de6b1647b9f": {
     "views": []
    },
    "6c049182a1ef48acac2978278315bdbe": {
     "views": []
    },
    "6e7af9666e9149eba3b058533ee5aa04": {
     "views": []
    },
    "6f5adb07e9df49348440f333b1148145": {
     "views": []
    },
    "6f790f30946b4706852186e734fdf1a8": {
     "views": []
    },
    "6f8d4fd033584ac292f994a31678f8ed": {
     "views": []
    },
    "7000c029b79e41e39655eb4ae3c6cf78": {
     "views": []
    },
    "71cf92cfe4194f4bae54ebf727f4ef91": {
     "views": []
    },
    "7597957aeb674f3195587672b496df88": {
     "views": []
    },
    "75f0c183d0314f0fbab5b34dc9ab5dac": {
     "views": []
    },
    "78abce4da9904ed68dfa28dcc0152c6e": {
     "views": []
    },
    "79d67a5bd61e4489bff01aee028f7855": {
     "views": []
    },
    "7b145bacfd0d45d39ad4f64b9356561f": {
     "views": []
    },
    "7b38c4e5297a4b61a110f48bc905abb9": {
     "views": []
    },
    "7b682d165493494aaf51d68fd9e9a3aa": {
     "views": []
    },
    "80ae093b082748c3a0d35262e2435a86": {
     "views": []
    },
    "8160a61d3f7a4efe8d9cdd3fd0066e3f": {
     "views": []
    },
    "821715dbeb8743b0b0f35e8f15cf3230": {
     "views": []
    },
    "82867e522e18424cb4e22fa1ac9911dd": {
     "views": []
    },
    "82ddc3e7e3194944ae12432ea24db6a8": {
     "views": []
    },
    "85944abf53534027a81129ec5968d03c": {
     "views": []
    },
    "89a34a1d869b4399b97931ae16355ddf": {
     "views": []
    },
    "8d1bc692ed66440abb554c62bb72033e": {
     "views": []
    },
    "8eaac485a8d545cbb0a759777e88ef98": {
     "views": []
    },
    "8eb175cb12bd4d8c80e0e17265c0a01a": {
     "views": []
    },
    "9008daad4c8e46bb8321c120a888fa08": {
     "views": []
    },
    "915612c06c45479dbefd5bbe10ec3c75": {
     "views": []
    },
    "916500025f0f4eeeaf8637af41b2a030": {
     "views": []
    },
    "9386bce6a12a4fb4b914e17c0ae86907": {
     "views": []
    },
    "94699ab337bf49d98526778675463382": {
     "views": []
    },
    "954e02eff5ff41349786af969a7043fb": {
     "views": []
    },
    "95d3de239f5e47eea0a47cd8e4a94216": {
     "views": []
    },
    "968ce79ab8164b3098691657285d3bf7": {
     "views": []
    },
    "96dc7d3a79a94e6c973d43846e3cf28e": {
     "views": []
    },
    "97b4a8a4d1f24b429ffb9c49baf2d306": {
     "views": []
    },
    "9c3368b717dd4f1ea2b39043b2c5bf87": {
     "views": []
    },
    "9e31ac10c678418a9d40c1bb34fac403": {
     "views": []
    },
    "9ee0f0748c734831890a3e975633deff": {
     "views": []
    },
    "9f597334c31149c4a1d204ea6281fdea": {
     "views": []
    },
    "a0ad39215ce142d2925f4aceed751a78": {
     "views": []
    },
    "a1a6163a463e4ee09111f586b3afc812": {
     "views": []
    },
    "a26592a9f5d24aee97b5ccbe852f54be": {
     "views": []
    },
    "a4bc1eed34194ddcabbecb6a3452ec88": {
     "views": []
    },
    "a52ec2c204664e66be2b0cb0421dc132": {
     "views": []
    },
    "a6fe1f0056af408691168c8edca904ee": {
     "views": []
    },
    "a8f2fde1eb964194a894bbf16476716f": {
     "views": []
    },
    "a9c3bdb5deef42168f34bdd6e0157ed6": {
     "views": []
    },
    "aa1f95eb808b40d49bb48a91f161dadf": {
     "views": []
    },
    "ac081a16d50c4c6aac6267a8d9d6c303": {
     "views": []
    },
    "ac6d184111de44bbbbd78c49b86b463b": {
     "views": []
    },
    "af89881641b246f1ae02be37c83e85d9": {
     "views": []
    },
    "b1394e225d9641799bdd57357d5a1fdf": {
     "views": []
    },
    "b19c9d22be6149ac93fb98a2a7eec7f7": {
     "views": []
    },
    "b1a93da5847a43719b56f18e3882f980": {
     "views": []
    },
    "b5f7f61529d749d5a13e7964567de7f6": {
     "views": []
    },
    "b6784bdf1ef54f72a7189e5cd486ccde": {
     "views": []
    },
    "b7c524a3515f4aac8de755089273821d": {
     "views": []
    },
    "b902ffa6eb264117bfa486b7df40ab74": {
     "views": []
    },
    "be31ad562ea9419eb69c6f95ca146aa6": {
     "views": []
    },
    "becf088dc9f040cc9f9c8c39bb1ff9a0": {
     "views": []
    },
    "bf2ba1ad4750455e8fb3fbdb3f6126e0": {
     "views": []
    },
    "c0be0ba2560448c6a9050ed840f0b9f6": {
     "views": []
    },
    "c15ec715cd104ead9b33e85c18a8d009": {
     "views": []
    },
    "c2526241f9fe4bc5963cdd196338c22a": {
     "views": []
    },
    "c571b316b79a4ef78775df8995509c97": {
     "views": []
    },
    "c80a296ce873406baf91b046a2d90580": {
     "views": []
    },
    "c8b5138ad43749358db78e3e70f72b6f": {
     "views": []
    },
    "c9b6fd23350b4cb58b2834c425df9406": {
     "views": []
    },
    "cb781d8f4c7e45a7888b5d5f71324762": {
     "views": []
    },
    "d0a541d6851349579414e271ca35805c": {
     "views": []
    },
    "d10a2403d76c47b8bd1be49bd5a97328": {
     "views": []
    },
    "d12c23297ae24fc99312889107ba0eda": {
     "views": []
    },
    "d270e582bb1d4b81a98211d3a7968978": {
     "views": []
    },
    "d64e4e5af6924709b37e3c96b311afde": {
     "views": []
    },
    "d7a525942a55466b9f195d06f0913bda": {
     "views": []
    },
    "d7f2ba66ae924152911c5de7b68be619": {
     "views": []
    },
    "d842b665731d48229676f238f40ff245": {
     "views": []
    },
    "da359c51cdf1426ebd08a1864bb581ab": {
     "views": []
    },
    "db2686792fdb4981986c3871b32cbeb3": {
     "views": []
    },
    "dfeb6c6dbbd24062a8c970ba06a3475f": {
     "views": []
    },
    "e0b2b726ca1045ac85f409ae7546a5d6": {
     "views": []
    },
    "e0f355443d884d6e8043a7d176285074": {
     "views": []
    },
    "e18a7b34671e4212944c13695654499e": {
     "views": []
    },
    "e676d37708904d47826789f94aa75d7f": {
     "views": []
    },
    "e6e5199b4e804f51ade30f032ca41abf": {
     "views": []
    },
    "e6f119003a954237843c80bb8788319d": {
     "views": []
    },
    "ec0a6b54e6b041a3a1106a68be883c4b": {
     "views": []
    },
    "ecb823ea300e4456a17ae2f8e7f36cec": {
     "views": []
    },
    "ee4b5f4e0742450b82cc71a45fa3320b": {
     "views": []
    },
    "ef70c9375a224de29ef2b165f92db405": {
     "views": []
    },
    "f1ce8131a991411587fa6b9f7dd0361a": {
     "views": []
    },
    "f230895cab214f2cad8935a982938d5a": {
     "views": []
    },
    "f3a86c1d86e748b7991f388d6c5310fa": {
     "views": []
    },
    "f5f48d2ee02b4961a70e7446b6442d6a": {
     "views": []
    },
    "f67376ddd95b4164a079d72b930f2608": {
     "views": []
    },
    "f80e48fdd1c3499e913f2f5a3c7c8d83": {
     "views": []
    },
    "fa30c7f4ba00474da54ce4e0f055fa72": {
     "views": []
    },
    "fa986dfff95e4589a7961a6b188ced84": {
     "views": []
    },
    "fca7f702d6144d71aa17c14f9bb6c8da": {
     "views": []
    },
    "fd1836f8f15a43598d1c8b5bd31b34cf": {
     "views": []
    },
    "fe5408ab4b024a9090f47f69538e7b80": {
     "views": []
    }
   },
   "version": "1.1.2"
  }
 },
 "nbformat": 4,
 "nbformat_minor": 0
}
