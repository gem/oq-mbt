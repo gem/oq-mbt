{
 "cells": [
  {
   "cell_type": "markdown",
   "metadata": {},
   "source": [
    "# Load data for area sources from shapefile"
   ]
  },
  {
   "cell_type": "code",
   "execution_count": null,
   "metadata": {
    "collapsed": false
   },
   "outputs": [],
   "source": [
    "# cleaner avoid to restart kernel for each code modification, use it just when alone\n",
    "from cleaner import modules_cleaner ; modules_cleaner()\n",
    "# load current project if secondary ipynb runned alone\n",
    "import metys; metys.Metys.secondary()"
   ]
  },
  {
   "cell_type": "code",
   "execution_count": null,
   "metadata": {
    "collapsed": true
   },
   "outputs": [],
   "source": [
    "import os\n",
    "import cPickle as pickle"
   ]
  },
  {
   "cell_type": "code",
   "execution_count": null,
   "metadata": {
    "collapsed": true
   },
   "outputs": [],
   "source": [
    "try:\n",
    "    print_log\n",
    "except: \n",
    "    print_log = False"
   ]
  },
  {
   "cell_type": "markdown",
   "metadata": {},
   "source": [
    "## Loading the model"
   ]
  },
  {
   "cell_type": "code",
   "execution_count": null,
   "metadata": {
    "collapsed": false
   },
   "outputs": [],
   "source": [
    "model_key = metys.g_prj.models.current"
   ]
  },
  {
   "cell_type": "markdown",
   "metadata": {},
   "source": [
    "## Read data from shapefile"
   ]
  },
  {
   "cell_type": "code",
   "execution_count": null,
   "metadata": {
    "collapsed": false
   },
   "outputs": [],
   "source": [
    "sources = metys.g_prj.mod[model_key]['fault_source_shapefile']\n",
    "if print_log:\n",
    "    print 'Number of sources loaded: %d' % len(sources)"
   ]
  },
  {
   "cell_type": "markdown",
   "metadata": {},
   "source": [
    "## Saving sources into the model "
   ]
  },
  {
   "cell_type": "code",
   "execution_count": null,
   "metadata": {
    "collapsed": false
   },
   "outputs": [],
   "source": [
    "output_path = os.path.join(metys.g_prj.folder, '%s_fault_sources.pkl' % model_key)\n",
    "fou = open(output_path,'wb') \n",
    "pickle.dump(sources, fou)\n",
    "fou.close()\n",
    "# \n",
    "if print_log:\n",
    "    print 'Fault sources saved into file: \\n%s' % (output_path)"
   ]
  },
  {
   "cell_type": "code",
   "execution_count": null,
   "metadata": {
    "collapsed": false,
    "scrolled": false
   },
   "outputs": [],
   "source": []
  },
  {
   "cell_type": "code",
   "execution_count": null,
   "metadata": {
    "collapsed": true
   },
   "outputs": [],
   "source": []
  }
 ],
 "metadata": {
  "kernelspec": {
   "display_name": "Python 2",
   "language": "python",
   "name": "python2"
  },
  "language_info": {
   "codemirror_mode": {
    "name": "ipython",
    "version": 2
   },
   "file_extension": ".py",
   "mimetype": "text/x-python",
   "name": "python",
   "nbconvert_exporter": "python",
   "pygments_lexer": "ipython2",
   "version": "2.7.6"
  },
  "widgets": {
   "state": {
    "00e88854ac2d4a6aba56503fe184862d": {
     "views": []
    },
    "013b9b3f6fca4baf9705c4775f0e3479": {
     "views": []
    },
    "02ab1c353d49439fb0fe5f110da6cd56": {
     "views": []
    },
    "032021c0223c4c59b4659fd006817aef": {
     "views": []
    },
    "037593b902dd4bba88f32ac2b195c321": {
     "views": []
    },
    "040b09bd5e544e1fada00e6a4e42d9af": {
     "views": []
    },
    "04c91290b5f44ebfbd62e3344a21d15f": {
     "views": []
    },
    "06783278086b4cbb9c435ccc64003cb6": {
     "views": []
    },
    "06db5f7eba50431e9db536d53d627903": {
     "views": []
    },
    "06e5c466b660473e9fa792b051daefbc": {
     "views": []
    },
    "070b5357bdae492289b970fa8a774d48": {
     "views": []
    },
    "076ed19d0ab14964aa6d6e6cc1077b0b": {
     "views": []
    },
    "078a4b48b4a04fc099ee2961bfc7c3b2": {
     "views": []
    },
    "089fbbcf48bc4b6fb6997399d959b2bd": {
     "views": []
    },
    "0958fd9e484f45049fc35836dd8367a2": {
     "views": []
    },
    "0a335b02ee334b058ff37770d3040314": {
     "views": []
    },
    "0a90baa341674325a6d1416a4c06e7a2": {
     "views": []
    },
    "0b39f4b09a5c4e8fab9f53912d43bbd5": {
     "views": []
    },
    "0d74d03601ad493d9dd7f8a1c9e2fefc": {
     "views": []
    },
    "0e045143d52a425ba464c89ae14145d5": {
     "views": []
    },
    "0f736821f50a47f9b4c5a25d2cbde63f": {
     "views": []
    },
    "1010ffe9e4a74e1da7bc89ec240741f4": {
     "views": []
    },
    "1230de9d73e84ce0ba9f16b9261f4030": {
     "views": []
    },
    "123d9dac44574728af48090b6c442ae4": {
     "views": []
    },
    "1330cb0493ac4bda8a1379e5354c3637": {
     "views": []
    },
    "13353e17c1a34e219301d11b0d1e360a": {
     "views": []
    },
    "1371339b4b324d8e9bd605daf88533ad": {
     "views": []
    },
    "13e742f826d4482198fd4edff90a9b01": {
     "views": []
    },
    "15cf7bf3b2434f9eb02b701dd2e20fac": {
     "views": []
    },
    "1802069978d34634b4fc30b579db4508": {
     "views": []
    },
    "1a2a6c4a2af04e4098bb5fcf21bdbbd1": {
     "views": []
    },
    "1a42cdb6f54f4b7aaa1fe419938ad102": {
     "views": []
    },
    "1b1459f146364f1191da49bdcb3cf0a7": {
     "views": []
    },
    "1b716c42d6e94e62b934dd5018366124": {
     "views": []
    },
    "1babc46917a04ceba988f068cee01b20": {
     "views": []
    },
    "1bc90965f1ab4834ba0b0a87f22cf3b0": {
     "views": []
    },
    "1cf8c4be927f4b7fadb2f1a93c088d84": {
     "views": []
    },
    "1d6862becc354e6b835b0af4451f3c13": {
     "views": []
    },
    "1e0c30af918546439c6f963da86bf62c": {
     "views": []
    },
    "1e98609dd76a45e7a1056c75453556f5": {
     "views": []
    },
    "200f4431deaa4278be0c1ab42c0813f7": {
     "views": []
    },
    "2069625e5cdf4813abd619fd533b7f68": {
     "views": []
    },
    "253ec4139d8a4c62aea2aaa6238d6fa1": {
     "views": []
    },
    "258be6d4a0ba41978c1cadc5f0e80a61": {
     "views": []
    },
    "277a97e058d94af2b6aae5034badbb97": {
     "views": []
    },
    "292c6b99000c4753b2b7bc774b6032ed": {
     "views": []
    },
    "2954416a31f9457192f1813406e9785d": {
     "views": []
    },
    "29cf863f7a734f2690ec37feecab1804": {
     "views": []
    },
    "2c33a68012cf4caa9d1fe121eac1b211": {
     "views": []
    },
    "2c67babdb8464ad4b4ec3883ed6c3512": {
     "views": []
    },
    "2c936cc3734b489dbf104ba46202a59a": {
     "views": []
    },
    "2cf8cc29a58947549c0f48958b746a73": {
     "views": []
    },
    "30308ec88b814f86bf29f6ad0eed34e5": {
     "views": []
    },
    "30c9109c0306479ea268c538f881deb6": {
     "views": []
    },
    "31246e9da9134254bada18a98891e5ec": {
     "views": []
    },
    "3305e4ae698c4861b4a998a3fbd0493b": {
     "views": []
    },
    "348e773e209f469d9a5d57047c1e7cfa": {
     "views": []
    },
    "3738561dc0984c81b804cc18557e20ce": {
     "views": []
    },
    "39f08dbd41514a779a4e6a1761680f8f": {
     "views": []
    },
    "3acd7ec3b5ac45c1a4e791ff8db8c65b": {
     "views": []
    },
    "3b0d78e0884747f9a62f0d3e3a6bd44b": {
     "views": []
    },
    "3cb611b5909442e0867db8a73bbad416": {
     "views": []
    },
    "3e48d01dbdfc44069c28bc0acd44af19": {
     "views": []
    },
    "3ef606dd20954da98deee9037b2a441a": {
     "views": []
    },
    "3f44505c6c5849e19619867c947d6f15": {
     "views": []
    },
    "3fd79baa43db4f60930715c15103108f": {
     "views": []
    },
    "41724538dccd4419aded55d5202c9526": {
     "views": []
    },
    "418ad9b48eba47d8a0b34665d58fa662": {
     "views": []
    },
    "41f988bdcf054408aa46cc4a954bfb35": {
     "views": []
    },
    "437a25ee79f144ecb858df3c7c068b40": {
     "views": []
    },
    "44097f5811ba4afcb0f1f51bebd5250b": {
     "views": []
    },
    "449a8da9e919434e8bc1f748fd4926d1": {
     "views": []
    },
    "44ac84f495034bb19a7053bdce9b1446": {
     "views": []
    },
    "489470ab0c9e4e059c463d0a813fe53d": {
     "views": []
    },
    "4ce17f6fc4ef4550b621f680bbd892e9": {
     "views": []
    },
    "4dfcc4dea4424d98a66a7a08c113c8c5": {
     "views": []
    },
    "4e86bbe7919d4021ac25c233792588b3": {
     "views": []
    },
    "4ebfa4a2a20748e994ad7af536b204b2": {
     "views": []
    },
    "4fa0ef69312d4e82bf505224c72e096d": {
     "views": []
    },
    "4ff6502d59354be384f2807506b7dcdc": {
     "views": []
    },
    "508d52bd1821470e8ff4f8ab32fb8e16": {
     "views": []
    },
    "514f8eff7b2246328187dbd109d90902": {
     "views": []
    },
    "521f5ed4096c4dffb6e5eb52aeae9e4f": {
     "views": []
    },
    "531a8a7a8722472ea76f6878fff7cbe5": {
     "views": []
    },
    "543737cface24364b3bcea3d64a8d590": {
     "views": []
    },
    "549b0d31ca7d4c5584c2b8d79e2114fd": {
     "views": []
    },
    "54afcfb1e4604757b7be6b4ef616ffca": {
     "views": []
    },
    "55cbe540eb24445390f90809e17edb15": {
     "views": []
    },
    "56d52b2a036543118709435face57cd5": {
     "views": []
    },
    "581f2679ec56407a921cd7ffc02ac2a1": {
     "views": []
    },
    "58433b20d2d845798f9cbfd3de93bd09": {
     "views": []
    },
    "594ce576f2df4756814f03a4079552aa": {
     "views": []
    },
    "599c63d1584546eba8fc29c9000b4f3d": {
     "views": []
    },
    "5a6fbdbe62f0425480551c8a264ea52b": {
     "views": []
    },
    "5acafc373f084acd9c580d87169522a4": {
     "views": []
    },
    "5b7b73f547694e7aab20375adc99e1ea": {
     "views": []
    },
    "5c00fb778510466d81b3acd147c6d0f3": {
     "views": []
    },
    "5cab4b7be64f401685b99683cd8c1ab0": {
     "views": []
    },
    "5e9fee1798ab4484b5c7f8c832a911db": {
     "views": []
    },
    "5ef7b075572c4bbc9b1d072828414702": {
     "views": []
    },
    "5f08e042f16a4ecaa600c19622c080f6": {
     "views": []
    },
    "60ad47960f394fc593175251a40969cf": {
     "views": []
    },
    "60d3072269624d49ae6b9d2985228298": {
     "views": []
    },
    "62b97589464b46f68a8e9e2243fb90dd": {
     "views": []
    },
    "63c443d217a3440e9d2f164a9a8649d5": {
     "views": []
    },
    "654e5f0289ab4ae19c5618ede63d9fdb": {
     "views": []
    },
    "69102b9b02754ee6adae7ad4371f3d69": {
     "views": []
    },
    "6985ea20a8e9421bb9a7a2872e6ea18b": {
     "views": []
    },
    "6a5c70b18ac049cc9fbf1843e748691b": {
     "views": []
    },
    "6a9e72151faf4bc2a8f810fd9f43cc1f": {
     "views": []
    },
    "6b66e66c9c6342a2a4fa12c640f91765": {
     "views": []
    },
    "6beba731815b4c6497a675dc1833a71c": {
     "views": []
    },
    "6cbe940093b04fe2bc88005f55ddfd92": {
     "views": []
    },
    "6d3f1d85f58c45f6b45e734f01efb87e": {
     "views": []
    },
    "6e0064acc67541228e63dda9da2c6108": {
     "views": []
    },
    "6e539d8161524ba1bc306dbedffbb4a2": {
     "views": []
    },
    "707273960fc7400aa1c121de7e1d38d0": {
     "views": []
    },
    "74da63b715624c33922f63017d807cae": {
     "views": []
    },
    "75def8e7b3964d5a942f9779eee05e48": {
     "views": []
    },
    "7a368d928eff45c29d6a3d3206891a78": {
     "views": []
    },
    "7afbbc082be3471c95a253c80f088fee": {
     "views": []
    },
    "7cd4727cee184b2b97551c072b4722e6": {
     "views": []
    },
    "7dc97e594b0a4557a4e46c3c07c1bf17": {
     "views": []
    },
    "7f4c30bd47d24da4b77ce3bb27ec5940": {
     "views": []
    },
    "806c5cddcbd54879b8409f81fa73d985": {
     "views": []
    },
    "815552afe158461da8b7655255713d17": {
     "views": []
    },
    "81d86048a7594bbe8f2192b29a0da4ed": {
     "views": []
    },
    "82833412f09049888366e787935b7619": {
     "views": []
    },
    "82af1a43653144728abd2604ad35e5ef": {
     "views": []
    },
    "845ef4d06eea446d9082db621ddcf937": {
     "views": []
    },
    "84963be5ce544237baaa56e7e2043636": {
     "views": []
    },
    "8542c34b04a941fea6ff75e49be234b1": {
     "views": []
    },
    "85793041c93049b1814bc9f1f825226a": {
     "views": []
    },
    "86776d3c231e4c7eb4ffcf7f8533c28e": {
     "views": []
    },
    "87bccdf2258d407583cf8d3391fbbce0": {
     "views": []
    },
    "88681ab2be1b47ff8a0d8fddcf865ee8": {
     "views": []
    },
    "8ca3f6575b794d6087c2e770d99f10b4": {
     "views": []
    },
    "8ccf070230a04235ac5d7b547dd8eedb": {
     "views": []
    },
    "8fab895a28054e8f82e0cd96218b8021": {
     "views": []
    },
    "9095cf0427544fb8bc494e58626fbc43": {
     "views": []
    },
    "90b722622c7d4cf3bb7fb33bf7e944da": {
     "views": []
    },
    "92791dacd88e4168b6c73b652107a974": {
     "views": []
    },
    "94b2ea133b744817af8d756e4987cf88": {
     "views": []
    },
    "96ed5405600147aab1bc6626611cf505": {
     "views": []
    },
    "9d7bf6606911488486f222beadfaf995": {
     "views": []
    },
    "9e73d474b5df4090957cfda019a79b39": {
     "views": []
    },
    "a041c51c03304866a135ef76c11fbafd": {
     "views": []
    },
    "a333d446ec8c464eb183794a635c4ab1": {
     "views": []
    },
    "a38fd53096ad44e287a0b654a26690af": {
     "views": []
    },
    "a45b45123bf140518bcc359968041a2f": {
     "views": []
    },
    "a6e2769435014749bd443c4ee2d39028": {
     "views": []
    },
    "a8f5507f83d648aca05f1945b6243309": {
     "views": []
    },
    "a9a6dafd8c6549eaa455396a257bfd8d": {
     "views": []
    },
    "aa311ee1841046baa8162ca70b9544e0": {
     "views": []
    },
    "aa4fe0fef7014136906149b49b73afdf": {
     "views": []
    },
    "aa84ebc89def48faafe2cd761702084c": {
     "views": []
    },
    "aa8f6a0ba9d24cf1a3ed305442c49d82": {
     "views": []
    },
    "aba6975e8ee4400c833f8aaa195f8220": {
     "views": []
    },
    "ac56f922f2e74710bb0ce8f31bf2acbf": {
     "views": []
    },
    "ace07748003546ce83ccb26fc2da6f48": {
     "views": []
    },
    "ad4abc8cbf0e4c38a3312c53aebab168": {
     "views": []
    },
    "ae348589bcbe43498b41ba53c019bda2": {
     "views": []
    },
    "b235f277700849b3985746d569e0a250": {
     "views": []
    },
    "b26f77443c5a40e5b866d424cd8b9d74": {
     "views": []
    },
    "b38b7e5757e3459098adc51b4e52311f": {
     "views": []
    },
    "b623c7d96ae84da19dc4de6dfde2948d": {
     "views": []
    },
    "ba3699bb65d94cd28992b8acfc6a466f": {
     "views": []
    },
    "bcb6ce1803fd43b49af366e204726a25": {
     "views": []
    },
    "bd56e5e32be34a1baf10bc801b1525b4": {
     "views": []
    },
    "bea85d237eb947f39b4ec8a94924bd94": {
     "views": []
    },
    "beecd2d515444ef0bf232cab9c6f567c": {
     "views": []
    },
    "c3190db6a7e94b378c18777875a7e145": {
     "views": []
    },
    "c5540a361a1d409c9624371a2acc7756": {
     "views": []
    },
    "c616bcad71b64ab8a451b0ff0db7108e": {
     "views": []
    },
    "c67f68f3d6ab46c99a4843f6092a3216": {
     "views": []
    },
    "c79a9d8fff964494a87b760e010aeb22": {
     "views": []
    },
    "c85e343cb7ac410bbd2032427280dad5": {
     "views": []
    },
    "ca0fbc61f2c94d1c9ee43b61f275826b": {
     "views": []
    },
    "cb41dbe702d14fba9872e112512b4657": {
     "views": []
    },
    "cb6930a0497d41139a9c8cb148883dcf": {
     "views": []
    },
    "cd70a21abd2d4ef7b33fcd05df12cc99": {
     "views": []
    },
    "ce1f7190540248ca867cfeeab86cf811": {
     "views": []
    },
    "cebfced9eda043228b3117c0fc9266e4": {
     "views": []
    },
    "cec725710dfb47679ff19aaf72823f7b": {
     "views": []
    },
    "d01f704c55b646f19c42805b102d78a0": {
     "views": []
    },
    "d02db560c29a4a09a2b41c43caefd855": {
     "views": []
    },
    "d086358dcde5416c8b43b8358462991b": {
     "views": []
    },
    "d370f34c35014626baaaca2f180ae623": {
     "views": []
    },
    "d4bc78836d564dc6a00756484afaf7cd": {
     "views": []
    },
    "d67e990071d84e53b1a32923356207c0": {
     "views": []
    },
    "d84afa846b684fcdb0da323b706bf9a5": {
     "views": []
    },
    "d9f931b6df094c5ea209928ec113c03d": {
     "views": []
    },
    "d9fc5397a1e54bd081c92e216d579dbf": {
     "views": []
    },
    "da78c9e2ace04571a04506e61fe7c6e5": {
     "views": []
    },
    "dc16b7477d9a4c51b9776887d491dbd7": {
     "views": []
    },
    "ddeeb40423d547c5a8e4eab5b725c4b0": {
     "views": []
    },
    "ddf81f4f86a94e3e823795e3d76719c6": {
     "views": []
    },
    "dedadcf7ba9d412fb7f0bc21178f543a": {
     "views": []
    },
    "dfafa8cee91e4f05a9b6fcc57bcae477": {
     "views": []
    },
    "e21ade571bdf40ea95074c618810cd27": {
     "views": []
    },
    "e26e7e27f4404bf9ade34eb71d62c7f0": {
     "views": []
    },
    "e27671eb66194259bff90bd7e88eb520": {
     "views": []
    },
    "e38ae0c8989e432ebc1d5f6576d53cc0": {
     "views": []
    },
    "e471b26d2db74570a227fdfefb72c8a6": {
     "views": []
    },
    "e74152e4a61742c8bce46f37ce9504bd": {
     "views": []
    },
    "e8b31fe5206c4fa4b522736fa11e8699": {
     "views": []
    },
    "e9340f92857a4cd4bd391d54ab5553e8": {
     "views": []
    },
    "e9970e41ffd64170b6af42776a67850c": {
     "views": []
    },
    "e9d9ec0f8c434b55a209a17b2a3270dc": {
     "views": []
    },
    "eabf4a96e77d4f68b0e510fe1827265f": {
     "views": []
    },
    "ece274106d3049c5999b2739acfe5693": {
     "views": []
    },
    "efddb545e3314b42bad9a953560d702c": {
     "views": []
    },
    "f32722a14f0c4d35a1294b13353fe62f": {
     "views": []
    },
    "f3fec5928d4c45a58d96172b46bf3ef6": {
     "views": []
    },
    "f48186456f0144aeaa4a3a5b773f3a37": {
     "views": []
    },
    "f484426d78fe41d9a442bb383a1c6ab5": {
     "views": []
    },
    "f5663f18ee59487fa0c8a5ad2e6711e5": {
     "views": []
    },
    "f5dfc480e58a4c028f9a1f7adf422df6": {
     "views": []
    },
    "f73d9a56ed55454e923a17fbfb9ed160": {
     "views": []
    },
    "fa2f433484c54c0999fa157b9e4e351b": {
     "views": []
    },
    "fe0786d47528436d9ef2e83861eaf222": {
     "views": []
    },
    "ff63c18e2aeb4d67ae5e17b5f4d0a16b": {
     "views": []
    }
   },
   "version": "1.1.2"
  }
 },
 "nbformat": 4,
 "nbformat_minor": 0
}
