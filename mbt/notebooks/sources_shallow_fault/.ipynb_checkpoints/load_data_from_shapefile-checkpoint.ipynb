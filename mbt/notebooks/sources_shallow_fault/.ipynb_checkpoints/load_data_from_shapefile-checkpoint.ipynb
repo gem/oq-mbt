{
 "cells": [
  {
   "cell_type": "markdown",
   "metadata": {},
   "source": [
    "# Load data for area sources from shapefile"
   ]
  },
  {
   "cell_type": "code",
   "execution_count": null,
   "metadata": {
    "collapsed": false
   },
   "outputs": [],
   "source": [
    "# cleaner avoid to restart kernel for each code modification, use it just when alone\n",
    "from cleaner import modules_cleaner ; modules_cleaner()\n",
    "# load current project if secondary ipynb runned alone\n",
    "import metys; metys.Metys.secondary()"
   ]
  },
  {
   "cell_type": "code",
   "execution_count": null,
   "metadata": {
    "collapsed": true
   },
   "outputs": [],
   "source": [
    "import os\n",
    "import cPickle as pickle"
   ]
  },
  {
   "cell_type": "code",
   "execution_count": null,
   "metadata": {
    "collapsed": true
   },
   "outputs": [],
   "source": [
    "try:\n",
    "    print_log\n",
    "except: \n",
    "    print_log = False"
   ]
  },
  {
   "cell_type": "markdown",
   "metadata": {},
   "source": [
    "## Loading the model"
   ]
  },
  {
   "cell_type": "code",
   "execution_count": null,
   "metadata": {
    "collapsed": false
   },
   "outputs": [],
   "source": [
    "model_key = metys.g_prj.models.current"
   ]
  },
  {
   "cell_type": "markdown",
   "metadata": {},
   "source": [
    "## Read data from shapefile"
   ]
  },
  {
   "cell_type": "code",
   "execution_count": null,
   "metadata": {
    "collapsed": false
   },
   "outputs": [],
   "source": [
    "tmp_sources = metys.g_prj.mod[model_key]['fault_source_shapefile']\n",
    "\n",
    "try:\n",
    "    sources.update(tmp_sources) \n",
    "except:\n",
    "    sources = tmp_sources\n",
    "\n",
    "if print_log:\n",
    "    print 'Number of sources loaded: %d' % len(tmp_sources)"
   ]
  },
  {
   "cell_type": "markdown",
   "metadata": {},
   "source": [
    "## Saving sources into the model "
   ]
  },
  {
   "cell_type": "code",
   "execution_count": null,
   "metadata": {
    "collapsed": false
   },
   "outputs": [],
   "source": [
    "output_path = os.path.join(metys.g_prj.folder, '%s_fault_sources.pkl' % model_key)\n",
    "fou = open(output_path,'wb') \n",
    "pickle.dump(tmp_sources, fou)\n",
    "fou.close()\n",
    "# \n",
    "if print_log:\n",
    "    print 'Fault sources saved into file: \\n%s' % (output_path)"
   ]
  }
 ],
 "metadata": {
  "kernelspec": {
   "display_name": "Python 2",
   "language": "python",
   "name": "python2"
  },
  "language_info": {
   "codemirror_mode": {
    "name": "ipython",
    "version": 2
   },
   "file_extension": ".py",
   "mimetype": "text/x-python",
   "name": "python",
   "nbconvert_exporter": "python",
   "pygments_lexer": "ipython2",
   "version": "2.7.6"
  },
  "widgets": {
   "state": {
    "005f6f527c6a4befbc3d91e195ed8d2d": {
     "views": []
    },
    "03f9895d40a9413498e1735ec20c5ba8": {
     "views": []
    },
    "03fd2a716c604efdb838a83fa19fc678": {
     "views": []
    },
    "054c5a85cc13496196138c6ded2dbc4b": {
     "views": []
    },
    "06e115d7c6ca4b87a73d6b169148c1a6": {
     "views": []
    },
    "07ee24a2fd9445d3b3da87e445ed0949": {
     "views": []
    },
    "0d998620cb1242648cb166674da63dba": {
     "views": []
    },
    "0f1c3d8e34a449d8a03ec26f32991160": {
     "views": []
    },
    "109fcd5cff744987ae1009986d9370a4": {
     "views": []
    },
    "126f9e15eb27463497e77547575d6917": {
     "views": []
    },
    "13bad77b85c14f53baf6d7428e370244": {
     "views": []
    },
    "1419d2d67eb649ce8ff2d8f6f62e5c5c": {
     "views": []
    },
    "17e1fce513d24e4aabe0ee580a578e5b": {
     "views": []
    },
    "18b1b1a0097b45c5b7dd787c2f3a0ebb": {
     "views": []
    },
    "18d759db21d049dbb9ef8be86db8d089": {
     "views": []
    },
    "1aa084a400b8452196321183c40d3549": {
     "views": []
    },
    "1cd276a474d24da9bfa0a2682d45a0eb": {
     "views": []
    },
    "1e0f069c128e48e2806ff7056a513944": {
     "views": []
    },
    "1e988a852f6440ce81ae5499da53751d": {
     "views": []
    },
    "1f32bda0dfe849f0921d469e5bd2d53a": {
     "views": []
    },
    "2062a2fae9a24e6c885e5cdeec8c0b4b": {
     "views": []
    },
    "2532ca6acdd24af5b4817a059860bb21": {
     "views": []
    },
    "25a7b256c177472db9f4cddbe2b028e7": {
     "views": []
    },
    "27b4994d27da4e2cbbf82c1cd09056b8": {
     "views": []
    },
    "27cb33a8b4d44125bb8a2d197d38051c": {
     "views": []
    },
    "28eded8fb3ec432ba7cf8b7ecc18b723": {
     "views": []
    },
    "298e63301fc04fbaba75909a0abd0b3f": {
     "views": []
    },
    "2b1db1b850ae40379361d3e01ff966b2": {
     "views": []
    },
    "2c7ca869abc24c778853c8ca7438966f": {
     "views": []
    },
    "2d9dd380045c4ec792febe036261289a": {
     "views": []
    },
    "2dd7043798034b4a8b2ef52048d37253": {
     "views": []
    },
    "31acea1f778e485e8cdb80974513c597": {
     "views": []
    },
    "3221b65eb9fd4dd48e4f3b551f66043b": {
     "views": []
    },
    "3301eddb1bc14b66bc9fe3785d66b39b": {
     "views": []
    },
    "33482710883d49e88b20f60e9e5b4d49": {
     "views": []
    },
    "354f8185aef04a50860de19c979da99e": {
     "views": []
    },
    "3700186bf24049368a69632a571db617": {
     "views": []
    },
    "37d02ad41f814943aaf2f59755e25505": {
     "views": []
    },
    "397e34ff7bd74c089f07ce88f6e38d06": {
     "views": []
    },
    "3cbf83c1cf9c44829af2d0e0040b17bd": {
     "views": []
    },
    "3e6646a4fbe8494faf1f642aa2145093": {
     "views": []
    },
    "4007410ab1de4f48a9edaf66e55a00ea": {
     "views": []
    },
    "40a71a5819734e439e2c57e1503b5816": {
     "views": []
    },
    "4370dea101f44c2da439904f7cf159d3": {
     "views": []
    },
    "49a7b9e19d804717a4175c5daf7bb32e": {
     "views": []
    },
    "49b735ddf1d041f899544b771bac20aa": {
     "views": []
    },
    "4dc91353784e40298bc586fdb1265757": {
     "views": []
    },
    "4ee5738722834b448188518f4e79c18d": {
     "views": []
    },
    "519886211353491e8b472353c788b83e": {
     "views": []
    },
    "51ea68b8062f48709170a75b5560c735": {
     "views": []
    },
    "54936179790b487eb1cce00054242c4b": {
     "views": []
    },
    "5563ecfe03794ba680e71a8484ef033c": {
     "views": []
    },
    "56073930e2514f2189234d27319a3a10": {
     "views": []
    },
    "5722bd1c221e4d7bab86d8f16f126251": {
     "views": []
    },
    "5bfd845555f54608b379a05f55e21c9c": {
     "views": []
    },
    "5da4668266c344e5a0aae1038198fb46": {
     "views": []
    },
    "5e74af77d78c4c9881421ee8ca7a3ce0": {
     "views": []
    },
    "63b5721205004689b304f84032c9e94c": {
     "views": []
    },
    "6445f3fe8ef4463bbbddf6b04146da3f": {
     "views": []
    },
    "65ac9c1930a44b46b5593d796f3d59c3": {
     "views": []
    },
    "66bcbaee673d4184b799216d84ba18de": {
     "views": []
    },
    "6c50e7601b8a41deac08c8e5cf3ea41b": {
     "views": []
    },
    "6d03a237d66b4004aae80d8d1132764a": {
     "views": []
    },
    "6dd069254124422e9f441fef7e3eeb2a": {
     "views": []
    },
    "6ffcf70a67bc45c6a23c9323603a8357": {
     "views": []
    },
    "72145fdc60534eebb538ddb842335c32": {
     "views": []
    },
    "74b2e8c2a1ec4285bd1ed46b216ae483": {
     "views": []
    },
    "7a9be843b72e4b2896fedbb6be0efca6": {
     "views": []
    },
    "7bd7e5fec91d4f84a2ed9023a828768a": {
     "views": []
    },
    "7ce535bab69a4d74b44ddc29b5b4b0b2": {
     "views": []
    },
    "7d850ca003244b2895638bd8c7e05dbc": {
     "views": []
    },
    "7dd8aaf5af634d55b3354fdb14c6999c": {
     "views": []
    },
    "7e5d343b348d4deb903e640d9c2e1aee": {
     "views": []
    },
    "80fb2d11184c4d41a240e3733eb64167": {
     "views": []
    },
    "83d702299b5a4d609736e79cd951d493": {
     "views": []
    },
    "85ccf362b16f48fbbf95d34ee769f186": {
     "views": []
    },
    "85ef350ff73340ffa57c22d2d8b2f440": {
     "views": []
    },
    "89dc49bba1bd463d8a24f02a02d3e57c": {
     "views": []
    },
    "8a1f23c467044857ad21dd4a68b33bf0": {
     "views": []
    },
    "8b0656f39fce44dfaf9beb1193f2997b": {
     "views": []
    },
    "8d13a65dc70f4722b8c9ca9ae24c3504": {
     "views": []
    },
    "8d7eb9631ad54cde85c73520fcd16a2a": {
     "views": []
    },
    "8da0b60fc3e4486f905f00598dd3be9d": {
     "views": []
    },
    "8e7b048570854641b1d86d4a139f1faa": {
     "views": []
    },
    "8fed674c40d3469ca98180c3218ac7fa": {
     "views": []
    },
    "94f6ba4b696e4a809bf2d271caa3e559": {
     "views": []
    },
    "9979f45292074f97ba3a8ea5fb239523": {
     "views": []
    },
    "9c8f047e488548f29343333e920cc41a": {
     "views": []
    },
    "9dc3230094754a1fac64b23b8580ef29": {
     "views": []
    },
    "9f35373e4a6e47a1bc552672c4f31ca7": {
     "views": []
    },
    "a011cf9df1af4654a89d5ca0082b7d79": {
     "views": []
    },
    "a3a335f6e28a4ca793d98108671a1715": {
     "views": []
    },
    "a41c1cf3b9a94f3f8ef6fd184183b007": {
     "views": []
    },
    "a4ff8de887bd43f98264aec5a6d75aef": {
     "views": []
    },
    "a623bca813874ee7b79e41d17e449425": {
     "views": []
    },
    "a739787db0c3487885d30a946338c0de": {
     "views": []
    },
    "a857051d74ab457eaddeb1b998678c84": {
     "views": []
    },
    "aa0226ef87e04b4f94e960f72dae184e": {
     "views": []
    },
    "ac39b9965a1244a1b8772a7bb9abbfd8": {
     "views": []
    },
    "af5bfe1acd3642608ad2e8b2405854d8": {
     "views": []
    },
    "b02046b47e1e47b1bcbf020553a8a4d3": {
     "views": []
    },
    "b02f2c5a60064a0abbafed26044ebbda": {
     "views": []
    },
    "b0f13af47d6549ab81dc391ab119e7ea": {
     "views": []
    },
    "b124eb0f4bcb4306983cac4a878b1729": {
     "views": []
    },
    "b1a0c41b0e654b4cab51e30a7c9ecb98": {
     "views": []
    },
    "b20a5d699a4b4df59d062bbf538e80b3": {
     "views": []
    },
    "b210ace4866d4174afa0b2d03fc40e47": {
     "views": []
    },
    "b2d5242839d9430f899e6b864e929aa5": {
     "views": []
    },
    "b36fdab848614dd08c51ff09334bfada": {
     "views": []
    },
    "b3ac71c55ce14e0f88a226fbcdbacae1": {
     "views": []
    },
    "b57c4aacfae34008a747fea6cab8b918": {
     "views": []
    },
    "b5dfc15ac5694ac3ad31de1c12a1588d": {
     "views": []
    },
    "b68a686962664197b54824eecb9d0c90": {
     "views": []
    },
    "b71e7d9bd2f4464e8963ef21a832751c": {
     "views": []
    },
    "b8caa2f3da4447a78abab9a6208bc2f7": {
     "views": []
    },
    "b8d829ecfdf5467fb665b0bf608e7afe": {
     "views": []
    },
    "ba86752a0c8949569de321f97cfa8a81": {
     "views": []
    },
    "bc5c28509cf748f295d8f0220ee7df7d": {
     "views": []
    },
    "bd3385a198a945c995c51a5d6cdcee6b": {
     "views": []
    },
    "bd7c4d2c2d2d4066be899c3f6a26b354": {
     "views": []
    },
    "bdb0c342269c4f52b256662c5a831821": {
     "views": []
    },
    "bdca28ab00314812ab46932001bcf687": {
     "views": []
    },
    "be6321e8c1de4a7185265ba663925f4e": {
     "views": []
    },
    "c00704639e1f4b049d6eef29cfd57fc2": {
     "views": []
    },
    "c118b5cb2667405786736f95ff5df8e0": {
     "views": []
    },
    "c134e3d4cc9c4fc5afea8c0567877323": {
     "views": []
    },
    "c16984745ecb4b109dd50e41a87c0e7d": {
     "views": []
    },
    "c1aebe420d79445580495af63af49623": {
     "views": []
    },
    "c1ee1bc490fb41509f12ea7ab8776e48": {
     "views": []
    },
    "c2a66737b720490ca6122391c58ef7bc": {
     "views": []
    },
    "c2f86323427e48f3a43332710872a454": {
     "views": []
    },
    "c35554f78c034d0cacc340ff648fa2a5": {
     "views": []
    },
    "c480dd1326d443f58c064a23bf15c7bf": {
     "views": []
    },
    "c4e94be0487649f696f30afc210d30be": {
     "views": []
    },
    "c6ec679a83ab40a2abc37b1a5f3e1dbe": {
     "views": []
    },
    "c6f572c6cd1c44e09d9d657f8c4a6efc": {
     "views": []
    },
    "cb0f757085b448a1ac7d78a0881fb4da": {
     "views": []
    },
    "cb6d28661a49453cabefa83495b781d3": {
     "views": []
    },
    "cc330e81adf248efb1c8c52c124eeb69": {
     "views": []
    },
    "cc9d8bf7455f40839d7128d0b4244c7e": {
     "views": []
    },
    "ce441ba20b184b70b4c465becdeef66d": {
     "views": []
    },
    "cefeec46edd04cceadc9e2364efd305f": {
     "views": []
    },
    "d049fde3b4ae4c8aa4c1c166e1ca33ec": {
     "views": []
    },
    "d27ce61c7f3b44af880550e5e0bcf28e": {
     "views": []
    },
    "d654468a003d46488bf927c80469268f": {
     "views": []
    },
    "d680d39e2da849a4aeef1dccd4044866": {
     "views": []
    },
    "d6d6688ec82241eaa6d2e30d5dfda744": {
     "views": []
    },
    "da70f57d7bb845a59c5f7d55bc0bd89f": {
     "views": []
    },
    "da8784715493407d850bb894f9887d50": {
     "views": []
    },
    "db48543eddb6471cb5c4511590a117a9": {
     "views": []
    },
    "e1550175c9e24f08854b217fd1ec9991": {
     "views": []
    },
    "e2c3f261e7514510825461d54a728a9f": {
     "views": []
    },
    "e814cc7673684012a4c1f8e9887d4ffc": {
     "views": []
    },
    "e96d50aca39c418f9006fc56d9b164ce": {
     "views": []
    },
    "ea0c6dc068ce42bda9aaa903782017ef": {
     "views": []
    },
    "eab84e67f009402394c5930bc9b18918": {
     "views": []
    },
    "ef5c9e04e4534e3d80e982c86856a76a": {
     "views": []
    },
    "f025a7544c8f4bafb16978a1c1f032d8": {
     "views": []
    },
    "f032fbfc6d7a43c8b357f4af0730f1d0": {
     "views": []
    },
    "f0364e53277545078955e58f147d4228": {
     "views": []
    },
    "f16d4a02697d44e5bbbe2f110027750e": {
     "views": []
    },
    "f23638374156448a8b26bfbfe65cfd78": {
     "views": []
    },
    "f2d80125856741c89e4f3820f1b89091": {
     "views": []
    },
    "f42b1aa631cc4cf4835eecdc5d57e0f3": {
     "views": []
    },
    "f5e724fdc79b464aa32a190ae0a96544": {
     "views": []
    },
    "f658fe65f10b451ba1c0ed785dc2ea7f": {
     "views": []
    },
    "f7ca9196cdf04e4eb7557d85a14aac88": {
     "views": []
    },
    "f8a0328b251d473e8db2f614ff29bb9d": {
     "views": []
    },
    "f959dacfe2684031857d5242cb786800": {
     "views": []
    },
    "fb31e8efa0fc482e9b1ef04b32ff1c66": {
     "views": []
    },
    "fb798b4ccbcd4b42a6e5abccaa1e8516": {
     "views": []
    },
    "fbbfc9a34d864f55875d769737a4f6a6": {
     "views": []
    },
    "fbd5a7e2112c435ab4858e13a0ae3edf": {
     "views": []
    },
    "fea489da58464a628a47a1f7653eace8": {
     "views": []
    },
    "ff019f90a1c84371926b0313c8b3bc17": {
     "views": []
    },
    "ff80977fcb954ebc858b4f457ba00c0c": {
     "views": []
    }
   },
   "version": "1.1.2"
  }
 },
 "nbformat": 4,
 "nbformat_minor": 0
}
