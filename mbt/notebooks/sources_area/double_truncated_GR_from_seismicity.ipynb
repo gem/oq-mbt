{
 "cells": [
  {
   "cell_type": "code",
   "execution_count": 1,
   "metadata": {
    "collapsed": false
   },
   "outputs": [
    {
     "data": {
      "application/javascript": [
       "\n",
       "        define('oq_getcells_module', [], function() {\n",
       "            var oq_getcells_target = function (comm, msg) {\n",
       "                comm.on_msg(function(m) {\n",
       "                    var cells = IPython.notebook.get_cells();\n",
       "                    var ret = [];\n",
       "                    var ct = cells.length;\n",
       "                    for (var i = 1 ; i < ct ; i++) {\n",
       "                        ret.push({type: cells[i].cell_type, content: cells[i].get_text()});\n",
       "                    }\n",
       "                    comm.send(ret);\n",
       "                });\n",
       "            comm.on_close(function(m) {\n",
       "                ;\n",
       "                });\n",
       "            }\n",
       "            return {'oq_getcells_target': oq_getcells_target}\n",
       "        })\n",
       "    "
      ],
      "text/plain": [
       "<IPython.core.display.Javascript object>"
      ]
     },
     "metadata": {},
     "output_type": "display_data"
    }
   ],
   "source": [
    "# cleaner avoid to restart kernel for each code modification, use it just when alone\n",
    "from cleaner import modules_cleaner ; modules_cleaner()\n",
    "# load current project if secondary ipynb runned alone\n",
    "import metys; metys.Metys.secondary()"
   ]
  },
  {
   "cell_type": "code",
   "execution_count": 2,
   "metadata": {
    "collapsed": false
   },
   "outputs": [
    {
     "name": "stderr",
     "output_type": "stream",
     "text": [
      "/home/openquake/.virtualenvs/mbt/local/lib/python2.7/site-packages/matplotlib/font_manager.py:273: UserWarning: Matplotlib is building the font cache using fc-list. This may take a moment.\n",
      "  warnings.warn('Matplotlib is building the font cache using fc-list. This may take a moment.')\n"
     ]
    }
   ],
   "source": [
    "%matplotlib inline\n",
    "import os\n",
    "import re\n",
    "import sys\n",
    "import h5py\n",
    "import numpy\n",
    "import cPickle as pickle\n",
    "from prettytable import PrettyTable\n",
    "from hmtk.seismicity.occurrence.weichert import Weichert\n",
    "from hmtk.seismicity.occurrence.utils import get_completeness_counts"
   ]
  },
  {
   "cell_type": "code",
   "execution_count": 3,
   "metadata": {
    "collapsed": true
   },
   "outputs": [],
   "source": [
    "try:\n",
    "    plot_figures\n",
    "except: \n",
    "    plot_figures = False\n",
    "    \n",
    "try:\n",
    "    print_log\n",
    "except: \n",
    "    print_log = False"
   ]
  },
  {
   "cell_type": "code",
   "execution_count": 9,
   "metadata": {
    "collapsed": false
   },
   "outputs": [
    {
     "ename": "NameError",
     "evalue": "name 'area_source_ids_list' is not defined",
     "output_type": "error",
     "traceback": [
      "\u001b[1;31m---------------------------------------------------------------------------\u001b[0m",
      "\u001b[1;31mNameError\u001b[0m                                 Traceback (most recent call last)",
      "\u001b[1;32m<ipython-input-9-55932d22a4d3>\u001b[0m in \u001b[0;36m<module>\u001b[1;34m()\u001b[0m\n\u001b[0;32m     17\u001b[0m \u001b[0mfou\u001b[0m\u001b[1;33m.\u001b[0m\u001b[0mclose\u001b[0m\u001b[1;33m(\u001b[0m\u001b[1;33m)\u001b[0m\u001b[1;33m\u001b[0m\u001b[0m\n\u001b[0;32m     18\u001b[0m \u001b[1;33m\u001b[0m\u001b[0m\n\u001b[1;32m---> 19\u001b[1;33m \u001b[1;32mif\u001b[0m \u001b[0mlen\u001b[0m\u001b[1;33m(\u001b[0m\u001b[0marea_source_ids_list\u001b[0m\u001b[1;33m)\u001b[0m \u001b[1;33m>\u001b[0m \u001b[1;36m1\u001b[0m\u001b[1;33m:\u001b[0m\u001b[1;33m\u001b[0m\u001b[0m\n\u001b[0m\u001b[0;32m     20\u001b[0m     \u001b[1;32massert\u001b[0m \u001b[1;36m0\u001b[0m \u001b[1;33m==\u001b[0m \u001b[1;36m1\u001b[0m\u001b[1;33m\u001b[0m\u001b[0m\n\u001b[0;32m     21\u001b[0m \u001b[1;33m\u001b[0m\u001b[0m\n",
      "\u001b[1;31mNameError\u001b[0m: name 'area_source_ids_list' is not defined"
     ]
    }
   ],
   "source": [
    "if print_log or plot_figures:\n",
    "    print '------------------------------------------------------'\n",
    "\n",
    "# Width of bins used to discretise the MFDs\n",
    "model_key = metys.g_prj.models.current \n",
    "binwidth = float(metys.g_prj.mod[model_key]['mfd_binwidth'])\n",
    "\n",
    "if print_log:\n",
    "    print 'MFD bin width    : %.2f' % (binwidth)\n",
    "\n",
    "# Load sources\n",
    "model_key = metys.g_prj.models.current \n",
    "\n",
    "output_path = os.path.join(metys.g_prj.folder, '%s_area_sources.pkl' % model_key)\n",
    "fou = open(output_path,'rb') \n",
    "sources = pickle.load(fou)\n",
    "fou.close()\n",
    "\n",
    "if len(area_source_ids_list) > 1:\n",
    "    assert 0 == 1\n",
    "   \n",
    "src = sources[area_source_ids_list[0]]\n"
   ]
  },
  {
   "cell_type": "code",
   "execution_count": null,
   "metadata": {
    "collapsed": false
   },
   "outputs": [],
   "source": [
    "catalogue_filename = os.path.join(metys.g_prj.folder, '%s_catalogue_declustered.pkl' % model_key)\n",
    "fin = open(catalogue_filename, 'rb') \n",
    "fcatal = pickle.load(fin)\n",
    "fin.close()\n",
    "if print_log:\n",
    "    print 'The calogue contains %d earthquakes' % (len(fcatal.data['magnitude']))"
   ]
  },
  {
   "cell_type": "code",
   "execution_count": null,
   "metadata": {
    "collapsed": false,
    "scrolled": false
   },
   "outputs": [],
   "source": [
    "from mbt.tools.area import create_catalogue\n",
    "fcatal = create_catalogue([src], fcatal, area_source_ids_list)"
   ]
  },
  {
   "cell_type": "markdown",
   "metadata": {},
   "source": [
    "## Load catalogue completeness "
   ]
  },
  {
   "cell_type": "code",
   "execution_count": null,
   "metadata": {
    "collapsed": false
   },
   "outputs": [],
   "source": [
    "compl_hdf5_filename = filename = os.path.join(metys.g_prj.folder, 'completeness.hdf5')\n",
    "if print_log:\n",
    "    print 'Reading', compl_hdf5_filename\n",
    "fhdf5 = h5py.File(compl_hdf5_filename,'r')\n",
    "\n",
    "grp = fhdf5[model_key]\n",
    "src_id = area_source_ids_list[0]\n",
    "if src_id in grp.keys():\n",
    "    compl_table = grp[src_id][()]\n",
    "    if print_log: \n",
    "        print 'Found completeness table for: <%s>' % (src_id)\n",
    "else:\n",
    "    if print_log:\n",
    "        print 'hdf file does not contain completeness table for source: <%s>' % src_id\n",
    "    if 'whole_catalogue' in grp.keys():\n",
    "        compl_table = grp['whole_catalogue'][()]\n",
    "        if looging:\n",
    "            print 'using the default completeness table set for the whole catalogue'\n",
    "    else:\n",
    "        if print_log:\n",
    "            print 'Default completeness table (whole catalogue) not defined'\n",
    "        raise ValueError()\n",
    "        compl_table = None\n",
    "if print_log:\n",
    "    print '\\nCompleteness table'\n",
    "    print compl_table\n",
    "fhdf5.close()"
   ]
  },
  {
   "cell_type": "markdown",
   "metadata": {},
   "source": [
    "## Computing GR double truncated"
   ]
  },
  {
   "cell_type": "code",
   "execution_count": null,
   "metadata": {
    "collapsed": false
   },
   "outputs": [],
   "source": [
    "idx = numpy.nonzero(compl_table[:,1] < numpy.max(fcatal.data['magnitude']))\n",
    "weichert_config = {'magnitude_interval': 0.1, \n",
    "                   'reference_magnitude': 0.0}\n",
    "\n",
    "weichert = Weichert()\n",
    "bval_wei, sigmab, aval_wei, sigmaa = weichert.calculate(fcatal, weichert_config, \n",
    "                                                        completeness=compl_table)\n",
    "\n",
    "if print_log:\n",
    "    print 'bval: %.3f (sigma=%.3f)' % (bval_wei, sigmab)\n",
    "    print 'aval: %.3f (sigma=%.3f)' % (aval_wei, sigmaa)\n",
    "\n",
    "# Computing seismicity rates -----\n",
    "cent_mag, t_per, n_obs = get_completeness_counts(fcatal, \n",
    "                                                 compl_table,\n",
    "                                                 binwidth)"
   ]
  },
  {
   "cell_type": "markdown",
   "metadata": {},
   "source": [
    "## Writing rates to hdf5 file"
   ]
  },
  {
   "cell_type": "code",
   "execution_count": null,
   "metadata": {
    "collapsed": false
   },
   "outputs": [],
   "source": [
    "eqk_rates_hdf5_filename = os.path.join(metys.g_prj.folder, '%s_src_rates.pkl' % model_key)\n",
    "\n",
    "if print_log:\n",
    "    print 'Writing', eqk_rates_hdf5_filename\n",
    "fhdf5 = h5py.File(eqk_rates_hdf5_filename,'a')\n",
    "# Update/create group\n",
    "if model_key in fhdf5.keys():\n",
    "    if print_log:\n",
    "        print 'Group exists. Set group %s' % (model_key)\n",
    "    grp = fhdf5[model_key]\n",
    "else:\n",
    "    if print_log:\n",
    "        print 'Create group: %s' % (model_key)\n",
    "    grp = fhdf5.create_group(model_key)\n",
    "\n",
    "# Update/create dataset\n",
    "rates = numpy.array([cent_mag, t_per, n_obs])\n",
    "if src_id in grp:\n",
    "    del grp[src_id]\n",
    "# Log info\n",
    "if print_log:\n",
    "    print 'Creating dataset %s' % (src_id)\n",
    "dataset = grp.create_dataset(src_id, data=rates)\n",
    "fhdf5.close()"
   ]
  },
  {
   "cell_type": "markdown",
   "metadata": {},
   "source": [
    "## Plotting "
   ]
  },
  {
   "cell_type": "code",
   "execution_count": null,
   "metadata": {
    "collapsed": false
   },
   "outputs": [],
   "source": [
    "if plot_figures: \n",
    "    from hmtk.plotting.seismicity.occurrence.recurrence_plot import plot_trunc_gr_model\n",
    "    plot_trunc_gr_model(aval_wei, bval_wei, 4.0, 8.0, 0.1, catalogue=fcatal,\n",
    "                        completeness=compl_table)"
   ]
  },
  {
   "cell_type": "markdown",
   "metadata": {},
   "source": [
    "## Saving results"
   ]
  },
  {
   "cell_type": "code",
   "execution_count": null,
   "metadata": {
    "collapsed": false
   },
   "outputs": [],
   "source": [
    "src.a_val = aval_wei\n",
    "src.b_val = bval_wei\n",
    "sources[src.source_id] = src\n",
    "\n",
    "output_path = os.path.join(metys.g_prj.folder, '%s_area_sources.pkl' % model_key)\n",
    "fou = open(output_path,'wb') \n",
    "pickle.dump(sources, fou)\n",
    "fou.close()"
   ]
  },
  {
   "cell_type": "code",
   "execution_count": null,
   "metadata": {
    "collapsed": true
   },
   "outputs": [],
   "source": []
  }
 ],
 "metadata": {
  "kernelspec": {
   "display_name": "Python 2",
   "language": "python",
   "name": "python2"
  },
  "language_info": {
   "codemirror_mode": {
    "name": "ipython",
    "version": 2
   },
   "file_extension": ".py",
   "mimetype": "text/x-python",
   "name": "python",
   "nbconvert_exporter": "python",
   "pygments_lexer": "ipython2",
   "version": "2.7.6"
  },
  "widgets": {
   "state": {},
   "version": "1.1.2"
  }
 },
 "nbformat": 4,
 "nbformat_minor": 0
}
