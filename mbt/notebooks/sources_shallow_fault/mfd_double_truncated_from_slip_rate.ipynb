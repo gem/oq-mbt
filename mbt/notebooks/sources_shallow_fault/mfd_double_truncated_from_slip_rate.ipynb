{
 "cells": [
  {
   "cell_type": "code",
   "execution_count": null,
   "metadata": {
    "collapsed": false
   },
   "outputs": [],
   "source": [
    "# cleaner avoid to restart kernel for each code modification, use it just when alone\n",
    "from cleaner import modules_cleaner ; modules_cleaner()\n",
    "# load current project if secondary ipynb runned alone\n",
    "import metys; metys.Metys.secondary()"
   ]
  },
  {
   "cell_type": "code",
   "execution_count": null,
   "metadata": {
    "collapsed": false
   },
   "outputs": [],
   "source": [
    "%matplotlib inline\n",
    "import os\n",
    "import re\n",
    "import sys\n",
    "\n",
    "from mbt.tools.faults import rates_for_double_truncated_mfd\n",
    "from openquake.hazardlib.geo.surface import SimpleFaultSurface\n",
    "from openquake.hazardlib.mfd import EvenlyDiscretizedMFD\n",
    "\n",
    "from openquake.hazardlib.scalerel.wc1994 import WC1994"
   ]
  },
  {
   "cell_type": "code",
   "execution_count": null,
   "metadata": {
    "collapsed": true
   },
   "outputs": [],
   "source": [
    "try:\n",
    "    plot_figures\n",
    "except: \n",
    "    plot_figures = False\n",
    "    \n",
    "try:\n",
    "    print_log\n",
    "except: \n",
    "    print_log = False"
   ]
  },
  {
   "cell_type": "code",
   "execution_count": null,
   "metadata": {
    "collapsed": false
   },
   "outputs": [],
   "source": [
    "if print_log or plot_figures:\n",
    "    print '------------------------------------------------------'\n",
    "# Width of bins used to discretise the MFDs\n",
    "model_key = metys.g_prj.models.current \n",
    "binwidth = float(metys.g_prj.mod[model_key]['mfd_binwidth'])\n",
    "if print_log:\n",
    "    print 'MFD bin width    : %.2f' % (binwidth)\n",
    "\n",
    "# Load sources\n",
    "model_key = metys.g_prj.models.current \n",
    "data_path = os.path.join(metys.g_prj.folder, '%s_fault_sources.pkl' % model_key)\n",
    "fin = open(data_path,'rb') \n",
    "sources = pickle.load(fin)\n",
    "fin.close()\n",
    "\n",
    "# Check input variables\n",
    "if area_source_ids_list is None:\n",
    "    area_source_ids_list = ['10']\n",
    "    \n",
    "if len(area_source_ids_list) > 1:\n",
    "    assert 0 == 1\n",
    "    \n",
    "src = sources[area_source_ids_list[0]]"
   ]
  },
  {
   "cell_type": "markdown",
   "metadata": {},
   "source": [
    "## Parameters"
   ]
  },
  {
   "cell_type": "code",
   "execution_count": null,
   "metadata": {
    "collapsed": true
   },
   "outputs": [],
   "source": [
    "default_mmin = 6.5\n",
    "bin_width = 0.1\n",
    "scalerel_name = 'WC1994'"
   ]
  },
  {
   "cell_type": "markdown",
   "metadata": {},
   "source": [
    "## Set the magnitude scaling relationship\n",
    "The options available for the magnitude scaling relationship are:\n",
    "* `scalrel_name = 'WC1994`' <br> Wells and Coppersmith (1994) scaling relationship\n",
    "* '`PointMSR`' Scaling relationship to be used for the creation of tiny ruptures resembling points\n",
    "* '`CEUS2011`' Scaling relationship developed within the CEUS SSC project"
   ]
  },
  {
   "cell_type": "code",
   "execution_count": null,
   "metadata": {
    "collapsed": false
   },
   "outputs": [],
   "source": [
    "import importlib\n",
    "module = importlib.import_module('openquake.hazardlib.scalerel')\n",
    "my_class = getattr(module, scalerel_name)\n",
    "scalrel = my_class()"
   ]
  },
  {
   "cell_type": "markdown",
   "metadata": {},
   "source": [
    "## Computing the mfd"
   ]
  },
  {
   "cell_type": "code",
   "execution_count": null,
   "metadata": {
    "collapsed": false
   },
   "outputs": [],
   "source": [
    "assert len(source_ids_list) == 1\n",
    "src = model.sources[source_ids_list[0]]\n",
    "\n",
    "if src.mmin > 0.0:\n",
    "    m_low = src.mmin\n",
    "else:\n",
    "    m_low = default_mmin\n",
    "\n",
    "for key in src.__dict__:\n",
    "    print key, getattr(src, key)"
   ]
  },
  {
   "cell_type": "code",
   "execution_count": null,
   "metadata": {
    "collapsed": true
   },
   "outputs": [],
   "source": [
    "if src.source_type == 'SimpleFaultSource':\n",
    "    \n",
    "    if src.use_slip == 1:\n",
    "        \n",
    "        # Fix upper seismogenic depth\n",
    "        if not src.__dict__.has_key('upper_seismogenic_depth'):\n",
    "            upper_seismogenic_depth = 0\n",
    "        else:\n",
    "            upper_seismogenic_depth = src.upper_seismogenic_depth\n",
    "            \n",
    "        # Scaling relationship\n",
    "        if 'scalerel' in src.__dict__:\n",
    "            scalerel = getattr(src, 'scalerel')\n",
    "        else:\n",
    "            scalerel = WC1994()\n",
    "\n",
    "        # Compute area source\n",
    "        surf = SimpleFaultSurface.from_fault_data(\n",
    "                    fault_trace = src.trace, \n",
    "                    upper_seismogenic_depth = upper_seismogenic_depth, \n",
    "                    lower_seismogenic_depth = src.lower_seismogenic_depth, \n",
    "                    dip = src.dip, \n",
    "                    mesh_spacing = 2.5)\n",
    "        flt_area = surf.get_area()\n",
    "\n",
    "        # Median magnitude\n",
    "        if 'mmax' in src.__dict__ and float(getattr(src, 'mmax')) > 0.0:\n",
    "            median_magnitude = float(getattr(src, 'mmax'))\n",
    "            print 'Maximum magnitude (from input)               : %.2f' % (median_magnitude)\n",
    "        else:\n",
    "            median_magnitude = scalrel.get_median_mag(flt_area, src.rake)\n",
    "            std = scalrel.get_std_dev_area()\n",
    "            mmax = median_magnitude + std * 2\n",
    "            print 'Maximum magnitude (from scaling relationship): %.2f' % (median_magnitude)\n",
    "         \n",
    "        if median_magnitude > m_low+bin_width and src.slip_rate > 1e-10:\n",
    "        \n",
    "            # Get rates\n",
    "            if hasattr(src, 'id_intersecting_area'):\n",
    "                print 'Using parameters of area source ID           : %s' % (src.id_intersecting_area)\n",
    "                b_gr = model.sources[src.id_intersecting_area].b_gr\n",
    "            else:\n",
    "                b_gr = model.default_bgr\n",
    "            \n",
    "            if 'coeff' in src.__dict__:\n",
    "                coeff = float(getattr(src, 'coeff'))\n",
    "                print 'Coeff parameter (from input)                 : %.2f' % (coeff)\n",
    "            else:\n",
    "                coeff = 1.0\n",
    "                print 'Coeff parameter (default)                    : %.2f' % (coeff)\n",
    "            \n",
    "            rates = rates_for_double_truncated_mfd(flt_area, \n",
    "                                                   src.slip_rate*coeff, \n",
    "                                                   m_low, \n",
    "                                                   median_magnitude, \n",
    "                                                   b_gr=b_gr,\n",
    "                                                   bin_width=bin_width)\n",
    "            \n",
    "            if any(rates):\n",
    "                src.mfd = EvenlyDiscretizedMFD(m_low+bin_width/2, bin_width, rates)\n",
    "                src.scalerel = scalrel\n",
    "                print 'Computed MFD\\n',src.mfd.get_annual_occurrence_rates()\n",
    "            else:\n",
    "                print 'MFD not defined: rates not defined'\n",
    "                src.mfd = None\n",
    "                src.scalerel = None                \n",
    "        else:  \n",
    "            print 'MFD not defined: mag from scaling relationship < mmin + bin_width'\n",
    "            src.mfd = None\n",
    "            src.scalerel = None\n",
    "    else:\n",
    "        print 'For this source we do not use slip'\n",
    "\n",
    "model.sources[source_ids_list[0]] = src \n",
    "oqtkp.models[model_id] = model\n",
    "oqtkp.save()"
   ]
  },
  {
   "cell_type": "code",
   "execution_count": null,
   "metadata": {
    "collapsed": true
   },
   "outputs": [],
   "source": []
  }
 ],
 "metadata": {
  "kernelspec": {
   "display_name": "Python 2",
   "language": "python",
   "name": "python2"
  },
  "language_info": {
   "codemirror_mode": {
    "name": "ipython",
    "version": 2
   },
   "file_extension": ".py",
   "mimetype": "text/x-python",
   "name": "python",
   "nbconvert_exporter": "python",
   "pygments_lexer": "ipython2",
   "version": "2.7.6"
  },
  "widgets": {
   "state": {
    "01907c54611747acb4af4f43df34900a": {
     "views": []
    },
    "09c3f57090994d29b9a379cf117f8cfb": {
     "views": []
    },
    "0f4815048bdc451e9b694b034e3f006a": {
     "views": []
    },
    "1a07e74e1d6d40ec9235752c22babe59": {
     "views": []
    },
    "1d5b4f2bac3948ae971f04a23e3e780b": {
     "views": []
    },
    "1e60b9fb8a6a4244a58c39e15db8d440": {
     "views": []
    },
    "1e7d50d74046433e9a6598ba314827de": {
     "views": []
    },
    "21c3b21408684f679d78b454d286798a": {
     "views": []
    },
    "2426174586094dbe95d453ea78ae31b6": {
     "views": []
    },
    "2c9af301d72a43b0b54fe641c3c62117": {
     "views": []
    },
    "2dff50767ae244e795d5d86ed1c6c08f": {
     "views": []
    },
    "2fa9e27ce84e44c3ba83b6b69101e5b5": {
     "views": []
    },
    "32d9af0c9e9c4bc69e2e3fd94655da00": {
     "views": []
    },
    "38a0502e3b6c439785f5da1f67800790": {
     "views": []
    },
    "3a26b3bb6b324c25abd2d3b61259c739": {
     "views": []
    },
    "3e354e121d854678b5454123cccff1f1": {
     "views": []
    },
    "4009697887c44f38afad1534980f38dc": {
     "views": []
    },
    "41a4b1d8d39146e19659646a6f014a37": {
     "views": []
    },
    "422f6bc0480d4248a28f91bce8ae2e4e": {
     "views": []
    },
    "47682000924044b1bc391b8b54d66407": {
     "views": []
    },
    "4b3b4e1757fc46b7a77a14057af3e0b7": {
     "views": []
    },
    "4c7931a418ac4005a2634f05e130004c": {
     "views": []
    },
    "4d0dbec8d23e454da256adf620090421": {
     "views": []
    },
    "4f83f70e70904b72ae52fd4e91c2169e": {
     "views": []
    },
    "4fa00df9cf114e0396076e4a0aaf093e": {
     "views": []
    },
    "526beefa1a944220bd94ea6bc37a9389": {
     "views": []
    },
    "529fa32a4f3f4c3a8c6e1e6612dcdb3a": {
     "views": []
    },
    "548f69444f55405bbcca7ce1dbba0144": {
     "views": []
    },
    "586b4881eec04f5397c427ebbd69c0cc": {
     "views": []
    },
    "795b37d509c94dcc8ecb9a92a4d3ca52": {
     "views": []
    },
    "7991919634624026aea08e0875c8c1fd": {
     "views": []
    },
    "7d46e32fe70a4c44a2ff9727099257d9": {
     "views": []
    },
    "80028226ef8b4c52bff75bdfb9a48627": {
     "views": []
    },
    "8177e529fa674e9cbe075063709ad7a9": {
     "views": []
    },
    "83de7a2018784892b2db05221704c64a": {
     "views": []
    },
    "84306f381a554ab6a2c4cdd980d8b2f7": {
     "views": []
    },
    "8a51a6b7429a4d57a63fb61aa9c3361e": {
     "views": []
    },
    "8aef6c1bcaf54869ba734ee261e8b8d9": {
     "views": []
    },
    "9006ebb28986419482feb5a80605c7c3": {
     "views": []
    },
    "907a9115a4f7461192e5ac26cc7acc36": {
     "views": []
    },
    "9367ea5f3d5d4986966070c67264e936": {
     "views": []
    },
    "9499749678164122870b09850ac22f91": {
     "views": []
    },
    "9647f87e42314d70af79d39737bf749a": {
     "views": []
    },
    "965c02d9c1be4d449c80397ffb57db75": {
     "views": []
    },
    "994a3711635b4d9e81ca8e145841fb98": {
     "views": []
    },
    "99be8e7e36ca4b83a176eab92dbcf5fe": {
     "views": []
    },
    "9ecf711497c048bfb4475c9cd5a425b2": {
     "views": []
    },
    "a0df54633f0e466fbc80935684aeb06b": {
     "views": []
    },
    "a9f5f843fb814037865428ffa8e713f6": {
     "views": []
    },
    "af674018082040eb94cbad9377f15895": {
     "views": []
    },
    "b26c57c61f81413bb104a8e0fd46a45e": {
     "views": []
    },
    "b5a77b7942fc4782ad29e7fcc2def5b5": {
     "views": []
    },
    "b70733851c5f44d0b94f2969116344d6": {
     "views": []
    },
    "b7fbab07970747829abbb7ef386582a3": {
     "views": []
    },
    "cde4e7e2e98a45d7b64a7013b3ae5e14": {
     "views": []
    },
    "d3b4ab0e02f7424a9be3236be67687d4": {
     "views": []
    },
    "daf0caaa587c4028b517697ee30ef9ff": {
     "views": []
    },
    "dd23f20e12d5466582048bbacb4c2ade": {
     "views": []
    },
    "e10692a891bf4f718bb29bb325b4aa53": {
     "views": []
    },
    "effd4b22ba5047dc8c3670ec0ccbadfc": {
     "views": []
    },
    "f23775db82684f6c83a463ac6c83c0a3": {
     "views": []
    },
    "f922ab6623d743e9b5029f8787f3973d": {
     "views": []
    },
    "fa7c7ab1932f4211b91eedd42e4c320e": {
     "views": []
    },
    "fc71f8f2b67545d4824465c057f5dde1": {
     "views": []
    }
   },
   "version": "1.1.2"
  }
 },
 "nbformat": 4,
 "nbformat_minor": 0
}
