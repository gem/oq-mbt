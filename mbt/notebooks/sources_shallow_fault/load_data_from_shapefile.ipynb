{
 "cells": [
  {
   "cell_type": "markdown",
   "metadata": {},
   "source": [
    "# Load data for area sources from shapefile"
   ]
  },
  {
   "cell_type": "code",
   "execution_count": 7,
   "metadata": {
    "collapsed": false
   },
   "outputs": [
    {
     "data": {
      "application/javascript": [
       "\n",
       "        define('oq_getcells_module', [], function() {\n",
       "            var oq_getcells_target = function (comm, msg) {\n",
       "                comm.on_msg(function(m) {\n",
       "                    var cells = IPython.notebook.get_cells();\n",
       "                    var ret = [];\n",
       "                    var ct = cells.length;\n",
       "                    for (var i = 1 ; i < ct ; i++) {\n",
       "                        ret.push({type: cells[i].cell_type, content: cells[i].get_text()});\n",
       "                    }\n",
       "                    comm.send(ret);\n",
       "                });\n",
       "            comm.on_close(function(m) {\n",
       "                ;\n",
       "                });\n",
       "            }\n",
       "            return {'oq_getcells_target': oq_getcells_target}\n",
       "        })\n",
       "    "
      ],
      "text/plain": [
       "<IPython.core.display.Javascript object>"
      ]
     },
     "metadata": {},
     "output_type": "display_data"
    }
   ],
   "source": [
    "# cleaner avoid to restart kernel for each code modification, use it just when alone\n",
    "from cleaner import modules_cleaner ; modules_cleaner()\n",
    "# load current project if secondary ipynb runned alone\n",
    "import metys; metys.Metys.secondary()"
   ]
  },
  {
   "cell_type": "code",
   "execution_count": 8,
   "metadata": {
    "collapsed": true
   },
   "outputs": [],
   "source": [
    "import os\n",
    "import cPickle as pickle"
   ]
  },
  {
   "cell_type": "code",
   "execution_count": 9,
   "metadata": {
    "collapsed": true
   },
   "outputs": [],
   "source": [
    "try:\n",
    "    print_log\n",
    "except: \n",
    "    print_log = False"
   ]
  },
  {
   "cell_type": "markdown",
   "metadata": {},
   "source": [
    "## Loading the model"
   ]
  },
  {
   "cell_type": "code",
   "execution_count": 10,
   "metadata": {
    "collapsed": true
   },
   "outputs": [],
   "source": [
    "model_key = metys.g_prj.models.current"
   ]
  },
  {
   "cell_type": "markdown",
   "metadata": {},
   "source": [
    "## Read data from shapefile"
   ]
  },
  {
   "cell_type": "code",
   "execution_count": 11,
   "metadata": {
    "collapsed": false
   },
   "outputs": [
    {
     "name": "stdout",
     "output_type": "stream",
     "text": [
      "Number of sources loaded: 44\n"
     ]
    }
   ],
   "source": [
    "tmp_sources = metys.g_prj.mod[model_key]['fault_source_shapefile']\n",
    "\n",
    "try:\n",
    "    sources.update(tmp_sources) \n",
    "except:\n",
    "    sources = tmp_sources\n",
    "\n",
    "if print_log:\n",
    "    print 'Number of sources loaded: %d' % len(tmp_sources)\n",
    "print 'Number of sources loaded: %d' % len(tmp_sources)"
   ]
  },
  {
   "cell_type": "markdown",
   "metadata": {},
   "source": [
    "## Saving sources into the model"
   ]
  },
  {
   "cell_type": "code",
   "execution_count": 12,
   "metadata": {
    "collapsed": true
   },
   "outputs": [],
   "source": [
    "output_path = os.path.join(metys.g_prj.folder, '%s_fault_sources.pkl' % model_key)\n",
    "fou = open(output_path,'wb') \n",
    "pickle.dump(tmp_sources, fou)\n",
    "fou.close()\n",
    "# \n",
    "if print_log:\n",
    "    print 'Fault sources saved into file: \\n%s' % (output_path)"
   ]
  },
  {
   "cell_type": "code",
   "execution_count": null,
   "metadata": {
    "collapsed": true
   },
   "outputs": [],
   "source": []
  }
 ],
 "metadata": {
  "kernelspec": {
   "display_name": "Python 2",
   "language": "python",
   "name": "python2"
  },
  "language_info": {
   "codemirror_mode": {
    "name": "ipython",
    "version": 2
   },
   "file_extension": ".py",
   "mimetype": "text/x-python",
   "name": "python",
   "nbconvert_exporter": "python",
   "pygments_lexer": "ipython2",
   "version": "2.7.6"
  },
  "widgets": {
   "state": {
    "002523c541ed427ebb6903dd6855837e": {
     "views": []
    },
    "007312192c2d435ca10279363df6ff2b": {
     "views": []
    },
    "00f40b2d029f48a4a3a7101f6622385e": {
     "views": []
    },
    "01cd1e57ec6b4d0499af05d1aa3350bb": {
     "views": []
    },
    "025ca2d9c4ca4fd38bf83f49f9f536e5": {
     "views": []
    },
    "02dba5ec88494786860ae1a94137e1f4": {
     "views": []
    },
    "02feb11413444b17b543fa69efae6e14": {
     "views": []
    },
    "037bc5a063f04396a0be69626c62d954": {
     "views": []
    },
    "0393920643d64797a7122bcdc0e29aba": {
     "views": []
    },
    "044ff4ef9bf2449785743c3f1983f27c": {
     "views": []
    },
    "052c8f641a49462796d7878d350dce01": {
     "views": []
    },
    "05a7fd454b1742bdbf495cb31a070799": {
     "views": []
    },
    "05b4bb7b821e4c38a029c9e7d58fcbe4": {
     "views": []
    },
    "05dab3c0ca5040a782dc219b63c158d9": {
     "views": []
    },
    "062bf19b648a48ef80fdd9ba012fa165": {
     "views": []
    },
    "0635b4739b724fc980d4cc83d6690b4f": {
     "views": []
    },
    "065aab9d2eca46eb8059594be66d3a3a": {
     "views": []
    },
    "069341da54c34fe9a8b96e31b0016a27": {
     "views": []
    },
    "06b6675b2f1a4ed4bc817328703d513f": {
     "views": []
    },
    "06c775bbcdb64586b242ca4aecfd42d5": {
     "views": []
    },
    "072f309b813a4e7592db007199b85b26": {
     "views": []
    },
    "07410284eeb14066a322c4a5672281f0": {
     "views": []
    },
    "075a25a2e63b44f8879baa64c864e9c0": {
     "views": []
    },
    "07f3b317a8a24cb5a1f287d9d9ed0379": {
     "views": []
    },
    "08b31d93438247c280dce9d18f574e9b": {
     "views": []
    },
    "08cc23d5876740d18735833ac89a1d47": {
     "views": []
    },
    "09a3d5fa33044976be6b68e4a59091fe": {
     "views": []
    },
    "0a2ce3fb91a446838cb787848454dd15": {
     "views": []
    },
    "0a95ea7dc2c44897b2b9ef8376d0841d": {
     "views": []
    },
    "0b0d3267c4d941e69fe654d8ed71e689": {
     "views": []
    },
    "0b1694d682904b66b808ed8630bc0487": {
     "views": []
    },
    "0bc172e2aee94444bd86e48a0a4935f6": {
     "views": []
    },
    "0bc82c36269047adad636cfb6d3a85b2": {
     "views": []
    },
    "0bd0af00b89c4190ae0e54e5f774622a": {
     "views": []
    },
    "0c4c8fa1d5ee4dbbb76c68701cdb9c48": {
     "views": []
    },
    "0ca857d84121452e864cd403d4c4548a": {
     "views": []
    },
    "0cb8910e86ae4a61960c959109047e12": {
     "views": []
    },
    "0d6fa18e3fcc4316ba7d9a4846e72c80": {
     "views": []
    },
    "0dbca946d7e145c59092825d85f83f49": {
     "views": []
    },
    "0e20052d6b0645adbd1ecdbe856d335a": {
     "views": []
    },
    "0e3e4601aa4a4af2857d5e9ba93a1460": {
     "views": []
    },
    "0e562a2675024293ac40453975f63a16": {
     "views": []
    },
    "0eac5177fbda43959069a416a4cb8b2f": {
     "views": []
    },
    "0eb4d4b4408a48ef953ad6dba5896e45": {
     "views": []
    },
    "0ed0909daea44deb92d435e038176d17": {
     "views": []
    },
    "0f43d84384584fcdae151b3b050a0a33": {
     "views": []
    },
    "0f805678f9114b8aa73f8c8385e063e8": {
     "views": []
    },
    "1062bc873fce427392cdb6548f05e4e9": {
     "views": []
    },
    "10d3dcde1461460bb5ddfa17f5006345": {
     "views": []
    },
    "115a6181ab0648b0b92e580034ec347b": {
     "views": []
    },
    "115edcb6bd2148b4a7a2ff42634a39c0": {
     "views": []
    },
    "11a616dac2b14c2c8f549110f5b3e282": {
     "views": []
    },
    "11c4ad3aa4304120addf948e21d8c294": {
     "views": []
    },
    "12c590bfa1c842cfbd76670736a91a33": {
     "views": []
    },
    "12eb7bdd11df4a33abd5a48d7c99e7ed": {
     "views": []
    },
    "1320f7894dce43e392ec0506b2007c31": {
     "views": []
    },
    "1344e8745c9f4738aed40f19818f10ac": {
     "views": []
    },
    "13b00f65d6a74f7bb040c45ab706d875": {
     "views": []
    },
    "13cebb67be0945d497007e45cb8f8f84": {
     "views": []
    },
    "13ebd4623d9243aaa048d19de6119236": {
     "views": []
    },
    "144aa2a1ba1a437f8f76ab4f1e21756e": {
     "views": []
    },
    "14657e97db03427db301ba4141da56be": {
     "views": []
    },
    "15eadf1582f5439bbd4d0ed7a27f45e6": {
     "views": []
    },
    "15f76991296742d7aaaf4b0732af4fc8": {
     "views": []
    },
    "164a9dcc17c24625a6b494d3d04bc487": {
     "views": []
    },
    "16603603473f438cb485122cf0731579": {
     "views": []
    },
    "16d675cf18ad4d1ba98ea2cd9ad550f2": {
     "views": []
    },
    "16ef5938902d4e2a993c594b83920107": {
     "views": []
    },
    "176698cf35584465a919a85f72633ad9": {
     "views": []
    },
    "17823201ef4e44cb90785e0b6e916d91": {
     "views": []
    },
    "178d2458913f41da85a6e7a72623da30": {
     "views": []
    },
    "17d753a321f84c1c8dbe5fbb13a7e2e8": {
     "views": []
    },
    "17e15fc934fe4415a3291322136e4599": {
     "views": []
    },
    "182f5f5fa81d47f386c38a13caeac8b4": {
     "views": []
    },
    "18349de90364474ea9eaadff58900b69": {
     "views": []
    },
    "1862d314fa8d40779df86cba3be011c1": {
     "views": []
    },
    "1892bfb9593749fbba14824042eb4f88": {
     "views": []
    },
    "19b72a0fe95d446f88eb7ca13794efca": {
     "views": []
    },
    "1a38cfbb948f4d4b8769bb670925f26e": {
     "views": []
    },
    "1a951befc19a45d29be3b4a58cc56715": {
     "views": []
    },
    "1adcb51f9b6647bcb012eb5d436aaddf": {
     "views": []
    },
    "1b4794c1e1fe4623ae71e79d7b667a58": {
     "views": []
    },
    "1b48ff9cdd5546c0a14b28c9795068c8": {
     "views": []
    },
    "1b523bbac0f24263aed4664ae04ecef9": {
     "views": []
    },
    "1b64c1121ef34d6584b41a6150b84c91": {
     "views": []
    },
    "1b77e0abb4274c659ad1945b1d4191e9": {
     "views": []
    },
    "1b781e61c1c241158c584687a69b57d0": {
     "views": []
    },
    "1c36c91eb7e84b6f9cc71e9ecb534e2b": {
     "views": []
    },
    "1caf2cea806c4d8885064af65ca5912c": {
     "views": []
    },
    "1cdc04b64462412599069e56e6705a2d": {
     "views": []
    },
    "1d17386d729441b6867e9587f06da01c": {
     "views": []
    },
    "1d638a0d26a4463dafa73c65f5854549": {
     "views": []
    },
    "1d6e86f928e2453087d4f15c3f8ea676": {
     "views": []
    },
    "1e5e440dd7854a0e9709549c8f914462": {
     "views": []
    },
    "1f4bae99456d46148343680ce94a0cba": {
     "views": []
    },
    "1f4dc09e6b324592a2f2f5094ae2fc23": {
     "views": []
    },
    "202032ac34f84b39ba7a4b4f9bcd71a1": {
     "views": []
    },
    "2069c32002f94a9f9b121238879eb5a0": {
     "views": []
    },
    "207ec3412b4d45e9a58dfacdd79dd519": {
     "views": []
    },
    "209d317ed6f94e1cb8a3dd75eb45fd94": {
     "views": []
    },
    "20a64dc602324649a88d2b2a0df783b5": {
     "views": []
    },
    "213054f3804743e49675ed7aaada971a": {
     "views": []
    },
    "21421642f4f94787b088973cde6473b5": {
     "views": []
    },
    "2154823746c3428da98cf747d9163aa7": {
     "views": []
    },
    "2159a88a00024c8a91fdbb5b0ab26da0": {
     "views": []
    },
    "21865fc019214d889e186c031af0cc59": {
     "views": []
    },
    "21a4ee177b82475aab81020ea3f13eb8": {
     "views": []
    },
    "21b88ef65d314b76b98fefed152b650e": {
     "views": []
    },
    "225b7000aab44b079c7c0a78fa4a2416": {
     "views": []
    },
    "228a0a96558848d2b6e4cf906d329263": {
     "views": []
    },
    "229cf818745246c88c3806a69dc73bd2": {
     "views": []
    },
    "22b045c82dca4ddd8c3d663efab33b5b": {
     "views": []
    },
    "22e96365faaf46a79f792ce1f3e71cd5": {
     "views": []
    },
    "23ab6829a1d84394a36ae161da266e71": {
     "views": []
    },
    "2447fd3bfd654d61b4924a81460c0728": {
     "views": []
    },
    "2472e2899fa741df81ff779209c07a3c": {
     "views": []
    },
    "25614261195746558cfdf336a1e22e70": {
     "views": []
    },
    "2591878bcefb41239b9e4bbd46abf1d3": {
     "views": []
    },
    "25c6119a01654851946f9ebc0c1cac70": {
     "views": []
    },
    "25dc59c063f940bd966f50cfdce4eb93": {
     "views": []
    },
    "27a3e9a32a11490987d480fbb1a49678": {
     "views": []
    },
    "27a4457578bc4b5eb30b8809931582dc": {
     "views": []
    },
    "27e0fcbeeee447ca86183c86133e371d": {
     "views": []
    },
    "2813d18f1e594f0a864225116b90c3d9": {
     "views": []
    },
    "284fc4ba6b1a4f8393dce5d54739c566": {
     "views": []
    },
    "287542fccc4042be9956eccab8b00454": {
     "views": []
    },
    "2881cad649204bd4917cb08f194821df": {
     "views": []
    },
    "2932001753ac4ffabc57f42fa64cc2a9": {
     "views": []
    },
    "299b8345b83a4faa8ef6366710ab0557": {
     "views": []
    },
    "29f52cc1787744adb71ce527b9d9ed31": {
     "views": []
    },
    "2a48abf3b9a54e2191f9684b581f8303": {
     "views": []
    },
    "2aaafe3497d64e49bd082c6afa69f4e8": {
     "views": []
    },
    "2af1150b6e8d42bea07f5e749126a208": {
     "views": []
    },
    "2afe407c372e432ba39c0b9b4a9c87ad": {
     "views": []
    },
    "2ba27a1d80584d75ad1e6f6b40578450": {
     "views": []
    },
    "2cab9ccac9bf48ba863e474f8859419f": {
     "views": []
    },
    "2df6108c9ccc481aaed301d2f699aa90": {
     "views": []
    },
    "2dfb100c0a1a44d4969f0b389b6ec03b": {
     "views": []
    },
    "2e1ce8fab5764456b05fb8b7e9c20a37": {
     "views": []
    },
    "2e2bae3f69904f90bba2d03b9ed5166b": {
     "views": []
    },
    "2e83d8a1949d460d83aeeb0dc8781fd7": {
     "views": []
    },
    "2ee84a4cf4914f1e979e9c24c70a8092": {
     "views": []
    },
    "2fc964849f1740c2b071a589ed029ee3": {
     "views": []
    },
    "30619616727b4c3c9f974f259e52fc41": {
     "views": []
    },
    "30836ef0331d466ea78bf06c70e07fd9": {
     "views": []
    },
    "30b504f7eeec47e6b8bed11eb2bd39c1": {
     "views": []
    },
    "30d8dc1139394e25aa5eaab8f9b1df42": {
     "views": []
    },
    "30ff6dce1b5a44269f4d1fbdd9413ca0": {
     "views": []
    },
    "3122656c326a43fda8fd308e51248fc2": {
     "views": []
    },
    "3127b40f35514123aad0fdef59362749": {
     "views": []
    },
    "31dd567217c249499774e97994d68133": {
     "views": []
    },
    "329127cc16a743fda5b838831a73cc0b": {
     "views": []
    },
    "32e06961fcb44e22861e0e5f570dda83": {
     "views": []
    },
    "3414478f4f8444c0b950708e9a8dcd05": {
     "views": []
    },
    "34167efa32434ea1918f7a0e6fcce551": {
     "views": []
    },
    "348d3fb5ad444eb69e5ca01e60eb5771": {
     "views": []
    },
    "34b137e3894f46dfad51ea704f0c4495": {
     "views": []
    },
    "351db3c8213f430ab21807a7f25d6510": {
     "views": []
    },
    "36b4487da7ac4018859db2de3602440e": {
     "views": []
    },
    "370b30faa44d43f993e44062ec8fe57b": {
     "views": []
    },
    "371beed9672740d589ae8f8beda98ceb": {
     "views": []
    },
    "3721dfb2f5074edb9d7b6935838c8708": {
     "views": []
    },
    "37db6ae763654ead918efe15e79b9f7c": {
     "views": []
    },
    "386e7de49b5240ecad35c12317239f2d": {
     "views": []
    },
    "388cab35a4dd430caf0cccb308622967": {
     "views": []
    },
    "38ba89972f0e46ddba22cdc684eb3145": {
     "views": []
    },
    "38cc048fbe014510abd54d4341ca13d5": {
     "views": []
    },
    "3914f67832f5480b80384d875b9228cc": {
     "views": []
    },
    "3952b612250d433389c5f2cc84a2c8e7": {
     "views": []
    },
    "3a475eff03e74f5aa391805b5cd04a64": {
     "views": []
    },
    "3a754963d9be4494a3b2e9ac686f9786": {
     "views": []
    },
    "3af763141b8344e69c05a593d67ef962": {
     "views": []
    },
    "3c17af7e024e4c4d9d2bd514c33349c2": {
     "views": []
    },
    "3c374d5f1b324644a782edf70faa2e1a": {
     "views": []
    },
    "3c672eb8961542de8b0840a6e80a8fcf": {
     "views": []
    },
    "3ce3d7e8e7a1497b9a7f6e719f11745a": {
     "views": []
    },
    "3df9c0c9ba284c8498260cd8b0c17929": {
     "views": []
    },
    "3e00d5af638c4299b6092dbfd2a034c6": {
     "views": []
    },
    "3e85a99f209f4a14bd2f8c2fd72a0359": {
     "views": []
    },
    "3ec4e287f9714e5b8b6e55b8f37cd61e": {
     "views": []
    },
    "3f2b282ea5a44b749aad75e746a019fc": {
     "views": []
    },
    "3f4eecaacf644670b26187f639a3c8eb": {
     "views": []
    },
    "3f759ff6a7e345fe8626ba7c83d28967": {
     "views": []
    },
    "401ae0fa159f4dc79fa55a1594d85632": {
     "views": []
    },
    "4033c4236ad4441290742b9035868bc2": {
     "views": []
    },
    "40e001de5e6545fbb3926a62eb819904": {
     "views": []
    },
    "41929f35498b426e8f12a9c49b8aecab": {
     "views": []
    },
    "41b924c2eeb948f18a239adb8b5d6382": {
     "views": []
    },
    "420fc1dc577649fbb2f16a6c49c67d45": {
     "views": []
    },
    "4251215cced34ae6ba6a7690d4f4c9f8": {
     "views": []
    },
    "4268389dd3814c15848b59407707d130": {
     "views": []
    },
    "427e10f01ab348f68dd8d05c4915dffc": {
     "views": []
    },
    "427f4278c5064726b99cb156ccf72f87": {
     "views": []
    },
    "435a4f7a825e4c569bffa5b68851eb95": {
     "views": []
    },
    "43b524d4dfdb45c1b244843d636bbfeb": {
     "views": []
    },
    "43cc1147b9ad4377938d6e46bbd85422": {
     "views": []
    },
    "44888d16ab9d48ddb24f85222e469ef6": {
     "views": []
    },
    "4509f655d8ed473b8deb5abaf41d8ae6": {
     "views": []
    },
    "456058ad653349d3bd462479cc512b12": {
     "views": []
    },
    "45a79a30ea754783a6ceb09d2bf51ce3": {
     "views": []
    },
    "4649916817674faea885a63db937ae20": {
     "views": []
    },
    "46729ffd9c67453ab6ae79540f6f1729": {
     "views": []
    },
    "46a4459071b540c8b670af8d770d3e77": {
     "views": []
    },
    "46e07ab8cfbc4b229fc50611644d5292": {
     "views": []
    },
    "46e9761fc5a64b4c8b7ffa9d74fbf60e": {
     "views": []
    },
    "471bb1ef0a324764abcbdcc6db826952": {
     "views": []
    },
    "47f5382d090d4309aba1aad17ec69558": {
     "views": []
    },
    "4893d93f515b4913a258ab678367994f": {
     "views": []
    },
    "48a6c984d78b4da18d454c21b1fecf0b": {
     "views": []
    },
    "48b7277c9bf34bcc874c9afb14b5e234": {
     "views": []
    },
    "4904b089084c435ba815707f7db94994": {
     "views": []
    },
    "4987a6c7e4d840728fb1193302d2d336": {
     "views": []
    },
    "49c27e605ee742ceb591db68a3dd76eb": {
     "views": []
    },
    "4a6633a363c44ea0a4417a7a655fc017": {
     "views": []
    },
    "4a876e3943a54196bcc18c814e6baad6": {
     "views": []
    },
    "4b36743baa6249ba9a1063d4a7816168": {
     "views": []
    },
    "4b719fb178c14313a49bd213f7a83832": {
     "views": []
    },
    "4bb6c2d533074ee881fffa90019f5f84": {
     "views": []
    },
    "4bde6baad8834000b8a72e9323a01fa8": {
     "views": []
    },
    "4be007e17ae64f05a50a08905e243cf3": {
     "views": []
    },
    "4bef4adeb6f24f3e8483cca37d29b525": {
     "views": []
    },
    "4bfcf0eeebba4706afd7fd274e881108": {
     "views": []
    },
    "4c2acb3757d74ec48a4065652b70dd93": {
     "views": []
    },
    "4c810d493acb4eeab7acebef30b9d75e": {
     "views": []
    },
    "4c9281796f6d4415898b58a0fbe950f0": {
     "views": []
    },
    "4cc6a55e869443cdb15b84ff14ca2261": {
     "views": []
    },
    "4cd9f0a8bcdb4a70bc54f93c56515f10": {
     "views": []
    },
    "4d0c1cd84e174b60893321330bf041c6": {
     "views": []
    },
    "4d1c814c15a44941b59e55350733f11a": {
     "views": []
    },
    "4db319d5a5f74df8a3912aad641419bd": {
     "views": []
    },
    "4db472b1a0ac4ac9815bb65c45399a03": {
     "views": []
    },
    "4dc8733dc83641eea48920c7aac367ae": {
     "views": []
    },
    "4dcc8851411341779be67952684cdfdb": {
     "views": []
    },
    "4e113ef79ee64bd7ab6b4347ae923628": {
     "views": []
    },
    "4e680dc3925c4a0e9ea23cb0135fa323": {
     "views": []
    },
    "4eba9a8244e644f392c1a1615bc6b1ac": {
     "views": []
    },
    "4f7243c4388744cfba1f9c7ed1297cab": {
     "views": []
    },
    "4f8f35d5b4c341448dbc94885baf39ae": {
     "views": []
    },
    "5004194246ff4542a831bfdc3ac66431": {
     "views": []
    },
    "50380311c1c44fe8a8516f44a5630af7": {
     "views": []
    },
    "505c869e603443c8bfaa295249046498": {
     "views": []
    },
    "516f91e625254915bcef083a78b51f2f": {
     "views": []
    },
    "5202f26b466447759a20d90a0395119c": {
     "views": []
    },
    "524b0bdf3bc7497983f2956090363b90": {
     "views": []
    },
    "538939cb330240bcb801b1773fb5e92d": {
     "views": []
    },
    "53bf44e4ea014a0a84840469b630b6bb": {
     "views": []
    },
    "545779862bbd40b5b681f3e6fa9f8f27": {
     "views": []
    },
    "5470a8fafbde40aa83c4ce4b37fd3e26": {
     "views": []
    },
    "5491dd306e834a898c1d5e4155095c23": {
     "views": []
    },
    "5518f7e9358547188964e31281e690b3": {
     "views": []
    },
    "55e8d3ca4cc646a3b5be5b04feb4523f": {
     "views": []
    },
    "55f9af2fcc6b474fae614fa43f9ef95d": {
     "views": []
    },
    "56152fc776fe44f2948c1b1d7830edbc": {
     "views": []
    },
    "561c831c2aff44fa8155a6d658044c31": {
     "views": []
    },
    "564034f5f3a841cb88a249914428a885": {
     "views": []
    },
    "5655980918b4420c85aa7ad8e307d12e": {
     "views": []
    },
    "574fcab74fab4a3db0c0dbc5551120e4": {
     "views": []
    },
    "57a113f5fe0d445d8e2279ee6d2c42af": {
     "views": []
    },
    "57dfaaac67da44e7af6b77c1f5cd3bf2": {
     "views": []
    },
    "57fd36c45de34a209df14cd3555dce0c": {
     "views": []
    },
    "5833f20aa03f4af3baf9fd4a41d5aca9": {
     "views": []
    },
    "586549d220804284b1b1afcffe380919": {
     "views": []
    },
    "58f50bf8548e4471b0c030a837555b2a": {
     "views": []
    },
    "5969b3432fa54aa9948d3299c6dd8f68": {
     "views": []
    },
    "5a089e109dbe4d5d892d67656d5d19e5": {
     "views": []
    },
    "5a2d382c94ef4325acdd4be549e453e1": {
     "views": []
    },
    "5b247f29f85f4d70909f2f2047fbd3b9": {
     "views": []
    },
    "5b6e470d842d48ada6c5ffdef4dfd3eb": {
     "views": []
    },
    "5bab4dd5a2c34072b4c4ec48c957d86b": {
     "views": []
    },
    "5bb7e3c240e54f49af40026ea50f273b": {
     "views": []
    },
    "5bdda0d5508d44c7878de0765f9a5696": {
     "views": []
    },
    "5c71013668c845088f51ec5c206efe70": {
     "views": []
    },
    "5cb988d1453f4b1ebe98e6de4d533646": {
     "views": []
    },
    "5cd93133d02a407eb5f9ac49d181b688": {
     "views": []
    },
    "5cf6ccef84454f57b1e15899b5a8a9ad": {
     "views": []
    },
    "5d3163159d1c4aee805d711a58437fa4": {
     "views": []
    },
    "5dc2efd3a3504f06a480613c26da1656": {
     "views": []
    },
    "5e500ada77d0461ca3765ef549218fc5": {
     "views": []
    },
    "5e843d05f1364feb8057bc235259ce98": {
     "views": []
    },
    "5eebbe6faf9b45df8c9341954f74761e": {
     "views": []
    },
    "5f53dfdde8f64181b62aa5e9b188f875": {
     "views": []
    },
    "6018d26e03984e4aab2d21f8c1d952c0": {
     "views": []
    },
    "6020e79fc091412695bddd2db187eec7": {
     "views": []
    },
    "6037ab96e9b24f4eb90a17ddfb17bbbf": {
     "views": []
    },
    "6133d2f4e9d64960a3201dd194183a0e": {
     "views": []
    },
    "61e14991e2954c699e0b89a935180da6": {
     "views": []
    },
    "6266bc26fdb6492cb66abf2405a64007": {
     "views": []
    },
    "62bd65fdabce4ed69e4149ddde080d70": {
     "views": []
    },
    "63d665f222b849ddb7f6648dc2c9d019": {
     "views": []
    },
    "63fe78df09d94e93a903e496b195037b": {
     "views": []
    },
    "64c9eac127fd477584a9a5720716a71c": {
     "views": []
    },
    "653b4ce9744c45aebb8c8303ea0317ad": {
     "views": []
    },
    "656f8a2631db439e9fe6a2a3ad06bbae": {
     "views": []
    },
    "6581784a6bb7417f8a13051c551c7a23": {
     "views": []
    },
    "65c40237110746c6be4e946709f14064": {
     "views": []
    },
    "662066217ec44ce095f60722e33ccd9f": {
     "views": []
    },
    "66a7bc7130ac4cca9e2086446ac1762e": {
     "views": []
    },
    "674bc209255147718dd3722c0f02794f": {
     "views": []
    },
    "67809aa42ce644e0b9d1b9c91308d5a8": {
     "views": []
    },
    "6781724b8f914568a661206efb71c208": {
     "views": []
    },
    "67cb6c93cba3456e9e42a5d406266482": {
     "views": []
    },
    "67dafc2dd10d438c92f8f47beb7342f0": {
     "views": []
    },
    "68b49ca06f38492a9eab0e954fc52dd0": {
     "views": []
    },
    "691264decc194ed09359d494a5ee5479": {
     "views": []
    },
    "692fc673ff6b4e3baf8971ddd938344e": {
     "views": []
    },
    "6ac1d3fb826843288572adc26e8f678c": {
     "views": []
    },
    "6afdbaa58343451cb62f7227bcec3f5c": {
     "views": []
    },
    "6d56c53205eb45d3951607d01068d1c3": {
     "views": []
    },
    "6d687a05efaf476083b4f2e9511ef43d": {
     "views": []
    },
    "6dccd744555e455da19fa8e194d5cb94": {
     "views": []
    },
    "6e1c95162de14f67ad08612092e89ad3": {
     "views": []
    },
    "6e3c9399d13f40d2a3d9aca712723cc0": {
     "views": []
    },
    "6e4b9cb8044543098dc137917d8ba5fe": {
     "views": []
    },
    "6f0b5b504b474cddb7587b9203ddb8e4": {
     "views": []
    },
    "6f7ea71d04c1460985473b803763feef": {
     "views": []
    },
    "6f8ec73158794687bafcbe0fdf392fd0": {
     "views": []
    },
    "7097634988f043039c68a48406d79330": {
     "views": []
    },
    "70def5b71fc54b75a3645b481a606c47": {
     "views": []
    },
    "71cfb8ab4c114cc8b1c179451e83e35e": {
     "views": []
    },
    "726fed0eb8384a73980fcfeef7013a85": {
     "views": []
    },
    "72af97367fc244a3ac2be374d53d5561": {
     "views": []
    },
    "73411bababbf4186a006876bbd2284ef": {
     "views": []
    },
    "734e2026ee294c60a95f633aab74d743": {
     "views": []
    },
    "7350e1f7f1be47b2abcdacfb90aa8e66": {
     "views": []
    },
    "73c9db5dca3841c28d184dd32cf1255a": {
     "views": []
    },
    "740625da32b1460bbad29f5cb85afa1c": {
     "views": []
    },
    "746a624bd1c34d22aae3a85927d55b00": {
     "views": []
    },
    "7497796ab07e4807b9da50acf16eb14f": {
     "views": []
    },
    "74d4ce03570947e0b2a4b11dbb2505a6": {
     "views": []
    },
    "770d786081934283895e892d133c6ef7": {
     "views": []
    },
    "772bf84253244b0b86e5afce5e4761f2": {
     "views": []
    },
    "7759e2005bcd484c8a159cd87bcf15c2": {
     "views": []
    },
    "7771f0067f524d8d975a2267912d5eb3": {
     "views": []
    },
    "7789706b77b647989200114792392920": {
     "views": []
    },
    "778fe1927ff14bf9b0cdc937ae0168be": {
     "views": []
    },
    "781bd76b60864ba290aca9755ad00e6e": {
     "views": []
    },
    "78368b6dedae4eab8ea22bcf31ae61a4": {
     "views": []
    },
    "795b51563b9d4f0986ad0f0bc218a501": {
     "views": []
    },
    "7992e7d7af804109b70b3655f760e515": {
     "views": []
    },
    "79a80ca0abf7453091d590212a9dd4c7": {
     "views": []
    },
    "79d26801843d42739acf3e6f23880dd2": {
     "views": []
    },
    "7a1787c1f91746fb8726831ffbb4d384": {
     "views": []
    },
    "7a1d0a60094944b99c5d4012453c6e4e": {
     "views": []
    },
    "7a4a0b7b5b414e9cbdf8d531cf220506": {
     "views": []
    },
    "7a61ca737df543e3aced0d97157d81bc": {
     "views": []
    },
    "7a9149b209f3453fb897ceea1e73b6e2": {
     "views": []
    },
    "7ac9afe224564d6087cbf2eee01aed92": {
     "views": []
    },
    "7aea2a8f03d8479ca76b4de0c414bdd3": {
     "views": []
    },
    "7b10219c96b74267b72fa2d55afc970a": {
     "views": []
    },
    "7b539154974045738349e6ed82efa960": {
     "views": []
    },
    "7c183c8707d04966872cf8964d3f401f": {
     "views": []
    },
    "7c4352aabc1747f086d91dba6ef9ccf8": {
     "views": []
    },
    "7cff248d58b7485f9e368381a6faa16d": {
     "views": []
    },
    "7d0cf71783704e65bee39e0e3556a6d0": {
     "views": []
    },
    "7d66e39a4fd747c79ca7955b46249f3f": {
     "views": []
    },
    "7e87549789c04c98b8b53cf100977fc7": {
     "views": []
    },
    "7ed6e075bc044af7b836691780bcc8e8": {
     "views": []
    },
    "7f00c29d391043f4bd6fc4d62b3abb55": {
     "views": []
    },
    "7f0bd5d140e94740b497cfdd7e7c386b": {
     "views": []
    },
    "7f0c463d9ff14699880542a9a41a3a9c": {
     "views": []
    },
    "7f34aca9f197418ebbf0247c0abe7bf0": {
     "views": []
    },
    "7f661bb30aa34da7a320653a3bb03366": {
     "views": []
    },
    "7fa5ec6aafe94916b799ce68567cc4e0": {
     "views": []
    },
    "7fc4a49cacac45c487e0e6e1b6abdc89": {
     "views": []
    },
    "7fdbf19eb5e24f60a15016104f578127": {
     "views": []
    },
    "801f19e26e7641e0b6a909d16494c0eb": {
     "views": []
    },
    "809c54d3cdce43b3b9d16529f2d63eab": {
     "views": []
    },
    "80f20ad4a5444280b55cd8fe3d4915d0": {
     "views": []
    },
    "81212bb7e38945a49ede14e1495816ac": {
     "views": []
    },
    "81442c9b66514169b3fe50aa55eba4c1": {
     "views": []
    },
    "816fe02fd3ad4f19ac03751e26f18c0c": {
     "views": []
    },
    "8171078f1f254020933c1e8476c38d82": {
     "views": []
    },
    "81ba1179059b4459b248d5fc7bfcff46": {
     "views": []
    },
    "82a5468312c24a82b1e09880029c139d": {
     "views": []
    },
    "82e491668dd140cca925d74d1545de4e": {
     "views": []
    },
    "82e87de20f084fe9bc54d08c23dda410": {
     "views": []
    },
    "830819a195e84766a9738d0f2dddd6c4": {
     "views": []
    },
    "835626d4ee4949f2a2294a84938cebbc": {
     "views": []
    },
    "8371058127d84f02ad49f26892f6df82": {
     "views": []
    },
    "838f65ded1004403926be9055519a46c": {
     "views": []
    },
    "83c6765932914c5e8bc289ab8152e203": {
     "views": []
    },
    "83d6e5b5c12046c393fa45292baa3af9": {
     "views": []
    },
    "8481b27f9b9d4dd98b3b3d7b9cd4b4f6": {
     "views": []
    },
    "851d2f94912f434584255ab4f3df501d": {
     "views": []
    },
    "8541e21072d94336af02bfb98a958fba": {
     "views": []
    },
    "85ff46ac4b0642d683a20c646380d260": {
     "views": []
    },
    "861f7e901b564e98ab83335224e31cf7": {
     "views": []
    },
    "8639c7808d08476fac806171663b5abe": {
     "views": []
    },
    "86605db1a7fb47b3a5628172a2a6b791": {
     "views": []
    },
    "8725a4b701fb4dc8a681c822b70d20f0": {
     "views": []
    },
    "8836faed57344194a18ec2b0169bacde": {
     "views": []
    },
    "884085e2e2a74ba4ab7aeb38d3a82ce8": {
     "views": []
    },
    "88efe0fffc114da5a06d26ccbf3f8931": {
     "views": []
    },
    "89497b6cefee4733bc26bbafb66e109f": {
     "views": []
    },
    "8a6cbcc5f42940a1b117cbbf8efa2386": {
     "views": []
    },
    "8a9c1bcfed504bb6b977b63f05c1384c": {
     "views": []
    },
    "8b64bc08c3534539829348fcf62e0ccd": {
     "views": []
    },
    "8bf70100148f477bb9abb003f06d9441": {
     "views": []
    },
    "8c638926d0234cc5a2aad39f740d7c72": {
     "views": []
    },
    "8c68d63a840240a2b8e351115a1380b8": {
     "views": []
    },
    "8c7715e09db04a13a7865c4b7a7ce054": {
     "views": []
    },
    "8caca31dd5d24fa7b2683faff63cb629": {
     "views": []
    },
    "8cf09c48a3704accaa11c046ef5b0173": {
     "views": []
    },
    "8dc5af4342e04d33a4f830e0822c7700": {
     "views": []
    },
    "8eb5164b53fd431097ce90a3f6ada2b0": {
     "views": []
    },
    "8ed1f604236a4b4180667b0e1c4ac27b": {
     "views": []
    },
    "8f4ea22f3c944cd09569b59d2d385844": {
     "views": []
    },
    "90237557f8fa4b02a5981e1978065794": {
     "views": []
    },
    "903ed5e6b965485f88d20d7c7bdac46f": {
     "views": []
    },
    "9057b141b2514e54ac9f21d104b31332": {
     "views": []
    },
    "90608121827a4f82b8ef23c5b2490b1d": {
     "views": []
    },
    "906229dd25344a2087bf9a3923f149b2": {
     "views": []
    },
    "90af116078c74d749b27a13033cbe83c": {
     "views": []
    },
    "92697d0385384da588fe0d978a03f747": {
     "views": []
    },
    "9277682a7c45409dba5eb9d8d74b5812": {
     "views": []
    },
    "929d057013374ba783b215517de84f39": {
     "views": []
    },
    "92b5ada2bc7441a98c92e10594647e90": {
     "views": []
    },
    "92d3e567dd4e4fc9b7a05d1939a0f731": {
     "views": []
    },
    "9327a8fe721e4705be671cb2e4acabcd": {
     "views": []
    },
    "93297e5c7c7f4af485e3874144af69f8": {
     "views": []
    },
    "937ac7e0bdcf46a7b8a712c764037a94": {
     "views": []
    },
    "93a0411faa3b4181a1667d6bdcd6862a": {
     "views": []
    },
    "93bcc385ea7b46d88f81c6b010319509": {
     "views": []
    },
    "9429ec4038814da3affc7d6ef0bc24ca": {
     "views": []
    },
    "9449e0a32f3d4eb5b5b1f836705b133a": {
     "views": []
    },
    "945977d07d134bd78bfd8309c5363454": {
     "views": []
    },
    "9511c47bc8b84607ab8a14fe2378f687": {
     "views": []
    },
    "9564a2806e314b8688e8c8788c0e00c8": {
     "views": []
    },
    "9583677eb4554d64835e1c8f2965687a": {
     "views": []
    },
    "96dde044cbe74cc4a66afb4fab89a07f": {
     "views": []
    },
    "9721e696bcea4dbab372afbc2860be19": {
     "views": []
    },
    "97b17b668307443c8703cc4c1f08d103": {
     "views": []
    },
    "97ca76995d53440eb46f377aa4221c92": {
     "views": []
    },
    "97daea33677748e490556b7d3f9e77fc": {
     "views": []
    },
    "9809b6ca3777409786f48981e32721f1": {
     "views": []
    },
    "98a4638ab2704bfbb2735007a0f5cd39": {
     "views": []
    },
    "98a549780c2e4047b7516751caec1cdd": {
     "views": []
    },
    "990b1eea11464e53bb0f40a68312d5c0": {
     "views": []
    },
    "9926b73bc47749ae8085e870d8528b32": {
     "views": []
    },
    "9946f7e81d3a4e6f95ec53bddccb29b2": {
     "views": []
    },
    "997d8740e4344073a518051089589534": {
     "views": []
    },
    "999e521d314c42b5b697aa33d66ff48e": {
     "views": []
    },
    "9a5c18ecca3b475b9e27474411858f4b": {
     "views": []
    },
    "9a6ab111280e4a7e9264ceea9d132d94": {
     "views": []
    },
    "9a8f5dcef9c34e7e87e19b28f27a0041": {
     "views": []
    },
    "9ac2f9066e6e4a069cd5ea0664f74b77": {
     "views": []
    },
    "9b728fe6ef4c4bea8c45a4ceb6e8b112": {
     "views": []
    },
    "9bfe2c0232e745798feca66d6f6e08eb": {
     "views": []
    },
    "9c281ed3a22f49a7bd9b4fbacb044db0": {
     "views": []
    },
    "9c48169b4e354cc095fe63e7a45f667a": {
     "views": []
    },
    "9d1b886b3e624b12b4c5125d068b9f68": {
     "views": []
    },
    "9d2a3cb79be24c38be309b541737ec0c": {
     "views": []
    },
    "9d76d6a535804446825670f6c57305fd": {
     "views": []
    },
    "9e4ea475ee0e4a5fa85850d14e85ac01": {
     "views": []
    },
    "9e83f9bb99e64e2093cd57efa830a0ab": {
     "views": []
    },
    "9f264c5dff294a6eb176e627d2e9d90b": {
     "views": []
    },
    "9f394f5b4ef64e6ab998e46b3c483287": {
     "views": []
    },
    "9fb712507dd3422a9257cc5d753f5157": {
     "views": []
    },
    "9ff97222939a4dfb8cc97914c6129dfc": {
     "views": []
    },
    "a0500b74dfc044a6b4abf41c321092da": {
     "views": []
    },
    "a0eb9c51244247dca1ae814922b193c2": {
     "views": []
    },
    "a0f126b91e9a402d9c1145bfdda0bec5": {
     "views": []
    },
    "a0f2ee7571d94e20ae829267fdabf2aa": {
     "views": []
    },
    "a113d924795c4da5ab1856f8cb87e829": {
     "views": []
    },
    "a17ed981a6284d9799c37a4fda557efa": {
     "views": []
    },
    "a19a250519c14475b4d4a36cb2237bf9": {
     "views": []
    },
    "a1a9c32c04604f8fb89d96055a8831e4": {
     "views": []
    },
    "a2015c17768d4e55866e5c7ad60e0719": {
     "views": []
    },
    "a2ddf817a287454e9404e925ec24d21c": {
     "views": []
    },
    "a2e62ae57d134a9d89171067f8ba71b4": {
     "views": []
    },
    "a3632afd3e7546b19f7beecb1098471a": {
     "views": []
    },
    "a3997fb63c88439ebe4d391f4b7d24fc": {
     "views": []
    },
    "a3f0c60081204e1781b83550097713db": {
     "views": []
    },
    "a45d55f69f4a4bd0a763039c799467e9": {
     "views": []
    },
    "a4b41c8b1b3446959d98a05a9112db09": {
     "views": []
    },
    "a4e4da557161478cad542ac737064429": {
     "views": []
    },
    "a4fedebe62ed48a0ab9f5e69e614b02f": {
     "views": []
    },
    "a5097f40cb2b4cd498b28ae37411ba7e": {
     "views": []
    },
    "a5a6cb938e4b49a19f44e5084e2b25bd": {
     "views": []
    },
    "a60d522f7c7348fdb5416ad7df4fd578": {
     "views": []
    },
    "a623b444532648d592c56015145f6c20": {
     "views": []
    },
    "a6302613059a48b18743d5550cbabe5d": {
     "views": []
    },
    "a69d998bc3f74f3c9a6ecf149b79d9bd": {
     "views": []
    },
    "a6db8271778d4204abfc0ec3fe188380": {
     "views": []
    },
    "a742eee992bc4590bafc6644afb6eacc": {
     "views": []
    },
    "a80203f867864ae6978e97268f11b018": {
     "views": []
    },
    "a84e8cd43eb34954b600e088cbfe544a": {
     "views": []
    },
    "a85af380f7e24d86b69f1c70086ae003": {
     "views": []
    },
    "a8721affd0944e96adbc725499a3c5b4": {
     "views": []
    },
    "a90c67d9be40477f973fe0b908d6e8a7": {
     "views": []
    },
    "a90e71b4991e4e21acf1c990d73e90fa": {
     "views": []
    },
    "a94b7b4ba68a4527b4aba112c0a3b316": {
     "views": []
    },
    "a980909bd3534f168d6ac2b72bd2b875": {
     "views": []
    },
    "a9a1759ebf80443b97a9f98c03fee286": {
     "views": []
    },
    "aa3069a8cfa9407a98bc3811dd5f2f6c": {
     "views": []
    },
    "aa39c960e6734b5bae5c7bbde80f5353": {
     "views": []
    },
    "aa6442d8d95e40649f34c60ec5bac655": {
     "views": []
    },
    "aa897e60eb6846c3a007d8d0d00b8e1f": {
     "views": []
    },
    "aaf47b538fbd4620a8d976f8b8b9928e": {
     "views": []
    },
    "ab044cb413b943309d403612292c089c": {
     "views": []
    },
    "ab616a9d7a3b4866ac79d7397ae9c6f2": {
     "views": []
    },
    "acf0c521060a4dc888b9ca61be9c51e3": {
     "views": []
    },
    "ad039a95904a498eb00fc51674e14fe9": {
     "views": []
    },
    "ad17f23456cf48929162724c8279744b": {
     "views": []
    },
    "ad28832bdf8447359acb3361818990f4": {
     "views": []
    },
    "ad2e4d7cc4f54db897ea54cd25310684": {
     "views": []
    },
    "ad76528ed84a4fb49002ccdaf6a10629": {
     "views": []
    },
    "adea4c66352a4dbda0e8713a185d6a75": {
     "views": []
    },
    "adf694860c6a47448a2a6a175ba0fed9": {
     "views": []
    },
    "adfd2e4e38594aa3aefc2cda98a20eae": {
     "views": []
    },
    "ae174dc9452f4c6fb35b4022fe03ffa6": {
     "views": []
    },
    "ae620bf860ed4d55ae5f96cc3b81c4ff": {
     "views": []
    },
    "ae6db43337d441cc8944c8189a057c54": {
     "views": []
    },
    "af23e5004a0b4ff6980268f4881dec24": {
     "views": []
    },
    "af79e12d00e84895a438e796bc02b4f9": {
     "views": []
    },
    "b0a24f62cf394bf18d4d8c1e44593ad8": {
     "views": []
    },
    "b1116897fa5e4e33aa0f667f9139433c": {
     "views": []
    },
    "b20808d60df84c01971c1e280a2b8bea": {
     "views": []
    },
    "b20d57673a0744eaaaa823b3d8bd9a02": {
     "views": []
    },
    "b28dac54385c4dd1a6e04197f2ad4878": {
     "views": []
    },
    "b29a7c79343c461e82928795dcb3f097": {
     "views": []
    },
    "b2d7375dfcc0465bb933589b29bdb109": {
     "views": []
    },
    "b43012d61ff94887ab51251fe2b6f792": {
     "views": []
    },
    "b4eb3202832c4737b76efb4a8ed59f73": {
     "views": []
    },
    "b54318e9726740cabea6ef1094472c51": {
     "views": []
    },
    "b544869a9ed74c6bb1be3a6c1beb966a": {
     "views": []
    },
    "b554ae8b1ac747cdb275d793217cd7bc": {
     "views": []
    },
    "b59e87c7715e4c67b5c1f5ed3f7e9285": {
     "views": []
    },
    "b5cb34485ef94cb1abcea9eba8eaa98a": {
     "views": []
    },
    "b5d9d0a87d5a483fb66524d05268b128": {
     "views": []
    },
    "b6251887341541ffbd03b1f5fa19d21f": {
     "views": []
    },
    "b6e6887fb38243b295ea074bbb6b34ef": {
     "views": []
    },
    "b73fa25d7d614c07a574871d1573d10a": {
     "views": []
    },
    "b7472b38e96545e2890a6fd17fc9ba7f": {
     "views": []
    },
    "b7646bf65d2845679cd240d162a9ec57": {
     "views": []
    },
    "b79744e16d3d4d67aa79dbabc7c0024f": {
     "views": []
    },
    "b7a75d26f0514b85ab9087d555331630": {
     "views": []
    },
    "b9a5375b6550423aaee797ccd6745da9": {
     "views": []
    },
    "b9d1c8ca7be940549825fcd0915a1007": {
     "views": []
    },
    "b9eb7d97b7994ad4bc9322627244fb4c": {
     "views": []
    },
    "b9f373bd3ab0463381654022692ca49c": {
     "views": []
    },
    "ba39767c29924648a11aa8a23b78eaa0": {
     "views": []
    },
    "bb1b915e8970446db560c9bc6e6f33b4": {
     "views": []
    },
    "bb321fe32ae1428290dd54ef9506e747": {
     "views": []
    },
    "bb7e6eec1c964a9c89d9c1b29d3f4948": {
     "views": []
    },
    "bbb6bd82d84a409e93742f885ec0266a": {
     "views": []
    },
    "bc4cee069c5845c3bf4d5431d86f46ad": {
     "views": []
    },
    "bcd562e210254692b5b72bb5cddbf265": {
     "views": []
    },
    "bd1b408c03214f549e3b062b79d04d2c": {
     "views": []
    },
    "bd671f9f609142bab27743451b6e7d78": {
     "views": []
    },
    "be377f1193a242a2bc2e22beb896f95f": {
     "views": []
    },
    "be548f1e7c8847c1a8e9c6828f0508fa": {
     "views": []
    },
    "be693345123e466a8dc64bbb34265ca4": {
     "views": []
    },
    "be84de3b38c94feb9e44a01c14416193": {
     "views": []
    },
    "bea614ecd23843e8abed0bcae170be01": {
     "views": []
    },
    "bed674be44014677b0a9cf3b4d599193": {
     "views": []
    },
    "bf67a83052c64e198115738181d1997d": {
     "views": []
    },
    "bf739ac76b894e9989bd535829eca56a": {
     "views": []
    },
    "bfb214a4a90d43149a33e36c1aea4d8a": {
     "views": []
    },
    "bfb59fc62fea403aa5f8572a46f1e2be": {
     "views": []
    },
    "bfdfb2a19f424d7f90f53913a0990e1f": {
     "views": []
    },
    "c052ed1f855b442abc5a77c1cda885e8": {
     "views": []
    },
    "c301e3dc121f4df088a50947dfda0540": {
     "views": []
    },
    "c312b4c5b8c247a3905b1f6dfb72cdbc": {
     "views": []
    },
    "c37b10e63cce4d47aae653846cc9f7af": {
     "views": []
    },
    "c3b67e0b00e54ff3964b6e55d66c24a0": {
     "views": []
    },
    "c3ba9c8466504896b3ea29a1ff3cd03d": {
     "views": []
    },
    "c3cdd7d643664b33ae9f9501df6e7e2e": {
     "views": []
    },
    "c3e9c6a6e7f1428b8be8395e27f8ea7f": {
     "views": []
    },
    "c40401222c1f403b8e046a0230326959": {
     "views": []
    },
    "c573b32d12c642fa9db02e614f6b5199": {
     "views": []
    },
    "c5b52b2bbcf849f79a26fada05b07685": {
     "views": []
    },
    "c6b8581c383e42109456c1682f728884": {
     "views": []
    },
    "c7982a6dde764c639ded610a778bd1fb": {
     "views": []
    },
    "c7e22c76a2c64dfa9ef2815ce48e39ba": {
     "views": []
    },
    "c85047fee60040a4b6f5a79cc5dfe262": {
     "views": []
    },
    "c88305dc5e924dc2a3b38e8769d264bc": {
     "views": []
    },
    "c8a05ab22bd64ceca4f345a52aeaa59e": {
     "views": []
    },
    "c8bf93fe32474530bde80df02fd16c64": {
     "views": []
    },
    "c8d37d88991345b1b7d20dee2cb4c29a": {
     "views": []
    },
    "c91bd14e1618415895d961b45175b8c6": {
     "views": []
    },
    "c94660d1292e41f2a4ce74531db38581": {
     "views": []
    },
    "c965e7eab47a491c8b131b3ce3ac8114": {
     "views": []
    },
    "ca2ff2b281f54dc390a344a1f1081f78": {
     "views": []
    },
    "ca5e405844e9464582118d7b109a63f8": {
     "views": []
    },
    "ca988ee6b82540acb29823ee81b4b7c0": {
     "views": []
    },
    "ca9bb16f5204454ca63bc95df1e3ac89": {
     "views": []
    },
    "caa4d3a53cec4cc19c78616eea17c408": {
     "views": []
    },
    "cadf7bf41e774a14affbe9dcc96d1191": {
     "views": []
    },
    "cb7b405b9f3546589e8a20b3a7b92379": {
     "views": []
    },
    "cc4cdaa883984193ac1a645a0285dd04": {
     "views": []
    },
    "cc5879531f2d416c977eabd0109685fd": {
     "views": []
    },
    "cd7c66f4cebf46c79420196621819593": {
     "views": []
    },
    "ce1030e0f7a943078037f19f4f84ac05": {
     "views": []
    },
    "ce2cb18a16164b7e8b90d53302ce7a1d": {
     "views": []
    },
    "ce85c8985ae145919c983b49ac8f03a5": {
     "views": []
    },
    "cea209e315ca454e9a9677336e3a15a4": {
     "views": []
    },
    "cee3de9642434c2fa87703edf26c773e": {
     "views": []
    },
    "cf2f1f8afb5647d386ebc79c75f26acc": {
     "views": []
    },
    "cf3ddf15f2aa4f2188b2c217242369c7": {
     "views": []
    },
    "cf61bd72d36e45419d978a018a66f47e": {
     "views": []
    },
    "cfa9e0cba8ce41c4870774b9de3d647b": {
     "views": []
    },
    "cfcd04f532624ec29465fe46bde80296": {
     "views": []
    },
    "d01e94490cdc44b0bf7053dc55f2af3a": {
     "views": []
    },
    "d03c4dc8905a48df82714622c77d8ee8": {
     "views": []
    },
    "d059f841e5584246bd9cba4ee25565d8": {
     "views": []
    },
    "d0f703aa764a46f5ab609487b849cbb6": {
     "views": []
    },
    "d0fcc3600d19466591f1388bc9341b08": {
     "views": []
    },
    "d15d0e23edb64800b9389cfcc977d514": {
     "views": []
    },
    "d16586dfdf394fa99276722d80275bdb": {
     "views": []
    },
    "d1749c4226b841dc86f06d0093700b11": {
     "views": []
    },
    "d200876fae1c4cd9b4917fad4e1af78e": {
     "views": []
    },
    "d2791641cee24938bcc6ed4c0e5d9888": {
     "views": []
    },
    "d3815fc66fc24479834d04c42538a293": {
     "views": []
    },
    "d3b1640abece47cf82c9ca65bb04303c": {
     "views": []
    },
    "d3e60211dc184a50897452b2b049342b": {
     "views": []
    },
    "d401962fee594e2f9f3958791f039024": {
     "views": []
    },
    "d406997a76db49dfa0b025c28c6a025a": {
     "views": []
    },
    "d48bcc18d8be4b89af0d313ef05ea9c3": {
     "views": []
    },
    "d4ddcc4989e34dcdbd7a92d8dbba9ca8": {
     "views": []
    },
    "d51da7b4f96b49fa8bfa59cfd490ff7b": {
     "views": []
    },
    "d525017cf879495ca81c264fa6e8d6a6": {
     "views": []
    },
    "d5d5684bc7574144aec2c255a092b58a": {
     "views": []
    },
    "d5e1acb07be24a3380ec2be74d064a38": {
     "views": []
    },
    "d66996bf39aa4215a619e91b69f10307": {
     "views": []
    },
    "d681c7ed861544b4a9a7baf7524c58cf": {
     "views": []
    },
    "d6c7f33edcf440859b51f63a3d6a1333": {
     "views": []
    },
    "d737d1ca2cba44cead50a773bc3a1b0d": {
     "views": []
    },
    "d7605a0a88984671900ea7b07aaa4648": {
     "views": []
    },
    "d7cbe2826487428aaa99c93015e8f7e4": {
     "views": []
    },
    "d89041063fca4b55969e1a68c1973c25": {
     "views": []
    },
    "d8ce5460f38a4a6aa0d9ad32d038a244": {
     "views": []
    },
    "d8de6e6781e54c998f6fd2c99d366fdd": {
     "views": []
    },
    "d9291c1d4afa4ee3a62a4dca1e911a82": {
     "views": []
    },
    "d94807d3cea4474ba845c372f6aec3d8": {
     "views": []
    },
    "d94fc76d953e4d90a445a2acb0bf8d6c": {
     "views": []
    },
    "d99af57731a343e49bc208faa046b07c": {
     "views": []
    },
    "d9edf7d4e0f34bde8654dff93a0d17b9": {
     "views": []
    },
    "da746f05145b42a8ac4fa54354b38a5f": {
     "views": []
    },
    "dacb8d515b254a89a56b18b98067d1ba": {
     "views": []
    },
    "daf67e6dce5c4de9bf3f662ddc21ce7f": {
     "views": []
    },
    "db60692afb4544cea1c66e572a675f74": {
     "views": []
    },
    "dbb7193e1f314a29868e8b673e76f987": {
     "views": []
    },
    "dc4c96ef6b4742c6a5d0731b173a3453": {
     "views": []
    },
    "dc7bc9b1506f42bdae264e041666815f": {
     "views": []
    },
    "dcee913f5dbb46ac90533169bbe95fb2": {
     "views": []
    },
    "dd278db874ab4ab2b31f84c197365fc5": {
     "views": []
    },
    "dd35d4abeaf6487f9348354d21e48c47": {
     "views": []
    },
    "de558dd008354e5699510b0d449f0136": {
     "views": []
    },
    "dea7f881628242e99c8534a3e463ee5d": {
     "views": []
    },
    "e009249a1cfd4251b792b94d0c1dad2d": {
     "views": []
    },
    "e0528da47f3a493fb3542dddae4a4104": {
     "views": []
    },
    "e190d57a88cf484d80a32cae9f00e35c": {
     "views": []
    },
    "e1f1034498d64884a13a647db67b9fbc": {
     "views": []
    },
    "e1f573d4c9ff4163b0f53b07f40fdeb9": {
     "views": []
    },
    "e2329c1e34c24ae1b7ed0885ba38faf5": {
     "views": []
    },
    "e2554410dbdd4c2cb47af50a9dafdf65": {
     "views": []
    },
    "e28372889d9c47849cf0180efcd604c2": {
     "views": []
    },
    "e3a8acb8df2a4623a32d022b1e66ce36": {
     "views": []
    },
    "e3ef6a925dbe4b99aa98dfef03934578": {
     "views": []
    },
    "e47d7087a67e47aaa3e388fe8c2e1892": {
     "views": []
    },
    "e4cd12799c644d1cadb4087e358d5e16": {
     "views": []
    },
    "e4cef389e5004541a1d86af53eb39dac": {
     "views": []
    },
    "e5aebd706d554716b0db1f22472e1f30": {
     "views": []
    },
    "e5f9ea6338b34cbe95929f9c4e87f3ba": {
     "views": []
    },
    "e6679e86da1d4c3fad377be3e9f94a0c": {
     "views": []
    },
    "e67821b1f0934aa586fae563d9b38286": {
     "views": []
    },
    "e679661b242b4147892ce8d7fa9f3876": {
     "views": []
    },
    "e68513ca104344a3869d04f0457edb93": {
     "views": []
    },
    "e6ffa75c740b48e0870cbaccc32a9fb5": {
     "views": []
    },
    "e735a77858e6443e979606f9b43067ec": {
     "views": []
    },
    "e7c9836fa329461c9cc80eb3efe137b6": {
     "views": []
    },
    "e7e35052c6d24b6f81236ce1f43b4d7c": {
     "views": []
    },
    "e89a564aa6454deeb819a1c19827947b": {
     "views": []
    },
    "e91abb682c15463bbb1f6f56635a5871": {
     "views": []
    },
    "e961ec546d5d4929bd6f31c0e26df04c": {
     "views": []
    },
    "e978cd99065b4712ab8e4484ed93cd6a": {
     "views": []
    },
    "ea57b50b9efd4e6fbde5a84e7917868a": {
     "views": []
    },
    "eabd59258294430da16ba2591e68a961": {
     "views": []
    },
    "eb8b3fe746a14d28894e8b1a57d6e6ff": {
     "views": []
    },
    "ebb99e60e0474ff98f79afcdc3ed10c7": {
     "views": []
    },
    "ec48b9eaeb1045b699f6749feabc0e8c": {
     "views": []
    },
    "edd34ab3a781462087399ab29498a018": {
     "views": []
    },
    "eddceb93e4ee47de848a9351e69fc445": {
     "views": []
    },
    "ee69e02c7c834178b93abcdcf9a14f83": {
     "views": []
    },
    "eee0ea1525c04b229471ebf90a26cca9": {
     "views": []
    },
    "ef0da85338f544dfb9d85bd2ed38bbae": {
     "views": []
    },
    "ef1d49d4d25d4c72abafba1f5b4c2e02": {
     "views": []
    },
    "ef9a1dda11ec4a1f89c4dc6b978b1b93": {
     "views": []
    },
    "f085d609a8674e4fab2fb92fc767e2e7": {
     "views": []
    },
    "f15e32f8827043af8387280b9a575491": {
     "views": []
    },
    "f22b5a02da9140439b32dcb2abcb1ac8": {
     "views": []
    },
    "f259e197aa844897b890ac2efe81aae3": {
     "views": []
    },
    "f2f3ac8f64d54ae9afd44ea22ef0d7aa": {
     "views": []
    },
    "f30e3818cc224bb0a0ff7ae7b19297d3": {
     "views": []
    },
    "f369fa4af561437a884d07ccbee87beb": {
     "views": []
    },
    "f3a56052fdf04fd897beb4d6be02aaff": {
     "views": []
    },
    "f3beb337a7bc4fada6d7c02d2f2209ff": {
     "views": []
    },
    "f402474629524258929a952e37af7756": {
     "views": []
    },
    "f4b28fbf6d4f4f108d03b594c2bf8a84": {
     "views": []
    },
    "f4e7e2e8de254ef2b08f633ec818b146": {
     "views": []
    },
    "f4fb6fe6ad494320a4a2c908684b6758": {
     "views": []
    },
    "f5429a1c13c44d778c859452da437187": {
     "views": []
    },
    "f621baa0984247ecbdd0a8be495a01a9": {
     "views": []
    },
    "f687892642164253ac02a06bb7c95c59": {
     "views": []
    },
    "f696ed90b7744581bc7179b7269a4e29": {
     "views": []
    },
    "f7129138fab94a94b76c624eb2caf9b1": {
     "views": []
    },
    "f7226e5022a0498891d9525f401ff15e": {
     "views": []
    },
    "f723cdc2f0764f0183284853eee2463f": {
     "views": []
    },
    "f7bed31e7c5944499dc9014194052a89": {
     "views": []
    },
    "f7cbec51a5f74ae485056b264dfc2d3c": {
     "views": []
    },
    "f861d06ec2884bb6aa141d5ff22a100e": {
     "views": []
    },
    "f875c206ad954dbbaa2465274528cbea": {
     "views": []
    },
    "f89f3e65ee254748827cb29efe6a0c11": {
     "views": []
    },
    "f91b5aa0a6324dac84d62b2dd24cdeba": {
     "views": []
    },
    "f921270e840f41d5bcb7f2e4b7cb8d5f": {
     "views": []
    },
    "f9219b774401400c90be6b15487a8ebe": {
     "views": []
    },
    "f9280d9876a34b41b2b7ce28f38af496": {
     "views": []
    },
    "f967091cd85f415eb6a0c8ae9c1d1bd2": {
     "views": []
    },
    "f9adb73b8cbe4251a170c5c8ffc62cba": {
     "views": []
    },
    "fa86bc645a4c401c8dc06de17782f151": {
     "views": []
    },
    "fa876746fcd44c1485b058eca0bede43": {
     "views": []
    },
    "fa955c4592ef418b96c2222284e8fe2a": {
     "views": []
    },
    "faa669cc4c534e3eb4b6c4bac7edf9bd": {
     "views": []
    },
    "fb2472803ed94db3aabd3249cacbbcad": {
     "views": []
    },
    "fc214d7757234f4dbe10b9f8a076db4f": {
     "views": []
    },
    "fc6323ddc41e428db7e7eecbc8370298": {
     "views": []
    },
    "fcdbd1c9e5214fd287aff28d8bc6b8b2": {
     "views": []
    },
    "fd42bd291caf4c1382c51d0990335527": {
     "views": []
    },
    "fdab90b5cea2462eb09c9231e5659b82": {
     "views": []
    },
    "fdea9d6550b743c4b312791fed4a67e8": {
     "views": []
    },
    "fdf03dd9f0784cda9f161950c96ce89b": {
     "views": []
    },
    "fe117b2ff45f40e397ffe061cb8727c0": {
     "views": []
    },
    "fe4e691cf2c74c42baf4f91482b42250": {
     "views": []
    },
    "fe716218c86e4295a157f5121af4f2ff": {
     "views": []
    },
    "feb817d821034a3aaf09808e1268304f": {
     "views": []
    },
    "febc14bf33be4783a0d2476052cb9ea5": {
     "views": []
    },
    "fec0025f3a3f426cbaa04f14912c8fd6": {
     "views": []
    },
    "ff04607442284fe9b5df9fc656a32559": {
     "views": []
    },
    "ff74ecf9f33149aa995f66554942f68f": {
     "views": []
    }
   },
   "version": "1.1.2"
  }
 },
 "nbformat": 4,
 "nbformat_minor": 0
}
